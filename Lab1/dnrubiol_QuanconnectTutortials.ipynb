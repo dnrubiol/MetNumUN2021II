{
  "nbformat": 4,
  "nbformat_minor": 0,
  "metadata": {
    "colab": {
      "name": "dnrubiol_QuanconnectTutortials.ipynb",
      "provenance": [],
      "collapsed_sections": [
        "v_5cocrDW3MN",
        "jJpvq-o4a8P7",
        "pdIEjUv2eJqL"
      ]
    },
    "kernelspec": {
      "display_name": "Python 3",
      "language": "python",
      "name": "python3"
    },
    "language_info": {
      "codemirror_mode": {
        "name": "ipython",
        "version": 3
      },
      "file_extension": ".py",
      "mimetype": "text/x-python",
      "name": "python",
      "nbconvert_exporter": "python",
      "pygments_lexer": "ipython3",
      "version": "3.8.3"
    }
  },
  "cells": [
    {
      "cell_type": "markdown",
      "metadata": {
        "id": "eQzBbvyKQymx"
      },
      "source": [
        "<div align=\"center\">\n",
        "<img style=\"display: block; margin: auto;\" alt=\"photo\" src=\"https://cdn.quantconnect.com/web/i/icon.png\">\n",
        "\n",
        "Quantconnect\n",
        "\n",
        "Introduction to Financial Python\n",
        "\n",
        "</div>\n",
        "\n",
        "\n",
        "# 01 Data Types and Data Structures\n",
        "\n",
        "\n",
        "# Introduction\n",
        "\n",
        "This tutorial provides a basic introduction to the Python programming language. If you are new to Python, you should run the code snippets while reading this tutorial. If you are an advanced Python user, please feel free to skip this chapter.\n",
        "\n",
        "# Basic Variable Types\n",
        "The basic types of variables in Python are: strings, integers, floating point numbers and booleans.\n",
        "\n",
        "Strings in python are identified as a contiguous set of characters represented in either single quotes (' ') or double quotes (\" \").\n"
      ]
    },
    {
      "cell_type": "code",
      "metadata": {
        "colab": {
          "base_uri": "https://localhost:8080/"
        },
        "id": "N5t-UrcfOqid",
        "outputId": "5c6e7869-d5eb-4a89-8185-9dec529e2f56"
      },
      "source": [
        "my_string1 = 'Welcome to'\n",
        "my_string2 = \"QuantConnect\"\n",
        "print(my_string1 + ' ' + my_string2)"
      ],
      "execution_count": null,
      "outputs": [
        {
          "output_type": "stream",
          "name": "stdout",
          "text": [
            "Welcome to QuantConnect\n"
          ]
        }
      ]
    },
    {
      "cell_type": "code",
      "metadata": {
        "colab": {
          "base_uri": "https://localhost:8080/"
        },
        "id": "AiRzr5_dqPNj",
        "outputId": "5c9efa85-ef27-42ea-fa0a-090db52e0391"
      },
      "source": [
        "#Ejemplo\n",
        "string_uno = 'Ejemplo'\n",
        "string_dos = 'uno'\n",
        "print(string_uno+' '+string_dos)"
      ],
      "execution_count": null,
      "outputs": [
        {
          "output_type": "stream",
          "name": "stdout",
          "text": [
            "Ejemplo uno\n"
          ]
        }
      ]
    },
    {
      "cell_type": "markdown",
      "metadata": {
        "id": "bXHnxZyHSd1M"
      },
      "source": [
        "An integer is a round number with no values after the decimal point."
      ]
    },
    {
      "cell_type": "code",
      "metadata": {
        "colab": {
          "base_uri": "https://localhost:8080/"
        },
        "id": "pNjuz3toOqif",
        "outputId": "cb9b884f-a83c-4699-95e6-5337cd09578e"
      },
      "source": [
        "my_int = 10\n",
        "print(my_int)\n",
        "print(type(my_int))"
      ],
      "execution_count": null,
      "outputs": [
        {
          "output_type": "stream",
          "name": "stdout",
          "text": [
            "10\n",
            "<class 'int'>\n"
          ]
        }
      ]
    },
    {
      "cell_type": "code",
      "metadata": {
        "colab": {
          "base_uri": "https://localhost:8080/"
        },
        "id": "1ZhMyM0oqici",
        "outputId": "c7a50e37-e812-433f-faa9-f37a38def848"
      },
      "source": [
        "#Ejemplo\n",
        "int_dos = 123456789\n",
        "print(int_dos)\n",
        "print(type(int_dos))"
      ],
      "execution_count": null,
      "outputs": [
        {
          "output_type": "stream",
          "name": "stdout",
          "text": [
            "123456789\n",
            "<class 'int'>\n"
          ]
        }
      ]
    },
    {
      "cell_type": "markdown",
      "metadata": {
        "id": "_1ZanWrYSnzF"
      },
      "source": [
        "The built-in function int() can convert a string into an integer."
      ]
    },
    {
      "cell_type": "code",
      "metadata": {
        "colab": {
          "base_uri": "https://localhost:8080/"
        },
        "id": "zPwGb20FOqif",
        "outputId": "81388ea7-290c-4cdf-87d7-46b88f893364"
      },
      "source": [
        "my_string = \"100\"\n",
        "print(type(my_string))\n",
        "my_int = int(my_string)\n",
        "print(type(my_int))"
      ],
      "execution_count": null,
      "outputs": [
        {
          "output_type": "stream",
          "name": "stdout",
          "text": [
            "<class 'str'>\n",
            "<class 'int'>\n"
          ]
        }
      ]
    },
    {
      "cell_type": "code",
      "metadata": {
        "colab": {
          "base_uri": "https://localhost:8080/"
        },
        "id": "sS-q_hH7qwPq",
        "outputId": "c64ee1c1-dfb3-4d00-ea3d-d735a41e2625"
      },
      "source": [
        "#Ejemplo\n",
        "string_to_int = '123456789'\n",
        "print(string_to_int)\n",
        "print(type(string_to_int))\n",
        "int_from_string = int(string_to_int)\n",
        "print(int_from_string)\n",
        "print(type(int_from_string))"
      ],
      "execution_count": null,
      "outputs": [
        {
          "output_type": "stream",
          "name": "stdout",
          "text": [
            "123456789\n",
            "<class 'str'>\n",
            "123456789\n",
            "<class 'int'>\n"
          ]
        }
      ]
    },
    {
      "cell_type": "markdown",
      "metadata": {
        "id": "WqMDPDTHSrE9"
      },
      "source": [
        "A floating point number, or a float, is a real number in mathematics. In Python we need to include a value after a decimal point to define it as a float"
      ]
    },
    {
      "cell_type": "code",
      "metadata": {
        "colab": {
          "base_uri": "https://localhost:8080/"
        },
        "id": "otCzKKW9Oqig",
        "outputId": "e176d781-01d8-4584-b64a-df42b326b5fb"
      },
      "source": [
        "my_string = \"100\"\n",
        "my_float = float(my_string)\n",
        "print(type(my_float))"
      ],
      "execution_count": null,
      "outputs": [
        {
          "output_type": "stream",
          "name": "stdout",
          "text": [
            "<class 'float'>\n"
          ]
        }
      ]
    },
    {
      "cell_type": "code",
      "metadata": {
        "colab": {
          "base_uri": "https://localhost:8080/"
        },
        "id": "yByML4SxrAnL",
        "outputId": "91107430-9316-46cd-d0c0-3061dc5e84d1"
      },
      "source": [
        "#Ejemplo\n",
        "string_to_float = '2021'\n",
        "float_from_string = float(string_to_float)\n",
        "print(float_from_string)\n",
        "print(type(float_from_string))"
      ],
      "execution_count": null,
      "outputs": [
        {
          "output_type": "stream",
          "name": "stdout",
          "text": [
            "2021.0\n",
            "<class 'float'>\n"
          ]
        }
      ]
    },
    {
      "cell_type": "markdown",
      "metadata": {
        "id": "2iuyv8Q7StTJ"
      },
      "source": [
        "As you can see above, if we don't include a decimal value, the variable would be defined as an integer. The built-in function float() can convert a string or an integer into a float."
      ]
    },
    {
      "cell_type": "code",
      "metadata": {
        "colab": {
          "base_uri": "https://localhost:8080/"
        },
        "id": "wwLw5VthOqig",
        "outputId": "3a3544cb-f5f7-49ac-c4fd-730243a9309f"
      },
      "source": [
        "my_bool = False\n",
        "print(my_bool)\n",
        "print(type(my_bool))"
      ],
      "execution_count": null,
      "outputs": [
        {
          "output_type": "stream",
          "name": "stdout",
          "text": [
            "False\n",
            "<class 'bool'>\n"
          ]
        }
      ]
    },
    {
      "cell_type": "code",
      "metadata": {
        "colab": {
          "base_uri": "https://localhost:8080/"
        },
        "id": "Ymv-BDd2rNPa",
        "outputId": "ded7a254-b946-45c0-8c85-7a7c3b8c4b81"
      },
      "source": [
        "#Ejemplo\n",
        "bool_dos = True\n",
        "print(bool_dos)\n",
        "print(type(bool_dos))"
      ],
      "execution_count": null,
      "outputs": [
        {
          "output_type": "stream",
          "name": "stdout",
          "text": [
            "True\n",
            "<class 'bool'>\n"
          ]
        }
      ]
    },
    {
      "cell_type": "markdown",
      "metadata": {
        "id": "bnGMwH21Szr_"
      },
      "source": [
        "A boolean, or bool, is a binary variable. Its value can only be True or False. It is useful when we do some logic operations, which would be covered in our next chapter."
      ]
    },
    {
      "cell_type": "code",
      "metadata": {
        "colab": {
          "base_uri": "https://localhost:8080/"
        },
        "id": "DMa6pDl5Oqig",
        "outputId": "34ece269-4551-41fe-aedc-eb15ad2a9a33"
      },
      "source": [
        "print(\"Addition \", 1+1)\n",
        "print(\"Subtraction \", 5-2)\n",
        "print(\"Multiplication \", 2*3)\n",
        "print(\"Division \", 10/2)\n",
        "print('exponent', 2**3)"
      ],
      "execution_count": null,
      "outputs": [
        {
          "output_type": "stream",
          "name": "stdout",
          "text": [
            "Addition  2\n",
            "Subtraction  3\n",
            "Multiplication  6\n",
            "Division  5.0\n",
            "exponent 8\n"
          ]
        }
      ]
    },
    {
      "cell_type": "code",
      "metadata": {
        "colab": {
          "base_uri": "https://localhost:8080/"
        },
        "id": "s-Hzy6AprUjS",
        "outputId": "0b682263-fa24-4aaa-8050-3e3e484372eb"
      },
      "source": [
        "#Ejemplo\n",
        "print(\"Addition_Example\", 123+456+789)\n",
        "print(\"Subtraction_Example\", 987-654-321)\n",
        "print(\"Multiplication_Example\", 1*2*3*4*5)\n",
        "print(\"Division_Example\", 21/2)\n",
        "print('exponent_Example', 3**3)"
      ],
      "execution_count": null,
      "outputs": [
        {
          "output_type": "stream",
          "name": "stdout",
          "text": [
            "Addition_Example 1368\n",
            "Subtraction_Example 12\n",
            "Multiplication_Example 120\n",
            "Division_Example 10.5\n",
            "exponent_Example 27\n"
          ]
        }
      ]
    },
    {
      "cell_type": "markdown",
      "metadata": {
        "id": "1Xc9G9_sS2ju"
      },
      "source": [
        "# Basic Math Operations\n",
        "\n",
        "The basic math operators in python are demonstrated below:"
      ]
    },
    {
      "cell_type": "code",
      "metadata": {
        "colab": {
          "base_uri": "https://localhost:8080/"
        },
        "id": "KE9gUryAOqig",
        "outputId": "42f90b24-0ee5-42ff-a8b9-f39eb8abdef1"
      },
      "source": [
        "print(1/3)\n",
        "print(1.0/3)"
      ],
      "execution_count": null,
      "outputs": [
        {
          "output_type": "stream",
          "name": "stdout",
          "text": [
            "0.3333333333333333\n",
            "0.3333333333333333\n"
          ]
        }
      ]
    },
    {
      "cell_type": "code",
      "metadata": {
        "colab": {
          "base_uri": "https://localhost:8080/"
        },
        "id": "tktM97_HrmHm",
        "outputId": "bded65f8-4a9d-4b4f-bf62-49ece1964d0d"
      },
      "source": [
        "#Ejemplo\n",
        "print(3000/34)\n",
        "print(3000.0/34)"
      ],
      "execution_count": null,
      "outputs": [
        {
          "output_type": "stream",
          "name": "stdout",
          "text": [
            "88.23529411764706\n",
            "88.23529411764706\n"
          ]
        }
      ]
    },
    {
      "cell_type": "markdown",
      "metadata": {
        "id": "AN5Oa3DoS_Nf"
      },
      "source": [
        "# Data Collections\n",
        "\n",
        "## List\n",
        "A list is an ordered collection of values. A list is mutable, which means you can change a list's value without changing the list itself. Creating a list is simply putting different comma-separated values between square brackets."
      ]
    },
    {
      "cell_type": "code",
      "metadata": {
        "colab": {
          "base_uri": "https://localhost:8080/"
        },
        "id": "-tQdNqCvOqig",
        "outputId": "a77e8279-e84a-45b9-e338-3fa79dd8cc41"
      },
      "source": [
        "my_list = ['Quant', 'Connect', 1,2,3]\n",
        "print(my_list)"
      ],
      "execution_count": null,
      "outputs": [
        {
          "output_type": "stream",
          "name": "stdout",
          "text": [
            "['Quant', 'Connect', 1, 2, 3]\n"
          ]
        }
      ]
    },
    {
      "cell_type": "code",
      "metadata": {
        "colab": {
          "base_uri": "https://localhost:8080/"
        },
        "id": "q4W5HRMPrtwq",
        "outputId": "0779931b-8f6a-4d8a-e8e9-4c129608a4ed"
      },
      "source": [
        "#Ejemplo\n",
        "lista_animales = ['leon', 'tigre', 2, 3, 100]\n",
        "print(lista_animales)"
      ],
      "execution_count": null,
      "outputs": [
        {
          "output_type": "stream",
          "name": "stdout",
          "text": [
            "['leon', 'tigre', 2, 3, 100]\n"
          ]
        }
      ]
    },
    {
      "cell_type": "markdown",
      "metadata": {
        "id": "1O0TsgZCTHrM"
      },
      "source": [
        "The values in a list are called \"elements\". We can access list elements by indexing. Python index starts from 0. So if you have a list of length n, the index of the first element will be 0, and that of the last element will be n − 1. By the way, the length of a list can be obtained by the built-in function len()."
      ]
    },
    {
      "cell_type": "code",
      "metadata": {
        "colab": {
          "base_uri": "https://localhost:8080/"
        },
        "id": "QhuVhRR5Oqih",
        "outputId": "874891ca-7848-48a9-be5b-31d6e5cc069e"
      },
      "source": [
        "my_list = ['Quant', 'Connect', 1,2,3]\n",
        "print(len(my_list))\n",
        "print(my_list[0])\n",
        "print(my_list[len(my_list) -1])"
      ],
      "execution_count": null,
      "outputs": [
        {
          "output_type": "stream",
          "name": "stdout",
          "text": [
            "5\n",
            "Quant\n",
            "3\n"
          ]
        }
      ]
    },
    {
      "cell_type": "code",
      "metadata": {
        "colab": {
          "base_uri": "https://localhost:8080/"
        },
        "id": "Y5uk7UULr-mS",
        "outputId": "5e684a0d-3a2d-4dfb-b13d-8dfab74d558a"
      },
      "source": [
        "#Ejemplo\n",
        "lista_numeros = ['uno', 2, 'tres', 4, 5, 6]\n",
        "print( len(lista_numeros))\n",
        "print( lista_numeros[0])\n",
        "print( lista_numeros[len(lista_numeros)-2])"
      ],
      "execution_count": null,
      "outputs": [
        {
          "output_type": "stream",
          "name": "stdout",
          "text": [
            "6\n",
            "uno\n",
            "5\n"
          ]
        }
      ]
    },
    {
      "cell_type": "markdown",
      "metadata": {
        "id": "jgSZy1VGTKSc"
      },
      "source": [
        "You can also change the elements in the list by accessing an index and assigning a new value."
      ]
    },
    {
      "cell_type": "code",
      "metadata": {
        "colab": {
          "base_uri": "https://localhost:8080/"
        },
        "id": "NQBNLjAvOqih",
        "outputId": "68b5e6ef-99ce-4e4d-c086-d4da94f8b1d9"
      },
      "source": [
        "my_list = ['Quant','Connect',1,2,3]\n",
        "my_list[2] = 'go'\n",
        "print(my_list)"
      ],
      "execution_count": null,
      "outputs": [
        {
          "output_type": "stream",
          "name": "stdout",
          "text": [
            "['Quant', 'Connect', 'go', 2, 3]\n"
          ]
        }
      ]
    },
    {
      "cell_type": "code",
      "metadata": {
        "colab": {
          "base_uri": "https://localhost:8080/"
        },
        "id": "f0OVNgc5sZwz",
        "outputId": "6052c7de-dfba-4500-f1cc-511c1926ea06"
      },
      "source": [
        "#Ejemplo\n",
        "lista_abecedario =  ['a', 'b', 'c', 'd', 0, 1]\n",
        "lista_abecedario[2] = 'Z'\n",
        "lista_abecedario[5] = 'uno'\n",
        "print(lista_abecedario)"
      ],
      "execution_count": null,
      "outputs": [
        {
          "output_type": "stream",
          "name": "stdout",
          "text": [
            "['a', 'b', 'Z', 'd', 0, 'uno']\n"
          ]
        }
      ]
    },
    {
      "cell_type": "markdown",
      "metadata": {
        "id": "EQPs5ojoTVrk"
      },
      "source": [
        "A list can also be sliced with a colon:"
      ]
    },
    {
      "cell_type": "code",
      "metadata": {
        "colab": {
          "base_uri": "https://localhost:8080/"
        },
        "id": "keNX2RbtOqii",
        "outputId": "3944605a-299f-4e33-d304-5307dc40cb0f"
      },
      "source": [
        "my_list = ['Quant','Connect',1,2,3]\n",
        "print(my_list[1:3])"
      ],
      "execution_count": null,
      "outputs": [
        {
          "output_type": "stream",
          "name": "stdout",
          "text": [
            "['Connect', 1]\n"
          ]
        }
      ]
    },
    {
      "cell_type": "code",
      "metadata": {
        "colab": {
          "base_uri": "https://localhost:8080/"
        },
        "id": "yXmP4-P2smrr",
        "outputId": "db43d354-411b-4916-c7bc-1b253fa6445c"
      },
      "source": [
        "#Ejemplo\n",
        "lista_dias = ['lunes', 'martes', 'miercoles', 'jueves', 'viernes']\n",
        "print(lista_dias[0:3])"
      ],
      "execution_count": null,
      "outputs": [
        {
          "output_type": "stream",
          "name": "stdout",
          "text": [
            "['lunes', 'martes', 'miercoles']\n"
          ]
        }
      ]
    },
    {
      "cell_type": "markdown",
      "metadata": {
        "id": "AZqQd0K8TYul"
      },
      "source": [
        "The slice starts from the first element indicated, but excludes the last element indicated. Here we select all elements starting from index 1, which refers to the second element:"
      ]
    },
    {
      "cell_type": "code",
      "metadata": {
        "colab": {
          "base_uri": "https://localhost:8080/"
        },
        "id": "0-76sLfkOqii",
        "outputId": "66d8bfb5-ce28-4d6b-bd8e-24d7fcc4f794"
      },
      "source": [
        "print(my_list[1:])"
      ],
      "execution_count": null,
      "outputs": [
        {
          "output_type": "stream",
          "name": "stdout",
          "text": [
            "['Connect', 'go', 2, 3]\n"
          ]
        }
      ]
    },
    {
      "cell_type": "code",
      "metadata": {
        "colab": {
          "base_uri": "https://localhost:8080/"
        },
        "id": "jQID6zyRs2v5",
        "outputId": "e41994a9-10f5-421f-f2be-067b5790be65"
      },
      "source": [
        "#Ejemplo\n",
        "print(lista_dias[2:])"
      ],
      "execution_count": null,
      "outputs": [
        {
          "output_type": "stream",
          "name": "stdout",
          "text": [
            "['miercoles', 'jueves', 'viernes']\n"
          ]
        }
      ]
    },
    {
      "cell_type": "markdown",
      "metadata": {
        "id": "XBqvhUdZVKWs"
      },
      "source": [
        "And all elements up to but excluding index 3:"
      ]
    },
    {
      "cell_type": "code",
      "metadata": {
        "colab": {
          "base_uri": "https://localhost:8080/"
        },
        "id": "5NWr75L9Oqii",
        "outputId": "259cc958-2bfa-40b2-9e46-7030f60ee1c7"
      },
      "source": [
        "print(my_list[:3])"
      ],
      "execution_count": null,
      "outputs": [
        {
          "output_type": "stream",
          "name": "stdout",
          "text": [
            "['Quant', 'Connect', 1]\n"
          ]
        }
      ]
    },
    {
      "cell_type": "code",
      "metadata": {
        "colab": {
          "base_uri": "https://localhost:8080/"
        },
        "id": "wy5qD4k7s_UT",
        "outputId": "0125ddee-0acc-4c6b-f329-417e7417a1a7"
      },
      "source": [
        "#Ejemplo\n",
        "print(lista_dias[:4])"
      ],
      "execution_count": null,
      "outputs": [
        {
          "output_type": "stream",
          "name": "stdout",
          "text": [
            "['lunes', 'martes', 'miercoles', 'jueves']\n"
          ]
        }
      ]
    },
    {
      "cell_type": "markdown",
      "metadata": {
        "id": "eAFmM6bkTZz9"
      },
      "source": [
        "If you wish to add or remove an element from a list, you can use the append() and remove() methods for lists as follows:"
      ]
    },
    {
      "cell_type": "code",
      "metadata": {
        "colab": {
          "base_uri": "https://localhost:8080/"
        },
        "id": "pHmgTPElTo19",
        "outputId": "e0bbce27-2072-4375-d019-cdef1d095c78"
      },
      "source": [
        "my_list = ['Hello', 'Quant']\n",
        "my_list.append('Hello')\n",
        "print(my_list)\n",
        "\n"
      ],
      "execution_count": null,
      "outputs": [
        {
          "output_type": "stream",
          "name": "stdout",
          "text": [
            "['Hello', 'Quant', 'Hello']\n"
          ]
        }
      ]
    },
    {
      "cell_type": "code",
      "metadata": {
        "colab": {
          "base_uri": "https://localhost:8080/"
        },
        "id": "lS9tEQKZtLkC",
        "outputId": "92e4a811-4221-4e84-e0f1-70f8dc1d9969"
      },
      "source": [
        "#Ejemplo\n",
        "lista_dias.append('Sabado')\n",
        "print(lista_dias)"
      ],
      "execution_count": null,
      "outputs": [
        {
          "output_type": "stream",
          "name": "stdout",
          "text": [
            "['lunes', 'martes', 'miercoles', 'jueves', 'viernes', 'Sabado']\n"
          ]
        }
      ]
    },
    {
      "cell_type": "code",
      "metadata": {
        "colab": {
          "base_uri": "https://localhost:8080/"
        },
        "id": "4C4U1Yf0Tr8l",
        "outputId": "409ffd6c-ac5c-4063-a9f2-012300e62c54"
      },
      "source": [
        "my_list.remove('Hello')\n",
        "print(my_list)"
      ],
      "execution_count": null,
      "outputs": [
        {
          "output_type": "stream",
          "name": "stdout",
          "text": [
            "['Quant', 'Hello']\n"
          ]
        }
      ]
    },
    {
      "cell_type": "code",
      "metadata": {
        "colab": {
          "base_uri": "https://localhost:8080/"
        },
        "id": "yKpl6WnjtTyk",
        "outputId": "3d4e1d42-f321-44ac-c30d-2b30d8c739a1"
      },
      "source": [
        "#Ejemplo\n",
        "lista_dias.remove('lunes')\n",
        "print(lista_dias)"
      ],
      "execution_count": null,
      "outputs": [
        {
          "output_type": "stream",
          "name": "stdout",
          "text": [
            "['martes', 'miercoles', 'jueves', 'viernes', 'Sabado']\n"
          ]
        }
      ]
    },
    {
      "cell_type": "markdown",
      "metadata": {
        "id": "11W1gG-cVmOU"
      },
      "source": [
        "When there are repeated instances of \"Hello\", the first one is removed.\n",
        "\n",
        "## Tuple\n",
        "A tuple is a data structure type similar to a list. The difference is that a tuple is immutable, which means you can't change the elements in it once it's defined. We create a tuple by putting comma-separated values between parentheses."
      ]
    },
    {
      "cell_type": "code",
      "metadata": {
        "id": "vPmn6BAaOqii"
      },
      "source": [
        "my_tuple = ('Welcome','to','QuantConnect')"
      ],
      "execution_count": null,
      "outputs": []
    },
    {
      "cell_type": "code",
      "metadata": {
        "colab": {
          "base_uri": "https://localhost:8080/"
        },
        "id": "g40vU7eKtiUB",
        "outputId": "2114d39e-f56f-41f8-9afa-c6b68ea515df"
      },
      "source": [
        "#Ejemplo\n",
        "tuple_dos = ('leon', 'tigre', 'pantera', 'puma', 'lince')\n",
        "print(tuple_dos)"
      ],
      "execution_count": null,
      "outputs": [
        {
          "output_type": "stream",
          "name": "stdout",
          "text": [
            "('leon', 'tigre', 'pantera', 'puma', 'lince')\n"
          ]
        }
      ]
    },
    {
      "cell_type": "markdown",
      "metadata": {
        "id": "zMIme4dDV0Wz"
      },
      "source": [
        "Just like a list, a tuple can be sliced by using index."
      ]
    },
    {
      "cell_type": "code",
      "metadata": {
        "colab": {
          "base_uri": "https://localhost:8080/"
        },
        "id": "8P-ddO0sOqii",
        "outputId": "333c4f38-c0ee-40e2-eaee-a9408b860e79"
      },
      "source": [
        "my_tuple = ('Welcome','to','QuantConnect')\n",
        "print(my_tuple[1:])"
      ],
      "execution_count": null,
      "outputs": [
        {
          "output_type": "stream",
          "name": "stdout",
          "text": [
            "('to', 'QuantConnect')\n"
          ]
        }
      ]
    },
    {
      "cell_type": "code",
      "metadata": {
        "colab": {
          "base_uri": "https://localhost:8080/"
        },
        "id": "bSkkXyKEtuv1",
        "outputId": "686b3f4b-9146-4a46-e999-171a7a4c4ceb"
      },
      "source": [
        "#Ejemplo\n",
        "print( tuple_dos[:3] )"
      ],
      "execution_count": null,
      "outputs": [
        {
          "output_type": "stream",
          "name": "stdout",
          "text": [
            "('leon', 'tigre', 'pantera')\n"
          ]
        }
      ]
    },
    {
      "cell_type": "markdown",
      "metadata": {
        "id": "l2JqbusAV1Y2"
      },
      "source": [
        "## Set\n",
        "A set is an **unordered**  collection with **no duplicate** elements. The built-in function **set()** can be used to create sets."
      ]
    },
    {
      "cell_type": "code",
      "metadata": {
        "colab": {
          "base_uri": "https://localhost:8080/"
        },
        "id": "Plau8r-UOqij",
        "outputId": "db14012a-aaf6-4d5f-e7ec-c5cd095bc34d"
      },
      "source": [
        "stock_list = ['AAPL','GOOG','IBM','AAPL','IBM','FB','F','GOOG']\n",
        "stock_set = set(stock_list)\n",
        "print(stock_set)"
      ],
      "execution_count": null,
      "outputs": [
        {
          "output_type": "stream",
          "name": "stdout",
          "text": [
            "{'F', 'AAPL', 'FB', 'GOOG', 'IBM'}\n"
          ]
        }
      ]
    },
    {
      "cell_type": "code",
      "metadata": {
        "colab": {
          "base_uri": "https://localhost:8080/"
        },
        "id": "Zh-EABMJt3FL",
        "outputId": "f5bb18b0-8f2b-4401-9bb7-f13a9a2d5b20"
      },
      "source": [
        "#Ejemplo\n",
        "lista_nombres = ['Fernando', 'Luis', 'Diego', 'Maria', 'Ana', 'Juan', 'Luis', 'Juan']\n",
        "set_nombres = set(lista_nombres)\n",
        "print(set_nombres)"
      ],
      "execution_count": null,
      "outputs": [
        {
          "output_type": "stream",
          "name": "stdout",
          "text": [
            "{'Juan', 'Ana', 'Luis', 'Maria', 'Fernando', 'Diego'}\n"
          ]
        }
      ]
    },
    {
      "cell_type": "markdown",
      "metadata": {
        "id": "Jyb4GGIoWIHk"
      },
      "source": [
        "Set is an easy way to remove duplicate elements from a list.\n",
        "\n",
        "##Dictionary\n",
        "A dictionary is one of the most important data structures in Python. Unlike sequences which are indexed by integers, dictionaries are indexed by keys which can be either strings or floats.\n",
        "\n",
        "A dictionary is an **unordered** collection of key : value pairs, with the requirement that the keys are unique. We create a dictionary by placing a comma-separated list of key : value pairs within the braces."
      ]
    },
    {
      "cell_type": "code",
      "metadata": {
        "id": "36mTe5BaOqij"
      },
      "source": [
        "my_dic = {'AAPL':'AAPLE', 'FB':'FaceBook', 'GOOG':'Alphabet'}"
      ],
      "execution_count": null,
      "outputs": []
    },
    {
      "cell_type": "code",
      "metadata": {
        "colab": {
          "base_uri": "https://localhost:8080/"
        },
        "id": "KUfdVf43Oqij",
        "outputId": "80f789de-37a2-4d99-ad1a-f7b1267b533a"
      },
      "source": [
        "print(my_dic['GOOG'])"
      ],
      "execution_count": null,
      "outputs": [
        {
          "output_type": "stream",
          "name": "stdout",
          "text": [
            "Alphabet\n"
          ]
        }
      ]
    },
    {
      "cell_type": "code",
      "metadata": {
        "id": "cLAFJDGvuKfK"
      },
      "source": [
        "#Ejemplo\n",
        "animales_colores = {'Tigre':'Naranja', 'Elefante':'Gris', 'Jirafa':'Amarillo', 'Sapo':'Verde', 'Raton':'Gris'}"
      ],
      "execution_count": null,
      "outputs": []
    },
    {
      "cell_type": "code",
      "metadata": {
        "colab": {
          "base_uri": "https://localhost:8080/"
        },
        "id": "W8GrRCojuUZ5",
        "outputId": "28df4c98-56d3-45a3-bc70-0f5e01078f2f"
      },
      "source": [
        "print( animales_colores['Jirafa'] )"
      ],
      "execution_count": null,
      "outputs": [
        {
          "output_type": "stream",
          "name": "stdout",
          "text": [
            "Amarillo\n"
          ]
        }
      ]
    },
    {
      "cell_type": "markdown",
      "metadata": {
        "id": "gSicoNqDWP4c"
      },
      "source": [
        "After defining a dictionary, we can access any value by indicating its key in brackets."
      ]
    },
    {
      "cell_type": "code",
      "metadata": {
        "colab": {
          "base_uri": "https://localhost:8080/"
        },
        "id": "IrTZdq9FOqij",
        "outputId": "dfeb44ab-cfa0-48f7-e4ae-5d1b08eb8c3b"
      },
      "source": [
        "my_dic['GOOG'] = 'Alphabet Company'\n",
        "print(my_dic['GOOG'])"
      ],
      "execution_count": null,
      "outputs": [
        {
          "output_type": "stream",
          "name": "stdout",
          "text": [
            "Alphabet Company\n"
          ]
        }
      ]
    },
    {
      "cell_type": "code",
      "metadata": {
        "colab": {
          "base_uri": "https://localhost:8080/"
        },
        "id": "0JDIuuw5ua6R",
        "outputId": "574e3545-529f-4531-bb13-a0a8e1a09ede"
      },
      "source": [
        "#Ejemplo\n",
        "animales_colores['Raton'] = 'Gris Oscuro'\n",
        "print(animales_colores['Raton'])"
      ],
      "execution_count": null,
      "outputs": [
        {
          "output_type": "stream",
          "name": "stdout",
          "text": [
            "Gris Oscuro\n"
          ]
        }
      ]
    },
    {
      "cell_type": "markdown",
      "metadata": {
        "id": "M9sDsTEMWQvc"
      },
      "source": [
        "We can also change the value associated with a specified key:"
      ]
    },
    {
      "cell_type": "code",
      "metadata": {
        "colab": {
          "base_uri": "https://localhost:8080/"
        },
        "id": "lupRHf1_Oqij",
        "outputId": "1a466400-a59f-436c-ebe0-c84f2322d081"
      },
      "source": [
        "print(my_dic.keys())"
      ],
      "execution_count": null,
      "outputs": [
        {
          "output_type": "stream",
          "name": "stdout",
          "text": [
            "dict_keys(['AAPL', 'FB', 'GOOG'])\n"
          ]
        }
      ]
    },
    {
      "cell_type": "code",
      "metadata": {
        "colab": {
          "base_uri": "https://localhost:8080/"
        },
        "id": "zRaP6nnAujR0",
        "outputId": "af42d403-8e55-468b-bfb7-0ef700fa8fa2"
      },
      "source": [
        "#Ejemplo\n",
        "print(animales_colores.keys())"
      ],
      "execution_count": null,
      "outputs": [
        {
          "output_type": "stream",
          "name": "stdout",
          "text": [
            "dict_keys(['Tigre', 'Elefante', 'Jirafa', 'Sapo', 'Raton'])\n"
          ]
        }
      ]
    },
    {
      "cell_type": "markdown",
      "metadata": {
        "id": "VPuDinlwWS9D"
      },
      "source": [
        "The built-in method of the dictionary object dict.keys() returns a list of all the keys used in the dictionary."
      ]
    },
    {
      "cell_type": "markdown",
      "metadata": {
        "id": "kSGzgNb2Womz"
      },
      "source": [
        "# Common String Operations\n",
        "A string is an immutable sequence of characters. It can be sliced by index just like a tuple:"
      ]
    },
    {
      "cell_type": "code",
      "metadata": {
        "colab": {
          "base_uri": "https://localhost:8080/"
        },
        "id": "xPojDnm9Oqik",
        "outputId": "2d331e25-ec49-4cc5-fc51-1a66bb59de0d"
      },
      "source": [
        "my_str = 'Welcome to QuantConnect'\n",
        "print(my_str[8:])"
      ],
      "execution_count": null,
      "outputs": [
        {
          "output_type": "stream",
          "name": "stdout",
          "text": [
            "to QuantConnect\n"
          ]
        }
      ]
    },
    {
      "cell_type": "code",
      "metadata": {
        "colab": {
          "base_uri": "https://localhost:8080/"
        },
        "id": "AnG7OLcouqva",
        "outputId": "bd8cd63a-2b1a-43c8-fa28-fe36640e8738"
      },
      "source": [
        "#Ejemplo\n",
        "string_sliced = 'Anita lava la tinA'\n",
        "print(string_sliced[:5])\n",
        "print(string_sliced[14:])"
      ],
      "execution_count": null,
      "outputs": [
        {
          "output_type": "stream",
          "name": "stdout",
          "text": [
            "Anita\n",
            "tinA\n"
          ]
        }
      ]
    },
    {
      "cell_type": "markdown",
      "metadata": {
        "id": "wuJYy7tvWtM7"
      },
      "source": [
        "There are many methods associated with strings. We can use string.count() to count the occurrences of a character in a string, use string.find() to return the index of a specific character, and use string.replace() to replace characters"
      ]
    },
    {
      "cell_type": "code",
      "metadata": {
        "colab": {
          "base_uri": "https://localhost:8080/"
        },
        "id": "u9deZq1SOqik",
        "outputId": "9b2d4a68-61d9-486f-f79b-386f71b8c318"
      },
      "source": [
        "print('Counting the number of e appears in this sentence'.count('e'))\n",
        "print('The first time e appears in this sentence'.find('e'))\n",
        "print('all the a in this sentence now becomes e'.replace('a','e'))"
      ],
      "execution_count": null,
      "outputs": [
        {
          "output_type": "stream",
          "name": "stdout",
          "text": [
            "7\n",
            "2\n",
            "ell the e in this sentence now becomes e\n"
          ]
        }
      ]
    },
    {
      "cell_type": "code",
      "metadata": {
        "colab": {
          "base_uri": "https://localhost:8080/"
        },
        "id": "9295mWsHu1qm",
        "outputId": "dd49c07c-76fe-49ff-a8f0-4f26ac0a58d0"
      },
      "source": [
        "#Ejemplo\n",
        "print('carro'.count('u'))\n",
        "print('murcielago'.find('i'))\n",
        "print('colombia'.replace('o','u'))"
      ],
      "execution_count": null,
      "outputs": [
        {
          "output_type": "stream",
          "name": "stdout",
          "text": [
            "0\n",
            "4\n",
            "culumbia\n"
          ]
        }
      ]
    },
    {
      "cell_type": "markdown",
      "metadata": {
        "id": "sJPn3rkvWwHN"
      },
      "source": [
        "The most commonly used method for strings is string.split(). This method will split the string by the indicated character and return a list:"
      ]
    },
    {
      "cell_type": "code",
      "metadata": {
        "colab": {
          "base_uri": "https://localhost:8080/"
        },
        "id": "hbIaFLFHOqik",
        "outputId": "0e93f4f0-bca8-421c-fc8a-16f3f98902d5"
      },
      "source": [
        "Time = '2016-04-01 09:43:00'\n",
        "splited_list = Time.split(' ')\n",
        "date = splited_list[0]\n",
        "time = splited_list[1]\n",
        "print(date, time)\n",
        "hour = time.split(':')[0]\n",
        "print(hour)"
      ],
      "execution_count": null,
      "outputs": [
        {
          "output_type": "stream",
          "name": "stdout",
          "text": [
            "2016-04-01 09:43:00\n",
            "09\n"
          ]
        }
      ]
    },
    {
      "cell_type": "code",
      "metadata": {
        "colab": {
          "base_uri": "https://localhost:8080/"
        },
        "id": "HEZjZbMCvKPA",
        "outputId": "f08460ee-e8d2-4fcc-9038-9f83fcbe8347"
      },
      "source": [
        "#Ejemplo\n",
        "nombre_universidad = 'Universidad Nacional de Colombia'\n",
        "split_nombre = nombre_universidad.split(' ')\n",
        "print(split_nombre[0])\n",
        "print(split_nombre[1])\n"
      ],
      "execution_count": 1,
      "outputs": [
        {
          "output_type": "stream",
          "name": "stdout",
          "text": [
            "Universidad\n",
            "Nacional\n"
          ]
        }
      ]
    },
    {
      "cell_type": "markdown",
      "metadata": {
        "id": "9cJQGk96WyVc"
      },
      "source": [
        "We can replace parts of a string by our variable. This is called string formatting."
      ]
    },
    {
      "cell_type": "code",
      "metadata": {
        "colab": {
          "base_uri": "https://localhost:8080/"
        },
        "id": "-E_rIvv6Oqik",
        "outputId": "aa9ca9af-2d06-4b27-f59f-044d6e10e642"
      },
      "source": [
        "my_time = 'Hour: {}, Minute:{}'.format('09','43')\n",
        "print(my_time)"
      ],
      "execution_count": 2,
      "outputs": [
        {
          "output_type": "stream",
          "name": "stdout",
          "text": [
            "Hour: 09, Minute:43\n"
          ]
        }
      ]
    },
    {
      "cell_type": "code",
      "metadata": {
        "colab": {
          "base_uri": "https://localhost:8080/"
        },
        "id": "xLJ4pUY4vg0J",
        "outputId": "24da7044-296c-4308-f9d0-ffc6301f8d0f"
      },
      "source": [
        "#Ejemplo\n",
        "pais_capital = 'Pais: {}, Capital: {}, Habitantes: {}'.format('Colombia','Bogota',8000000)\n",
        "print(pais_capital)"
      ],
      "execution_count": 5,
      "outputs": [
        {
          "output_type": "stream",
          "name": "stdout",
          "text": [
            "Pais: Colombia, Capital: Bogota, Habitantes: 8000000\n"
          ]
        }
      ]
    },
    {
      "cell_type": "markdown",
      "metadata": {
        "id": "1_NbVldpWzAs"
      },
      "source": [
        "Another way to format a string is to use the % symbol."
      ]
    },
    {
      "cell_type": "code",
      "metadata": {
        "colab": {
          "base_uri": "https://localhost:8080/"
        },
        "id": "4rZ4rkD2Oqik",
        "outputId": "feb98ede-d210-4f0b-cba4-c66d47d354c8"
      },
      "source": [
        "print('the pi number is %f'%3.14)\n",
        "print('%s to %s'%('Welcome','Quantconnect'))"
      ],
      "execution_count": null,
      "outputs": [
        {
          "output_type": "stream",
          "name": "stdout",
          "text": [
            "the pi number is 3.140000\n",
            "Welcome to Quantconnect\n"
          ]
        }
      ]
    },
    {
      "cell_type": "code",
      "metadata": {
        "colab": {
          "base_uri": "https://localhost:8080/"
        },
        "id": "1CKci6WOvtvN",
        "outputId": "2c1e05a3-926c-4b37-dbfc-3468356398f9"
      },
      "source": [
        "#Ejemplo\n",
        "print('En el planeta hay %i paises' %197)\n",
        "print('En latinoamerica se encuentran %s ,%s y tambien %s'%('Colombia', 'Argentina', 'Uruguay'))"
      ],
      "execution_count": 8,
      "outputs": [
        {
          "output_type": "stream",
          "name": "stdout",
          "text": [
            "En el planeta hay 197 paises\n",
            "En latinoamerica se encuentran Colombia ,Argentina y tambien Uruguay\n"
          ]
        }
      ]
    },
    {
      "cell_type": "markdown",
      "metadata": {
        "id": "v_5cocrDW3MN"
      },
      "source": [
        "# Summary\n",
        "\n",
        "Weave seen the basic data types and data structures in Python. It's important to keep practicing to become familiar with these data structures. In the next tutorial, we will cover for and while loops and logical operations in Python."
      ]
    },
    {
      "cell_type": "markdown",
      "metadata": {
        "id": "QL6dNxwCXNEt"
      },
      "source": [
        "<div align=\"center\">\n",
        "<img style=\"display: block; margin: auto;\" alt=\"photo\" src=\"https://cdn.quantconnect.com/web/i/icon.png\">\n",
        "\n",
        "Quantconnect\n",
        "\n",
        "Introduction to Financial Python\n",
        "</div>\n",
        "\n",
        "# 02 Logical Operations and Loops\n",
        "\n",
        "# Introduction\n",
        "We discussed the basic data types and data structures in Python in the last tutorial. This chapter covers logical operations and loops in Python, which are very common in programming.\n",
        "\n",
        "# Logical Operations\n",
        "Like most programming languages, Python has comparison operators:"
      ]
    },
    {
      "cell_type": "code",
      "metadata": {
        "colab": {
          "base_uri": "https://localhost:8080/"
        },
        "id": "70Guys_rOv7a",
        "outputId": "4210f8c0-ced7-4479-9d03-e68ff96346fb"
      },
      "source": [
        "print(1 == 0)\n",
        "print(1 == 1)\n",
        "print(1 != 0)\n",
        "print(5 >= 5)\n",
        "print(5 >= 6)"
      ],
      "execution_count": null,
      "outputs": [
        {
          "output_type": "stream",
          "name": "stdout",
          "text": [
            "False\n",
            "True\n",
            "True\n",
            "True\n",
            "False\n"
          ]
        }
      ]
    },
    {
      "cell_type": "code",
      "metadata": {
        "colab": {
          "base_uri": "https://localhost:8080/"
        },
        "id": "DEDgAXgfz80q",
        "outputId": "c5aca840-6ad3-4fa2-bc6d-c88377889ced"
      },
      "source": [
        "#Ejemplo\n",
        "print(1 == 1)\n",
        "print('a' == 'a')\n",
        "print(2 != 4)\n",
        "print(51 >= 52)\n",
        "print(1 >= -1)"
      ],
      "execution_count": 10,
      "outputs": [
        {
          "output_type": "stream",
          "name": "stdout",
          "text": [
            "True\n",
            "True\n",
            "True\n",
            "False\n",
            "True\n"
          ]
        }
      ]
    },
    {
      "cell_type": "markdown",
      "metadata": {
        "id": "8aFHYDj-YTXt"
      },
      "source": [
        "Each statement above has a boolean value, which must be either True or False, but not both.\n",
        "\n",
        "We can combine simple statements P and Q to form complex statements using logical operators:\n",
        "\n",
        "- The statement \"P and Q\" is true if both P and Q are true, otherwise it is false.\n",
        "- The statement \"P or Q\" is false if both P and Q are false, otherwise it is true.\n",
        "- The statement \"not P\" is true if P is false, and vice versa."
      ]
    },
    {
      "cell_type": "code",
      "metadata": {
        "colab": {
          "base_uri": "https://localhost:8080/"
        },
        "id": "O5YEEcUbOv7d",
        "outputId": "7f979dd4-0ebc-485b-f210-2eafc8a56374"
      },
      "source": [
        "print(2 > 1 and 3 > 2)\n",
        "print(2 > 1 and 3 < 2 )\n",
        "print(2 > 1 or 3 < 2)\n",
        "print(2 < 1 and 3 < 2)"
      ],
      "execution_count": 11,
      "outputs": [
        {
          "output_type": "stream",
          "name": "stdout",
          "text": [
            "True\n",
            "False\n",
            "True\n",
            "False\n"
          ]
        }
      ]
    },
    {
      "cell_type": "code",
      "metadata": {
        "colab": {
          "base_uri": "https://localhost:8080/"
        },
        "id": "61fnK2EI0JfQ",
        "outputId": "2f00b3df-8379-4d20-e39d-bf0e22493c4a"
      },
      "source": [
        "#Ejemplo\n",
        "print (10 < 20 and 20 > 30)\n",
        "print (31 < 32 and 32 < 33)\n",
        "print (4 > 2 or 1 > 15)\n",
        "print (-2 < -1 and 1 > -1)"
      ],
      "execution_count": 12,
      "outputs": [
        {
          "output_type": "stream",
          "name": "stdout",
          "text": [
            "False\n",
            "True\n",
            "True\n",
            "True\n"
          ]
        }
      ]
    },
    {
      "cell_type": "markdown",
      "metadata": {
        "id": "Dy7yzoSXYXmL"
      },
      "source": [
        "When dealing with a very complex logical statement that involves in several statements, we can use brackets to separate and combine them."
      ]
    },
    {
      "cell_type": "code",
      "metadata": {
        "colab": {
          "base_uri": "https://localhost:8080/"
        },
        "id": "QZ-W2xJZOv7d",
        "outputId": "ed9ad9df-acd4-4ce5-fffd-4b59db3478c1"
      },
      "source": [
        "print((3 > 2 or 1 < 3) and (1!=3 and 4>3) and not ( 3 < 2 or 1 < 3 and (1!=3 and 4>3)))\n",
        "print(3 > 2 or 1 < 3 and (1!=3 and 4>3) and not ( 3 < 2 or 1 < 3 and (1!=3 and 4>3)))"
      ],
      "execution_count": null,
      "outputs": [
        {
          "output_type": "stream",
          "name": "stdout",
          "text": [
            "False\n",
            "True\n"
          ]
        }
      ]
    },
    {
      "cell_type": "code",
      "metadata": {
        "colab": {
          "base_uri": "https://localhost:8080/"
        },
        "id": "H60KrU513wwI",
        "outputId": "67c815c2-c8b7-43a7-e13f-6ac18362be58"
      },
      "source": [
        "#Ejemplo\n",
        "print((11>14 or 2<35) and (1!=0 and 2==43) and not ( 53<=21 or 28<35 and (0==0 and 34>32)))\n",
        "print(56>84 or 45<=63 and (12!=86 and 9>=7) and not ( 4==54 or 97<32 and (66!=78 and 0==9)))\n"
      ],
      "execution_count": 13,
      "outputs": [
        {
          "output_type": "stream",
          "name": "stdout",
          "text": [
            "False\n",
            "True\n"
          ]
        }
      ]
    },
    {
      "cell_type": "markdown",
      "metadata": {
        "id": "s95xoRYMYaPD"
      },
      "source": [
        "Comparing the above two statements, we can see that it's wise to use brackets when we make a complex logical statement.\n",
        "\n",
        "# If Statement\n",
        "An if statement executes a segment of code only if its condition is true. A standard if statement consists of 3 segments: if, elif and else."
      ]
    },
    {
      "cell_type": "markdown",
      "metadata": {
        "id": "aRzMMitAaBOL"
      },
      "source": [
        "```python\n",
        "if statement1:\n",
        "    # if the statement1 is true, execute the code here.\n",
        "    # code.....\n",
        "    # code.....\n",
        "elif statement2:\n",
        "    # if the statement 1 is false, skip the codes above to this part.\n",
        "    # code......\n",
        "    # code......\n",
        "else:\n",
        "    # if none of the above statements is True, skip to this part\n",
        "    # code......\n",
        "```"
      ]
    },
    {
      "cell_type": "markdown",
      "metadata": {
        "id": "l59R2AS8aH2K"
      },
      "source": [
        "An if statement doesn't necessarily has elif and else part. If it's not specified, the indented block of code will be executed when the condition is true, otherwise the whole if statement will be skipped."
      ]
    },
    {
      "cell_type": "code",
      "metadata": {
        "colab": {
          "base_uri": "https://localhost:8080/"
        },
        "id": "FZ5GoTXfOv7e",
        "outputId": "e1b158f2-55fc-4ded-8055-c33198b80ee0"
      },
      "source": [
        "i = 0\n",
        "if i == 0:\n",
        "    print('i==0 is True')"
      ],
      "execution_count": 14,
      "outputs": [
        {
          "output_type": "stream",
          "name": "stdout",
          "text": [
            "i==0 is True\n"
          ]
        }
      ]
    },
    {
      "cell_type": "code",
      "metadata": {
        "colab": {
          "base_uri": "https://localhost:8080/"
        },
        "id": "cfVIy39V4G04",
        "outputId": "41f39fb6-2cb1-4521-d7b3-bb91b68dbf86"
      },
      "source": [
        "#Ejemplo\n",
        "i_dos = 2021\n",
        "if i_dos == 2021:\n",
        "    print('i_dos == 2021 is True')"
      ],
      "execution_count": 15,
      "outputs": [
        {
          "output_type": "stream",
          "name": "stdout",
          "text": [
            "i_dos == 2021 is True\n"
          ]
        }
      ]
    },
    {
      "cell_type": "markdown",
      "metadata": {
        "id": "nPNW-l5eaJn8"
      },
      "source": [
        "As we mentioned above, we can write some complex statements here:"
      ]
    },
    {
      "cell_type": "code",
      "metadata": {
        "colab": {
          "base_uri": "https://localhost:8080/"
        },
        "id": "gh-U6nMzOv7e",
        "outputId": "3ae3f69a-e262-49d4-d1f5-112f24c35892"
      },
      "source": [
        "p = 1 > 0\n",
        "q = 2 > 3\n",
        "if p and q:\n",
        "    print('p and q is true')\n",
        "elif p and not q:\n",
        "    print('q is false')\n",
        "elif q and not p:\n",
        "    print('p is false')\n",
        "else:\n",
        "    print('None of p and q is true')"
      ],
      "execution_count": 1,
      "outputs": [
        {
          "output_type": "stream",
          "name": "stdout",
          "text": [
            "q is false\n"
          ]
        }
      ]
    },
    {
      "cell_type": "code",
      "metadata": {
        "colab": {
          "base_uri": "https://localhost:8080/"
        },
        "id": "g4MDEW2V4T3o",
        "outputId": "97698b29-b12a-4175-d2b7-4dce7cf3619a"
      },
      "source": [
        "#Ejemplo\n",
        "p = 2020 < 2021\n",
        "q = 2021 > 2022\n",
        "if p and q:\n",
        "    print('p and q is true')\n",
        "elif p and not q:\n",
        "    print('q is false')\n",
        "elif q and not p:\n",
        "    print('p is false')\n",
        "else:\n",
        "    print('None of p and q is true')"
      ],
      "execution_count": 2,
      "outputs": [
        {
          "output_type": "stream",
          "name": "stdout",
          "text": [
            "q is false\n"
          ]
        }
      ]
    },
    {
      "cell_type": "markdown",
      "metadata": {
        "id": "tgRDwiAsaMOL"
      },
      "source": [
        "# Loop Structure\n",
        "Loops are an essential part of programming. The \"for\" and \"while\" loops run a block of code repeatedly.\n",
        "\n",
        "## While Loop\n",
        "A \"while\" loop will run repeatedly until a certain condition has been met."
      ]
    },
    {
      "cell_type": "code",
      "metadata": {
        "colab": {
          "base_uri": "https://localhost:8080/"
        },
        "id": "uQLau8d5Ov7f",
        "outputId": "3dbd143f-0167-4f39-dde7-2d809602abef"
      },
      "source": [
        "i = 0\n",
        "while i < 5:\n",
        "    print(i)\n",
        "    i += 1 "
      ],
      "execution_count": 1,
      "outputs": [
        {
          "output_type": "stream",
          "name": "stdout",
          "text": [
            "0\n",
            "1\n",
            "2\n",
            "3\n",
            "4\n"
          ]
        }
      ]
    },
    {
      "cell_type": "code",
      "metadata": {
        "colab": {
          "base_uri": "https://localhost:8080/"
        },
        "id": "ekt0wgEx4cCv",
        "outputId": "585784b2-eac6-4734-8dcd-2df86fb43106"
      },
      "source": [
        "#Ejemplo\n",
        "i_dos = 10\n",
        "while i_dos < 60:\n",
        "    print(i_dos)\n",
        "    i_dos += i_dos"
      ],
      "execution_count": 2,
      "outputs": [
        {
          "output_type": "stream",
          "name": "stdout",
          "text": [
            "10\n",
            "20\n",
            "40\n"
          ]
        }
      ]
    },
    {
      "cell_type": "markdown",
      "metadata": {
        "id": "ydLddFAPaTOE"
      },
      "source": [
        "When making a while loop, we need to ensure that something changes from iteration to iteration so that the while loop will terminate, otherwise, it will run forever. Here we used i += 1 (short for i = i + 1) to make i larger after each iteration. This is the most commonly used method to control a while loop.\n",
        "\n",
        "## For Loop\n",
        "A \"for\" loop will iterate over a sequence of value and terminate when the sequence has ended."
      ]
    },
    {
      "cell_type": "code",
      "metadata": {
        "colab": {
          "base_uri": "https://localhost:8080/"
        },
        "id": "kt8Ie8u1Ov7f",
        "outputId": "fd262d6e-6d07-4a6f-fbce-417098b80c01"
      },
      "source": [
        "for i in [1,2,3,4,5]:\n",
        "    print(i)"
      ],
      "execution_count": 3,
      "outputs": [
        {
          "output_type": "stream",
          "name": "stdout",
          "text": [
            "1\n",
            "2\n",
            "3\n",
            "4\n",
            "5\n"
          ]
        }
      ]
    },
    {
      "cell_type": "code",
      "metadata": {
        "colab": {
          "base_uri": "https://localhost:8080/"
        },
        "id": "gkzZ_i4a4p1o",
        "outputId": "511dca71-b8ea-47a7-b574-d23c00783d7a"
      },
      "source": [
        "#Ejemplo\n",
        "for i_dos in [10, 20, 30, 40, 50, 60]:\n",
        "    print(i_dos)"
      ],
      "execution_count": 4,
      "outputs": [
        {
          "output_type": "stream",
          "name": "stdout",
          "text": [
            "10\n",
            "20\n",
            "30\n",
            "40\n",
            "50\n",
            "60\n"
          ]
        }
      ]
    },
    {
      "cell_type": "markdown",
      "metadata": {
        "id": "yWStqpreaX-T"
      },
      "source": [
        "We can also add if statements in a for loop. Here is a real example from our pairs trading algorithm:"
      ]
    },
    {
      "cell_type": "code",
      "metadata": {
        "colab": {
          "base_uri": "https://localhost:8080/"
        },
        "id": "kElmffvFOv7f",
        "outputId": "bd3062e4-2fbd-4c46-d49c-a74b548ab4ea"
      },
      "source": [
        "stocks = ['AAPL','GOOG','IBM','FB','F','V', 'G', 'GE']\n",
        "selected = ['AAPL','IBM']\n",
        "new_list = []\n",
        "for i in stocks:\n",
        "    if i not in selected:\n",
        "        new_list.append(i)\n",
        "print(stocks)"
      ],
      "execution_count": 5,
      "outputs": [
        {
          "output_type": "stream",
          "name": "stdout",
          "text": [
            "['AAPL', 'GOOG', 'IBM', 'FB', 'F', 'V', 'G', 'GE']\n"
          ]
        }
      ]
    },
    {
      "cell_type": "code",
      "metadata": {
        "colab": {
          "base_uri": "https://localhost:8080/"
        },
        "id": "YKtzfbi740Av",
        "outputId": "0c197afa-96cf-4f8d-983c-79d567546d6f"
      },
      "source": [
        "#Ejemplo\n",
        "stocks_dos = ['Rojo', 'Azul', 'Verde', 'Rosado']\n",
        "selected_dos = ['Azul', 'Verde']\n",
        "newList_dos = []\n",
        "for i in stocks_dos:\n",
        "    if i not in selected_dos:\n",
        "        newList_dos.append(i)\n",
        "print(newList_dos)"
      ],
      "execution_count": 6,
      "outputs": [
        {
          "output_type": "stream",
          "name": "stdout",
          "text": [
            "['Rojo', 'Rosado']\n"
          ]
        }
      ]
    },
    {
      "cell_type": "markdown",
      "metadata": {
        "id": "wb2hry9dahE0"
      },
      "source": [
        "Here we iterated all the elements in the list 'stocks'. Later in this chapter, we will introduce a smarter way to do this, which is just a one-line code.\n",
        "\n",
        "## Break and continue\n",
        "These are two commonly used commands in a for loop. If \"break\" is triggered while a loop is executing, the loop will terminate immediately:"
      ]
    },
    {
      "cell_type": "code",
      "metadata": {
        "colab": {
          "base_uri": "https://localhost:8080/"
        },
        "id": "yF5wMVItOv7g",
        "outputId": "9bca45da-d36d-4860-9402-8644ab9c5c93"
      },
      "source": [
        "stocks = ['AAPL','GOOG','IBM','FB','F','V', 'G', 'GE']\n",
        "for i in stocks:\n",
        "    print(i)\n",
        "    if i == 'FB':\n",
        "        break"
      ],
      "execution_count": 7,
      "outputs": [
        {
          "output_type": "stream",
          "name": "stdout",
          "text": [
            "AAPL\n",
            "GOOG\n",
            "IBM\n",
            "FB\n"
          ]
        }
      ]
    },
    {
      "cell_type": "code",
      "metadata": {
        "colab": {
          "base_uri": "https://localhost:8080/"
        },
        "id": "3XF_yTYj5Y8k",
        "outputId": "fc02beb0-efd0-4c5f-fb5f-5a005f61b18e"
      },
      "source": [
        "#Ejemplo\n",
        "stocks_dos = ['Rojo', 'Azul', 'Verde', 'Rosado']\n",
        "for i_dos in stocks_dos:\n",
        "    print(i_dos)\n",
        "    if i_dos == 'Verde':\n",
        "        break"
      ],
      "execution_count": 11,
      "outputs": [
        {
          "output_type": "stream",
          "name": "stdout",
          "text": [
            "Rojo\n",
            "Azul\n",
            "Verde\n"
          ]
        }
      ]
    },
    {
      "cell_type": "markdown",
      "metadata": {
        "id": "R0toxyp3ao0T"
      },
      "source": [
        "The \"continue\" command tells the loop to end this iteration and skip to the next iteration:"
      ]
    },
    {
      "cell_type": "code",
      "metadata": {
        "colab": {
          "base_uri": "https://localhost:8080/"
        },
        "id": "Stg-CH6IOv7g",
        "outputId": "fb629440-0042-44c7-afe1-1bcba92637db"
      },
      "source": [
        "stocks = ['AAPL','GOOG','IBM','FB','F','V', 'G', 'GE']\n",
        "for i in stocks:\n",
        "    if i == 'FB':\n",
        "        continue\n",
        "    print(i)"
      ],
      "execution_count": 10,
      "outputs": [
        {
          "output_type": "stream",
          "name": "stdout",
          "text": [
            "AAPL\n",
            "GOOG\n",
            "IBM\n",
            "F\n",
            "V\n",
            "G\n",
            "GE\n"
          ]
        }
      ]
    },
    {
      "cell_type": "code",
      "metadata": {
        "colab": {
          "base_uri": "https://localhost:8080/"
        },
        "id": "cjxZOqsA5jnH",
        "outputId": "0a13db1f-7bc5-4c25-c265-9312fcbd7bf1"
      },
      "source": [
        "#Ejemplo\n",
        "stocks_dos = ['Rojo', 'Azul', 'Verde', 'Rosado']\n",
        "for i_dos in stocks_dos:\n",
        "    if i_dos == 'Azul':\n",
        "        continue\n",
        "    print(i_dos)"
      ],
      "execution_count": 14,
      "outputs": [
        {
          "output_type": "stream",
          "name": "stdout",
          "text": [
            "Rojo\n",
            "Verde\n",
            "Rosado\n"
          ]
        }
      ]
    },
    {
      "cell_type": "markdown",
      "metadata": {
        "id": "4NusvdhBaxpZ"
      },
      "source": [
        "# List Comprehension\n",
        "List comprehension is a Pythonic way to create lists. Common applications are to make new lists where each element is the result of some operations applied to each member of another sequence. For example, if we want to create a list of squares using for loop:"
      ]
    },
    {
      "cell_type": "code",
      "metadata": {
        "colab": {
          "base_uri": "https://localhost:8080/"
        },
        "id": "bdxxeOABOv7h",
        "outputId": "dc4d880f-f2a7-4e8b-e538-17ad101b5c91"
      },
      "source": [
        "squares = []\n",
        "for i in [1,2,3,4,5]:\n",
        "    squares.append(i**2)\n",
        "print(squares)"
      ],
      "execution_count": 16,
      "outputs": [
        {
          "output_type": "stream",
          "name": "stdout",
          "text": [
            "[1, 4, 9, 16, 25]\n"
          ]
        }
      ]
    },
    {
      "cell_type": "code",
      "metadata": {
        "colab": {
          "base_uri": "https://localhost:8080/"
        },
        "id": "a3QrPnAK51Kv",
        "outputId": "f40bf11a-2cd9-43f3-80aa-87f8fb9d9784"
      },
      "source": [
        "#Ejemplo\n",
        "cubes = []\n",
        "for i_dos in [5,10,15,20]:\n",
        "    cubes.append(i_dos**3)\n",
        "print(cubes)"
      ],
      "execution_count": 18,
      "outputs": [
        {
          "output_type": "stream",
          "name": "stdout",
          "text": [
            "[125, 1000, 3375, 8000]\n"
          ]
        }
      ]
    },
    {
      "cell_type": "markdown",
      "metadata": {
        "id": "--KliJBOa1CC"
      },
      "source": [
        "Using list comprehension:"
      ]
    },
    {
      "cell_type": "code",
      "metadata": {
        "colab": {
          "base_uri": "https://localhost:8080/"
        },
        "id": "440-yjG8Ov7h",
        "outputId": "1d8788b8-fbf9-4f07-d764-b350ef70440c"
      },
      "source": [
        "qList = [1,2,3,4,5]\n",
        "squares = [x**2 for x in qList]\n",
        "print(squares)"
      ],
      "execution_count": 19,
      "outputs": [
        {
          "output_type": "stream",
          "name": "stdout",
          "text": [
            "[1, 4, 9, 16, 25]\n"
          ]
        }
      ]
    },
    {
      "cell_type": "code",
      "metadata": {
        "colab": {
          "base_uri": "https://localhost:8080/"
        },
        "id": "AVWxQNUU5_Tf",
        "outputId": "b17340c1-53e2-4f4b-857e-4752ab3489f9"
      },
      "source": [
        "#Ejemplo\n",
        "qList_dos = [2, 4, 6, 8, 10]\n",
        "cubes_dos = [x**3 for x in qList_dos]\n",
        "print(cubes_dos)"
      ],
      "execution_count": 20,
      "outputs": [
        {
          "output_type": "stream",
          "name": "stdout",
          "text": [
            "[8, 64, 216, 512, 1000]\n"
          ]
        }
      ]
    },
    {
      "cell_type": "markdown",
      "metadata": {
        "id": "uMuCfR3ya3zT"
      },
      "source": [
        "Recall the example above where we used a for loop to select stocks. Here we use list comprehension:"
      ]
    },
    {
      "cell_type": "code",
      "metadata": {
        "colab": {
          "base_uri": "https://localhost:8080/"
        },
        "id": "ZGtCtog2Ov7h",
        "outputId": "21ae93cb-d64e-4623-efa6-1fe327952713"
      },
      "source": [
        "stocks = ['AAPL','GOOG','IBM','FB','F','V', 'G', 'GE']\n",
        "selected = ['AAPL','IBM']\n",
        "new_list = [x for x in stocks if x in selected]\n",
        "print(new_list)"
      ],
      "execution_count": 21,
      "outputs": [
        {
          "output_type": "stream",
          "name": "stdout",
          "text": [
            "['AAPL', 'IBM']\n"
          ]
        }
      ]
    },
    {
      "cell_type": "code",
      "metadata": {
        "colab": {
          "base_uri": "https://localhost:8080/"
        },
        "id": "2U3azECk6Ky_",
        "outputId": "af11a6a0-084a-40cc-c11d-9d6c67cad8b4"
      },
      "source": [
        "#Ejemplo\n",
        "stocks_dos = ['Lagarto', 'Cocodrilo', 'Nutria', 'Tiburon', 'Ballena', 'Lagarto']\n",
        "selected_dos = ['Lagarto', 'Nutria']\n",
        "new_list_dos = [x for x in stocks_dos if x in selected_dos]\n",
        "print(new_list_dos)"
      ],
      "execution_count": 24,
      "outputs": [
        {
          "output_type": "stream",
          "name": "stdout",
          "text": [
            "['Lagarto', 'Nutria', 'Lagarto']\n"
          ]
        }
      ]
    },
    {
      "cell_type": "markdown",
      "metadata": {
        "id": "EPeUv6Lia5oD"
      },
      "source": [
        "A list comprehension consists of square brackets containing an expression followed by a \"for\" clause, and possibly \"for\" or \"if\" clauses. For example:"
      ]
    },
    {
      "cell_type": "code",
      "metadata": {
        "colab": {
          "base_uri": "https://localhost:8080/"
        },
        "id": "O1AMB5d7Ov7i",
        "outputId": "0693f4d9-3508-4d3f-f8d5-f67558ea770e"
      },
      "source": [
        "print( [(x, y) for x in [1,2,3] for y in [3,1,4] if x != y] )\n",
        "print( [str(x)+' vs '+str(y) for x in ['AAPL','GOOG','IBM','FB'] for y in ['F','V','G','GE'] if x!=y] )"
      ],
      "execution_count": 25,
      "outputs": [
        {
          "output_type": "stream",
          "name": "stdout",
          "text": [
            "[(1, 3), (1, 4), (2, 3), (2, 1), (2, 4), (3, 1), (3, 4)]\n",
            "['AAPL vs F', 'AAPL vs V', 'AAPL vs G', 'AAPL vs GE', 'GOOG vs F', 'GOOG vs V', 'GOOG vs G', 'GOOG vs GE', 'IBM vs F', 'IBM vs V', 'IBM vs G', 'IBM vs GE', 'FB vs F', 'FB vs V', 'FB vs G', 'FB vs GE']\n"
          ]
        }
      ]
    },
    {
      "cell_type": "code",
      "metadata": {
        "colab": {
          "base_uri": "https://localhost:8080/"
        },
        "id": "bDd_oFyV6aTc",
        "outputId": "52985535-b39a-4436-c5bb-8246f9554eb2"
      },
      "source": [
        "#Ejemplo\n",
        "print( [(x, y) for x in [5, 6, 8, 10] for y in [10,12,16,20] if x != y] )\n",
        "print( [str(x)+' vs '+str(y) for x in ['Thor','Grooth','Loki','Hulk'] for y in ['CaptainA','Marvel'] if x!=y] )"
      ],
      "execution_count": 26,
      "outputs": [
        {
          "output_type": "stream",
          "name": "stdout",
          "text": [
            "[(5, 10), (5, 12), (5, 16), (5, 20), (6, 10), (6, 12), (6, 16), (6, 20), (8, 10), (8, 12), (8, 16), (8, 20), (10, 12), (10, 16), (10, 20)]\n",
            "['Thor vs CaptainA', 'Thor vs Marvel', 'Grooth vs CaptainA', 'Grooth vs Marvel', 'Loki vs CaptainA', 'Loki vs Marvel', 'Hulk vs CaptainA', 'Hulk vs Marvel']\n"
          ]
        }
      ]
    },
    {
      "cell_type": "markdown",
      "metadata": {
        "id": "jJpvq-o4a8P7"
      },
      "source": [
        "List comprehension is an elegant way to organize one or more for loops when creating a list.\n",
        "\n",
        "# Summary\n",
        "This chapter has introduced logical operations, loops, and list comprehension. In the next chapter, we will introduce functions and object-oriented programming, which will enable us to make our codes clean and versatile."
      ]
    },
    {
      "cell_type": "markdown",
      "metadata": {
        "id": "Tef_X2wJbdhn"
      },
      "source": [
        "<div align=\"center\">\n",
        "<img style=\"display: block; margin: auto;\" alt=\"photo\" src=\"https://cdn.quantconnect.com/web/i/icon.png\">\n",
        "\n",
        "Quantconnect\n",
        "\n",
        "Introduction to Financial Python\n",
        "</div>\n",
        "\n",
        "# 03 Functions and Objective-Oriented Programming\n",
        "\n",
        "# Introduction\n",
        "\n",
        "In the last tutorial we introduced logical operations, loops and list comprehension. We will introduce functions and object-oriented programming in this chapter, which will enable us to build complex algorithms in more flexible ways.\n",
        "\n",
        "# Functions\n",
        "A function is a reusable block of code. We can use a function to output a value, or do anything else we want. We can easily define our own function by using the keyword \"def\"."
      ]
    },
    {
      "cell_type": "code",
      "metadata": {
        "colab": {
          "base_uri": "https://localhost:8080/"
        },
        "id": "eE_NkTiSO2PO",
        "outputId": "041c8376-cdc1-47d6-bbaa-1469675a0bf6"
      },
      "source": [
        "def product(x,y):\n",
        "    return x*y\n",
        "print(product(2,3))\n",
        "print(product(5,10))"
      ],
      "execution_count": 27,
      "outputs": [
        {
          "output_type": "stream",
          "name": "stdout",
          "text": [
            "6\n",
            "50\n"
          ]
        }
      ]
    },
    {
      "cell_type": "code",
      "metadata": {
        "colab": {
          "base_uri": "https://localhost:8080/"
        },
        "id": "JO9WUzt67I7v",
        "outputId": "0029c07a-b7bc-4e00-ec3e-658980faccdd"
      },
      "source": [
        "#Ejemplo\n",
        "def resta(x, y):\n",
        "    return x-y\n",
        "print(resta (7, 3))\n",
        "print(resta (2,4))"
      ],
      "execution_count": 28,
      "outputs": [
        {
          "output_type": "stream",
          "name": "stdout",
          "text": [
            "4\n",
            "-2\n"
          ]
        }
      ]
    },
    {
      "cell_type": "markdown",
      "metadata": {
        "id": "4oRU_dVJbsdD"
      },
      "source": [
        "The keyword \"def\" is followed by the function name and the parenthesized list of formal parameters. The statements that form the body of the function start at the next line, and must be indented. The product() function above has \"x\" and \"y\" as its parameters. A function doesn't necessarily have parameters:"
      ]
    },
    {
      "cell_type": "code",
      "metadata": {
        "colab": {
          "base_uri": "https://localhost:8080/"
        },
        "id": "JhdWVLbUO2PQ",
        "outputId": "bd87af3f-3971-4480-8ac5-94ec8afd9fd7"
      },
      "source": [
        "def say_hi():\n",
        "    print('Welcome to QuantConnect')\n",
        "say_hi()"
      ],
      "execution_count": 29,
      "outputs": [
        {
          "output_type": "stream",
          "name": "stdout",
          "text": [
            "Welcome to QuantConnect\n"
          ]
        }
      ]
    },
    {
      "cell_type": "code",
      "metadata": {
        "colab": {
          "base_uri": "https://localhost:8080/"
        },
        "id": "EHS-2TbG7YH2",
        "outputId": "81deb2af-5374-4591-c093-5ada5820d610"
      },
      "source": [
        "#Ejemplo\n",
        "def nombre(): print('Mi nombre es Siri')\n",
        "nombre()"
      ],
      "execution_count": 30,
      "outputs": [
        {
          "output_type": "stream",
          "name": "stdout",
          "text": [
            "Mi nombre es Siri\n"
          ]
        }
      ]
    },
    {
      "cell_type": "markdown",
      "metadata": {
        "id": "lHwqVpWVb1Jr"
      },
      "source": [
        "# Built-in Function\n",
        "**range()** is a function that creates a list containing an arithmetic sequence. It's often used in for loops. The arguments must be integers. If the \"step\" argument is omitted, it defaults to 1."
      ]
    },
    {
      "cell_type": "code",
      "metadata": {
        "colab": {
          "base_uri": "https://localhost:8080/"
        },
        "id": "VVOTELcIO2PQ",
        "outputId": "a197fc0d-f49a-437f-b2ca-cd66b84935fa"
      },
      "source": [
        "print(range(10))\n",
        "print(range(1,11))\n",
        "print(range(1,11,2))"
      ],
      "execution_count": 31,
      "outputs": [
        {
          "output_type": "stream",
          "name": "stdout",
          "text": [
            "range(0, 10)\n",
            "range(1, 11)\n",
            "range(1, 11, 2)\n"
          ]
        }
      ]
    },
    {
      "cell_type": "code",
      "metadata": {
        "colab": {
          "base_uri": "https://localhost:8080/"
        },
        "id": "za9y09vj7e-O",
        "outputId": "6661ba50-62a6-48c6-c7bf-7b5a84ecd964"
      },
      "source": [
        "#Ejemplo\n",
        "print(range(456))\n",
        "print(range(24,32))\n",
        "print(range(5,50,120))"
      ],
      "execution_count": 32,
      "outputs": [
        {
          "output_type": "stream",
          "name": "stdout",
          "text": [
            "range(0, 456)\n",
            "range(24, 32)\n",
            "range(5, 50, 120)\n"
          ]
        }
      ]
    },
    {
      "cell_type": "markdown",
      "metadata": {
        "id": "PD0cSgiwcQ4L"
      },
      "source": [
        "**len()** is another function used together with range() to create a for loop. This function returns the length of an object. The argument must be a sequence or a collection."
      ]
    },
    {
      "cell_type": "code",
      "metadata": {
        "colab": {
          "base_uri": "https://localhost:8080/"
        },
        "id": "Hg18c7v-O2PR",
        "outputId": "f75a6428-1293-4da5-82af-a5991d313e2d"
      },
      "source": [
        "tickers = ['AAPL','GOOG','IBM','FB','F','V', 'G', 'GE']\n",
        "print('The length of tickers is {}'.format(len(tickers)))\n",
        "for i in range(len(tickers)):\n",
        "    print(tickers[i])"
      ],
      "execution_count": 38,
      "outputs": [
        {
          "output_type": "stream",
          "name": "stdout",
          "text": [
            "The length of tickers is 8\n",
            "AAPL\n",
            "GOOG\n",
            "IBM\n",
            "FB\n",
            "F\n",
            "V\n",
            "G\n",
            "GE\n"
          ]
        }
      ]
    },
    {
      "cell_type": "code",
      "metadata": {
        "colab": {
          "base_uri": "https://localhost:8080/"
        },
        "id": "2eBVYU6U7t1m",
        "outputId": "c57fbd82-ccc4-45d1-d812-8d0e26defdef"
      },
      "source": [
        "#Ejemplo\n",
        "tickers_dos = ['a','b','c','d','e','f','g']\n",
        "print('The length of tickers_dos is {} '.format(len(tickers_dos)))\n",
        "for i_dos in range (len(tickers_dos)):\n",
        "  print(tickers_dos[i_dos])\n",
        "  "
      ],
      "execution_count": 42,
      "outputs": [
        {
          "output_type": "stream",
          "name": "stdout",
          "text": [
            "The length of tickers_dos is 7 \n",
            "a\n",
            "b\n",
            "c\n",
            "d\n",
            "e\n",
            "f\n",
            "g\n"
          ]
        }
      ]
    },
    {
      "cell_type": "markdown",
      "metadata": {
        "id": "OIQSuub1cWgi"
      },
      "source": [
        "Note: If you want to print only the tickers without those numbers, then simply write \"for ticker in tickers: print ticker\"\n",
        "\n",
        "**map(**) is a function that applies a specific function to every item of a sequence or collection, and returns a list of the results."
      ]
    },
    {
      "cell_type": "code",
      "metadata": {
        "colab": {
          "base_uri": "https://localhost:8080/"
        },
        "id": "78DyKVOyO2PR",
        "outputId": "fe2de342-b271-4196-fb46-8f8fa39d989e"
      },
      "source": [
        "\n",
        "for tickers in map(len,['AAPL','GOOG','IBM','FB','F','V', 'G', 'GE']):\n",
        "    print( tickers )\n"
      ],
      "execution_count": 43,
      "outputs": [
        {
          "output_type": "stream",
          "name": "stdout",
          "text": [
            "4\n",
            "4\n",
            "3\n",
            "2\n",
            "1\n",
            "1\n",
            "1\n",
            "2\n"
          ]
        }
      ]
    },
    {
      "cell_type": "code",
      "metadata": {
        "colab": {
          "base_uri": "https://localhost:8080/"
        },
        "id": "Rd1kiQ0l77i2",
        "outputId": "54fdd4ee-7c50-449f-92c8-f62c114bc82e"
      },
      "source": [
        "#Ejemplo\n",
        "for tickers_dos in map(len,['Uno','Dos','Tres','Cuatro','Cinco','Seis']):\n",
        "    print( tickers_dos )\n"
      ],
      "execution_count": 44,
      "outputs": [
        {
          "output_type": "stream",
          "name": "stdout",
          "text": [
            "3\n",
            "3\n",
            "4\n",
            "6\n",
            "5\n",
            "4\n"
          ]
        }
      ]
    },
    {
      "cell_type": "markdown",
      "metadata": {
        "id": "mvr06UM7ca7b"
      },
      "source": [
        "The **lambda operator** is a way to create small anonymous functions. These functions are just needed where they have been created. For example:"
      ]
    },
    {
      "cell_type": "code",
      "metadata": {
        "colab": {
          "base_uri": "https://localhost:8080/"
        },
        "id": "pAEHADYXO2PR",
        "outputId": "6834cc7e-005d-40ec-8d75-613c86ea2596"
      },
      "source": [
        "for sqrt  in map(lambda x: x**2,[0,1,2,3,4,5,6,7,8,9]):\n",
        "    print( sqrt )"
      ],
      "execution_count": 46,
      "outputs": [
        {
          "output_type": "stream",
          "name": "stdout",
          "text": [
            "0\n",
            "1\n",
            "4\n",
            "9\n",
            "16\n",
            "25\n",
            "36\n",
            "49\n",
            "64\n",
            "81\n"
          ]
        }
      ]
    },
    {
      "cell_type": "code",
      "metadata": {
        "colab": {
          "base_uri": "https://localhost:8080/"
        },
        "id": "CwYR5s2w8VMm",
        "outputId": "ab47b0a0-46e6-4c2d-8c99-e459d51542de"
      },
      "source": [
        "#Ejemplo\n",
        "for cube  in map(lambda x: x**3,[0,1,2,3,4,5,6,7,8,9]):\n",
        "    print( cube )"
      ],
      "execution_count": 47,
      "outputs": [
        {
          "output_type": "stream",
          "name": "stdout",
          "text": [
            "0\n",
            "1\n",
            "8\n",
            "27\n",
            "64\n",
            "125\n",
            "216\n",
            "343\n",
            "512\n",
            "729\n"
          ]
        }
      ]
    },
    {
      "cell_type": "markdown",
      "metadata": {
        "id": "Mgixpxomcj3T"
      },
      "source": [
        "map() can be applied to more than one list. The lists have to have the same length."
      ]
    },
    {
      "cell_type": "code",
      "metadata": {
        "colab": {
          "base_uri": "https://localhost:8080/"
        },
        "id": "HtckhAaJO2PS",
        "outputId": "1537755e-8e45-4fb9-e381-c8a49a70855a"
      },
      "source": [
        "for sum  in map(lambda x, y: x+y,[1,2,3,4,5],[5,4,3,2,1]):\n",
        "    print( sum )\n"
      ],
      "execution_count": 48,
      "outputs": [
        {
          "output_type": "stream",
          "name": "stdout",
          "text": [
            "6\n",
            "6\n",
            "6\n",
            "6\n",
            "6\n"
          ]
        }
      ]
    },
    {
      "cell_type": "code",
      "metadata": {
        "colab": {
          "base_uri": "https://localhost:8080/"
        },
        "id": "vZGjePho8eEX",
        "outputId": "18d69dc7-1e17-46f7-bde7-a2d23a25eb0e"
      },
      "source": [
        "#Ejemplo\n",
        "for rest  in map(lambda x, y: x-y,[8, 9],[10,9]):\n",
        "    print( rest )"
      ],
      "execution_count": 49,
      "outputs": [
        {
          "output_type": "stream",
          "name": "stdout",
          "text": [
            "-2\n",
            "0\n"
          ]
        }
      ]
    },
    {
      "cell_type": "markdown",
      "metadata": {
        "id": "ZDnMTH-KcklT"
      },
      "source": [
        "**sorted()** takes a list or set and returns a new sorted list"
      ]
    },
    {
      "cell_type": "code",
      "metadata": {
        "colab": {
          "base_uri": "https://localhost:8080/"
        },
        "id": "P0sHUMFWO2PS",
        "outputId": "1af474d2-3ab6-47af-e1f1-c0019466e95e"
      },
      "source": [
        "sorted([5,2,3,4,1])"
      ],
      "execution_count": 50,
      "outputs": [
        {
          "output_type": "execute_result",
          "data": {
            "text/plain": [
              "[1, 2, 3, 4, 5]"
            ]
          },
          "metadata": {},
          "execution_count": 50
        }
      ]
    },
    {
      "cell_type": "code",
      "metadata": {
        "colab": {
          "base_uri": "https://localhost:8080/"
        },
        "id": "jSs3Susr8qYP",
        "outputId": "b0121f5f-e85e-4049-ca9b-858d3e547aad"
      },
      "source": [
        "#Ejemplo\n",
        "sorted( [5,7,9,3,5,4,6,9,6,3,2,1,0,5,4] )"
      ],
      "execution_count": 51,
      "outputs": [
        {
          "output_type": "execute_result",
          "data": {
            "text/plain": [
              "[0, 1, 2, 3, 3, 4, 4, 5, 5, 5, 6, 6, 7, 9, 9]"
            ]
          },
          "metadata": {},
          "execution_count": 51
        }
      ]
    },
    {
      "cell_type": "markdown",
      "metadata": {
        "id": "-N5_EDOFcnsc"
      },
      "source": [
        "We can add a \"key\" parameter to specify a function to be called on each list element prior to making comparisons. For example:"
      ]
    },
    {
      "cell_type": "code",
      "metadata": {
        "colab": {
          "base_uri": "https://localhost:8080/"
        },
        "id": "0i3peZ0bO2PS",
        "outputId": "a37362a7-6fa8-4015-b4e1-2b432d1635b4"
      },
      "source": [
        "price_list = [('AAPL',144.09),('GOOG',911.71),('MSFT',69),('FB',150),('WMT',75.32)]\n",
        "sorted(price_list, key = lambda x: x[1])"
      ],
      "execution_count": 52,
      "outputs": [
        {
          "output_type": "execute_result",
          "data": {
            "text/plain": [
              "[('MSFT', 69), ('WMT', 75.32), ('AAPL', 144.09), ('FB', 150), ('GOOG', 911.71)]"
            ]
          },
          "metadata": {},
          "execution_count": 52
        }
      ]
    },
    {
      "cell_type": "code",
      "metadata": {
        "colab": {
          "base_uri": "https://localhost:8080/"
        },
        "id": "Fl75ik3N8xT4",
        "outputId": "35fb45bd-428e-4fa1-d6ac-f9c652f81383"
      },
      "source": [
        "#Ejemplo\n",
        "price_list_dos = [ ('Papas', 1000), ('Cafe', 2000), ('Chocolate', 2600), ('Leche', 4800), ('Huevos', 300) ]\n",
        "sorted( price_list_dos, key=lambda x: x[1] )"
      ],
      "execution_count": 53,
      "outputs": [
        {
          "output_type": "execute_result",
          "data": {
            "text/plain": [
              "[('Huevos', 300),\n",
              " ('Papas', 1000),\n",
              " ('Cafe', 2000),\n",
              " ('Chocolate', 2600),\n",
              " ('Leche', 4800)]"
            ]
          },
          "metadata": {},
          "execution_count": 53
        }
      ]
    },
    {
      "cell_type": "markdown",
      "metadata": {
        "id": "yun2zptKcxe_"
      },
      "source": [
        "By default the values are sorted by ascending order. We can change it to descending by adding an optional parameter \"reverse'."
      ]
    },
    {
      "cell_type": "code",
      "metadata": {
        "colab": {
          "base_uri": "https://localhost:8080/"
        },
        "id": "dEZqdl94O2PT",
        "outputId": "8907eefc-3c82-418e-a0e8-59c42eea49a0"
      },
      "source": [
        "price_list = [('AAPL',144.09),('GOOG',911.71),('MSFT',69),('FB',150),('WMT',75.32)]\n",
        "sorted(price_list, key = lambda x: x[1],reverse = True)"
      ],
      "execution_count": 54,
      "outputs": [
        {
          "output_type": "execute_result",
          "data": {
            "text/plain": [
              "[('GOOG', 911.71), ('FB', 150), ('AAPL', 144.09), ('WMT', 75.32), ('MSFT', 69)]"
            ]
          },
          "metadata": {},
          "execution_count": 54
        }
      ]
    },
    {
      "cell_type": "code",
      "metadata": {
        "colab": {
          "base_uri": "https://localhost:8080/"
        },
        "id": "QPNy_jFZ9IsQ",
        "outputId": "744f7932-b273-4bd2-f225-c7bc7bd264c0"
      },
      "source": [
        "#Ejemplo\n",
        "price_list_dos = [ ('Papas', 1000), ('Cafe', 2000), ('Chocolate', 2600), ('Leche', 4800), ('Huevos', 300) ]\n",
        "sorted( price_list_dos, key=lambda x: x[1],reverse = True,  )"
      ],
      "execution_count": 55,
      "outputs": [
        {
          "output_type": "execute_result",
          "data": {
            "text/plain": [
              "[('Leche', 4800),\n",
              " ('Chocolate', 2600),\n",
              " ('Cafe', 2000),\n",
              " ('Papas', 1000),\n",
              " ('Huevos', 300)]"
            ]
          },
          "metadata": {},
          "execution_count": 55
        }
      ]
    },
    {
      "cell_type": "markdown",
      "metadata": {
        "id": "OA2wYAa0c6Dn"
      },
      "source": [
        "Lists also have a function list.sort(). This function takes the same \"key\" and \"reverse\" arguments as sorted(), but it doesn't return a new list."
      ]
    },
    {
      "cell_type": "code",
      "metadata": {
        "colab": {
          "base_uri": "https://localhost:8080/"
        },
        "id": "pG9VQCLnO2PT",
        "outputId": "b4477dc7-ee11-4f24-bd9f-c1e7a82061a7"
      },
      "source": [
        "price_list = [('AAPL',144.09),('GOOG',911.71),('MSFT',69),('FB',150),('WMT',75.32)]\n",
        "price_list.sort(key = lambda x: x[1])\n",
        "print(price_list)"
      ],
      "execution_count": 56,
      "outputs": [
        {
          "output_type": "stream",
          "name": "stdout",
          "text": [
            "[('MSFT', 69), ('WMT', 75.32), ('AAPL', 144.09), ('FB', 150), ('GOOG', 911.71)]\n"
          ]
        }
      ]
    },
    {
      "cell_type": "code",
      "metadata": {
        "colab": {
          "base_uri": "https://localhost:8080/"
        },
        "id": "-nD7ldbW9OPu",
        "outputId": "d95fca9b-a194-4ea6-e623-8b7a03be3bab"
      },
      "source": [
        "#Ejemplo\n",
        "price_list_dos = [ ('Papas', 1000), ('Cafe', 2000), ('Chocolate', 2600), ('Leche', 4800), ('Huevos', 300) ]\n",
        "price_list_dos.sort(key=lambda x: x[1] )\n",
        "print(price_list_dos)"
      ],
      "execution_count": 57,
      "outputs": [
        {
          "output_type": "stream",
          "name": "stdout",
          "text": [
            "[('Huevos', 300), ('Papas', 1000), ('Cafe', 2000), ('Chocolate', 2600), ('Leche', 4800)]\n"
          ]
        }
      ]
    },
    {
      "cell_type": "markdown",
      "metadata": {
        "id": "mxljL1W1c_c5"
      },
      "source": [
        "# Object-Oriented Programming\n",
        "Python is an object-oriented programming language. It's important to understand the concept of \"objects\" because almost every kind of data from QuantConnect API is an object.\n",
        "\n",
        "## Class\n",
        "A class is a type of data, just like a string, float, or list. When we create an object of that data type, we call it an instance of a class.\n",
        "\n",
        "In Python, everything is an object - everything is an instance of some class. The data stored inside an object are called attributes, and the functions which are associated with the object are called methods.\n",
        "\n",
        "For example, as mentioned above, a list is an object of the \"list\" class, and it has a method list.sort().\n",
        "\n",
        "We can create our own objects by defining a class. We would do this when it's helpful to group certain functions together. For example, we define a class named \"Stock\" here:"
      ]
    },
    {
      "cell_type": "code",
      "metadata": {
        "id": "zC4Y4PgDO2PT"
      },
      "source": [
        "class stock:\n",
        "    def __init__(self, ticker, open, close, volume):\n",
        "        self.ticker = ticker\n",
        "        self.open = open\n",
        "        self.close = close\n",
        "        self.volume = volume\n",
        "        self.rate_return = float(close)/open - 1\n",
        " \n",
        "    def update(self, open, close):\n",
        "        self.open = open\n",
        "        self.close = close\n",
        "        self.rate_return = float(self.close)/self.open - 1\n",
        " \n",
        "    def print_return(self):\n",
        "        print(self.rate_return)"
      ],
      "execution_count": 58,
      "outputs": []
    },
    {
      "cell_type": "code",
      "metadata": {
        "id": "8dtNg_R39YKO"
      },
      "source": [
        "#Ejemplo\n",
        "class Carro:\n",
        "    def __init__(self, color, modelo, puestos, marca, motor):\n",
        "        self.color = color\n",
        "        self.modelo = modelo\n",
        "        self.puestos = puestos\n",
        "        self.marca = marca\n",
        "        self.motor = motor\n",
        "    def getColor(self):\n",
        "        return self.color\n",
        "    def getModelo(self):\n",
        "        return self.modelo\n",
        "    def getPuestos(self):\n",
        "        return self.puestos\n",
        "    def getMarca(self):\n",
        "        return self.marca\n",
        "    def getMotor(self):\n",
        "        return self.motor"
      ],
      "execution_count": 63,
      "outputs": []
    },
    {
      "cell_type": "markdown",
      "metadata": {
        "id": "rV06INT5dETi"
      },
      "source": [
        "The \"Stock\" class has attributes \"ticker\", \"open\", \"close\", \"volume\" and \"rate_return\". Inside the class body, the first method is called __init__, which is a special method. When we create a new instance of the class, the __init__ method is immediately executed with all the parameters that we pass to the \"Stock\" object. The purpose of this method is to set up a new \"Stock\" object using data we have provided.\n",
        "\n",
        "Here we create two Stock objects named \"apple\" and \"google\"."
      ]
    },
    {
      "cell_type": "code",
      "metadata": {
        "id": "8tIpNk93O2PU"
      },
      "source": [
        "apple = stock('AAPL', 143.69, 144.09, 20109375)\n",
        "google = stock('GOOG', 898.7, 911.7, 1561616)"
      ],
      "execution_count": 60,
      "outputs": []
    },
    {
      "cell_type": "code",
      "metadata": {
        "id": "r2SeiKCs93Eg"
      },
      "source": [
        "#Ejemplo\n",
        "carro_uno = Carro('rojo', 2020, 4, 'renault', 1600)\n",
        "carro_dos = Carro('azul', 2022, 2, 'kawazaki', 1000)"
      ],
      "execution_count": 64,
      "outputs": []
    },
    {
      "cell_type": "markdown",
      "metadata": {
        "id": "VxmELNiHdPKS"
      },
      "source": [
        "Stock objects also have two other methods: update() and print_return(). We can access the attribues of a Stock object and call its methods:"
      ]
    },
    {
      "cell_type": "code",
      "metadata": {
        "colab": {
          "base_uri": "https://localhost:8080/"
        },
        "id": "SsiIkmekO2PU",
        "outputId": "431e03c5-bd16-4cf3-f0aa-53ff1ebfa847"
      },
      "source": [
        "apple.ticker\n",
        "google.print_return()\n",
        "google.update(912.8,913.4)\n",
        "google.print_return()"
      ],
      "execution_count": 65,
      "outputs": [
        {
          "output_type": "stream",
          "name": "stdout",
          "text": [
            "0.014465338822744034\n",
            "0.0006573181419806673\n"
          ]
        }
      ]
    },
    {
      "cell_type": "code",
      "metadata": {
        "colab": {
          "base_uri": "https://localhost:8080/"
        },
        "id": "7nmB6zia-Brw",
        "outputId": "9c9954ce-3036-461f-8a1f-6c16223144c2"
      },
      "source": [
        "#Ejemplo\n",
        "print( carro_uno.getMarca(), carro_uno.getColor(), carro_uno.getModelo())\n",
        "print( carro_dos.getColor(), carro_dos.getMarca(), carro_dos.getMotor() )"
      ],
      "execution_count": 66,
      "outputs": [
        {
          "output_type": "stream",
          "name": "stdout",
          "text": [
            "renault rojo 2020\n",
            "azul kawazaki 1000\n"
          ]
        }
      ]
    },
    {
      "cell_type": "markdown",
      "metadata": {
        "id": "Q8fl7keNdVKF"
      },
      "source": [
        "By calling the update() function, we updated the open and close prices of a stock. Please note that when we use the attributes or call the methods **inside a class**, we need to specify them as self.attribute or self.method(), otherwise Python will deem them as global variables and thus raise an error.\n",
        "\n",
        "We can add an attribute to an object anywhere:"
      ]
    },
    {
      "cell_type": "code",
      "metadata": {
        "colab": {
          "base_uri": "https://localhost:8080/",
          "height": 36
        },
        "id": "rO4OLnqOO2PU",
        "outputId": "aa6e40cb-fb93-4c20-9abe-44df8893714c"
      },
      "source": [
        "apple.ceo = 'Tim Cook'\n",
        "apple.ceo"
      ],
      "execution_count": 67,
      "outputs": [
        {
          "output_type": "execute_result",
          "data": {
            "application/vnd.google.colaboratory.intrinsic+json": {
              "type": "string"
            },
            "text/plain": [
              "'Tim Cook'"
            ]
          },
          "metadata": {},
          "execution_count": 67
        }
      ]
    },
    {
      "cell_type": "code",
      "metadata": {
        "id": "-l0ljo0y-Pgu",
        "colab": {
          "base_uri": "https://localhost:8080/"
        },
        "outputId": "6818f7bf-96f3-4fe1-ab87-88028088beec"
      },
      "source": [
        "#Ejemplo\n",
        "carro_uno.puertas = 4\n",
        "print (carro_uno.puertas)\n",
        "carro_dos.puertas = 2\n",
        "print (carro_dos.puertas)"
      ],
      "execution_count": 70,
      "outputs": [
        {
          "output_type": "stream",
          "name": "stdout",
          "text": [
            "4\n",
            "2\n"
          ]
        }
      ]
    },
    {
      "cell_type": "markdown",
      "metadata": {
        "id": "WyfnFgVidh4J"
      },
      "source": [
        "We can check what names (i.e. attributes and methods) are defined on an object using the dir() function:"
      ]
    },
    {
      "cell_type": "code",
      "metadata": {
        "colab": {
          "base_uri": "https://localhost:8080/"
        },
        "id": "pPoz0LA8O2PU",
        "outputId": "9e079bdf-3bda-4603-aa44-dd3bbe92baff"
      },
      "source": [
        "dir(apple)"
      ],
      "execution_count": 71,
      "outputs": [
        {
          "output_type": "execute_result",
          "data": {
            "text/plain": [
              "['__class__',\n",
              " '__delattr__',\n",
              " '__dict__',\n",
              " '__dir__',\n",
              " '__doc__',\n",
              " '__eq__',\n",
              " '__format__',\n",
              " '__ge__',\n",
              " '__getattribute__',\n",
              " '__gt__',\n",
              " '__hash__',\n",
              " '__init__',\n",
              " '__init_subclass__',\n",
              " '__le__',\n",
              " '__lt__',\n",
              " '__module__',\n",
              " '__ne__',\n",
              " '__new__',\n",
              " '__reduce__',\n",
              " '__reduce_ex__',\n",
              " '__repr__',\n",
              " '__setattr__',\n",
              " '__sizeof__',\n",
              " '__str__',\n",
              " '__subclasshook__',\n",
              " '__weakref__',\n",
              " 'ceo',\n",
              " 'close',\n",
              " 'open',\n",
              " 'print_return',\n",
              " 'rate_return',\n",
              " 'ticker',\n",
              " 'update',\n",
              " 'volume']"
            ]
          },
          "metadata": {},
          "execution_count": 71
        }
      ]
    },
    {
      "cell_type": "code",
      "metadata": {
        "colab": {
          "base_uri": "https://localhost:8080/"
        },
        "id": "Z_h7ZwAm-W7N",
        "outputId": "4cde0332-8712-456c-ea3d-82bcbb55efce"
      },
      "source": [
        "#Ejemplo\n",
        "dir(carro_uno)"
      ],
      "execution_count": 72,
      "outputs": [
        {
          "output_type": "execute_result",
          "data": {
            "text/plain": [
              "['__class__',\n",
              " '__delattr__',\n",
              " '__dict__',\n",
              " '__dir__',\n",
              " '__doc__',\n",
              " '__eq__',\n",
              " '__format__',\n",
              " '__ge__',\n",
              " '__getattribute__',\n",
              " '__gt__',\n",
              " '__hash__',\n",
              " '__init__',\n",
              " '__init_subclass__',\n",
              " '__le__',\n",
              " '__lt__',\n",
              " '__module__',\n",
              " '__ne__',\n",
              " '__new__',\n",
              " '__reduce__',\n",
              " '__reduce_ex__',\n",
              " '__repr__',\n",
              " '__setattr__',\n",
              " '__sizeof__',\n",
              " '__str__',\n",
              " '__subclasshook__',\n",
              " '__weakref__',\n",
              " 'color',\n",
              " 'getColor',\n",
              " 'getMarca',\n",
              " 'getModelo',\n",
              " 'getMotor',\n",
              " 'getPuestos',\n",
              " 'marca',\n",
              " 'modelo',\n",
              " 'motor',\n",
              " 'puertas',\n",
              " 'puestos']"
            ]
          },
          "metadata": {},
          "execution_count": 72
        }
      ]
    },
    {
      "cell_type": "markdown",
      "metadata": {
        "id": "Qpemj1UZd2aa"
      },
      "source": [
        "## Inheritance\n",
        "Inheritance is a way of arranging classes in a hierarchy from the most general to the most specific. A \"child\" class is a more specific type of a \"parent\" class because a child class will inherit all the attribues and methods of its parent. For example, we define a class named \"Child\" which inherits \"Stock\":"
      ]
    },
    {
      "cell_type": "code",
      "metadata": {
        "id": "UELXnxomO2PV"
      },
      "source": [
        "class child(stock):\n",
        "    def __init__(self,name):\n",
        "        self.name = name"
      ],
      "execution_count": 73,
      "outputs": []
    },
    {
      "cell_type": "code",
      "metadata": {
        "colab": {
          "base_uri": "https://localhost:8080/"
        },
        "id": "ffS2THZyO2PV",
        "outputId": "832ef4e6-4f90-4f2d-bf52-148224c85889"
      },
      "source": [
        "aa = child('aa')\n",
        "print(aa.name)\n",
        "aa.update(100,102)\n",
        "print(aa.open)\n",
        "print(aa.close)\n",
        "print(aa.print_return())"
      ],
      "execution_count": 74,
      "outputs": [
        {
          "output_type": "stream",
          "name": "stdout",
          "text": [
            "aa\n",
            "100\n",
            "102\n",
            "0.020000000000000018\n",
            "None\n"
          ]
        }
      ]
    },
    {
      "cell_type": "code",
      "metadata": {
        "id": "ZasD92N4-gwW"
      },
      "source": [
        "#Ejemplo\n",
        "class CarroModificado(Carro):\n",
        "    def __init__(self):\n",
        "        self.marca = 'Chevrolet'\n",
        "        self.color = 'Morado'\n",
        "        self.modelo = '2025'"
      ],
      "execution_count": 75,
      "outputs": []
    },
    {
      "cell_type": "code",
      "metadata": {
        "colab": {
          "base_uri": "https://localhost:8080/"
        },
        "id": "HdCrdgmkLmCW",
        "outputId": "965c386d-8d5f-4085-eb21-caf73cd30c12"
      },
      "source": [
        "#Ejemplo\n",
        "carro_tres = CarroModificado()\n",
        "print(carro_tres.getMarca())\n",
        "print(carro_tres.getColor())\n",
        "print(carro_tres.getModelo())"
      ],
      "execution_count": 76,
      "outputs": [
        {
          "output_type": "stream",
          "name": "stdout",
          "text": [
            "Chevrolet\n",
            "Morado\n",
            "2025\n"
          ]
        }
      ]
    },
    {
      "cell_type": "markdown",
      "metadata": {
        "id": "pdIEjUv2eJqL"
      },
      "source": [
        "As seen above, the new class Child has inherited the methods from Stock.\n",
        "\n",
        "#Summary\n",
        "\n",
        "In this chapter we have introduced functions and classes. When we write a QuantConnect algorithm, we would define our algorithm as a class (QCAlgorithm). This means our algorithm inherited the QC API methods from QCAlgorithm class.\n",
        "\n",
        "In the next chapter, we will introduce NumPy and Pandas, which enable us to conduct scientific calculations in Python."
      ]
    },
    {
      "cell_type": "markdown",
      "metadata": {
        "id": "dQbENH6mexTd"
      },
      "source": [
        "<div align=\"center\">\n",
        "<img style=\"display: block; margin: auto;\" alt=\"photo\" src=\"https://cdn.quantconnect.com/web/i/icon.png\">\n",
        "\n",
        "Quantconnect\n",
        "\n",
        "Introduction to Financial Python\n",
        "</div>\n",
        "\n",
        "# 04 NumPy and Basic Pandas\n",
        "\n",
        "# Introduction\n",
        "\n",
        "Now that we have introduced the fundamentals of Python, it's time to learn about NumPy and Pandas.\n",
        "\n",
        "# NumPy\n",
        "NumPy is the core library for scientific computing in Python. It provides a high-performance multidimensional array object, and tools for working with these arrays. It also has strong integration with Pandas, which is another powerful tool for manipulating financial data.\n",
        "\n",
        "Python packages like NumPy and Pandas contain classes and methods which we can use by importing the package:"
      ]
    },
    {
      "cell_type": "code",
      "metadata": {
        "id": "aIESp-rdO58h"
      },
      "source": [
        "import numpy as np"
      ],
      "execution_count": 77,
      "outputs": []
    },
    {
      "cell_type": "markdown",
      "metadata": {
        "id": "GScHHJ5ke7ea"
      },
      "source": [
        "## Basic NumPy Arrays\n",
        "A NumPy array is a grid of values, all of the same type, and is indexed by a tuple of nonnegative integers. Here we make an array by passing a list of Apple stock prices:"
      ]
    },
    {
      "cell_type": "code",
      "metadata": {
        "colab": {
          "base_uri": "https://localhost:8080/"
        },
        "id": "lZI1wkwDO58i",
        "outputId": "c65f678a-650f-4227-8515-a6c5d535b3bf"
      },
      "source": [
        "price_list = [143.73, 145.83, 143.68, 144.02, 143.5, 142.62]\n",
        "price_array = np.array(price_list)\n",
        "print(price_array, type(price_array))"
      ],
      "execution_count": 78,
      "outputs": [
        {
          "output_type": "stream",
          "name": "stdout",
          "text": [
            "[143.73 145.83 143.68 144.02 143.5  142.62] <class 'numpy.ndarray'>\n"
          ]
        }
      ]
    },
    {
      "cell_type": "code",
      "metadata": {
        "colab": {
          "base_uri": "https://localhost:8080/"
        },
        "id": "AjURkBQzAXnW",
        "outputId": "9696dee0-11a3-4b09-bba2-a16e5ec7f7b9"
      },
      "source": [
        "#Ejemplo\n",
        "price_list_dos = [145, 562.1, 210.5, 12.9, 156.2, 999.9]\n",
        "price_array_dos = np.array(price_list_dos)\n",
        "print(price_array_dos, type(price_array_dos))"
      ],
      "execution_count": 79,
      "outputs": [
        {
          "output_type": "stream",
          "name": "stdout",
          "text": [
            "[145.  562.1 210.5  12.9 156.2 999.9] <class 'numpy.ndarray'>\n"
          ]
        }
      ]
    },
    {
      "cell_type": "markdown",
      "metadata": {
        "id": "-5Yj6u9ifB-t"
      },
      "source": [
        "Notice that the type of array is \"ndarray\" which is a multi-dimensional array. If we pass np.array() a list of lists, it will create a 2-dimensional array."
      ]
    },
    {
      "cell_type": "code",
      "metadata": {
        "colab": {
          "base_uri": "https://localhost:8080/"
        },
        "id": "obvIZrK-O58j",
        "outputId": "2da301b6-54f5-49c2-f0fd-1c7bc9f471c2"
      },
      "source": [
        "Ar = np.array([[1,3],[2,4]])\n",
        "print(Ar, type(Ar))"
      ],
      "execution_count": 80,
      "outputs": [
        {
          "output_type": "stream",
          "name": "stdout",
          "text": [
            "[[1 3]\n",
            " [2 4]] <class 'numpy.ndarray'>\n"
          ]
        }
      ]
    },
    {
      "cell_type": "code",
      "metadata": {
        "colab": {
          "base_uri": "https://localhost:8080/"
        },
        "id": "XoP7YxpGApiN",
        "outputId": "a6f31426-d68c-4adb-93f2-ef5b72c8be1c"
      },
      "source": [
        "#Ejemplo\n",
        "Ar_dos = np.array([ [1, 2, 3], [4, 5, 6], [7, 8, 9] ])\n",
        "print(Ar_dos, type(Ar_dos))"
      ],
      "execution_count": 81,
      "outputs": [
        {
          "output_type": "stream",
          "name": "stdout",
          "text": [
            "[[1 2 3]\n",
            " [4 5 6]\n",
            " [7 8 9]] <class 'numpy.ndarray'>\n"
          ]
        }
      ]
    },
    {
      "cell_type": "markdown",
      "metadata": {
        "id": "uDdfLD9HfHkl"
      },
      "source": [
        "We get the dimensions of an ndarray using the .shape attribute:"
      ]
    },
    {
      "cell_type": "code",
      "metadata": {
        "colab": {
          "base_uri": "https://localhost:8080/"
        },
        "id": "G2txdn73O58j",
        "outputId": "4b676d85-791c-4754-e794-292e6edb091f"
      },
      "source": [
        "print(Ar.shape)"
      ],
      "execution_count": 82,
      "outputs": [
        {
          "output_type": "stream",
          "name": "stdout",
          "text": [
            "(2, 2)\n"
          ]
        }
      ]
    },
    {
      "cell_type": "code",
      "metadata": {
        "colab": {
          "base_uri": "https://localhost:8080/"
        },
        "id": "u1luNAdQA98s",
        "outputId": "3fb382a4-8ac1-43e7-d177-d7bf9716b5cb"
      },
      "source": [
        "#Ejemplo\n",
        "print(Ar_dos.shape)  "
      ],
      "execution_count": 83,
      "outputs": [
        {
          "output_type": "stream",
          "name": "stdout",
          "text": [
            "(3, 3)\n"
          ]
        }
      ]
    },
    {
      "cell_type": "markdown",
      "metadata": {
        "id": "87W5ueORfPEy"
      },
      "source": [
        "If we create an 2-dimensional array (i.e. matrix), each row can be accessed by index:"
      ]
    },
    {
      "cell_type": "code",
      "metadata": {
        "colab": {
          "base_uri": "https://localhost:8080/"
        },
        "id": "x_QV9aPbO58j",
        "outputId": "c26d8acb-adf3-4a8b-cd56-75cd0c769d96"
      },
      "source": [
        "print(Ar[0])\n",
        "print(Ar[1])"
      ],
      "execution_count": 84,
      "outputs": [
        {
          "output_type": "stream",
          "name": "stdout",
          "text": [
            "[1 3]\n",
            "[2 4]\n"
          ]
        }
      ]
    },
    {
      "cell_type": "code",
      "metadata": {
        "colab": {
          "base_uri": "https://localhost:8080/"
        },
        "id": "1gyy8w8bBHKl",
        "outputId": "53a26e5c-6f27-46b7-9a7b-0a7738e0e3d7"
      },
      "source": [
        "#Ejemplo\n",
        "print(Ar_dos[0])\n",
        "print(Ar_dos[1])\n",
        "print(Ar_dos[2])"
      ],
      "execution_count": 85,
      "outputs": [
        {
          "output_type": "stream",
          "name": "stdout",
          "text": [
            "[1 2 3]\n",
            "[4 5 6]\n",
            "[7 8 9]\n"
          ]
        }
      ]
    },
    {
      "cell_type": "markdown",
      "metadata": {
        "id": "5Hke7Vt-fSGB"
      },
      "source": [
        "If we want to access the matrix by column instead:"
      ]
    },
    {
      "cell_type": "code",
      "metadata": {
        "colab": {
          "base_uri": "https://localhost:8080/"
        },
        "id": "gHVwbPfOO58j",
        "outputId": "e5c80fb5-44e3-4dc5-9047-0f3d6be8d7b2"
      },
      "source": [
        "print('the first column: ', Ar[:,0])\n",
        "print('the second column: ', Ar[:,1])"
      ],
      "execution_count": 86,
      "outputs": [
        {
          "output_type": "stream",
          "name": "stdout",
          "text": [
            "the first column:  [1 2]\n",
            "the second column:  [3 4]\n"
          ]
        }
      ]
    },
    {
      "cell_type": "code",
      "metadata": {
        "colab": {
          "base_uri": "https://localhost:8080/"
        },
        "id": "ApReOyRgBQuu",
        "outputId": "0bb73614-fb49-48ab-8871-6e87d8db4be6"
      },
      "source": [
        "#Ejemplo\n",
        "print('Primera Columna: ', Ar_dos[:,0])\n",
        "print('Segunda Columna: ', Ar_dos[:,1])\n",
        "print('Tercera Columna: ', Ar_dos[:,2])"
      ],
      "execution_count": 87,
      "outputs": [
        {
          "output_type": "stream",
          "name": "stdout",
          "text": [
            "Primera Columna:  [1 4 7]\n",
            "Segunda Columna:  [2 5 8]\n",
            "Tercera Columna:  [3 6 9]\n"
          ]
        }
      ]
    },
    {
      "cell_type": "markdown",
      "metadata": {
        "id": "T61cD0HMfStB"
      },
      "source": [
        "## Array Functions\n",
        "Some functions built in NumPy that allow us to perform calculations on arrays. For example, we can apply the natural logarithm to each element of an array:"
      ]
    },
    {
      "cell_type": "code",
      "metadata": {
        "colab": {
          "base_uri": "https://localhost:8080/"
        },
        "id": "PKhwtJ7XO58k",
        "outputId": "7c5321c8-fff6-4f3c-d5c3-c91c60a1f9e1"
      },
      "source": [
        "print(np.log(price_array))"
      ],
      "execution_count": 88,
      "outputs": [
        {
          "output_type": "stream",
          "name": "stdout",
          "text": [
            "[4.96793654 4.98244156 4.9675886  4.96995218 4.96633504 4.96018375]\n"
          ]
        }
      ]
    },
    {
      "cell_type": "code",
      "metadata": {
        "colab": {
          "base_uri": "https://localhost:8080/"
        },
        "id": "5tKoeKIoBfv9",
        "outputId": "687187de-963a-4af8-ca90-ca07a8fde428"
      },
      "source": [
        "#Ejemplo\n",
        "print(np.log(price_array_dos))"
      ],
      "execution_count": 89,
      "outputs": [
        {
          "output_type": "stream",
          "name": "stdout",
          "text": [
            "[4.97673374 6.33167977 5.34948565 2.55722731 5.05113724 6.90765527]\n"
          ]
        }
      ]
    },
    {
      "cell_type": "markdown",
      "metadata": {
        "id": "uzjBRFBLfZ-D"
      },
      "source": [
        "Other functions return a single value:"
      ]
    },
    {
      "cell_type": "code",
      "metadata": {
        "colab": {
          "base_uri": "https://localhost:8080/"
        },
        "id": "nQuABZqUO58k",
        "outputId": "ce86c6e8-6b1b-4e74-fa92-1b5d094b51f4"
      },
      "source": [
        "print(np.mean(price_array))\n",
        "print(np.std(price_array))\n",
        "print(np.sum(price_array))\n",
        "print(np.max(price_array))"
      ],
      "execution_count": 90,
      "outputs": [
        {
          "output_type": "stream",
          "name": "stdout",
          "text": [
            "143.89666666666668\n",
            "0.9673790478515796\n",
            "863.38\n",
            "145.83\n"
          ]
        }
      ]
    },
    {
      "cell_type": "code",
      "metadata": {
        "colab": {
          "base_uri": "https://localhost:8080/"
        },
        "id": "DKbgvQURBwNn",
        "outputId": "9fc4414a-a2f6-4f6f-8770-082012774508"
      },
      "source": [
        "#Ejemplo\n",
        "print(np.mean(price_array_dos))\n",
        "print(np.std(price_array_dos))\n",
        "print(np.sum(price_array_dos))\n",
        "print(np.max(price_array_dos))"
      ],
      "execution_count": 91,
      "outputs": [
        {
          "output_type": "stream",
          "name": "stdout",
          "text": [
            "347.76666666666665\n",
            "336.65179670131306\n",
            "2086.6\n",
            "999.9\n"
          ]
        }
      ]
    },
    {
      "cell_type": "markdown",
      "metadata": {
        "id": "IRW95BsifgDB"
      },
      "source": [
        "The functions above return the mean, standard deviation, total and maximum value of an array.\n",
        "\n",
        "# Pandas\n",
        "Pandas is one of the most powerful tools for dealing with financial data. \n",
        "\n",
        "First we need to import Pandas:"
      ]
    },
    {
      "cell_type": "code",
      "metadata": {
        "id": "xIYH4oUfO58k"
      },
      "source": [
        "import pandas as pd"
      ],
      "execution_count": 92,
      "outputs": []
    },
    {
      "cell_type": "markdown",
      "metadata": {
        "id": "zOig5gORfnJU"
      },
      "source": [
        "## Series\n",
        "Series is a one-dimensional labeled array capable of holding any data type (integers, strings, float, Python object, etc.)\n",
        "\n",
        "We create a Series by calling pd.Series(data), where data can be a dictionary, an array or just a scalar value."
      ]
    },
    {
      "cell_type": "code",
      "metadata": {
        "colab": {
          "base_uri": "https://localhost:8080/"
        },
        "id": "JmzoNzrPO58k",
        "outputId": "6cdab4b2-000e-4910-d970-bb50aee9d45c"
      },
      "source": [
        "price = [143.73, 145.83, 143.68, 144.02, 143.5, 142.62]\n",
        "s = pd.Series(price)\n",
        "s"
      ],
      "execution_count": 102,
      "outputs": [
        {
          "output_type": "execute_result",
          "data": {
            "text/plain": [
              "0    143.73\n",
              "1    145.83\n",
              "2    143.68\n",
              "3    144.02\n",
              "4    143.50\n",
              "5    142.62\n",
              "dtype: float64"
            ]
          },
          "metadata": {},
          "execution_count": 102
        }
      ]
    },
    {
      "cell_type": "code",
      "metadata": {
        "colab": {
          "base_uri": "https://localhost:8080/"
        },
        "id": "tRTdUfsNCCxl",
        "outputId": "a7ed0864-46b0-4166-9ad6-8985651af848"
      },
      "source": [
        "#Ejemplo\n",
        "s_dos = pd.Series(price_array_dos)\n",
        "print(s_dos)"
      ],
      "execution_count": 103,
      "outputs": [
        {
          "output_type": "stream",
          "name": "stdout",
          "text": [
            "0    145.0\n",
            "1    562.1\n",
            "2    210.5\n",
            "3     12.9\n",
            "4    156.2\n",
            "5    999.9\n",
            "dtype: float64\n"
          ]
        }
      ]
    },
    {
      "cell_type": "markdown",
      "metadata": {
        "id": "tP5iDnunfq46"
      },
      "source": [
        "We can customize the indices of a new Series:"
      ]
    },
    {
      "cell_type": "code",
      "metadata": {
        "colab": {
          "base_uri": "https://localhost:8080/"
        },
        "id": "eswQC3ZPO58l",
        "outputId": "b1f6cbba-484e-42a0-b59d-0d5a0cda1e6f"
      },
      "source": [
        "s = pd.Series(price,index = ['a','b','c','d','e','f'])\n",
        "s"
      ],
      "execution_count": 104,
      "outputs": [
        {
          "output_type": "execute_result",
          "data": {
            "text/plain": [
              "a    143.73\n",
              "b    145.83\n",
              "c    143.68\n",
              "d    144.02\n",
              "e    143.50\n",
              "f    142.62\n",
              "dtype: float64"
            ]
          },
          "metadata": {},
          "execution_count": 104
        }
      ]
    },
    {
      "cell_type": "code",
      "metadata": {
        "colab": {
          "base_uri": "https://localhost:8080/"
        },
        "id": "QWWf6P-SCQi5",
        "outputId": "d808957a-6688-42f8-a2cc-204590d5632c"
      },
      "source": [
        "#Ejemplo\n",
        "s_dos = pd.Series(price_array_dos, index=['00','01','02','03','04','05'])\n",
        "print(s_dos)"
      ],
      "execution_count": 105,
      "outputs": [
        {
          "output_type": "stream",
          "name": "stdout",
          "text": [
            "00    145.0\n",
            "01    562.1\n",
            "02    210.5\n",
            "03     12.9\n",
            "04    156.2\n",
            "05    999.9\n",
            "dtype: float64\n"
          ]
        }
      ]
    },
    {
      "cell_type": "markdown",
      "metadata": {
        "id": "wdZrb8pEfuua"
      },
      "source": [
        "Or we can change the indices of an existing Series:"
      ]
    },
    {
      "cell_type": "code",
      "metadata": {
        "colab": {
          "base_uri": "https://localhost:8080/"
        },
        "id": "MwlRnPF6O58l",
        "outputId": "2b2f11e9-21ff-4c24-bcc8-7647dcf37123"
      },
      "source": [
        "s.index = [6,5,4,3,2,1]\n",
        "s"
      ],
      "execution_count": 106,
      "outputs": [
        {
          "output_type": "execute_result",
          "data": {
            "text/plain": [
              "6    143.73\n",
              "5    145.83\n",
              "4    143.68\n",
              "3    144.02\n",
              "2    143.50\n",
              "1    142.62\n",
              "dtype: float64"
            ]
          },
          "metadata": {},
          "execution_count": 106
        }
      ]
    },
    {
      "cell_type": "code",
      "metadata": {
        "colab": {
          "base_uri": "https://localhost:8080/"
        },
        "id": "mx9OgtQDCmq9",
        "outputId": "e8344c6a-816b-47ea-f6a5-1ddb3e5b7a4c"
      },
      "source": [
        "#Ejemplo\n",
        "s_dos.index = ['a',2,'c',4,'e',6]\n",
        "s_dos"
      ],
      "execution_count": 107,
      "outputs": [
        {
          "output_type": "execute_result",
          "data": {
            "text/plain": [
              "a    145.0\n",
              "2    562.1\n",
              "c    210.5\n",
              "4     12.9\n",
              "e    156.2\n",
              "6    999.9\n",
              "dtype: float64"
            ]
          },
          "metadata": {},
          "execution_count": 107
        }
      ]
    },
    {
      "cell_type": "markdown",
      "metadata": {
        "id": "6cGNQZwLfxIz"
      },
      "source": [
        "Series is like a list since it can be sliced by index:"
      ]
    },
    {
      "cell_type": "code",
      "metadata": {
        "colab": {
          "base_uri": "https://localhost:8080/"
        },
        "id": "N9bBSg6cO58l",
        "outputId": "cdd2751e-7518-43b6-eb14-02f2a4b3c165"
      },
      "source": [
        "print(s[1:])\n",
        "print(s[:-2])"
      ],
      "execution_count": 108,
      "outputs": [
        {
          "output_type": "stream",
          "name": "stdout",
          "text": [
            "5    145.83\n",
            "4    143.68\n",
            "3    144.02\n",
            "2    143.50\n",
            "1    142.62\n",
            "dtype: float64\n",
            "6    143.73\n",
            "5    145.83\n",
            "4    143.68\n",
            "3    144.02\n",
            "dtype: float64\n"
          ]
        }
      ]
    },
    {
      "cell_type": "code",
      "metadata": {
        "colab": {
          "base_uri": "https://localhost:8080/"
        },
        "id": "HSTHWwv5C67E",
        "outputId": "ee8a50b4-09d5-455c-ba4c-dbe461dd3716"
      },
      "source": [
        "#Ejemplo\n",
        "print(s_dos[2:])\n",
        "print(s_dos[:-1])"
      ],
      "execution_count": 109,
      "outputs": [
        {
          "output_type": "stream",
          "name": "stdout",
          "text": [
            "c    210.5\n",
            "4     12.9\n",
            "e    156.2\n",
            "6    999.9\n",
            "dtype: float64\n",
            "a    145.0\n",
            "2    562.1\n",
            "c    210.5\n",
            "4     12.9\n",
            "e    156.2\n",
            "dtype: float64\n"
          ]
        }
      ]
    },
    {
      "cell_type": "markdown",
      "metadata": {
        "id": "5V25nViZfz3Z"
      },
      "source": [
        "Series is also like a dictionary whose values can be set or fetched by index label:"
      ]
    },
    {
      "cell_type": "code",
      "metadata": {
        "colab": {
          "base_uri": "https://localhost:8080/"
        },
        "id": "b3Y0kKGYO58l",
        "outputId": "14d45c99-1523-489f-b406-34b4b027f3b7"
      },
      "source": [
        "print(s[4])\n",
        "s[4] = 0\n",
        "print(s)"
      ],
      "execution_count": 110,
      "outputs": [
        {
          "output_type": "stream",
          "name": "stdout",
          "text": [
            "143.68\n",
            "6    143.73\n",
            "5    145.83\n",
            "4      0.00\n",
            "3    144.02\n",
            "2    143.50\n",
            "1    142.62\n",
            "dtype: float64\n"
          ]
        }
      ]
    },
    {
      "cell_type": "code",
      "metadata": {
        "colab": {
          "base_uri": "https://localhost:8080/"
        },
        "id": "1SCIMBf_DJgV",
        "outputId": "20adcc69-f5e3-49f6-f6d8-bf8da808b5e7"
      },
      "source": [
        "#Ejemplo\n",
        "print(s_dos['c'])\n",
        "s_dos[4] = 123.123\n",
        "print(s_dos)"
      ],
      "execution_count": 115,
      "outputs": [
        {
          "output_type": "stream",
          "name": "stdout",
          "text": [
            "210.5\n",
            "a    145.000\n",
            "2    562.100\n",
            "c    210.500\n",
            "4    123.123\n",
            "e    156.200\n",
            "6    999.900\n",
            "dtype: float64\n"
          ]
        }
      ]
    },
    {
      "cell_type": "markdown",
      "metadata": {
        "id": "RQ1P7Gkyf060"
      },
      "source": [
        "Series can also have a name attribute, which will be used when we make up a Pandas DataFrame using several series."
      ]
    },
    {
      "cell_type": "code",
      "metadata": {
        "colab": {
          "base_uri": "https://localhost:8080/"
        },
        "id": "ZeD4-p7KO58m",
        "outputId": "a739b652-3a48-4062-84c7-e23b98bf978c"
      },
      "source": [
        "s = pd.Series(price, name = 'Apple Price List')\n",
        "print(s)\n",
        "print(s.name)"
      ],
      "execution_count": 116,
      "outputs": [
        {
          "output_type": "stream",
          "name": "stdout",
          "text": [
            "0    143.73\n",
            "1    145.83\n",
            "2    143.68\n",
            "3    144.02\n",
            "4    143.50\n",
            "5    142.62\n",
            "Name: Apple Price List, dtype: float64\n",
            "Apple Price List\n"
          ]
        }
      ]
    },
    {
      "cell_type": "code",
      "metadata": {
        "colab": {
          "base_uri": "https://localhost:8080/"
        },
        "id": "xZWmiyOoGeaD",
        "outputId": "c6ac93d9-9333-4fb4-9690-a21c6c080b7f"
      },
      "source": [
        "#Ejemplo\n",
        "s_dos = pd.Series( price_array_dos, name='Precios productos' )\n",
        "print(s_dos)\n",
        "print(s_dos.name)"
      ],
      "execution_count": 117,
      "outputs": [
        {
          "output_type": "stream",
          "name": "stdout",
          "text": [
            "0    145.000\n",
            "1    562.100\n",
            "2    210.500\n",
            "3    123.123\n",
            "4    156.200\n",
            "5    999.900\n",
            "Name: Precios productos, dtype: float64\n",
            "Precios productos\n"
          ]
        }
      ]
    },
    {
      "cell_type": "markdown",
      "metadata": {
        "id": "geJb1pGHf5Et"
      },
      "source": [
        "We can get the statistical summaries of a Series:"
      ]
    },
    {
      "cell_type": "code",
      "metadata": {
        "colab": {
          "base_uri": "https://localhost:8080/"
        },
        "id": "mGPtFcjegm4i",
        "outputId": "28dca025-22e7-4d8c-af5a-494a920c648c"
      },
      "source": [
        "print(s.describe())"
      ],
      "execution_count": 118,
      "outputs": [
        {
          "output_type": "stream",
          "name": "stdout",
          "text": [
            "count      6.000000\n",
            "mean     143.896667\n",
            "std        1.059711\n",
            "min      142.620000\n",
            "25%      143.545000\n",
            "50%      143.705000\n",
            "75%      143.947500\n",
            "max      145.830000\n",
            "Name: Apple Price List, dtype: float64\n"
          ]
        }
      ]
    },
    {
      "cell_type": "code",
      "metadata": {
        "colab": {
          "base_uri": "https://localhost:8080/"
        },
        "id": "nRZQ9eHUGrju",
        "outputId": "9a792c57-4e8d-4450-fa07-4df13be366c8"
      },
      "source": [
        "#Ejemplo\n",
        "print(s_dos.describe())"
      ],
      "execution_count": 119,
      "outputs": [
        {
          "output_type": "stream",
          "name": "stdout",
          "text": [
            "count      6.000000\n",
            "mean     366.137167\n",
            "std      351.087121\n",
            "min      123.123000\n",
            "25%      147.800000\n",
            "50%      183.350000\n",
            "75%      474.200000\n",
            "max      999.900000\n",
            "Name: Precios productos, dtype: float64\n"
          ]
        }
      ]
    },
    {
      "cell_type": "markdown",
      "metadata": {
        "id": "LkdZu-CDgvlR"
      },
      "source": [
        "## Time Index\n",
        "Pandas has a built-in function specifically for creating date indices: pd.date_range(). We use it to create a new index for our Series:"
      ]
    },
    {
      "cell_type": "code",
      "metadata": {
        "colab": {
          "base_uri": "https://localhost:8080/"
        },
        "id": "HJe5hU4zO58m",
        "outputId": "78c93279-1621-4d36-fac6-b849f67b3df4"
      },
      "source": [
        "time_index = pd.date_range('2017-01-01',periods = len(s),freq = 'D')\n",
        "print(time_index)\n",
        "s.index = time_index\n",
        "print(s)"
      ],
      "execution_count": 120,
      "outputs": [
        {
          "output_type": "stream",
          "name": "stdout",
          "text": [
            "DatetimeIndex(['2017-01-01', '2017-01-02', '2017-01-03', '2017-01-04',\n",
            "               '2017-01-05', '2017-01-06'],\n",
            "              dtype='datetime64[ns]', freq='D')\n",
            "2017-01-01    143.73\n",
            "2017-01-02    145.83\n",
            "2017-01-03    143.68\n",
            "2017-01-04    144.02\n",
            "2017-01-05    143.50\n",
            "2017-01-06    142.62\n",
            "Freq: D, Name: Apple Price List, dtype: float64\n"
          ]
        }
      ]
    },
    {
      "cell_type": "code",
      "metadata": {
        "colab": {
          "base_uri": "https://localhost:8080/"
        },
        "id": "jrkMG3ywGzTE",
        "outputId": "08133c07-49fb-41f2-af30-34e0534b690c"
      },
      "source": [
        "#Ejemplo\n",
        "timeIndex = pd.date_range( '2020-03-21', periods = len(s_dos), freq = 'D' )\n",
        "print(timeIndex)\n",
        "s_dos.index = timeIndex\n",
        "print(s_dos)"
      ],
      "execution_count": 121,
      "outputs": [
        {
          "output_type": "stream",
          "name": "stdout",
          "text": [
            "DatetimeIndex(['2020-03-21', '2020-03-22', '2020-03-23', '2020-03-24',\n",
            "               '2020-03-25', '2020-03-26'],\n",
            "              dtype='datetime64[ns]', freq='D')\n",
            "2020-03-21    145.000\n",
            "2020-03-22    562.100\n",
            "2020-03-23    210.500\n",
            "2020-03-24    123.123\n",
            "2020-03-25    156.200\n",
            "2020-03-26    999.900\n",
            "Freq: D, Name: Precios productos, dtype: float64\n"
          ]
        }
      ]
    },
    {
      "cell_type": "markdown",
      "metadata": {
        "id": "7WedejFZg19J"
      },
      "source": [
        "Series are usually accessed using the iloc[] and loc[] methods. iloc[] is used to access elements by integer index, and loc[] is used to access the index of the series.\n",
        "\n",
        "iloc[] is necessary when the index of a series are integers, take our previous defined series as example:"
      ]
    },
    {
      "cell_type": "code",
      "metadata": {
        "colab": {
          "base_uri": "https://localhost:8080/"
        },
        "id": "KrVSOyMvO58m",
        "outputId": "64eb7ffd-0ce5-490c-e719-37201be53e43"
      },
      "source": [
        "s.index = [6,5,4,3,2,1]\n",
        "print(s)\n",
        "print(s[1])"
      ],
      "execution_count": 122,
      "outputs": [
        {
          "output_type": "stream",
          "name": "stdout",
          "text": [
            "6    143.73\n",
            "5    145.83\n",
            "4    143.68\n",
            "3    144.02\n",
            "2    143.50\n",
            "1    142.62\n",
            "Name: Apple Price List, dtype: float64\n",
            "142.62\n"
          ]
        }
      ]
    },
    {
      "cell_type": "code",
      "metadata": {
        "colab": {
          "base_uri": "https://localhost:8080/"
        },
        "id": "z0hogvceHXYk",
        "outputId": "faaf1b30-e1ec-4839-9592-b106bfa5f271"
      },
      "source": [
        "#Ejemplo\n",
        "s_dos.index = ['I','II','III','IV','V','VI']\n",
        "print(s_dos)\n",
        "print(s_dos['V'])"
      ],
      "execution_count": 123,
      "outputs": [
        {
          "output_type": "stream",
          "name": "stdout",
          "text": [
            "I      145.000\n",
            "II     562.100\n",
            "III    210.500\n",
            "IV     123.123\n",
            "V      156.200\n",
            "VI     999.900\n",
            "Name: Precios productos, dtype: float64\n",
            "156.2\n"
          ]
        }
      ]
    },
    {
      "cell_type": "markdown",
      "metadata": {
        "id": "r30VKPtpg61p"
      },
      "source": [
        "If we intended to take the second element of the series, we would make a mistake here, because the index are integers. In order to access to the element we want, we use iloc[] here:"
      ]
    },
    {
      "cell_type": "code",
      "metadata": {
        "colab": {
          "base_uri": "https://localhost:8080/"
        },
        "id": "bHukfaAmO58m",
        "outputId": "1b490c54-45a6-444d-af1e-489f6cfcd14c"
      },
      "source": [
        "print(s.iloc[1])"
      ],
      "execution_count": 124,
      "outputs": [
        {
          "output_type": "stream",
          "name": "stdout",
          "text": [
            "145.83\n"
          ]
        }
      ]
    },
    {
      "cell_type": "code",
      "metadata": {
        "colab": {
          "base_uri": "https://localhost:8080/"
        },
        "id": "74XD0JtZHpHw",
        "outputId": "0aea49a6-f073-4c30-efa7-5d2bbaeb117c"
      },
      "source": [
        "#Ejemplo\n",
        "print(s_dos.iloc[2]) "
      ],
      "execution_count": 126,
      "outputs": [
        {
          "output_type": "stream",
          "name": "stdout",
          "text": [
            "210.5\n"
          ]
        }
      ]
    },
    {
      "cell_type": "markdown",
      "metadata": {
        "id": "kHVBRL_Rg84j"
      },
      "source": [
        "While working with time series data, we often use time as the index. Pandas provides us with various methods to access the data by time index"
      ]
    },
    {
      "cell_type": "code",
      "metadata": {
        "colab": {
          "base_uri": "https://localhost:8080/"
        },
        "id": "FCf8Hg7jO58n",
        "outputId": "38129223-5d53-4efe-ff18-aa318c0ae80a"
      },
      "source": [
        "s.index = time_index\n",
        "print(s['2017-01-03'])"
      ],
      "execution_count": 127,
      "outputs": [
        {
          "output_type": "stream",
          "name": "stdout",
          "text": [
            "143.68\n"
          ]
        }
      ]
    },
    {
      "cell_type": "code",
      "metadata": {
        "colab": {
          "base_uri": "https://localhost:8080/"
        },
        "id": "9BAV4BPEHwtN",
        "outputId": "fa7943de-0da9-4f22-dd8c-776e76674afd"
      },
      "source": [
        "#Ejemplo\n",
        "s_dos.index = timeIndex\n",
        "print(s_dos['2020-03-23'])"
      ],
      "execution_count": 129,
      "outputs": [
        {
          "output_type": "stream",
          "name": "stdout",
          "text": [
            "210.5\n"
          ]
        }
      ]
    },
    {
      "cell_type": "markdown",
      "metadata": {
        "id": "XJXcrSFpg-To"
      },
      "source": [
        "We can even access to a range of dates:"
      ]
    },
    {
      "cell_type": "code",
      "metadata": {
        "colab": {
          "base_uri": "https://localhost:8080/"
        },
        "id": "NsE-Lr_9O58n",
        "outputId": "8d45fc78-5d92-4e43-f60c-e939951ada7f"
      },
      "source": [
        "print(s['2017-01-02':'2017-01-05'])"
      ],
      "execution_count": 131,
      "outputs": [
        {
          "output_type": "stream",
          "name": "stdout",
          "text": [
            "2017-01-02    145.83\n",
            "2017-01-03    143.68\n",
            "2017-01-04    144.02\n",
            "2017-01-05    143.50\n",
            "Freq: D, Name: Apple Price List, dtype: float64\n"
          ]
        }
      ]
    },
    {
      "cell_type": "code",
      "metadata": {
        "colab": {
          "base_uri": "https://localhost:8080/"
        },
        "id": "YII5Bb9iH4Nk",
        "outputId": "7180e04e-fc2d-4bd3-b46d-762fc255c061"
      },
      "source": [
        "#Ejemplo\n",
        "print(s_dos['2020-03-22': '2020-03-25'])"
      ],
      "execution_count": 132,
      "outputs": [
        {
          "output_type": "stream",
          "name": "stdout",
          "text": [
            "2020-03-22    562.100\n",
            "2020-03-23    210.500\n",
            "2020-03-24    123.123\n",
            "2020-03-25    156.200\n",
            "Freq: D, Name: Precios productos, dtype: float64\n"
          ]
        }
      ]
    },
    {
      "cell_type": "markdown",
      "metadata": {
        "id": "cWA3NCXEhCLB"
      },
      "source": [
        "Series[] provides us a very flexible way to index data. We can add any condition in the square brackets:"
      ]
    },
    {
      "cell_type": "code",
      "metadata": {
        "colab": {
          "base_uri": "https://localhost:8080/"
        },
        "id": "aawbrg2EO58n",
        "outputId": "eb981ff9-b053-4026-8405-eb7dccaf6e13"
      },
      "source": [
        "print(s[s < np.mean(s)] )\n",
        "print([(s > np.mean(s)) & (s < np.mean(s) + 1.64*np.std(s))])"
      ],
      "execution_count": 133,
      "outputs": [
        {
          "output_type": "stream",
          "name": "stdout",
          "text": [
            "2017-01-01    143.73\n",
            "2017-01-03    143.68\n",
            "2017-01-05    143.50\n",
            "2017-01-06    142.62\n",
            "Name: Apple Price List, dtype: float64\n",
            "[2017-01-01    False\n",
            "2017-01-02    False\n",
            "2017-01-03    False\n",
            "2017-01-04     True\n",
            "2017-01-05    False\n",
            "2017-01-06    False\n",
            "Freq: D, Name: Apple Price List, dtype: bool]\n"
          ]
        }
      ]
    },
    {
      "cell_type": "code",
      "metadata": {
        "colab": {
          "base_uri": "https://localhost:8080/"
        },
        "id": "WH7BuNTVIAs4",
        "outputId": "de591e4a-fb51-4c63-c4fb-6df5dc008477"
      },
      "source": [
        "#Ejemplo\n",
        "print( s_dos[s_dos < np.mean(s_dos)] )\n",
        "print([(s_dos > np.mean(s_dos)) & (s_dos < np.mean(s_dos) + 2.5*np.std(s_dos))])"
      ],
      "execution_count": 134,
      "outputs": [
        {
          "output_type": "stream",
          "name": "stdout",
          "text": [
            "2020-03-21    145.000\n",
            "2020-03-23    210.500\n",
            "2020-03-24    123.123\n",
            "2020-03-25    156.200\n",
            "Name: Precios productos, dtype: float64\n",
            "[2020-03-21    False\n",
            "2020-03-22     True\n",
            "2020-03-23    False\n",
            "2020-03-24    False\n",
            "2020-03-25    False\n",
            "2020-03-26     True\n",
            "Freq: D, Name: Precios productos, dtype: bool]\n"
          ]
        }
      ]
    },
    {
      "cell_type": "markdown",
      "metadata": {
        "id": "jAByChIwhEuI"
      },
      "source": [
        "As demonstrated, we can use logical operators like & (and), | (or) and ~ (not) to group multiple conditions.\n",
        "\n",
        "# Summary\n",
        "Here we have introduced NumPy and Pandas for scientific computing in Python. In the next chapter, we will dive into Pandas to learn resampling and manipulating Pandas DataFrame, which are commonly used in financial data analysis."
      ]
    },
    {
      "cell_type": "markdown",
      "metadata": {
        "id": "m10fp8cnKCnv"
      },
      "source": [
        "<div align=\"center\">\n",
        "<img style=\"display: block; margin: auto;\" alt=\"photo\" src=\"https://cdn.quantconnect.com/web/i/icon.png\">\n",
        "\n",
        "Quantconnect\n",
        "\n",
        "Introduction to Financial Python\n",
        "</div>\n",
        "\n",
        "# 05 Pandas-Resampling and DataFrame\n",
        "\n",
        "# Introduction\n",
        "In the last chapter we had a glimpse of Pandas. In this chapter we will learn about resampling methods and the DataFrame object, which is a powerful tool for financial data analysis.\n",
        "\n",
        "# Fetching Data\n",
        "\n",
        "Get the data online (scraping) from Yahoo Finance with yfinance"
      ]
    },
    {
      "cell_type": "code",
      "metadata": {
        "colab": {
          "base_uri": "https://localhost:8080/"
        },
        "id": "2g0lxAV70Pi1",
        "outputId": "0c245210-b6d0-45c1-95ef-2cc2b6021d1b"
      },
      "source": [
        "!pip install yfinance"
      ],
      "execution_count": 136,
      "outputs": [
        {
          "output_type": "stream",
          "name": "stdout",
          "text": [
            "Collecting yfinance\n",
            "  Downloading yfinance-0.1.64.tar.gz (26 kB)\n",
            "Requirement already satisfied: pandas>=0.24 in /usr/local/lib/python3.7/dist-packages (from yfinance) (1.1.5)\n",
            "Requirement already satisfied: numpy>=1.15 in /usr/local/lib/python3.7/dist-packages (from yfinance) (1.19.5)\n",
            "Requirement already satisfied: requests>=2.20 in /usr/local/lib/python3.7/dist-packages (from yfinance) (2.23.0)\n",
            "Requirement already satisfied: multitasking>=0.0.7 in /usr/local/lib/python3.7/dist-packages (from yfinance) (0.0.9)\n",
            "Collecting lxml>=4.5.1\n",
            "  Downloading lxml-4.6.3-cp37-cp37m-manylinux2014_x86_64.whl (6.3 MB)\n",
            "\u001b[K     |████████████████████████████████| 6.3 MB 11.4 MB/s \n",
            "\u001b[?25hRequirement already satisfied: python-dateutil>=2.7.3 in /usr/local/lib/python3.7/dist-packages (from pandas>=0.24->yfinance) (2.8.2)\n",
            "Requirement already satisfied: pytz>=2017.2 in /usr/local/lib/python3.7/dist-packages (from pandas>=0.24->yfinance) (2018.9)\n",
            "Requirement already satisfied: six>=1.5 in /usr/local/lib/python3.7/dist-packages (from python-dateutil>=2.7.3->pandas>=0.24->yfinance) (1.15.0)\n",
            "Requirement already satisfied: urllib3!=1.25.0,!=1.25.1,<1.26,>=1.21.1 in /usr/local/lib/python3.7/dist-packages (from requests>=2.20->yfinance) (1.24.3)\n",
            "Requirement already satisfied: certifi>=2017.4.17 in /usr/local/lib/python3.7/dist-packages (from requests>=2.20->yfinance) (2021.5.30)\n",
            "Requirement already satisfied: chardet<4,>=3.0.2 in /usr/local/lib/python3.7/dist-packages (from requests>=2.20->yfinance) (3.0.4)\n",
            "Requirement already satisfied: idna<3,>=2.5 in /usr/local/lib/python3.7/dist-packages (from requests>=2.20->yfinance) (2.10)\n",
            "Building wheels for collected packages: yfinance\n",
            "  Building wheel for yfinance (setup.py) ... \u001b[?25l\u001b[?25hdone\n",
            "  Created wheel for yfinance: filename=yfinance-0.1.64-py2.py3-none-any.whl size=24109 sha256=6304968f19b0db078de379486787d7e3fa05491ac11495bdc9b5880089d7b9cb\n",
            "  Stored in directory: /root/.cache/pip/wheels/86/fe/9b/a4d3d78796b699e37065e5b6c27b75cff448ddb8b24943c288\n",
            "Successfully built yfinance\n",
            "Installing collected packages: lxml, yfinance\n",
            "  Attempting uninstall: lxml\n",
            "    Found existing installation: lxml 4.2.6\n",
            "    Uninstalling lxml-4.2.6:\n",
            "      Successfully uninstalled lxml-4.2.6\n",
            "Successfully installed lxml-4.6.3 yfinance-0.1.64\n"
          ]
        }
      ]
    },
    {
      "cell_type": "code",
      "metadata": {
        "colab": {
          "base_uri": "https://localhost:8080/",
          "height": 494
        },
        "id": "TOrAfDCZL2Xu",
        "outputId": "b0c1d491-f9e4-43c9-9075-1c155d3798e1"
      },
      "source": [
        "\n",
        "\n",
        "import yfinance as yf\n",
        "\n",
        "aapl = yf.Ticker(\"AAPL\")\n",
        "\n",
        "# get stock info\n",
        "print(aapl.info)\n",
        "\n",
        "# get historical market data\n",
        "aapl_table = aapl.history(start=\"2016-01-01\",  end=\"2017-12-31\")\n",
        "aapl_table"
      ],
      "execution_count": 137,
      "outputs": [
        {
          "output_type": "stream",
          "name": "stdout",
          "text": [
            "{'zip': '95014', 'sector': 'Technology', 'fullTimeEmployees': 147000, 'longBusinessSummary': 'Apple Inc. designs, manufactures, and markets smartphones, personal computers, tablets, wearables, and accessories worldwide. It also sells various related services. The company offers iPhone, a line of smartphones; Mac, a line of personal computers; iPad, a line of multi-purpose tablets; and wearables, home, and accessories comprising AirPods, Apple TV, Apple Watch, Beats products, HomePod, iPod touch, and other Apple-branded and third-party accessories. It also provides AppleCare support services; cloud services store services; and operates various platforms, including the App Store, that allow customers to discover and download applications and digital content, such as books, music, video, games, and podcasts. In addition, the company offers various services, such as Apple Arcade, a game subscription service; Apple Music, which offers users a curated listening experience with on-demand radio stations; Apple News+, a subscription news and magazine service; Apple TV+, which offers exclusive original content; Apple Card, a co-branded credit card; and Apple Pay, a cashless payment service, as well as licenses its intellectual property. The company serves consumers, and small and mid-sized businesses; and the education, enterprise, and government markets. It sells and delivers third-party applications for its products through the App Store. The company also sells its products through its retail and online stores, and direct sales force; and third-party cellular network carriers, wholesalers, retailers, and resellers. Apple Inc. was founded in 1977 and is headquartered in Cupertino, California.', 'city': 'Cupertino', 'phone': '408-996-1010', 'state': 'CA', 'country': 'United States', 'companyOfficers': [], 'website': 'http://www.apple.com', 'maxAge': 1, 'address1': 'One Apple Park Way', 'industry': 'Consumer Electronics', 'ebitdaMargins': 0.31955, 'profitMargins': 0.25004, 'grossMargins': 0.41005, 'operatingCashflow': 104414003200, 'revenueGrowth': 0.364, 'operatingMargins': 0.28788, 'ebitda': 110934999040, 'targetLowPrice': 132, 'recommendationKey': 'buy', 'grossProfits': 104956000000, 'freeCashflow': 80625876992, 'targetMedianPrice': 170, 'currentPrice': 149.26, 'earningsGrowth': 1, 'currentRatio': 1.062, 'returnOnAssets': 0.19302, 'numberOfAnalystOpinions': 41, 'targetMeanPrice': 168.35, 'debtToEquity': 210.782, 'returnOnEquity': 1.27125, 'targetHighPrice': 190, 'totalCash': 61696000000, 'totalDebt': 135491002368, 'totalRevenue': 347155005440, 'totalCashPerShare': 3.732, 'financialCurrency': 'USD', 'revenuePerShare': 20.61, 'quickRatio': 0.887, 'recommendationMean': 1.9, 'exchange': 'NMS', 'shortName': 'Apple Inc.', 'longName': 'Apple Inc.', 'exchangeTimezoneName': 'America/New_York', 'exchangeTimezoneShortName': 'EDT', 'isEsgPopulated': False, 'gmtOffSetMilliseconds': '-14400000', 'quoteType': 'EQUITY', 'symbol': 'AAPL', 'messageBoardId': 'finmb_24937', 'market': 'us_market', 'annualHoldingsTurnover': None, 'enterpriseToRevenue': 7.296, 'beta3Year': None, 'enterpriseToEbitda': 22.832, '52WeekChange': 0.27286732, 'morningStarRiskRating': None, 'forwardEps': 5.67, 'revenueQuarterlyGrowth': None, 'sharesOutstanding': 16530199552, 'fundInceptionDate': None, 'annualReportExpenseRatio': None, 'totalAssets': None, 'bookValue': 3.882, 'sharesShort': 101107412, 'sharesPercentSharesOut': 0.0061000003, 'fundFamily': None, 'lastFiscalYearEnd': 1601078400, 'heldPercentInstitutions': 0.58676, 'netIncomeToCommon': 86801997824, 'trailingEps': 5.108, 'lastDividendValue': 0.22, 'SandP52WeekChange': 0.3155439, 'priceToBook': 38.449253, 'heldPercentInsiders': 0.00072999997, 'nextFiscalYearEnd': 1664150400, 'yield': None, 'mostRecentQuarter': 1624665600, 'shortRatio': 1.18, 'sharesShortPreviousMonthDate': 1630368000, 'floatShares': 16512974627, 'beta': 1.222222, 'enterpriseValue': 2532822482944, 'priceHint': 2, 'threeYearAverageReturn': None, 'lastSplitDate': 1598832000, 'lastSplitFactor': '4:1', 'legalType': None, 'lastDividendDate': 1628208000, 'morningStarOverallRating': None, 'earningsQuarterlyGrowth': 0.932, 'priceToSalesTrailing12Months': 7.1071925, 'dateShortInterest': 1632960000, 'pegRatio': 1.38, 'ytdReturn': None, 'forwardPE': 26.324514, 'lastCapGain': None, 'shortPercentOfFloat': 0.0061000003, 'sharesShortPriorMonth': 96838699, 'impliedSharesOutstanding': None, 'category': None, 'fiveYearAverageReturn': None, 'previousClose': 148.76, 'regularMarketOpen': 148.7, 'twoHundredDayAverage': 139.00964, 'trailingAnnualDividendYield': 0.005613068, 'payoutRatio': 0.16309999, 'volume24Hr': None, 'regularMarketDayHigh': 149.7522, 'navPrice': None, 'averageDailyVolume10Day': 73697228, 'regularMarketPreviousClose': 148.76, 'fiftyDayAverage': 146.47115, 'trailingAnnualDividendRate': 0.835, 'open': 148.7, 'toCurrency': None, 'averageVolume10days': 73697228, 'expireDate': None, 'algorithm': None, 'dividendRate': 0.88, 'exDividendDate': 1628208000, 'circulatingSupply': None, 'startDate': None, 'regularMarketDayLow': 148.12, 'currency': 'USD', 'trailingPE': 29.22083, 'regularMarketVolume': 57124509, 'lastMarket': None, 'maxSupply': None, 'openInterest': None, 'marketCap': 2467297492992, 'volumeAllCurrencies': None, 'strikePrice': None, 'averageVolume': 76845849, 'dayLow': 148.12, 'ask': 149.05, 'askSize': 1300, 'volume': 57124509, 'fiftyTwoWeekHigh': 157.26, 'fromCurrency': None, 'fiveYearAvgDividendYield': 1.24, 'fiftyTwoWeekLow': 107.32, 'bid': 149.04, 'tradeable': False, 'dividendYield': 0.0058999998, 'bidSize': 1200, 'dayHigh': 149.7522, 'regularMarketPrice': 149.26, 'preMarketPrice': 148.7, 'logo_url': 'https://logo.clearbit.com/apple.com'}\n"
          ]
        },
        {
          "output_type": "execute_result",
          "data": {
            "text/html": [
              "<div>\n",
              "<style scoped>\n",
              "    .dataframe tbody tr th:only-of-type {\n",
              "        vertical-align: middle;\n",
              "    }\n",
              "\n",
              "    .dataframe tbody tr th {\n",
              "        vertical-align: top;\n",
              "    }\n",
              "\n",
              "    .dataframe thead th {\n",
              "        text-align: right;\n",
              "    }\n",
              "</style>\n",
              "<table border=\"1\" class=\"dataframe\">\n",
              "  <thead>\n",
              "    <tr style=\"text-align: right;\">\n",
              "      <th></th>\n",
              "      <th>Open</th>\n",
              "      <th>High</th>\n",
              "      <th>Low</th>\n",
              "      <th>Close</th>\n",
              "      <th>Volume</th>\n",
              "      <th>Dividends</th>\n",
              "      <th>Stock Splits</th>\n",
              "    </tr>\n",
              "    <tr>\n",
              "      <th>Date</th>\n",
              "      <th></th>\n",
              "      <th></th>\n",
              "      <th></th>\n",
              "      <th></th>\n",
              "      <th></th>\n",
              "      <th></th>\n",
              "      <th></th>\n",
              "    </tr>\n",
              "  </thead>\n",
              "  <tbody>\n",
              "    <tr>\n",
              "      <th>2016-01-04</th>\n",
              "      <td>23.655166</td>\n",
              "      <td>24.291443</td>\n",
              "      <td>23.514540</td>\n",
              "      <td>24.286831</td>\n",
              "      <td>270597600</td>\n",
              "      <td>0.0</td>\n",
              "      <td>0</td>\n",
              "    </tr>\n",
              "    <tr>\n",
              "      <th>2016-01-05</th>\n",
              "      <td>24.379039</td>\n",
              "      <td>24.402092</td>\n",
              "      <td>23.609054</td>\n",
              "      <td>23.678213</td>\n",
              "      <td>223164000</td>\n",
              "      <td>0.0</td>\n",
              "      <td>0</td>\n",
              "    </tr>\n",
              "    <tr>\n",
              "      <th>2016-01-06</th>\n",
              "      <td>23.182563</td>\n",
              "      <td>23.599832</td>\n",
              "      <td>23.023496</td>\n",
              "      <td>23.214838</td>\n",
              "      <td>273829600</td>\n",
              "      <td>0.0</td>\n",
              "      <td>0</td>\n",
              "    </tr>\n",
              "    <tr>\n",
              "      <th>2016-01-07</th>\n",
              "      <td>22.749158</td>\n",
              "      <td>23.083433</td>\n",
              "      <td>22.230456</td>\n",
              "      <td>22.235065</td>\n",
              "      <td>324377600</td>\n",
              "      <td>0.0</td>\n",
              "      <td>0</td>\n",
              "    </tr>\n",
              "    <tr>\n",
              "      <th>2016-01-08</th>\n",
              "      <td>22.719201</td>\n",
              "      <td>22.848300</td>\n",
              "      <td>22.306543</td>\n",
              "      <td>22.352650</td>\n",
              "      <td>283192000</td>\n",
              "      <td>0.0</td>\n",
              "      <td>0</td>\n",
              "    </tr>\n",
              "    <tr>\n",
              "      <th>...</th>\n",
              "      <td>...</td>\n",
              "      <td>...</td>\n",
              "      <td>...</td>\n",
              "      <td>...</td>\n",
              "      <td>...</td>\n",
              "      <td>...</td>\n",
              "      <td>...</td>\n",
              "    </tr>\n",
              "    <tr>\n",
              "      <th>2017-12-22</th>\n",
              "      <td>41.827749</td>\n",
              "      <td>42.004946</td>\n",
              "      <td>41.784649</td>\n",
              "      <td>41.906769</td>\n",
              "      <td>65397600</td>\n",
              "      <td>0.0</td>\n",
              "      <td>0</td>\n",
              "    </tr>\n",
              "    <tr>\n",
              "      <th>2017-12-26</th>\n",
              "      <td>40.898675</td>\n",
              "      <td>41.059108</td>\n",
              "      <td>40.630484</td>\n",
              "      <td>40.843601</td>\n",
              "      <td>132742000</td>\n",
              "      <td>0.0</td>\n",
              "      <td>0</td>\n",
              "    </tr>\n",
              "    <tr>\n",
              "      <th>2017-12-27</th>\n",
              "      <td>40.731054</td>\n",
              "      <td>40.893880</td>\n",
              "      <td>40.637667</td>\n",
              "      <td>40.850780</td>\n",
              "      <td>85992800</td>\n",
              "      <td>0.0</td>\n",
              "      <td>0</td>\n",
              "    </tr>\n",
              "    <tr>\n",
              "      <th>2017-12-28</th>\n",
              "      <td>40.946564</td>\n",
              "      <td>41.150101</td>\n",
              "      <td>40.822048</td>\n",
              "      <td>40.965721</td>\n",
              "      <td>65920800</td>\n",
              "      <td>0.0</td>\n",
              "      <td>0</td>\n",
              "    </tr>\n",
              "    <tr>\n",
              "      <th>2017-12-29</th>\n",
              "      <td>40.831629</td>\n",
              "      <td>40.848389</td>\n",
              "      <td>40.520339</td>\n",
              "      <td>40.522732</td>\n",
              "      <td>103999600</td>\n",
              "      <td>0.0</td>\n",
              "      <td>0</td>\n",
              "    </tr>\n",
              "  </tbody>\n",
              "</table>\n",
              "<p>503 rows × 7 columns</p>\n",
              "</div>"
            ],
            "text/plain": [
              "                 Open       High        Low  ...     Volume  Dividends  Stock Splits\n",
              "Date                                         ...                                    \n",
              "2016-01-04  23.655166  24.291443  23.514540  ...  270597600        0.0             0\n",
              "2016-01-05  24.379039  24.402092  23.609054  ...  223164000        0.0             0\n",
              "2016-01-06  23.182563  23.599832  23.023496  ...  273829600        0.0             0\n",
              "2016-01-07  22.749158  23.083433  22.230456  ...  324377600        0.0             0\n",
              "2016-01-08  22.719201  22.848300  22.306543  ...  283192000        0.0             0\n",
              "...               ...        ...        ...  ...        ...        ...           ...\n",
              "2017-12-22  41.827749  42.004946  41.784649  ...   65397600        0.0             0\n",
              "2017-12-26  40.898675  41.059108  40.630484  ...  132742000        0.0             0\n",
              "2017-12-27  40.731054  40.893880  40.637667  ...   85992800        0.0             0\n",
              "2017-12-28  40.946564  41.150101  40.822048  ...   65920800        0.0             0\n",
              "2017-12-29  40.831629  40.848389  40.520339  ...  103999600        0.0             0\n",
              "\n",
              "[503 rows x 7 columns]"
            ]
          },
          "metadata": {},
          "execution_count": 137
        }
      ]
    },
    {
      "cell_type": "code",
      "metadata": {
        "colab": {
          "base_uri": "https://localhost:8080/"
        },
        "id": "na5NMmOBLp_J",
        "outputId": "f0aaab91-28a6-44e2-c551-761642547dc3"
      },
      "source": [
        "!pip install yfinance"
      ],
      "execution_count": null,
      "outputs": [
        {
          "output_type": "stream",
          "name": "stdout",
          "text": [
            "Requirement already satisfied: yfinance in /usr/local/lib/python3.7/dist-packages (0.1.63)\n",
            "Requirement already satisfied: requests>=2.20 in /usr/local/lib/python3.7/dist-packages (from yfinance) (2.23.0)\n",
            "Requirement already satisfied: pandas>=0.24 in /usr/local/lib/python3.7/dist-packages (from yfinance) (1.1.5)\n",
            "Requirement already satisfied: lxml>=4.5.1 in /usr/local/lib/python3.7/dist-packages (from yfinance) (4.6.3)\n",
            "Requirement already satisfied: multitasking>=0.0.7 in /usr/local/lib/python3.7/dist-packages (from yfinance) (0.0.9)\n",
            "Requirement already satisfied: numpy>=1.15 in /usr/local/lib/python3.7/dist-packages (from yfinance) (1.19.5)\n",
            "Requirement already satisfied: python-dateutil>=2.7.3 in /usr/local/lib/python3.7/dist-packages (from pandas>=0.24->yfinance) (2.8.2)\n",
            "Requirement already satisfied: pytz>=2017.2 in /usr/local/lib/python3.7/dist-packages (from pandas>=0.24->yfinance) (2018.9)\n",
            "Requirement already satisfied: six>=1.5 in /usr/local/lib/python3.7/dist-packages (from python-dateutil>=2.7.3->pandas>=0.24->yfinance) (1.15.0)\n",
            "Requirement already satisfied: urllib3!=1.25.0,!=1.25.1,<1.26,>=1.21.1 in /usr/local/lib/python3.7/dist-packages (from requests>=2.20->yfinance) (1.24.3)\n",
            "Requirement already satisfied: chardet<4,>=3.0.2 in /usr/local/lib/python3.7/dist-packages (from requests>=2.20->yfinance) (3.0.4)\n",
            "Requirement already satisfied: idna<3,>=2.5 in /usr/local/lib/python3.7/dist-packages (from requests>=2.20->yfinance) (2.10)\n",
            "Requirement already satisfied: certifi>=2017.4.17 in /usr/local/lib/python3.7/dist-packages (from requests>=2.20->yfinance) (2021.5.30)\n"
          ]
        }
      ]
    },
    {
      "cell_type": "code",
      "metadata": {
        "colab": {
          "base_uri": "https://localhost:8080/",
          "height": 424
        },
        "id": "2_S3TesRWmYh",
        "outputId": "81231ec5-4eb6-4953-aca6-cc242fc0778c"
      },
      "source": [
        "import pandas as pd\n",
        "data = pd.read_csv('https://raw.githubusercontent.com/dnrubiol/MetNumUN2021II/main/Lab1/yahoo_apple.csv')\n",
        "data"
      ],
      "execution_count": 138,
      "outputs": [
        {
          "output_type": "execute_result",
          "data": {
            "text/html": [
              "<div>\n",
              "<style scoped>\n",
              "    .dataframe tbody tr th:only-of-type {\n",
              "        vertical-align: middle;\n",
              "    }\n",
              "\n",
              "    .dataframe tbody tr th {\n",
              "        vertical-align: top;\n",
              "    }\n",
              "\n",
              "    .dataframe thead th {\n",
              "        text-align: right;\n",
              "    }\n",
              "</style>\n",
              "<table border=\"1\" class=\"dataframe\">\n",
              "  <thead>\n",
              "    <tr style=\"text-align: right;\">\n",
              "      <th></th>\n",
              "      <th>Date</th>\n",
              "      <th>Open</th>\n",
              "      <th>High</th>\n",
              "      <th>Low</th>\n",
              "      <th>Close</th>\n",
              "      <th>Adj Close</th>\n",
              "      <th>Volume</th>\n",
              "    </tr>\n",
              "  </thead>\n",
              "  <tbody>\n",
              "    <tr>\n",
              "      <th>0</th>\n",
              "      <td>2020-10-19</td>\n",
              "      <td>10.140000</td>\n",
              "      <td>10.205000</td>\n",
              "      <td>9.920000</td>\n",
              "      <td>9.930000</td>\n",
              "      <td>9.910515</td>\n",
              "      <td>972500</td>\n",
              "    </tr>\n",
              "    <tr>\n",
              "      <th>1</th>\n",
              "      <td>2020-10-20</td>\n",
              "      <td>10.070000</td>\n",
              "      <td>10.395000</td>\n",
              "      <td>10.005000</td>\n",
              "      <td>10.230000</td>\n",
              "      <td>10.209925</td>\n",
              "      <td>1479400</td>\n",
              "    </tr>\n",
              "    <tr>\n",
              "      <th>2</th>\n",
              "      <td>2020-10-21</td>\n",
              "      <td>10.230000</td>\n",
              "      <td>10.420000</td>\n",
              "      <td>10.090000</td>\n",
              "      <td>10.400000</td>\n",
              "      <td>10.379592</td>\n",
              "      <td>1663900</td>\n",
              "    </tr>\n",
              "    <tr>\n",
              "      <th>3</th>\n",
              "      <td>2020-10-22</td>\n",
              "      <td>10.430000</td>\n",
              "      <td>10.810000</td>\n",
              "      <td>10.400000</td>\n",
              "      <td>10.800000</td>\n",
              "      <td>10.778808</td>\n",
              "      <td>1191100</td>\n",
              "    </tr>\n",
              "    <tr>\n",
              "      <th>4</th>\n",
              "      <td>2020-10-23</td>\n",
              "      <td>10.850000</td>\n",
              "      <td>10.995000</td>\n",
              "      <td>10.815000</td>\n",
              "      <td>10.880000</td>\n",
              "      <td>10.858650</td>\n",
              "      <td>1522800</td>\n",
              "    </tr>\n",
              "    <tr>\n",
              "      <th>...</th>\n",
              "      <td>...</td>\n",
              "      <td>...</td>\n",
              "      <td>...</td>\n",
              "      <td>...</td>\n",
              "      <td>...</td>\n",
              "      <td>...</td>\n",
              "      <td>...</td>\n",
              "    </tr>\n",
              "    <tr>\n",
              "      <th>246</th>\n",
              "      <td>2021-10-11</td>\n",
              "      <td>16.209999</td>\n",
              "      <td>16.455000</td>\n",
              "      <td>16.150000</td>\n",
              "      <td>16.320000</td>\n",
              "      <td>16.320000</td>\n",
              "      <td>1736100</td>\n",
              "    </tr>\n",
              "    <tr>\n",
              "      <th>247</th>\n",
              "      <td>2021-10-12</td>\n",
              "      <td>16.240000</td>\n",
              "      <td>16.315001</td>\n",
              "      <td>16.030001</td>\n",
              "      <td>16.059999</td>\n",
              "      <td>16.059999</td>\n",
              "      <td>1107800</td>\n",
              "    </tr>\n",
              "    <tr>\n",
              "      <th>248</th>\n",
              "      <td>2021-10-13</td>\n",
              "      <td>16.030001</td>\n",
              "      <td>16.090000</td>\n",
              "      <td>15.620000</td>\n",
              "      <td>15.790000</td>\n",
              "      <td>15.790000</td>\n",
              "      <td>1602400</td>\n",
              "    </tr>\n",
              "    <tr>\n",
              "      <th>249</th>\n",
              "      <td>2021-10-14</td>\n",
              "      <td>16.010000</td>\n",
              "      <td>16.084999</td>\n",
              "      <td>15.820000</td>\n",
              "      <td>15.870000</td>\n",
              "      <td>15.870000</td>\n",
              "      <td>1765100</td>\n",
              "    </tr>\n",
              "    <tr>\n",
              "      <th>250</th>\n",
              "      <td>2021-10-15</td>\n",
              "      <td>16.170000</td>\n",
              "      <td>16.350000</td>\n",
              "      <td>15.945000</td>\n",
              "      <td>16.090000</td>\n",
              "      <td>16.090000</td>\n",
              "      <td>1768200</td>\n",
              "    </tr>\n",
              "  </tbody>\n",
              "</table>\n",
              "<p>251 rows × 7 columns</p>\n",
              "</div>"
            ],
            "text/plain": [
              "           Date       Open       High        Low      Close  Adj Close   Volume\n",
              "0    2020-10-19  10.140000  10.205000   9.920000   9.930000   9.910515   972500\n",
              "1    2020-10-20  10.070000  10.395000  10.005000  10.230000  10.209925  1479400\n",
              "2    2020-10-21  10.230000  10.420000  10.090000  10.400000  10.379592  1663900\n",
              "3    2020-10-22  10.430000  10.810000  10.400000  10.800000  10.778808  1191100\n",
              "4    2020-10-23  10.850000  10.995000  10.815000  10.880000  10.858650  1522800\n",
              "..          ...        ...        ...        ...        ...        ...      ...\n",
              "246  2021-10-11  16.209999  16.455000  16.150000  16.320000  16.320000  1736100\n",
              "247  2021-10-12  16.240000  16.315001  16.030001  16.059999  16.059999  1107800\n",
              "248  2021-10-13  16.030001  16.090000  15.620000  15.790000  15.790000  1602400\n",
              "249  2021-10-14  16.010000  16.084999  15.820000  15.870000  15.870000  1765100\n",
              "250  2021-10-15  16.170000  16.350000  15.945000  16.090000  16.090000  1768200\n",
              "\n",
              "[251 rows x 7 columns]"
            ]
          },
          "metadata": {},
          "execution_count": 138
        }
      ]
    },
    {
      "cell_type": "code",
      "metadata": {
        "colab": {
          "base_uri": "https://localhost:8080/",
          "height": 494
        },
        "id": "5PkfI7WBMA_J",
        "outputId": "faf8cc3d-f370-4630-d75a-99edca389b13"
      },
      "source": [
        "\n",
        "#Ejemplo\n",
        "new_msft = yf.Ticker('NEW')\n",
        "print(new_msft.info)\n",
        "\n",
        "data = new_msft.history(start=\"2020-12-12\",  end=\"2021-10-10\")\n",
        "data"
      ],
      "execution_count": 139,
      "outputs": [
        {
          "output_type": "stream",
          "name": "stdout",
          "text": [
            "{'zip': '100080', 'sector': 'Consumer Defensive', 'fullTimeEmployees': 9650, 'longBusinessSummary': \"Puxin Limited, together with its subsidiaries, provides K-12 and study-abroad tutoring services in the People's Republic of China. Its K-12 tutoring services offer result-oriented educational services in various forms, such as classroom-based after-school tutoring, full-time tutoring for preparation of university entrance exams, and art college admission exams, as well as online courses in a large-class setting to help students enhance their academic results through group class and personalized tutoring courses; full-time tutoring services to high school students preparing for university entrance exams and art college admission exams; after-school tutoring services in group class settings and through personalized sessions; personalized K-12 tutoring courses to adapt to each student's learning pace, pattern, and approach; and extracurricular courses, such as painting, calligraphy, and science. The company's study-abroad tutoring services helps students to prepare for admission tests and applications for high schools, universities, and graduate programs primarily in English-speaking countries through study-abroad test preparation courses and study-abroad consulting services. It also provides web-based platforms and mobile apps for K-12 tutoring services; and cloud-based products and services for K-12 tutoring and study-abroad tutoring services. As of December 31, 2020, it operated 407 learning centers, which include 328 K-12 and 79 study-abroad learning centers. The company offers its products under the Puxin, Puxin-Lingxian, Puxin-YESSAT, Puxin-Fubusi, and ZMN Education brands, as well as operates franchised schools under the Global Education brand. Puxin Limited was founded in 2014 and is headquartered in Beijing, the People's Republic of China.\", 'city': 'Beijing', 'phone': '86 10 8260 5578', 'country': 'China', 'companyOfficers': [], 'website': 'http://www.pxjy.com', 'maxAge': 1, 'address1': 'Dingjun Building', 'industry': 'Education & Training Services', 'address2': 'Building 4, 5th Floor 75 Suzhou Street Haidian District', 'ebitdaMargins': -0.01919, 'profitMargins': 0.017280001, 'grossMargins': 0.45645002, 'operatingCashflow': None, 'revenueGrowth': -0.086, 'operatingMargins': -0.05969, 'ebitda': -54489248, 'targetLowPrice': 10.21, 'recommendationKey': 'strong_buy', 'grossProfits': 1345319000, 'freeCashflow': None, 'targetMedianPrice': 10.21, 'currentPrice': 0.4881, 'earningsGrowth': None, 'currentRatio': 0.387, 'returnOnAssets': -0.02238, 'numberOfAnalystOpinions': 1, 'targetMeanPrice': 10.21, 'debtToEquity': 559.826, 'returnOnEquity': 0.13101, 'targetHighPrice': 10.21, 'totalCash': 279088000, 'totalDebt': 2593294080, 'totalRevenue': 2839326976, 'totalCashPerShare': 3.191, 'financialCurrency': 'CNY', 'revenuePerShare': 32.587, 'quickRatio': 0.099, 'recommendationMean': 1, 'exchange': 'NYQ', 'shortName': 'Puxin Limited', 'longName': 'Puxin Limited', 'exchangeTimezoneName': 'America/New_York', 'exchangeTimezoneShortName': 'EDT', 'isEsgPopulated': False, 'gmtOffSetMilliseconds': '-14400000', 'quoteType': 'EQUITY', 'symbol': 'NEW', 'messageBoardId': 'finmb_560290242', 'market': 'us_market', 'annualHoldingsTurnover': None, 'enterpriseToRevenue': 0.828, 'beta3Year': None, 'enterpriseToEbitda': -43.122, '52WeekChange': -0.9379581, 'morningStarRiskRating': None, 'forwardEps': 0.95, 'revenueQuarterlyGrowth': None, 'sharesOutstanding': 87463400, 'fundInceptionDate': None, 'annualReportExpenseRatio': None, 'totalAssets': None, 'bookValue': 5.364, 'sharesShort': 1743105, 'sharesPercentSharesOut': 0.0199, 'fundFamily': None, 'lastFiscalYearEnd': 1609372800, 'heldPercentInstitutions': 0.100710005, 'netIncomeToCommon': 49056000, 'trailingEps': 0.03, 'lastDividendValue': None, 'SandP52WeekChange': 0.3155439, 'priceToBook': 0.09099553, 'heldPercentInsiders': 0.0029300002, 'nextFiscalYearEnd': 1672444800, 'yield': None, 'mostRecentQuarter': 1617148800, 'shortRatio': 1.18, 'sharesShortPreviousMonthDate': 1630368000, 'floatShares': 42154731, 'beta': 1.583583, 'enterpriseValue': 2349692672, 'priceHint': 4, 'threeYearAverageReturn': None, 'lastSplitDate': None, 'lastSplitFactor': None, 'legalType': None, 'lastDividendDate': None, 'morningStarOverallRating': None, 'earningsQuarterlyGrowth': None, 'priceToSalesTrailing12Months': 0.015035564, 'dateShortInterest': 1632960000, 'pegRatio': None, 'ytdReturn': None, 'forwardPE': 0.5137895, 'lastCapGain': None, 'shortPercentOfFloat': None, 'sharesShortPriorMonth': 1466750, 'impliedSharesOutstanding': None, 'category': None, 'fiveYearAverageReturn': None, 'previousClose': 0.4736, 'regularMarketOpen': 0.4878, 'twoHundredDayAverage': 1.6322734, 'trailingAnnualDividendYield': None, 'payoutRatio': 0, 'volume24Hr': None, 'regularMarketDayHigh': 0.505, 'navPrice': None, 'averageDailyVolume10Day': 6677642, 'regularMarketPreviousClose': 0.4736, 'fiftyDayAverage': 0.55674285, 'trailingAnnualDividendRate': None, 'open': 0.4878, 'toCurrency': None, 'averageVolume10days': 6677642, 'expireDate': None, 'algorithm': None, 'dividendRate': None, 'exDividendDate': None, 'circulatingSupply': None, 'startDate': None, 'regularMarketDayLow': 0.4751, 'currency': 'USD', 'trailingPE': 16.27, 'regularMarketVolume': 1561066, 'lastMarket': None, 'maxSupply': None, 'openInterest': None, 'marketCap': 42690884, 'volumeAllCurrencies': None, 'strikePrice': None, 'averageVolume': 2827781, 'dayLow': 0.4751, 'ask': 0.4999, 'askSize': 1000, 'volume': 1561066, 'fiftyTwoWeekHigh': 9.17, 'fromCurrency': None, 'fiveYearAvgDividendYield': None, 'fiftyTwoWeekLow': 0.44, 'bid': 0.4833, 'tradeable': False, 'dividendYield': None, 'bidSize': 4000, 'dayHigh': 0.505, 'regularMarketPrice': 0.4881, 'preMarketPrice': 0.4878, 'logo_url': 'https://logo.clearbit.com/pxjy.com'}\n"
          ]
        },
        {
          "output_type": "execute_result",
          "data": {
            "text/html": [
              "<div>\n",
              "<style scoped>\n",
              "    .dataframe tbody tr th:only-of-type {\n",
              "        vertical-align: middle;\n",
              "    }\n",
              "\n",
              "    .dataframe tbody tr th {\n",
              "        vertical-align: top;\n",
              "    }\n",
              "\n",
              "    .dataframe thead th {\n",
              "        text-align: right;\n",
              "    }\n",
              "</style>\n",
              "<table border=\"1\" class=\"dataframe\">\n",
              "  <thead>\n",
              "    <tr style=\"text-align: right;\">\n",
              "      <th></th>\n",
              "      <th>Open</th>\n",
              "      <th>High</th>\n",
              "      <th>Low</th>\n",
              "      <th>Close</th>\n",
              "      <th>Volume</th>\n",
              "      <th>Dividends</th>\n",
              "      <th>Stock Splits</th>\n",
              "    </tr>\n",
              "    <tr>\n",
              "      <th>Date</th>\n",
              "      <th></th>\n",
              "      <th></th>\n",
              "      <th></th>\n",
              "      <th></th>\n",
              "      <th></th>\n",
              "      <th></th>\n",
              "      <th></th>\n",
              "    </tr>\n",
              "  </thead>\n",
              "  <tbody>\n",
              "    <tr>\n",
              "      <th>2020-12-14</th>\n",
              "      <td>6.570</td>\n",
              "      <td>6.670</td>\n",
              "      <td>5.900</td>\n",
              "      <td>6.090</td>\n",
              "      <td>579200</td>\n",
              "      <td>0</td>\n",
              "      <td>0</td>\n",
              "    </tr>\n",
              "    <tr>\n",
              "      <th>2020-12-15</th>\n",
              "      <td>6.300</td>\n",
              "      <td>6.800</td>\n",
              "      <td>6.200</td>\n",
              "      <td>6.760</td>\n",
              "      <td>326300</td>\n",
              "      <td>0</td>\n",
              "      <td>0</td>\n",
              "    </tr>\n",
              "    <tr>\n",
              "      <th>2020-12-16</th>\n",
              "      <td>6.850</td>\n",
              "      <td>6.880</td>\n",
              "      <td>6.500</td>\n",
              "      <td>6.780</td>\n",
              "      <td>313200</td>\n",
              "      <td>0</td>\n",
              "      <td>0</td>\n",
              "    </tr>\n",
              "    <tr>\n",
              "      <th>2020-12-17</th>\n",
              "      <td>6.800</td>\n",
              "      <td>6.800</td>\n",
              "      <td>6.500</td>\n",
              "      <td>6.790</td>\n",
              "      <td>265600</td>\n",
              "      <td>0</td>\n",
              "      <td>0</td>\n",
              "    </tr>\n",
              "    <tr>\n",
              "      <th>2020-12-18</th>\n",
              "      <td>6.780</td>\n",
              "      <td>6.860</td>\n",
              "      <td>6.620</td>\n",
              "      <td>6.730</td>\n",
              "      <td>96300</td>\n",
              "      <td>0</td>\n",
              "      <td>0</td>\n",
              "    </tr>\n",
              "    <tr>\n",
              "      <th>...</th>\n",
              "      <td>...</td>\n",
              "      <td>...</td>\n",
              "      <td>...</td>\n",
              "      <td>...</td>\n",
              "      <td>...</td>\n",
              "      <td>...</td>\n",
              "      <td>...</td>\n",
              "    </tr>\n",
              "    <tr>\n",
              "      <th>2021-10-04</th>\n",
              "      <td>0.565</td>\n",
              "      <td>0.565</td>\n",
              "      <td>0.503</td>\n",
              "      <td>0.520</td>\n",
              "      <td>976700</td>\n",
              "      <td>0</td>\n",
              "      <td>0</td>\n",
              "    </tr>\n",
              "    <tr>\n",
              "      <th>2021-10-05</th>\n",
              "      <td>0.517</td>\n",
              "      <td>0.540</td>\n",
              "      <td>0.502</td>\n",
              "      <td>0.510</td>\n",
              "      <td>734400</td>\n",
              "      <td>0</td>\n",
              "      <td>0</td>\n",
              "    </tr>\n",
              "    <tr>\n",
              "      <th>2021-10-06</th>\n",
              "      <td>0.500</td>\n",
              "      <td>0.555</td>\n",
              "      <td>0.500</td>\n",
              "      <td>0.551</td>\n",
              "      <td>781000</td>\n",
              "      <td>0</td>\n",
              "      <td>0</td>\n",
              "    </tr>\n",
              "    <tr>\n",
              "      <th>2021-10-07</th>\n",
              "      <td>0.550</td>\n",
              "      <td>0.568</td>\n",
              "      <td>0.535</td>\n",
              "      <td>0.563</td>\n",
              "      <td>665100</td>\n",
              "      <td>0</td>\n",
              "      <td>0</td>\n",
              "    </tr>\n",
              "    <tr>\n",
              "      <th>2021-10-08</th>\n",
              "      <td>0.570</td>\n",
              "      <td>0.591</td>\n",
              "      <td>0.533</td>\n",
              "      <td>0.560</td>\n",
              "      <td>680000</td>\n",
              "      <td>0</td>\n",
              "      <td>0</td>\n",
              "    </tr>\n",
              "  </tbody>\n",
              "</table>\n",
              "<p>207 rows × 7 columns</p>\n",
              "</div>"
            ],
            "text/plain": [
              "             Open   High    Low  Close  Volume  Dividends  Stock Splits\n",
              "Date                                                                   \n",
              "2020-12-14  6.570  6.670  5.900  6.090  579200          0             0\n",
              "2020-12-15  6.300  6.800  6.200  6.760  326300          0             0\n",
              "2020-12-16  6.850  6.880  6.500  6.780  313200          0             0\n",
              "2020-12-17  6.800  6.800  6.500  6.790  265600          0             0\n",
              "2020-12-18  6.780  6.860  6.620  6.730   96300          0             0\n",
              "...           ...    ...    ...    ...     ...        ...           ...\n",
              "2021-10-04  0.565  0.565  0.503  0.520  976700          0             0\n",
              "2021-10-05  0.517  0.540  0.502  0.510  734400          0             0\n",
              "2021-10-06  0.500  0.555  0.500  0.551  781000          0             0\n",
              "2021-10-07  0.550  0.568  0.535  0.563  665100          0             0\n",
              "2021-10-08  0.570  0.591  0.533  0.560  680000          0             0\n",
              "\n",
              "[207 rows x 7 columns]"
            ]
          },
          "metadata": {},
          "execution_count": 139
        }
      ]
    },
    {
      "cell_type": "markdown",
      "metadata": {
        "id": "YPbHPLTkXn_q"
      },
      "source": [
        "We will create a Series named \"aapl\" whose values are Apple's daily closing prices, which are of course indexed by dates:"
      ]
    },
    {
      "cell_type": "code",
      "metadata": {
        "id": "gGjLHUOaXpHn"
      },
      "source": [
        "aapl = aapl_table['Close']['2017']"
      ],
      "execution_count": 142,
      "outputs": []
    },
    {
      "cell_type": "code",
      "metadata": {
        "id": "uRzeDMLdbK2b"
      },
      "source": [
        "#Ejemplo\n",
        "appl_dos = data['Close']['2021']"
      ],
      "execution_count": 143,
      "outputs": []
    },
    {
      "cell_type": "code",
      "metadata": {
        "colab": {
          "base_uri": "https://localhost:8080/"
        },
        "id": "XLbqYavObfT-",
        "outputId": "fd601e6d-214c-4282-a35d-53215a8914a2"
      },
      "source": [
        "print(aapl)"
      ],
      "execution_count": 144,
      "outputs": [
        {
          "output_type": "stream",
          "name": "stdout",
          "text": [
            "Date\n",
            "2017-01-03    27.372360\n",
            "2017-01-04    27.341726\n",
            "2017-01-05    27.480768\n",
            "2017-01-06    27.787130\n",
            "2017-01-09    28.041643\n",
            "                ...    \n",
            "2017-12-22    41.906769\n",
            "2017-12-26    40.843601\n",
            "2017-12-27    40.850780\n",
            "2017-12-28    40.965721\n",
            "2017-12-29    40.522732\n",
            "Name: Close, Length: 251, dtype: float64\n"
          ]
        }
      ]
    },
    {
      "cell_type": "code",
      "metadata": {
        "colab": {
          "base_uri": "https://localhost:8080/"
        },
        "id": "Xm-t3G4ebj12",
        "outputId": "709c700b-ecee-435a-caed-020b05147bea"
      },
      "source": [
        "#Ejemplo\n",
        "print(appl_dos)\n"
      ],
      "execution_count": 145,
      "outputs": [
        {
          "output_type": "stream",
          "name": "stdout",
          "text": [
            "Date\n",
            "2021-01-04    6.120\n",
            "2021-01-05    6.160\n",
            "2021-01-06    6.100\n",
            "2021-01-07    6.110\n",
            "2021-01-08    6.360\n",
            "              ...  \n",
            "2021-10-04    0.520\n",
            "2021-10-05    0.510\n",
            "2021-10-06    0.551\n",
            "2021-10-07    0.563\n",
            "2021-10-08    0.560\n",
            "Name: Close, Length: 194, dtype: float64\n"
          ]
        }
      ]
    },
    {
      "cell_type": "markdown",
      "metadata": {
        "id": "qXL0DqEOcA50"
      },
      "source": [
        "Recall that we can fetch a specific data point using series['yyyy-mm-dd']. We can also fetch the data in a specific month using series['yyyy-mm']."
      ]
    },
    {
      "cell_type": "code",
      "metadata": {
        "colab": {
          "base_uri": "https://localhost:8080/"
        },
        "id": "6BxS8MMUcPc1",
        "outputId": "72dcdcba-4ffe-4ee4-c813-70840eac07b1"
      },
      "source": [
        "print(aapl['2017-3'])"
      ],
      "execution_count": 147,
      "outputs": [
        {
          "output_type": "stream",
          "name": "stdout",
          "text": [
            "Date\n",
            "2017-03-01    33.086285\n",
            "2017-03-02    32.889835\n",
            "2017-03-03    33.083920\n",
            "2017-03-06    32.979774\n",
            "2017-03-07    33.022373\n",
            "2017-03-08    32.899300\n",
            "2017-03-09    32.823559\n",
            "2017-03-10    32.932434\n",
            "2017-03-13    32.946640\n",
            "2017-03-14    32.896938\n",
            "2017-03-15    33.244865\n",
            "2017-03-16    33.299309\n",
            "2017-03-17    33.133625\n",
            "2017-03-20    33.481552\n",
            "2017-03-21    33.098125\n",
            "2017-03-22    33.472088\n",
            "2017-03-23    33.353737\n",
            "2017-03-24    33.287468\n",
            "2017-03-27    33.344273\n",
            "2017-03-28    34.035393\n",
            "2017-03-29    34.111134\n",
            "2017-03-30    34.066170\n",
            "2017-03-31    34.002251\n",
            "Name: Close, dtype: float64\n"
          ]
        }
      ]
    },
    {
      "cell_type": "code",
      "metadata": {
        "colab": {
          "base_uri": "https://localhost:8080/"
        },
        "id": "KZEsJimCcPni",
        "outputId": "977e46c8-8694-46a9-96f2-18646d131f17"
      },
      "source": [
        "#Ejemplo\n",
        "print(appl_dos['2021-03'])"
      ],
      "execution_count": 148,
      "outputs": [
        {
          "output_type": "stream",
          "name": "stdout",
          "text": [
            "Date\n",
            "2021-03-01    7.42\n",
            "2021-03-02    7.13\n",
            "2021-03-03    6.47\n",
            "2021-03-04    6.26\n",
            "2021-03-05    6.54\n",
            "2021-03-08    6.21\n",
            "2021-03-09    6.12\n",
            "2021-03-10    5.67\n",
            "2021-03-11    5.82\n",
            "2021-03-12    5.95\n",
            "2021-03-15    6.21\n",
            "2021-03-16    5.90\n",
            "2021-03-17    5.77\n",
            "2021-03-18    5.52\n",
            "2021-03-19    5.63\n",
            "2021-03-22    5.57\n",
            "2021-03-23    5.16\n",
            "2021-03-24    4.71\n",
            "2021-03-25    4.58\n",
            "2021-03-26    4.20\n",
            "2021-03-29    3.69\n",
            "2021-03-30    3.76\n",
            "2021-03-31    4.00\n",
            "Name: Close, dtype: float64\n"
          ]
        }
      ]
    },
    {
      "cell_type": "code",
      "metadata": {
        "colab": {
          "base_uri": "https://localhost:8080/"
        },
        "id": "u3aQXRLJdJDi",
        "outputId": "db9de917-9bd6-4a53-8091-6761f2c2a94a"
      },
      "source": [
        "aapl['2017-2':'2017-4']"
      ],
      "execution_count": 149,
      "outputs": [
        {
          "output_type": "execute_result",
          "data": {
            "text/plain": [
              "Date\n",
              "2017-02-01    30.341726\n",
              "2017-02-02    30.289877\n",
              "2017-02-03    30.419497\n",
              "2017-02-06    30.704651\n",
              "2017-02-07    30.996872\n",
              "                ...    \n",
              "2017-04-24    33.997528\n",
              "2017-04-25    34.208164\n",
              "2017-04-26    34.006992\n",
              "2017-04-27    34.033024\n",
              "2017-04-28    33.999886\n",
              "Name: Close, Length: 61, dtype: float64"
            ]
          },
          "metadata": {},
          "execution_count": 149
        }
      ]
    },
    {
      "cell_type": "code",
      "metadata": {
        "colab": {
          "base_uri": "https://localhost:8080/"
        },
        "id": "ZhzcOCtadM8E",
        "outputId": "76fe7d28-f251-4a12-c802-5bf2f310b5b6"
      },
      "source": [
        "#Ejemplo\n",
        "appl_dos['2020-12':'2021-02']"
      ],
      "execution_count": 150,
      "outputs": [
        {
          "output_type": "execute_result",
          "data": {
            "text/plain": [
              "Date\n",
              "2021-01-04    6.12\n",
              "2021-01-05    6.16\n",
              "2021-01-06    6.10\n",
              "2021-01-07    6.11\n",
              "2021-01-08    6.36\n",
              "2021-01-11    6.39\n",
              "2021-01-12    6.07\n",
              "2021-01-13    6.02\n",
              "2021-01-14    6.00\n",
              "2021-01-15    5.74\n",
              "2021-01-19    5.97\n",
              "2021-01-20    6.36\n",
              "2021-01-21    6.54\n",
              "2021-01-22    6.94\n",
              "2021-01-25    6.69\n",
              "2021-01-26    6.50\n",
              "2021-01-27    6.65\n",
              "2021-01-28    6.18\n",
              "2021-01-29    6.33\n",
              "2021-02-01    6.60\n",
              "2021-02-02    6.85\n",
              "2021-02-03    6.56\n",
              "2021-02-04    6.85\n",
              "2021-02-05    7.04\n",
              "2021-02-08    6.92\n",
              "2021-02-09    7.76\n",
              "2021-02-10    7.51\n",
              "2021-02-11    7.68\n",
              "2021-02-12    8.03\n",
              "2021-02-16    8.49\n",
              "2021-02-17    8.81\n",
              "2021-02-18    8.40\n",
              "2021-02-19    8.50\n",
              "2021-02-22    8.02\n",
              "2021-02-23    7.43\n",
              "2021-02-24    7.71\n",
              "2021-02-25    7.13\n",
              "2021-02-26    7.09\n",
              "Name: Close, dtype: float64"
            ]
          },
          "metadata": {},
          "execution_count": 150
        }
      ]
    },
    {
      "cell_type": "markdown",
      "metadata": {
        "id": "wncJG81HeRlU"
      },
      "source": [
        ".head(N) and .tail(N) are methods for quickly accessing the first or last N elements."
      ]
    },
    {
      "cell_type": "code",
      "metadata": {
        "colab": {
          "base_uri": "https://localhost:8080/"
        },
        "id": "4CNSc9YceS6X",
        "outputId": "679de6d5-e547-4e22-e075-2e4f2f767aa8"
      },
      "source": [
        "print(aapl.head(5))\n",
        "print(aapl.tail(10))"
      ],
      "execution_count": 151,
      "outputs": [
        {
          "output_type": "stream",
          "name": "stdout",
          "text": [
            "Date\n",
            "2017-01-03    27.372360\n",
            "2017-01-04    27.341726\n",
            "2017-01-05    27.480768\n",
            "2017-01-06    27.787130\n",
            "2017-01-09    28.041643\n",
            "Name: Close, dtype: float64\n",
            "Date\n",
            "2017-12-15    41.657742\n",
            "2017-12-18    42.244400\n",
            "2017-12-19    41.794231\n",
            "2017-12-20    41.748734\n",
            "2017-12-21    41.906769\n",
            "2017-12-22    41.906769\n",
            "2017-12-26    40.843601\n",
            "2017-12-27    40.850780\n",
            "2017-12-28    40.965721\n",
            "2017-12-29    40.522732\n",
            "Name: Close, dtype: float64\n"
          ]
        }
      ]
    },
    {
      "cell_type": "code",
      "metadata": {
        "colab": {
          "base_uri": "https://localhost:8080/"
        },
        "id": "FNuyuivAeZHz",
        "outputId": "1ffb9b64-2d3f-4620-c3c4-1957f130d38f"
      },
      "source": [
        "#Ejemplo\n",
        "print(appl_dos.head(6))\n",
        "print(appl_dos.tail(11))"
      ],
      "execution_count": 152,
      "outputs": [
        {
          "output_type": "stream",
          "name": "stdout",
          "text": [
            "Date\n",
            "2021-01-04    6.12\n",
            "2021-01-05    6.16\n",
            "2021-01-06    6.10\n",
            "2021-01-07    6.11\n",
            "2021-01-08    6.36\n",
            "2021-01-11    6.39\n",
            "Name: Close, dtype: float64\n",
            "Date\n",
            "2021-09-24    0.480\n",
            "2021-09-27    0.530\n",
            "2021-09-28    0.554\n",
            "2021-09-29    0.532\n",
            "2021-09-30    0.580\n",
            "2021-10-01    0.540\n",
            "2021-10-04    0.520\n",
            "2021-10-05    0.510\n",
            "2021-10-06    0.551\n",
            "2021-10-07    0.563\n",
            "2021-10-08    0.560\n",
            "Name: Close, dtype: float64\n"
          ]
        }
      ]
    },
    {
      "cell_type": "markdown",
      "metadata": {
        "id": "7iw-l646e10w"
      },
      "source": [
        "# Resampling\n",
        "**_series.resample(freq)_** is a class called \"DatetimeIndexResampler\" which groups data in a Series object into regular time intervals. The argument \"freq\" determines the length of each interval.\n",
        "\n",
        "**_series.resample.mean()_** is a complete statement that groups data into intervals, and then compute the mean of each interval. For example, if we want to aggregate the daily data into monthly data by mean:"
      ]
    },
    {
      "cell_type": "code",
      "metadata": {
        "colab": {
          "base_uri": "https://localhost:8080/"
        },
        "id": "V_DqmvtyfAWs",
        "outputId": "ecfccdd7-9494-4333-a1e2-950b1eece1cc"
      },
      "source": [
        "\n",
        "by_month = aapl.resample('M').mean()\n",
        "print(by_month)"
      ],
      "execution_count": 153,
      "outputs": [
        {
          "output_type": "stream",
          "name": "stdout",
          "text": [
            "Date\n",
            "2017-01-31    28.178332\n",
            "2017-02-28    31.606276\n",
            "2017-03-31    33.282219\n",
            "2017-04-30    33.819262\n",
            "2017-05-31    36.125686\n",
            "2017-06-30    35.133984\n",
            "2017-07-31    35.245242\n",
            "2017-08-31    37.897229\n",
            "2017-09-30    37.604738\n",
            "2017-10-31    37.654550\n",
            "2017-11-30    41.233917\n",
            "2017-12-31    41.160037\n",
            "Freq: M, Name: Close, dtype: float64\n"
          ]
        }
      ]
    },
    {
      "cell_type": "code",
      "metadata": {
        "colab": {
          "base_uri": "https://localhost:8080/"
        },
        "id": "3boh0QRBfHJ3",
        "outputId": "dd500823-58fa-42e4-d9fc-ff77021abcd5"
      },
      "source": [
        "#Ejemplo\n",
        "by_month_dos = appl_dos.resample('M').mean()\n",
        "print(by_month_dos)"
      ],
      "execution_count": 154,
      "outputs": [
        {
          "output_type": "stream",
          "name": "stdout",
          "text": [
            "Date\n",
            "2021-01-31    6.275263\n",
            "2021-02-28    7.546316\n",
            "2021-03-31    5.577826\n",
            "2021-04-30    3.806190\n",
            "2021-05-31    2.609500\n",
            "2021-06-30    1.883182\n",
            "2021-07-31    1.194762\n",
            "2021-08-31    0.625455\n",
            "2021-09-30    0.569714\n",
            "2021-10-31    0.540667\n",
            "Freq: M, Name: Close, dtype: float64\n"
          ]
        }
      ]
    },
    {
      "cell_type": "markdown",
      "metadata": {
        "id": "bFJ6BELBgCJK"
      },
      "source": [
        "We can also aggregate the data by month with max:"
      ]
    },
    {
      "cell_type": "code",
      "metadata": {
        "colab": {
          "base_uri": "https://localhost:8080/"
        },
        "id": "lYoVemkugFPT",
        "outputId": "a058825f-9aaa-4e28-af43-947a61f8f285"
      },
      "source": [
        "aapl.resample('M').max()"
      ],
      "execution_count": 155,
      "outputs": [
        {
          "output_type": "execute_result",
          "data": {
            "text/plain": [
              "Date\n",
              "2017-01-31    28.739212\n",
              "2017-02-28    32.451969\n",
              "2017-03-31    34.111134\n",
              "2017-04-30    34.264980\n",
              "2017-05-31    37.099133\n",
              "2017-06-30    36.944645\n",
              "2017-07-31    36.471699\n",
              "2017-08-31    39.129723\n",
              "2017-09-30    39.141647\n",
              "2017-10-31    40.332249\n",
              "2017-11-30    42.050133\n",
              "2017-12-31    42.244400\n",
              "Freq: M, Name: Close, dtype: float64"
            ]
          },
          "metadata": {},
          "execution_count": 155
        }
      ]
    },
    {
      "cell_type": "code",
      "metadata": {
        "colab": {
          "base_uri": "https://localhost:8080/"
        },
        "id": "Vr_sNpH8gRQ7",
        "outputId": "beb34d98-cd2a-4f1b-a605-73a16f2f73f2"
      },
      "source": [
        "#Ejemplo\n",
        "appl_dos.resample('M').max()"
      ],
      "execution_count": 156,
      "outputs": [
        {
          "output_type": "execute_result",
          "data": {
            "text/plain": [
              "Date\n",
              "2021-01-31    6.940\n",
              "2021-02-28    8.810\n",
              "2021-03-31    7.420\n",
              "2021-04-30    4.350\n",
              "2021-05-31    3.400\n",
              "2021-06-30    2.200\n",
              "2021-07-31    1.780\n",
              "2021-08-31    0.716\n",
              "2021-09-30    0.707\n",
              "2021-10-31    0.563\n",
              "Freq: M, Name: Close, dtype: float64"
            ]
          },
          "metadata": {},
          "execution_count": 156
        }
      ]
    },
    {
      "cell_type": "markdown",
      "metadata": {
        "id": "SfsQjVeJggIy"
      },
      "source": [
        "We can choose almost any frequency by using the format 'nf', where 'n' is an integer and 'f' is M for month, W for week and D for day."
      ]
    },
    {
      "cell_type": "code",
      "metadata": {
        "colab": {
          "base_uri": "https://localhost:8080/"
        },
        "id": "5GVdKZEggj8r",
        "outputId": "1eeeb2fa-2b5a-43f6-a40a-a2082c33093c"
      },
      "source": [
        "three_day = aapl.resample('3D').mean()\n",
        "two_week = aapl.resample('2W').mean()\n",
        "two_month = aapl.resample('2M').mean()\n",
        "\n",
        "\n",
        "print(three_day)\n",
        "print(two_week)\n",
        "print(two_month )"
      ],
      "execution_count": 157,
      "outputs": [
        {
          "output_type": "stream",
          "name": "stdout",
          "text": [
            "Date\n",
            "2017-01-03    27.398285\n",
            "2017-01-06    27.787130\n",
            "2017-01-09    28.110772\n",
            "2017-01-12    28.078176\n",
            "2017-01-15    28.279669\n",
            "                ...    \n",
            "2017-12-17    42.019316\n",
            "2017-12-20    41.854090\n",
            "2017-12-23          NaN\n",
            "2017-12-26    40.886701\n",
            "2017-12-29    40.522732\n",
            "Freq: 3D, Name: Close, Length: 121, dtype: float64\n",
            "Date\n",
            "2017-01-08    27.495496\n",
            "2017-01-22    28.172571\n",
            "2017-02-05    29.108261\n",
            "2017-02-19    31.516817\n",
            "2017-03-05    32.595558\n",
            "2017-03-19    33.017882\n",
            "2017-04-02    33.625219\n",
            "2017-04-16    33.849727\n",
            "2017-04-30    33.791843\n",
            "2017-05-14    35.697634\n",
            "2017-05-28    36.496180\n",
            "2017-06-11    36.515007\n",
            "2017-06-25    34.529047\n",
            "2017-07-09    34.265135\n",
            "2017-07-23    35.278872\n",
            "2017-08-06    36.272778\n",
            "2017-08-20    37.904119\n",
            "2017-09-03    38.458792\n",
            "2017-09-17    38.282706\n",
            "2017-10-01    36.840875\n",
            "2017-10-15    37.071594\n",
            "2017-10-29    37.757320\n",
            "2017-11-12    41.032237\n",
            "2017-11-26    41.204381\n",
            "2017-12-10    40.867067\n",
            "2017-12-24    41.620865\n",
            "2018-01-07    40.795709\n",
            "Freq: 2W-SUN, Name: Close, dtype: float64\n",
            "Date\n",
            "2017-01-31    28.178332\n",
            "2017-03-31    32.524055\n",
            "2017-05-31    35.056855\n",
            "2017-07-31    35.186964\n",
            "2017-09-30    37.761186\n",
            "2017-11-30    39.402613\n",
            "2018-01-31    41.160037\n",
            "Freq: 2M, Name: Close, dtype: float64\n"
          ]
        }
      ]
    },
    {
      "cell_type": "code",
      "metadata": {
        "colab": {
          "base_uri": "https://localhost:8080/"
        },
        "id": "OSW_Ttxmgoxz",
        "outputId": "2e162752-0cf8-4860-9f57-740291c77bb3"
      },
      "source": [
        "#Ejemplo\n",
        "three_day_dos = appl_dos.resample('3D').mean()\n",
        "two_week_dos = appl_dos.resample('2W').mean()\n",
        "two_month_dos = appl_dos.resample('2M').mean()\n",
        "\n",
        "\n",
        "print(three_day_dos)\n",
        "print(two_week_dos)\n",
        "print(two_month_dos)"
      ],
      "execution_count": 158,
      "outputs": [
        {
          "output_type": "stream",
          "name": "stdout",
          "text": [
            "Date\n",
            "2021-01-04    6.126667\n",
            "2021-01-07    6.235000\n",
            "2021-01-10    6.230000\n",
            "2021-01-13    5.920000\n",
            "2021-01-16         NaN\n",
            "                ...   \n",
            "2021-09-25    0.530000\n",
            "2021-09-28    0.555333\n",
            "2021-10-01    0.540000\n",
            "2021-10-04    0.527000\n",
            "2021-10-07    0.561500\n",
            "Freq: 3D, Name: Close, Length: 93, dtype: float64\n",
            "Date\n",
            "2021-01-10    6.170000\n",
            "2021-01-24    6.225556\n",
            "2021-02-07    6.625000\n",
            "2021-02-21    8.011111\n",
            "2021-03-07    7.120000\n",
            "2021-03-21    5.880000\n",
            "2021-04-04    4.446667\n",
            "2021-04-18    3.728000\n",
            "2021-05-02    3.830000\n",
            "2021-05-16    3.027000\n",
            "2021-05-30    2.192000\n",
            "2021-06-13    1.963333\n",
            "2021-06-27    1.829000\n",
            "2021-07-11    1.641111\n",
            "2021-07-25    1.233000\n",
            "2021-08-08    0.683200\n",
            "2021-08-22    0.615800\n",
            "2021-09-05    0.628800\n",
            "2021-09-19    0.594556\n",
            "2021-10-03    0.509500\n",
            "2021-10-17    0.540800\n",
            "Freq: 2W-SUN, Name: Close, dtype: float64\n",
            "Date\n",
            "2021-01-31    6.275263\n",
            "2021-03-31    6.468333\n",
            "2021-05-31    3.222439\n",
            "2021-07-31    1.546977\n",
            "2021-09-30    0.598233\n",
            "2021-11-30    0.540667\n",
            "Freq: 2M, Name: Close, dtype: float64\n"
          ]
        }
      ]
    },
    {
      "cell_type": "markdown",
      "metadata": {
        "id": "x4lt8egpg7dI"
      },
      "source": [
        "Besides the mean() method, other methods can also be used with the resampler:\n"
      ]
    },
    {
      "cell_type": "code",
      "metadata": {
        "colab": {
          "base_uri": "https://localhost:8080/"
        },
        "id": "y8s62mIOhCVo",
        "outputId": "6ce56d45-a513-4074-ef13-f3d6c7aefe0c"
      },
      "source": [
        "std = aapl.resample('W').std()\n",
        "max = aapl.resample('W').max()\n",
        "min = aapl.resample('W').min()\n",
        "\n",
        "\n",
        "print(std)\n",
        "print(max)\n",
        "print(min)"
      ],
      "execution_count": 159,
      "outputs": [
        {
          "output_type": "stream",
          "name": "stdout",
          "text": [
            "Date\n",
            "2017-01-08    0.203368\n",
            "2017-01-15    0.072529\n",
            "2017-01-22    0.025554\n",
            "2017-01-29    0.245287\n",
            "2017-02-05    0.943260\n",
            "2017-02-12    0.251999\n",
            "2017-02-19    0.231392\n",
            "2017-02-26    0.059343\n",
            "2017-03-05    0.340091\n",
            "2017-03-12    0.076285\n",
            "2017-03-19    0.177836\n",
            "2017-03-26    0.157262\n",
            "2017-04-02    0.319808\n",
            "2017-04-09    0.128690\n",
            "2017-04-16    0.212473\n",
            "2017-04-23    0.174677\n",
            "2017-04-30    0.090020\n",
            "2017-05-07    0.235642\n",
            "2017-05-14    0.352980\n",
            "2017-05-21    0.536090\n",
            "2017-05-28    0.060394\n",
            "2017-06-04    0.281221\n",
            "2017-06-11    0.620035\n",
            "2017-06-18    0.382567\n",
            "2017-06-25    0.128895\n",
            "2017-07-02    0.264110\n",
            "2017-07-09    0.158894\n",
            "2017-07-16    0.404280\n",
            "2017-07-23    0.124987\n",
            "2017-07-30    0.384439\n",
            "2017-08-06    0.924390\n",
            "2017-08-13    0.467471\n",
            "2017-08-20    0.435249\n",
            "2017-08-27    0.275769\n",
            "2017-09-03    0.251724\n",
            "2017-09-10    0.381638\n",
            "2017-09-17    0.294140\n",
            "2017-09-24    0.735195\n",
            "2017-10-01    0.354844\n",
            "2017-10-08    0.204854\n",
            "2017-10-15    0.118733\n",
            "2017-10-22    0.517000\n",
            "2017-10-29    0.680458\n",
            "2017-11-05    0.560681\n",
            "2017-11-12    0.190969\n",
            "2017-11-19    0.436197\n",
            "2017-11-26    0.563039\n",
            "2017-12-03    0.427445\n",
            "2017-12-10    0.073132\n",
            "2017-12-17    0.205265\n",
            "2017-12-24    0.194123\n",
            "2017-12-31    0.190392\n",
            "Freq: W-SUN, Name: Close, dtype: float64\n",
            "Date\n",
            "2017-01-08    27.787130\n",
            "2017-01-15    28.220749\n",
            "2017-01-22    28.279669\n",
            "2017-01-29    28.739212\n",
            "2017-02-05    30.419497\n",
            "2017-02-12    31.341909\n",
            "2017-02-19    32.122967\n",
            "2017-02-26    32.451969\n",
            "2017-03-05    33.086285\n",
            "2017-03-12    33.022373\n",
            "2017-03-19    33.299309\n",
            "2017-03-26    33.481552\n",
            "2017-04-02    34.111134\n",
            "2017-04-09    34.264980\n",
            "2017-04-16    33.886280\n",
            "2017-04-23    33.713505\n",
            "2017-04-30    34.208164\n",
            "2017-05-07    35.256702\n",
            "2017-05-14    37.099133\n",
            "2017-05-21    37.004059\n",
            "2017-05-28    36.597664\n",
            "2017-06-04    36.944645\n",
            "2017-06-11    36.925632\n",
            "2017-06-18    34.838963\n",
            "2017-06-25    34.779549\n",
            "2017-07-02    34.658337\n",
            "2017-07-09    34.266197\n",
            "2017-07-16    35.421223\n",
            "2017-07-23    35.891800\n",
            "2017-07-30    36.471699\n",
            "2017-08-06    37.346302\n",
            "2017-08-13    38.277931\n",
            "2017-08-20    38.557091\n",
            "2017-08-27    38.170567\n",
            "2017-09-03    39.141647\n",
            "2017-09-10    38.671616\n",
            "2017-09-17    38.533230\n",
            "2017-09-24    37.872322\n",
            "2017-10-01    36.798634\n",
            "2017-10-08    37.075401\n",
            "2017-10-15    37.457169\n",
            "2017-10-22    38.287479\n",
            "2017-10-29    38.903061\n",
            "2017-11-05    41.157784\n",
            "2017-11-12    42.050133\n",
            "2017-11-19    41.657742\n",
            "2017-11-26    41.897198\n",
            "2017-12-03    41.686478\n",
            "2017-12-10    40.659225\n",
            "2017-12-17    41.657742\n",
            "2017-12-24    42.244400\n",
            "2017-12-31    40.965721\n",
            "Freq: W-SUN, Name: Close, dtype: float64\n",
            "Date\n",
            "2017-01-08    27.341726\n",
            "2017-01-15    28.041643\n",
            "2017-01-22    28.227823\n",
            "2017-01-29    28.272593\n",
            "2017-02-05    28.597816\n",
            "2017-02-12    30.704651\n",
            "2017-02-19    31.547827\n",
            "2017-02-26    32.314697\n",
            "2017-03-05    32.409359\n",
            "2017-03-12    32.823559\n",
            "2017-03-19    32.896938\n",
            "2017-03-26    33.098125\n",
            "2017-04-02    33.344273\n",
            "2017-04-09    33.926517\n",
            "2017-04-16    33.384514\n",
            "2017-04-23    33.296928\n",
            "2017-04-30    33.997528\n",
            "2017-05-07    34.681545\n",
            "2017-05-14    36.215267\n",
            "2017-05-21    35.708809\n",
            "2017-05-28    36.443176\n",
            "2017-06-04    36.305340\n",
            "2017-06-11    35.406971\n",
            "2017-06-18    33.812256\n",
            "2017-06-25    34.463451\n",
            "2017-07-02    34.147362\n",
            "2017-07-09    33.921570\n",
            "2017-07-16    34.475330\n",
            "2017-07-23    35.544815\n",
            "2017-07-30    35.530560\n",
            "2017-08-06    35.347561\n",
            "2017-08-13    37.058704\n",
            "2017-08-20    37.578850\n",
            "2017-08-27    37.509655\n",
            "2017-09-03    38.526073\n",
            "2017-09-10    37.848465\n",
            "2017-09-17    37.764950\n",
            "2017-09-24    36.240330\n",
            "2017-10-01    35.920609\n",
            "2017-10-08    36.619698\n",
            "2017-10-15    37.182777\n",
            "2017-10-22    37.216179\n",
            "2017-10-29    37.261517\n",
            "2017-11-05    39.778709\n",
            "2017-11-12    41.575333\n",
            "2017-11-19    40.486816\n",
            "2017-11-26    40.702335\n",
            "2017-12-03    40.582596\n",
            "2017-12-10    40.470051\n",
            "2017-12-17    41.114178\n",
            "2017-12-24    41.748734\n",
            "2017-12-31    40.522732\n",
            "Freq: W-SUN, Name: Close, dtype: float64\n"
          ]
        }
      ]
    },
    {
      "cell_type": "code",
      "metadata": {
        "colab": {
          "base_uri": "https://localhost:8080/"
        },
        "id": "Zr-kKHEjhERe",
        "outputId": "c7bdf1a9-b311-4abb-9b78-9400510b0508"
      },
      "source": [
        "#Ejemplo\n",
        "std_dos = appl_dos.resample('W').std()\n",
        "max_dos = appl_dos.resample('W').max()\n",
        "min_dos = appl_dos.resample('W').min()\n",
        "\n",
        "\n",
        "print(std_dos)\n",
        "print(max_dos)\n",
        "print(min_dos)"
      ],
      "execution_count": 160,
      "outputs": [
        {
          "output_type": "stream",
          "name": "stdout",
          "text": [
            "Date\n",
            "2021-01-10    0.108628\n",
            "2021-01-17    0.232013\n",
            "2021-01-24    0.402772\n",
            "2021-01-31    0.215291\n",
            "2021-02-07    0.198872\n",
            "2021-02-14    0.413944\n",
            "2021-02-21    0.179072\n",
            "2021-02-28    0.394183\n",
            "2021-03-07    0.488600\n",
            "2021-03-14    0.218929\n",
            "2021-03-21    0.267451\n",
            "2021-03-28    0.531347\n",
            "2021-04-04    0.297881\n",
            "2021-04-11    0.118448\n",
            "2021-04-18    0.048166\n",
            "2021-04-25    0.093167\n",
            "2021-05-02    0.239541\n",
            "2021-05-09    0.146799\n",
            "2021-05-16    0.200075\n",
            "2021-05-23    0.107378\n",
            "2021-05-30    0.140428\n",
            "2021-06-06    0.100457\n",
            "2021-06-13    0.189921\n",
            "2021-06-20    0.132966\n",
            "2021-06-27    0.074632\n",
            "2021-07-04    0.065422\n",
            "2021-07-11    0.106771\n",
            "2021-07-18    0.076289\n",
            "2021-07-25    0.174442\n",
            "2021-08-01    0.032280\n",
            "2021-08-08    0.003912\n",
            "2021-08-15    0.044289\n",
            "2021-08-22    0.017869\n",
            "2021-08-29    0.026725\n",
            "2021-09-05    0.037925\n",
            "2021-09-12    0.027622\n",
            "2021-09-19    0.047431\n",
            "2021-09-26    0.016498\n",
            "2021-10-03    0.020620\n",
            "2021-10-10    0.024222\n",
            "Freq: W-SUN, Name: Close, dtype: float64\n",
            "Date\n",
            "2021-01-10    6.360\n",
            "2021-01-17    6.390\n",
            "2021-01-24    6.940\n",
            "2021-01-31    6.690\n",
            "2021-02-07    7.040\n",
            "2021-02-14    8.030\n",
            "2021-02-21    8.810\n",
            "2021-02-28    8.020\n",
            "2021-03-07    7.420\n",
            "2021-03-14    6.210\n",
            "2021-03-21    6.210\n",
            "2021-03-28    5.570\n",
            "2021-04-04    4.350\n",
            "2021-04-11    4.090\n",
            "2021-04-18    3.620\n",
            "2021-04-25    3.830\n",
            "2021-05-02    4.130\n",
            "2021-05-09    3.400\n",
            "2021-05-16    3.100\n",
            "2021-05-23    2.540\n",
            "2021-05-30    2.160\n",
            "2021-06-06    2.020\n",
            "2021-06-13    2.200\n",
            "2021-06-20    2.030\n",
            "2021-06-27    1.870\n",
            "2021-07-04    1.840\n",
            "2021-07-11    1.610\n",
            "2021-07-18    1.420\n",
            "2021-07-25    1.260\n",
            "2021-08-01    0.728\n",
            "2021-08-08    0.679\n",
            "2021-08-15    0.716\n",
            "2021-08-22    0.583\n",
            "2021-08-29    0.634\n",
            "2021-09-05    0.707\n",
            "2021-09-12    0.680\n",
            "2021-09-19    0.630\n",
            "2021-09-26    0.490\n",
            "2021-10-03    0.580\n",
            "2021-10-10    0.563\n",
            "Freq: W-SUN, Name: Close, dtype: float64\n",
            "Date\n",
            "2021-01-10    6.100\n",
            "2021-01-17    5.740\n",
            "2021-01-24    5.970\n",
            "2021-01-31    6.180\n",
            "2021-02-07    6.560\n",
            "2021-02-14    6.920\n",
            "2021-02-21    8.400\n",
            "2021-02-28    7.090\n",
            "2021-03-07    6.260\n",
            "2021-03-14    5.670\n",
            "2021-03-21    5.520\n",
            "2021-03-28    4.200\n",
            "2021-04-04    3.690\n",
            "2021-04-11    3.760\n",
            "2021-04-18    3.490\n",
            "2021-04-25    3.610\n",
            "2021-05-02    3.590\n",
            "2021-05-09    2.990\n",
            "2021-05-16    2.590\n",
            "2021-05-23    2.300\n",
            "2021-05-30    1.770\n",
            "2021-06-06    1.800\n",
            "2021-06-13    1.760\n",
            "2021-06-20    1.710\n",
            "2021-06-27    1.690\n",
            "2021-07-04    1.680\n",
            "2021-07-11    1.360\n",
            "2021-07-18    1.240\n",
            "2021-07-25    0.840\n",
            "2021-08-01    0.652\n",
            "2021-08-08    0.670\n",
            "2021-08-15    0.604\n",
            "2021-08-22    0.536\n",
            "2021-08-29    0.562\n",
            "2021-09-05    0.609\n",
            "2021-09-12    0.620\n",
            "2021-09-19    0.507\n",
            "2021-09-26    0.451\n",
            "2021-10-03    0.530\n",
            "2021-10-10    0.510\n",
            "Freq: W-SUN, Name: Close, dtype: float64\n"
          ]
        }
      ]
    },
    {
      "cell_type": "markdown",
      "metadata": {
        "id": "0USa5ZCmhWDV"
      },
      "source": [
        "Often we want to calculate monthly returns of a stock, based on prices on the last day of each month. To fetch those prices, we use the series.resample.agg() method:"
      ]
    },
    {
      "cell_type": "code",
      "metadata": {
        "colab": {
          "base_uri": "https://localhost:8080/"
        },
        "id": "q9g7J4QzhXly",
        "outputId": "aeec65b0-6d41-4c5a-e0a3-7ed146c91041"
      },
      "source": [
        "last_day = aapl.resample('M').agg(lambda x: x[-1])\n",
        "print(last_day)"
      ],
      "execution_count": 161,
      "outputs": [
        {
          "output_type": "stream",
          "name": "stdout",
          "text": [
            "Date\n",
            "2017-01-31    28.597816\n",
            "2017-02-28    32.423573\n",
            "2017-03-31    34.002251\n",
            "2017-04-30    33.999886\n",
            "2017-05-31    36.305340\n",
            "2017-06-30    34.228168\n",
            "2017-07-31    35.347561\n",
            "2017-08-31    39.129723\n",
            "2017-09-30    36.772400\n",
            "2017-10-31    40.332249\n",
            "2017-11-30    41.150105\n",
            "2017-12-31    40.522732\n",
            "Freq: M, Name: Close, dtype: float64\n"
          ]
        }
      ]
    },
    {
      "cell_type": "code",
      "metadata": {
        "colab": {
          "base_uri": "https://localhost:8080/"
        },
        "id": "5EBPfPw_hayq",
        "outputId": "08f23921-bf20-466c-fb28-65981a73b6a0"
      },
      "source": [
        "#Ejemplo\n",
        "last_day_dos = appl_dos.resample('M').agg(lambda x: x[-3])\n",
        "print(last_day_dos)"
      ],
      "execution_count": 162,
      "outputs": [
        {
          "output_type": "stream",
          "name": "stdout",
          "text": [
            "Date\n",
            "2021-01-31    6.650\n",
            "2021-02-28    7.710\n",
            "2021-03-31    3.690\n",
            "2021-04-30    4.050\n",
            "2021-05-31    1.770\n",
            "2021-06-30    1.840\n",
            "2021-07-31    0.728\n",
            "2021-08-31    0.595\n",
            "2021-09-30    0.554\n",
            "2021-10-31    0.551\n",
            "Freq: M, Name: Close, dtype: float64\n"
          ]
        }
      ]
    },
    {
      "cell_type": "markdown",
      "metadata": {
        "id": "XJiVDm-shuxV"
      },
      "source": [
        "Or directly calculate the monthly rates of return using the data for the first day and the last day:"
      ]
    },
    {
      "cell_type": "code",
      "metadata": {
        "colab": {
          "base_uri": "https://localhost:8080/"
        },
        "id": "oLsffaLih5vq",
        "outputId": "d8105046-5a7c-4f0b-f5f9-cd98762e1a5e"
      },
      "source": [
        "monthly_return = aapl.resample('M').agg(lambda x: x[-1]/x[0] - 1)\n",
        "print(monthly_return)"
      ],
      "execution_count": 163,
      "outputs": [
        {
          "output_type": "stream",
          "name": "stdout",
          "text": [
            "Date\n",
            "2017-01-31    0.044770\n",
            "2017-02-28    0.068613\n",
            "2017-03-31    0.027684\n",
            "2017-04-30   -0.000348\n",
            "2017-05-31    0.046463\n",
            "2017-06-30   -0.059799\n",
            "2017-07-31    0.036446\n",
            "2017-08-31    0.097261\n",
            "2017-09-30   -0.060530\n",
            "2017-10-31    0.099019\n",
            "2017-11-30    0.033422\n",
            "2017-12-31   -0.010640\n",
            "Freq: M, Name: Close, dtype: float64\n"
          ]
        }
      ]
    },
    {
      "cell_type": "code",
      "metadata": {
        "colab": {
          "base_uri": "https://localhost:8080/"
        },
        "id": "9CK1VD2HiCda",
        "outputId": "e9ee857e-bfdf-41a8-b413-a02f27c48776"
      },
      "source": [
        "#Ejemplo\n",
        "monthly_return_dos = appl_dos.resample('M').agg(lambda x: x[-1]/x[0] - 1)\n",
        "print(monthly_return_dos)"
      ],
      "execution_count": 164,
      "outputs": [
        {
          "output_type": "stream",
          "name": "stdout",
          "text": [
            "Date\n",
            "2021-01-31    0.034314\n",
            "2021-02-28    0.074242\n",
            "2021-03-31   -0.460916\n",
            "2021-04-30   -0.174713\n",
            "2021-05-31   -0.432353\n",
            "2021-06-30   -0.113861\n",
            "2021-07-31   -0.612360\n",
            "2021-08-31   -0.029851\n",
            "2021-09-30   -0.179632\n",
            "2021-10-31    0.037037\n",
            "Freq: M, Name: Close, dtype: float64\n"
          ]
        }
      ]
    },
    {
      "cell_type": "markdown",
      "metadata": {
        "id": "-y8gwkMmifa0"
      },
      "source": [
        "Series object also provides us some convenient methods to do some quick calculation."
      ]
    },
    {
      "cell_type": "code",
      "metadata": {
        "colab": {
          "base_uri": "https://localhost:8080/"
        },
        "id": "PsUM7F4Vihr3",
        "outputId": "fbda1e1a-664d-47b3-e963-e322815fc45a"
      },
      "source": [
        "print(monthly_return.mean())\n",
        "print(monthly_return.std())\n",
        "print(monthly_return.max())"
      ],
      "execution_count": 165,
      "outputs": [
        {
          "output_type": "stream",
          "name": "stdout",
          "text": [
            "0.026863413100020633\n",
            "0.052258515941312124\n",
            "0.09901862431941888\n"
          ]
        }
      ]
    },
    {
      "cell_type": "code",
      "metadata": {
        "colab": {
          "base_uri": "https://localhost:8080/"
        },
        "id": "0Lx3uicCiqv7",
        "outputId": "e69f8af4-04b4-4a6c-f296-3ca640f0a814"
      },
      "source": [
        "#Ejemplo\n",
        "print(monthly_return_dos.mean())\n",
        "print(monthly_return_dos.std())\n",
        "print(monthly_return_dos.max())"
      ],
      "execution_count": 166,
      "outputs": [
        {
          "output_type": "stream",
          "name": "stdout",
          "text": [
            "-0.18580929107497307\n",
            "0.23893635212397032\n",
            "0.07424246288418712\n"
          ]
        }
      ]
    },
    {
      "cell_type": "markdown",
      "metadata": {
        "id": "dmzCCKenjFfT"
      },
      "source": [
        "Another two methods frequently used on Series are .diff() and .pct_change(). The former calculates the difference between consecutive elements, and the latter calculates the percentage change."
      ]
    },
    {
      "cell_type": "code",
      "metadata": {
        "colab": {
          "base_uri": "https://localhost:8080/"
        },
        "id": "BEhr7RSajG35",
        "outputId": "9628aea1-54b2-46c8-8128-97123aae5660"
      },
      "source": [
        "print(last_day.diff())\n",
        "print(last_day.pct_change())"
      ],
      "execution_count": 167,
      "outputs": [
        {
          "output_type": "stream",
          "name": "stdout",
          "text": [
            "Date\n",
            "2017-01-31         NaN\n",
            "2017-02-28    3.825756\n",
            "2017-03-31    1.578678\n",
            "2017-04-30   -0.002365\n",
            "2017-05-31    2.305454\n",
            "2017-06-30   -2.077171\n",
            "2017-07-31    1.119392\n",
            "2017-08-31    3.782162\n",
            "2017-09-30   -2.357323\n",
            "2017-10-31    3.559849\n",
            "2017-11-30    0.817856\n",
            "2017-12-31   -0.627373\n",
            "Freq: M, Name: Close, dtype: float64\n",
            "Date\n",
            "2017-01-31         NaN\n",
            "2017-02-28    0.133778\n",
            "2017-03-31    0.048689\n",
            "2017-04-30   -0.000070\n",
            "2017-05-31    0.067808\n",
            "2017-06-30   -0.057214\n",
            "2017-07-31    0.032704\n",
            "2017-08-31    0.106999\n",
            "2017-09-30   -0.060244\n",
            "2017-10-31    0.096808\n",
            "2017-11-30    0.020278\n",
            "2017-12-31   -0.015246\n",
            "Freq: M, Name: Close, dtype: float64\n"
          ]
        }
      ]
    },
    {
      "cell_type": "code",
      "metadata": {
        "colab": {
          "base_uri": "https://localhost:8080/"
        },
        "id": "cxktzolynVJG",
        "outputId": "a3ccfcca-65a8-41f7-d592-2eb813491895"
      },
      "source": [
        "#Ejemplo\n",
        "print(last_day_dos.diff())\n",
        "print(last_day_dos.pct_change())"
      ],
      "execution_count": 168,
      "outputs": [
        {
          "output_type": "stream",
          "name": "stdout",
          "text": [
            "Date\n",
            "2021-01-31      NaN\n",
            "2021-02-28    1.060\n",
            "2021-03-31   -4.020\n",
            "2021-04-30    0.360\n",
            "2021-05-31   -2.280\n",
            "2021-06-30    0.070\n",
            "2021-07-31   -1.112\n",
            "2021-08-31   -0.133\n",
            "2021-09-30   -0.041\n",
            "2021-10-31   -0.003\n",
            "Freq: M, Name: Close, dtype: float64\n",
            "Date\n",
            "2021-01-31         NaN\n",
            "2021-02-28    0.159398\n",
            "2021-03-31   -0.521401\n",
            "2021-04-30    0.097561\n",
            "2021-05-31   -0.562963\n",
            "2021-06-30    0.039548\n",
            "2021-07-31   -0.604348\n",
            "2021-08-31   -0.182692\n",
            "2021-09-30   -0.068908\n",
            "2021-10-31   -0.005415\n",
            "Freq: M, Name: Close, dtype: float64\n"
          ]
        }
      ]
    },
    {
      "cell_type": "markdown",
      "metadata": {
        "id": "j_WMNysXngQI"
      },
      "source": [
        "Notice that we induced a NaN value while calculating percentage changes i.e. returns.\n",
        "\n",
        "When dealing with NaN values, we usually either removing the data point or fill it with a specific value. Here we fill it with 0:\n",
        "\n"
      ]
    },
    {
      "cell_type": "code",
      "metadata": {
        "colab": {
          "base_uri": "https://localhost:8080/"
        },
        "id": "UGT1Xygkng9P",
        "outputId": "8dce1f83-f862-437a-caa9-9f8d2e9694ea"
      },
      "source": [
        "daily_return = last_day.pct_change()\n",
        "print(daily_return.fillna(0))"
      ],
      "execution_count": 169,
      "outputs": [
        {
          "output_type": "stream",
          "name": "stdout",
          "text": [
            "Date\n",
            "2017-01-31    0.000000\n",
            "2017-02-28    0.133778\n",
            "2017-03-31    0.048689\n",
            "2017-04-30   -0.000070\n",
            "2017-05-31    0.067808\n",
            "2017-06-30   -0.057214\n",
            "2017-07-31    0.032704\n",
            "2017-08-31    0.106999\n",
            "2017-09-30   -0.060244\n",
            "2017-10-31    0.096808\n",
            "2017-11-30    0.020278\n",
            "2017-12-31   -0.015246\n",
            "Freq: M, Name: Close, dtype: float64\n"
          ]
        }
      ]
    },
    {
      "cell_type": "code",
      "metadata": {
        "colab": {
          "base_uri": "https://localhost:8080/"
        },
        "id": "O4mtIlFYnkRD",
        "outputId": "67019304-583c-4de5-dc99-ae755eaade4c"
      },
      "source": [
        "#Ejemplo\n",
        "daily_return_dos = last_day_dos.pct_change()\n",
        "print(daily_return_dos.fillna(0))"
      ],
      "execution_count": 170,
      "outputs": [
        {
          "output_type": "stream",
          "name": "stdout",
          "text": [
            "Date\n",
            "2021-01-31    0.000000\n",
            "2021-02-28    0.159398\n",
            "2021-03-31   -0.521401\n",
            "2021-04-30    0.097561\n",
            "2021-05-31   -0.562963\n",
            "2021-06-30    0.039548\n",
            "2021-07-31   -0.604348\n",
            "2021-08-31   -0.182692\n",
            "2021-09-30   -0.068908\n",
            "2021-10-31   -0.005415\n",
            "Freq: M, Name: Close, dtype: float64\n"
          ]
        }
      ]
    },
    {
      "cell_type": "markdown",
      "metadata": {
        "id": "9KLUwNQznuee"
      },
      "source": [
        "Alternatively, we can fill a NaN with the next fitted value. This is called 'backward fill', or 'bfill' in short:"
      ]
    },
    {
      "cell_type": "code",
      "metadata": {
        "colab": {
          "base_uri": "https://localhost:8080/"
        },
        "id": "XaPuJh8xnwGf",
        "outputId": "0d790f3f-d829-407b-96a4-cacebecfeb29"
      },
      "source": [
        "daily_return = last_day.pct_change()\n",
        "print(daily_return.fillna(method = 'bfill'))"
      ],
      "execution_count": 171,
      "outputs": [
        {
          "output_type": "stream",
          "name": "stdout",
          "text": [
            "Date\n",
            "2017-01-31    0.133778\n",
            "2017-02-28    0.133778\n",
            "2017-03-31    0.048689\n",
            "2017-04-30   -0.000070\n",
            "2017-05-31    0.067808\n",
            "2017-06-30   -0.057214\n",
            "2017-07-31    0.032704\n",
            "2017-08-31    0.106999\n",
            "2017-09-30   -0.060244\n",
            "2017-10-31    0.096808\n",
            "2017-11-30    0.020278\n",
            "2017-12-31   -0.015246\n",
            "Freq: M, Name: Close, dtype: float64\n"
          ]
        }
      ]
    },
    {
      "cell_type": "code",
      "metadata": {
        "colab": {
          "base_uri": "https://localhost:8080/"
        },
        "id": "7kDMKe5VnyM6",
        "outputId": "5508fcc2-6c92-42b2-f5b1-5a01672ba09d"
      },
      "source": [
        "#Ejemplo\n",
        "daily_return_dos = last_day_dos.pct_change()\n",
        "print(daily_return_dos.fillna(method = 'bfill'))"
      ],
      "execution_count": 172,
      "outputs": [
        {
          "output_type": "stream",
          "name": "stdout",
          "text": [
            "Date\n",
            "2021-01-31    0.159398\n",
            "2021-02-28    0.159398\n",
            "2021-03-31   -0.521401\n",
            "2021-04-30    0.097561\n",
            "2021-05-31   -0.562963\n",
            "2021-06-30    0.039548\n",
            "2021-07-31   -0.604348\n",
            "2021-08-31   -0.182692\n",
            "2021-09-30   -0.068908\n",
            "2021-10-31   -0.005415\n",
            "Freq: M, Name: Close, dtype: float64\n"
          ]
        }
      ]
    },
    {
      "cell_type": "markdown",
      "metadata": {
        "id": "QIMvBYzxn8qF"
      },
      "source": [
        "As expected, since there is a 'backward fill' method, there must be a 'forward fill' method, or 'ffill' in short. However we can't use it here because the NaN is the first value.\n",
        "\n",
        "We can also simply remove NaN values by .dropna()"
      ]
    },
    {
      "cell_type": "code",
      "metadata": {
        "colab": {
          "base_uri": "https://localhost:8080/"
        },
        "id": "kkOwfGWgn-kD",
        "outputId": "56cb5f86-67d6-4cb7-83a3-f2d29bc7a350"
      },
      "source": [
        "daily_return = last_day.pct_change()\n",
        "daily_return.dropna()"
      ],
      "execution_count": 173,
      "outputs": [
        {
          "output_type": "execute_result",
          "data": {
            "text/plain": [
              "Date\n",
              "2017-02-28    0.133778\n",
              "2017-03-31    0.048689\n",
              "2017-04-30   -0.000070\n",
              "2017-05-31    0.067808\n",
              "2017-06-30   -0.057214\n",
              "2017-07-31    0.032704\n",
              "2017-08-31    0.106999\n",
              "2017-09-30   -0.060244\n",
              "2017-10-31    0.096808\n",
              "2017-11-30    0.020278\n",
              "2017-12-31   -0.015246\n",
              "Freq: M, Name: Close, dtype: float64"
            ]
          },
          "metadata": {},
          "execution_count": 173
        }
      ]
    },
    {
      "cell_type": "code",
      "metadata": {
        "colab": {
          "base_uri": "https://localhost:8080/"
        },
        "id": "F3fc-Eh1oB4H",
        "outputId": "55901444-dde6-4eae-ff46-65ef1a9cd6af"
      },
      "source": [
        "#Ejemplo\n",
        "daily_return_dos = last_day_dos.pct_change()\n",
        "daily_return_dos.dropna()"
      ],
      "execution_count": 174,
      "outputs": [
        {
          "output_type": "execute_result",
          "data": {
            "text/plain": [
              "Date\n",
              "2021-02-28    0.159398\n",
              "2021-03-31   -0.521401\n",
              "2021-04-30    0.097561\n",
              "2021-05-31   -0.562963\n",
              "2021-06-30    0.039548\n",
              "2021-07-31   -0.604348\n",
              "2021-08-31   -0.182692\n",
              "2021-09-30   -0.068908\n",
              "2021-10-31   -0.005415\n",
              "Freq: M, Name: Close, dtype: float64"
            ]
          },
          "metadata": {},
          "execution_count": 174
        }
      ]
    },
    {
      "cell_type": "markdown",
      "metadata": {
        "id": "hzOVy0luoSu4"
      },
      "source": [
        "# DataFrame\n",
        "The **DataFrame** is the most commonly used data structure in Pandas. It is essentially a table, just like an Excel spreadsheet.\n",
        "\n",
        "More precisely, a DataFrame is a collection of Series objects, each of which may contain different data types. A DataFrame can be created from various data types: dictionary, 2-D numpy.ndarray, a Series or another DataFrame.\n",
        "\n",
        "## Create DataFrames\n",
        "The most common method of creating a DataFrame is passing a dictionary:"
      ]
    },
    {
      "cell_type": "code",
      "metadata": {
        "colab": {
          "base_uri": "https://localhost:8080/"
        },
        "id": "okRnPdL3oVdc",
        "outputId": "d2c429ef-089f-40e0-8bfb-040d50568dfd"
      },
      "source": [
        "dict = {'AAPL': [143.5, 144.09, 142.73, 144.18, 143.77],'GOOG':[898.7, 911.71, 906.69, 918.59, 926.99],\n",
        "        'IBM':[155.58, 153.67, 152.36, 152.94, 153.49]}\n",
        "data_index = pd.date_range('2017-07-03',periods = 5, freq = 'D')\n",
        "df = pd.DataFrame(dict, index = data_index)\n",
        "print(df)"
      ],
      "execution_count": 175,
      "outputs": [
        {
          "output_type": "stream",
          "name": "stdout",
          "text": [
            "              AAPL    GOOG     IBM\n",
            "2017-07-03  143.50  898.70  155.58\n",
            "2017-07-04  144.09  911.71  153.67\n",
            "2017-07-05  142.73  906.69  152.36\n",
            "2017-07-06  144.18  918.59  152.94\n",
            "2017-07-07  143.77  926.99  153.49\n"
          ]
        }
      ]
    },
    {
      "cell_type": "code",
      "metadata": {
        "colab": {
          "base_uri": "https://localhost:8080/"
        },
        "id": "fuNYp6pbodLi",
        "outputId": "059007bf-66d3-42e6-9edb-1c195fc525cd"
      },
      "source": [
        "#Ejemplo\n",
        "dict_dos = {'YAHH': [354.21, 658.09, 122.35, 294.80, 333.66],'OUTL':[579.55, 877.76, 767.69,431.49, 545.77],\n",
        "        'MSF':[643.88, 251.44, 333.33, 287.88, 598.54]}\n",
        "data_index_dos = pd.date_range('2020-03-21',periods = 5, freq = 'D')\n",
        "df_dos = pd.DataFrame(dict_dos, index = data_index_dos)\n",
        "print(df_dos)"
      ],
      "execution_count": 176,
      "outputs": [
        {
          "output_type": "stream",
          "name": "stdout",
          "text": [
            "              YAHH    OUTL     MSF\n",
            "2020-03-21  354.21  579.55  643.88\n",
            "2020-03-22  658.09  877.76  251.44\n",
            "2020-03-23  122.35  767.69  333.33\n",
            "2020-03-24  294.80  431.49  287.88\n",
            "2020-03-25  333.66  545.77  598.54\n"
          ]
        }
      ]
    },
    {
      "cell_type": "markdown",
      "metadata": {
        "id": "Iy1N10Czvjeq"
      },
      "source": [
        "## Manipulating DataFrames\n",
        "We can fetch values in a DataFrame by columns and index. Each column in a DataFrame is essentially a Pandas Series. We can fetch a column by square brackets: **df['column_name']**\n",
        "\n",
        "If a column name contains no spaces, then we can also use df.column_name to fetch a column:"
      ]
    },
    {
      "cell_type": "code",
      "metadata": {
        "colab": {
          "base_uri": "https://localhost:8080/"
        },
        "id": "u06nVGHJvp0q",
        "outputId": "8c12a381-356b-4b0e-dda2-c32398a5759f"
      },
      "source": [
        "df = aapl_table\n",
        "print(df.Close.tail(5))\n",
        "print(df['Volume'].tail(5))"
      ],
      "execution_count": 177,
      "outputs": [
        {
          "output_type": "stream",
          "name": "stdout",
          "text": [
            "Date\n",
            "2017-12-22    41.906769\n",
            "2017-12-26    40.843601\n",
            "2017-12-27    40.850780\n",
            "2017-12-28    40.965721\n",
            "2017-12-29    40.522732\n",
            "Name: Close, dtype: float64\n",
            "Date\n",
            "2017-12-22     65397600\n",
            "2017-12-26    132742000\n",
            "2017-12-27     85992800\n",
            "2017-12-28     65920800\n",
            "2017-12-29    103999600\n",
            "Name: Volume, dtype: int64\n"
          ]
        }
      ]
    },
    {
      "cell_type": "code",
      "metadata": {
        "colab": {
          "base_uri": "https://localhost:8080/"
        },
        "id": "iyJAFXD9zpA7",
        "outputId": "5e2efdc1-3fd8-4781-ac4d-4a8410575ccf"
      },
      "source": [
        "#Ejemplo\n",
        "df_tres = data\n",
        "print(df_tres.Close.tail(3))\n",
        "print(df_tres['Volume'].tail(5))"
      ],
      "execution_count": 178,
      "outputs": [
        {
          "output_type": "stream",
          "name": "stdout",
          "text": [
            "Date\n",
            "2021-10-06    0.551\n",
            "2021-10-07    0.563\n",
            "2021-10-08    0.560\n",
            "Name: Close, dtype: float64\n",
            "Date\n",
            "2021-10-04    976700\n",
            "2021-10-05    734400\n",
            "2021-10-06    781000\n",
            "2021-10-07    665100\n",
            "2021-10-08    680000\n",
            "Name: Volume, dtype: int64\n"
          ]
        }
      ]
    },
    {
      "cell_type": "markdown",
      "metadata": {
        "id": "IO9Kc3Ej0KOt"
      },
      "source": [
        "All the methods we applied to a Series index such as iloc[], loc[] and resampling methods, can also be applied to a DataFrame:"
      ]
    },
    {
      "cell_type": "code",
      "metadata": {
        "colab": {
          "base_uri": "https://localhost:8080/"
        },
        "id": "uq-4G8m7zpEO",
        "outputId": "516c6c3d-e097-493b-e6f6-e66cbb7a1b34"
      },
      "source": [
        "aapl_2016 = df['2016']\n",
        "aapl_month = aapl_2016.resample('M').agg(lambda x: x[-1])\n",
        "print(aapl_month)"
      ],
      "execution_count": 179,
      "outputs": [
        {
          "output_type": "stream",
          "name": "stdout",
          "text": [
            "                 Open       High        Low  ...     Volume  Dividends  Stock Splits\n",
            "Date                                         ...                                    \n",
            "2016-01-31  21.852384  22.440247  21.750948  ...  257666000        0.0             0\n",
            "2016-02-29  22.450757  22.768304  22.402082  ...  140865200        0.0             0\n",
            "2016-03-31  25.431524  25.473245  25.236823  ...  103553600        0.0             0\n",
            "2016-04-30  21.785533  21.954737  21.442491  ...  274126000        0.0             0\n",
            "2016-05-31  23.226411  23.412969  23.044518  ...  169228800        0.0             0\n",
            "2016-06-30  22.023108  22.333258  21.990461  ...  143345600        0.0             0\n",
            "2016-07-31  24.296778  24.380729  24.177847  ...  110934800        0.0             0\n",
            "2016-08-31  24.773058  24.986415  24.768367  ...  118649600        0.0             0\n",
            "2016-09-30  26.367380  26.580740  26.212637  ...  145516400        0.0             0\n",
            "2016-10-31  26.646394  26.782382  26.540886  ...  105677600        0.0             0\n",
            "2016-11-30  26.300090  26.441488  25.986656  ...  144649200        0.0             0\n",
            "2016-12-31  27.490191  27.619805  27.202681  ...  122345200        0.0             0\n",
            "\n",
            "[12 rows x 7 columns]\n"
          ]
        }
      ]
    },
    {
      "cell_type": "code",
      "metadata": {
        "colab": {
          "base_uri": "https://localhost:8080/"
        },
        "id": "8CT1ZB7NzpN1",
        "outputId": "d6c526a6-e4e6-4ccc-dc09-9825b34aec5b"
      },
      "source": [
        "#Ejemplo\n",
        "apple_2021 = df_tres['2021']\n",
        "apple_month_tres = apple_2021.resample('M').agg(lambda x: x[-1])\n",
        "print(apple_month_tres)"
      ],
      "execution_count": 180,
      "outputs": [
        {
          "output_type": "stream",
          "name": "stdout",
          "text": [
            "             Open   High    Low  Close   Volume  Dividends  Stock Splits\n",
            "Date                                                                    \n",
            "2021-01-31  6.600  6.740  6.280   6.33   337400          0             0\n",
            "2021-02-28  7.180  7.410  6.660   7.09  1088400          0             0\n",
            "2021-03-31  3.890  4.200  3.885   4.00   896800          0             0\n",
            "2021-04-30  3.600  3.644  3.540   3.59   241600          0             0\n",
            "2021-05-31  2.120  2.250  1.890   1.93  1627100          0             0\n",
            "2021-06-30  1.850  1.850  1.770   1.79   369400          0             0\n",
            "2021-07-31  0.730  0.730  0.664   0.69  1249400          0             0\n",
            "2021-08-31  0.635  0.685  0.621   0.65  1541200          0             0\n",
            "2021-09-30  0.540  0.629  0.524   0.58  3107500          0             0\n",
            "2021-10-31  0.570  0.591  0.533   0.56   680000          0             0\n"
          ]
        }
      ]
    },
    {
      "cell_type": "markdown",
      "metadata": {
        "id": "Llhz9pt22tRs"
      },
      "source": [
        "We may select certain columns of a DataFrame using their names:"
      ]
    },
    {
      "cell_type": "code",
      "metadata": {
        "colab": {
          "base_uri": "https://localhost:8080/"
        },
        "id": "lbpVPkc22uJm",
        "outputId": "f6368dfc-8f5d-4ff3-e91b-0f7dbbc31ee6"
      },
      "source": [
        "aapl_bar = aapl_month[['Open', 'High', 'Low', 'Close']]\n",
        "print(aapl_bar)"
      ],
      "execution_count": 181,
      "outputs": [
        {
          "output_type": "stream",
          "name": "stdout",
          "text": [
            "                 Open       High        Low      Close\n",
            "Date                                                  \n",
            "2016-01-31  21.852384  22.440247  21.750948  22.440247\n",
            "2016-02-29  22.450757  22.768304  22.402082  22.411354\n",
            "2016-03-31  25.431524  25.473245  25.236823  25.262320\n",
            "2016-04-30  21.785533  21.954737  21.442491  21.727587\n",
            "2016-05-31  23.226411  23.412969  23.044518  23.287043\n",
            "2016-06-30  22.023108  22.333258  21.990461  22.293615\n",
            "2016-07-31  24.296778  24.380729  24.177847  24.301441\n",
            "2016-08-31  24.773058  24.986415  24.768367  24.876219\n",
            "2016-09-30  26.367380  26.580740  26.212637  26.505713\n",
            "2016-10-31  26.646394  26.782382  26.540886  26.620604\n",
            "2016-11-30  26.300090  26.441488  25.986656  26.045572\n",
            "2016-12-31  27.490191  27.619805  27.202681  27.294590\n"
          ]
        }
      ]
    },
    {
      "cell_type": "code",
      "metadata": {
        "colab": {
          "base_uri": "https://localhost:8080/"
        },
        "id": "BR7wSkcw2-U7",
        "outputId": "7841374d-fa16-469d-f59f-13c53af0b25b"
      },
      "source": [
        "#Ejemplo\n",
        "apple_bar_dos = apple_month_tres[['Open', 'High', 'Low', 'Close']]\n",
        "print(apple_bar_dos)"
      ],
      "execution_count": 182,
      "outputs": [
        {
          "output_type": "stream",
          "name": "stdout",
          "text": [
            "             Open   High    Low  Close\n",
            "Date                                  \n",
            "2021-01-31  6.600  6.740  6.280   6.33\n",
            "2021-02-28  7.180  7.410  6.660   7.09\n",
            "2021-03-31  3.890  4.200  3.885   4.00\n",
            "2021-04-30  3.600  3.644  3.540   3.59\n",
            "2021-05-31  2.120  2.250  1.890   1.93\n",
            "2021-06-30  1.850  1.850  1.770   1.79\n",
            "2021-07-31  0.730  0.730  0.664   0.69\n",
            "2021-08-31  0.635  0.685  0.621   0.65\n",
            "2021-09-30  0.540  0.629  0.524   0.58\n",
            "2021-10-31  0.570  0.591  0.533   0.56\n"
          ]
        }
      ]
    },
    {
      "cell_type": "markdown",
      "metadata": {
        "id": "oxr7fvcD3Kz3"
      },
      "source": [
        "We can even specify both rows and columns using loc[]. The row indices and column names are separated by a comma:"
      ]
    },
    {
      "cell_type": "code",
      "metadata": {
        "colab": {
          "base_uri": "https://localhost:8080/"
        },
        "id": "61ruyf9r3KF4",
        "outputId": "85e98dba-5427-44ec-e458-f059b67d5c1b"
      },
      "source": [
        "print(aapl_month.loc['2016-03':'2016-06', ['Open', 'High', 'Low', 'Close']])"
      ],
      "execution_count": 183,
      "outputs": [
        {
          "output_type": "stream",
          "name": "stdout",
          "text": [
            "                 Open       High        Low      Close\n",
            "Date                                                  \n",
            "2016-03-31  25.431524  25.473245  25.236823  25.262320\n",
            "2016-04-30  21.785533  21.954737  21.442491  21.727587\n",
            "2016-05-31  23.226411  23.412969  23.044518  23.287043\n",
            "2016-06-30  22.023108  22.333258  21.990461  22.293615\n"
          ]
        }
      ]
    },
    {
      "cell_type": "code",
      "metadata": {
        "colab": {
          "base_uri": "https://localhost:8080/"
        },
        "id": "RMaTUlqw3XV6",
        "outputId": "fac83344-30df-4a99-dedd-ed9377bc268c"
      },
      "source": [
        "#Ejemplo\n",
        "print(apple_month_tres.loc['2021-02':'2021-05', ['Open', 'High', 'Low', 'Close']])"
      ],
      "execution_count": 184,
      "outputs": [
        {
          "output_type": "stream",
          "name": "stdout",
          "text": [
            "            Open   High    Low  Close\n",
            "Date                                 \n",
            "2021-02-28  7.18  7.410  6.660   7.09\n",
            "2021-03-31  3.89  4.200  3.885   4.00\n",
            "2021-04-30  3.60  3.644  3.540   3.59\n",
            "2021-05-31  2.12  2.250  1.890   1.93\n"
          ]
        }
      ]
    },
    {
      "cell_type": "markdown",
      "metadata": {
        "id": "vfopdV9T3xqC"
      },
      "source": [
        "The subset methods in DataFrame is quite useful. By writing logical statements in square brackets, we can make customized subsets:"
      ]
    },
    {
      "cell_type": "code",
      "metadata": {
        "colab": {
          "base_uri": "https://localhost:8080/"
        },
        "id": "4pyiU_k_3v86",
        "outputId": "73db09f5-148c-4582-eb0d-e7e1460db995"
      },
      "source": [
        "\n",
        "import numpy as np\n",
        "\n",
        "above = aapl_bar[aapl_bar.Close > np.mean(aapl_bar.Close)]\n",
        "print(above)"
      ],
      "execution_count": 185,
      "outputs": [
        {
          "output_type": "stream",
          "name": "stdout",
          "text": [
            "                 Open       High        Low      Close\n",
            "Date                                                  \n",
            "2016-03-31  25.431524  25.473245  25.236823  25.262320\n",
            "2016-08-31  24.773058  24.986415  24.768367  24.876219\n",
            "2016-09-30  26.367380  26.580740  26.212637  26.505713\n",
            "2016-10-31  26.646394  26.782382  26.540886  26.620604\n",
            "2016-11-30  26.300090  26.441488  25.986656  26.045572\n",
            "2016-12-31  27.490191  27.619805  27.202681  27.294590\n"
          ]
        }
      ]
    },
    {
      "cell_type": "code",
      "metadata": {
        "colab": {
          "base_uri": "https://localhost:8080/"
        },
        "id": "PPkIihx136vw",
        "outputId": "3c8ed688-3d16-4cb4-f4a3-cb03442af441"
      },
      "source": [
        "#Ejemplo\n",
        "import numpy as np\n",
        "\n",
        "above_dos = apple_bar_dos[apple_bar_dos.Close > np.mean(apple_bar_dos.Close)]\n",
        "print(above_dos)\n"
      ],
      "execution_count": 186,
      "outputs": [
        {
          "output_type": "stream",
          "name": "stdout",
          "text": [
            "            Open   High    Low  Close\n",
            "Date                                 \n",
            "2021-01-31  6.60  6.740  6.280   6.33\n",
            "2021-02-28  7.18  7.410  6.660   7.09\n",
            "2021-03-31  3.89  4.200  3.885   4.00\n",
            "2021-04-30  3.60  3.644  3.540   3.59\n"
          ]
        }
      ]
    },
    {
      "cell_type": "markdown",
      "metadata": {
        "id": "aXYHdVV64MaY"
      },
      "source": [
        "## Data Validation\n",
        "As mentioned, all methods that apply to a Series can also be applied to a DataFrame. Here we add a new column to an existing DataFrame:"
      ]
    },
    {
      "cell_type": "code",
      "metadata": {
        "colab": {
          "base_uri": "https://localhost:8080/"
        },
        "id": "Lkg2oT4w4NOQ",
        "outputId": "e5ea9c06-3c39-417d-b914-65f03080b8f9"
      },
      "source": [
        "aapl_bar['rate_return'] = aapl_bar.Close.pct_change()\n",
        "print(aapl_bar)"
      ],
      "execution_count": 187,
      "outputs": [
        {
          "output_type": "stream",
          "name": "stdout",
          "text": [
            "                 Open       High        Low      Close  rate_return\n",
            "Date                                                               \n",
            "2016-01-31  21.852384  22.440247  21.750948  22.440247          NaN\n",
            "2016-02-29  22.450757  22.768304  22.402082  22.411354    -0.001288\n",
            "2016-03-31  25.431524  25.473245  25.236823  25.262320     0.127211\n",
            "2016-04-30  21.785533  21.954737  21.442491  21.727587    -0.139921\n",
            "2016-05-31  23.226411  23.412969  23.044518  23.287043     0.071773\n",
            "2016-06-30  22.023108  22.333258  21.990461  22.293615    -0.042660\n",
            "2016-07-31  24.296778  24.380729  24.177847  24.301441     0.090063\n",
            "2016-08-31  24.773058  24.986415  24.768367  24.876219     0.023652\n",
            "2016-09-30  26.367380  26.580740  26.212637  26.505713     0.065504\n",
            "2016-10-31  26.646394  26.782382  26.540886  26.620604     0.004335\n",
            "2016-11-30  26.300090  26.441488  25.986656  26.045572    -0.021601\n",
            "2016-12-31  27.490191  27.619805  27.202681  27.294590     0.047955\n"
          ]
        },
        {
          "output_type": "stream",
          "name": "stderr",
          "text": [
            "/usr/local/lib/python3.7/dist-packages/ipykernel_launcher.py:1: SettingWithCopyWarning: \n",
            "A value is trying to be set on a copy of a slice from a DataFrame.\n",
            "Try using .loc[row_indexer,col_indexer] = value instead\n",
            "\n",
            "See the caveats in the documentation: https://pandas.pydata.org/pandas-docs/stable/user_guide/indexing.html#returning-a-view-versus-a-copy\n",
            "  \"\"\"Entry point for launching an IPython kernel.\n"
          ]
        }
      ]
    },
    {
      "cell_type": "code",
      "metadata": {
        "colab": {
          "base_uri": "https://localhost:8080/"
        },
        "id": "o-qdQTjG4NR5",
        "outputId": "133c06fc-5bcb-4b50-e70d-9c6ac6950f6a"
      },
      "source": [
        "#Ejemplo\n",
        "apple_bar_dos['rate_return'] = apple_bar_dos.Close.pct_change()\n",
        "print(apple_bar_dos)"
      ],
      "execution_count": 188,
      "outputs": [
        {
          "output_type": "stream",
          "name": "stdout",
          "text": [
            "             Open   High    Low  Close  rate_return\n",
            "Date                                               \n",
            "2021-01-31  6.600  6.740  6.280   6.33          NaN\n",
            "2021-02-28  7.180  7.410  6.660   7.09     0.120063\n",
            "2021-03-31  3.890  4.200  3.885   4.00    -0.435825\n",
            "2021-04-30  3.600  3.644  3.540   3.59    -0.102500\n",
            "2021-05-31  2.120  2.250  1.890   1.93    -0.462396\n",
            "2021-06-30  1.850  1.850  1.770   1.79    -0.072539\n",
            "2021-07-31  0.730  0.730  0.664   0.69    -0.614525\n",
            "2021-08-31  0.635  0.685  0.621   0.65    -0.057971\n",
            "2021-09-30  0.540  0.629  0.524   0.58    -0.107692\n",
            "2021-10-31  0.570  0.591  0.533   0.56    -0.034483\n"
          ]
        },
        {
          "output_type": "stream",
          "name": "stderr",
          "text": [
            "/usr/local/lib/python3.7/dist-packages/ipykernel_launcher.py:2: SettingWithCopyWarning: \n",
            "A value is trying to be set on a copy of a slice from a DataFrame.\n",
            "Try using .loc[row_indexer,col_indexer] = value instead\n",
            "\n",
            "See the caveats in the documentation: https://pandas.pydata.org/pandas-docs/stable/user_guide/indexing.html#returning-a-view-versus-a-copy\n",
            "  \n"
          ]
        }
      ]
    },
    {
      "cell_type": "markdown",
      "metadata": {
        "id": "U0zAwN344foZ"
      },
      "source": [
        "Here the calculation introduced a NaN value. If the DataFrame is large, we would not be able to observe it. isnull() provides a convenient way to check abnormal values."
      ]
    },
    {
      "cell_type": "code",
      "metadata": {
        "colab": {
          "base_uri": "https://localhost:8080/"
        },
        "id": "QdkA5BLy4g3p",
        "outputId": "9c59dd32-ad37-4f81-b0f0-9ca4485558be"
      },
      "source": [
        "missing = aapl_bar.isnull()\n",
        "print(missing)\n",
        "print('---------------------------------------------')\n",
        "print(missing.describe())"
      ],
      "execution_count": 189,
      "outputs": [
        {
          "output_type": "stream",
          "name": "stdout",
          "text": [
            "             Open   High    Low  Close  rate_return\n",
            "Date                                               \n",
            "2016-01-31  False  False  False  False         True\n",
            "2016-02-29  False  False  False  False        False\n",
            "2016-03-31  False  False  False  False        False\n",
            "2016-04-30  False  False  False  False        False\n",
            "2016-05-31  False  False  False  False        False\n",
            "2016-06-30  False  False  False  False        False\n",
            "2016-07-31  False  False  False  False        False\n",
            "2016-08-31  False  False  False  False        False\n",
            "2016-09-30  False  False  False  False        False\n",
            "2016-10-31  False  False  False  False        False\n",
            "2016-11-30  False  False  False  False        False\n",
            "2016-12-31  False  False  False  False        False\n",
            "---------------------------------------------\n",
            "         Open   High    Low  Close rate_return\n",
            "count      12     12     12     12          12\n",
            "unique      1      1      1      1           2\n",
            "top     False  False  False  False       False\n",
            "freq       12     12     12     12          11\n"
          ]
        }
      ]
    },
    {
      "cell_type": "code",
      "metadata": {
        "colab": {
          "base_uri": "https://localhost:8080/"
        },
        "id": "tBI03NQI4oo9",
        "outputId": "e0e3dc41-fcd5-4d3e-a887-3d1ddb9d93d9"
      },
      "source": [
        "#Ejemplo\n",
        "missing_dos = apple_bar_dos.isnull()\n",
        "print(missing_dos)\n",
        "print('---------------------------------------------')\n",
        "print(missing_dos.describe())"
      ],
      "execution_count": 190,
      "outputs": [
        {
          "output_type": "stream",
          "name": "stdout",
          "text": [
            "             Open   High    Low  Close  rate_return\n",
            "Date                                               \n",
            "2021-01-31  False  False  False  False         True\n",
            "2021-02-28  False  False  False  False        False\n",
            "2021-03-31  False  False  False  False        False\n",
            "2021-04-30  False  False  False  False        False\n",
            "2021-05-31  False  False  False  False        False\n",
            "2021-06-30  False  False  False  False        False\n",
            "2021-07-31  False  False  False  False        False\n",
            "2021-08-31  False  False  False  False        False\n",
            "2021-09-30  False  False  False  False        False\n",
            "2021-10-31  False  False  False  False        False\n",
            "---------------------------------------------\n",
            "         Open   High    Low  Close rate_return\n",
            "count      10     10     10     10          10\n",
            "unique      1      1      1      1           2\n",
            "top     False  False  False  False       False\n",
            "freq       10     10     10     10           9\n"
          ]
        }
      ]
    },
    {
      "cell_type": "markdown",
      "metadata": {
        "id": "mstcA0Uw44hX"
      },
      "source": [
        "The row labelled \"unique\" indicates the number of unique values in each column. Since the \"rate_return\" column has 2 unique values, it has at least one missing value.\n",
        "\n",
        "We can deduce the number of missing values by comparing \"count\" with \"freq\". There are 12 counts and 11 False values, so there is one True value which corresponds to the missing value.\n",
        "\n",
        "We can also find the rows with missing values easily:"
      ]
    },
    {
      "cell_type": "code",
      "metadata": {
        "colab": {
          "base_uri": "https://localhost:8080/"
        },
        "id": "DOXVLmOS45Mb",
        "outputId": "d9eecadf-e0de-4b33-8575-c3f8601b8764"
      },
      "source": [
        "print(missing[missing.rate_return == True])"
      ],
      "execution_count": 191,
      "outputs": [
        {
          "output_type": "stream",
          "name": "stdout",
          "text": [
            "             Open   High    Low  Close  rate_return\n",
            "Date                                               \n",
            "2016-01-31  False  False  False  False         True\n"
          ]
        }
      ]
    },
    {
      "cell_type": "code",
      "metadata": {
        "colab": {
          "base_uri": "https://localhost:8080/"
        },
        "id": "TWWbrp-745Y9",
        "outputId": "8426ea5f-6ff8-4077-b0a4-6195cb3a0b92"
      },
      "source": [
        "#Ejemplo\n",
        "print(missing_dos[missing_dos.rate_return == True])"
      ],
      "execution_count": 193,
      "outputs": [
        {
          "output_type": "stream",
          "name": "stdout",
          "text": [
            "             Open   High    Low  Close  rate_return\n",
            "Date                                               \n",
            "2021-01-31  False  False  False  False         True\n"
          ]
        }
      ]
    },
    {
      "cell_type": "markdown",
      "metadata": {
        "id": "KeC0OMNo5IT1"
      },
      "source": [
        "Usually when dealing with missing data, we either delete the whole row or fill it with some value. As we introduced in the Series chapter, the same method dropna() and fillna() can be applied to a DataFrame."
      ]
    },
    {
      "cell_type": "code",
      "metadata": {
        "colab": {
          "base_uri": "https://localhost:8080/"
        },
        "id": "0kcwxzH_5JMX",
        "outputId": "962c6158-8b9e-4de5-f7b7-7b1310090a11"
      },
      "source": [
        "drop = aapl_bar.dropna()\n",
        "print(drop)\n",
        "print('\\n--------------------------------------------------\\n')\n",
        "fill = aapl_bar.fillna(0)\n",
        "print(fill)"
      ],
      "execution_count": 194,
      "outputs": [
        {
          "output_type": "stream",
          "name": "stdout",
          "text": [
            "                 Open       High        Low      Close  rate_return\n",
            "Date                                                               \n",
            "2016-02-29  22.450757  22.768304  22.402082  22.411354    -0.001288\n",
            "2016-03-31  25.431524  25.473245  25.236823  25.262320     0.127211\n",
            "2016-04-30  21.785533  21.954737  21.442491  21.727587    -0.139921\n",
            "2016-05-31  23.226411  23.412969  23.044518  23.287043     0.071773\n",
            "2016-06-30  22.023108  22.333258  21.990461  22.293615    -0.042660\n",
            "2016-07-31  24.296778  24.380729  24.177847  24.301441     0.090063\n",
            "2016-08-31  24.773058  24.986415  24.768367  24.876219     0.023652\n",
            "2016-09-30  26.367380  26.580740  26.212637  26.505713     0.065504\n",
            "2016-10-31  26.646394  26.782382  26.540886  26.620604     0.004335\n",
            "2016-11-30  26.300090  26.441488  25.986656  26.045572    -0.021601\n",
            "2016-12-31  27.490191  27.619805  27.202681  27.294590     0.047955\n",
            "\n",
            "--------------------------------------------------\n",
            "\n",
            "                 Open       High        Low      Close  rate_return\n",
            "Date                                                               \n",
            "2016-01-31  21.852384  22.440247  21.750948  22.440247     0.000000\n",
            "2016-02-29  22.450757  22.768304  22.402082  22.411354    -0.001288\n",
            "2016-03-31  25.431524  25.473245  25.236823  25.262320     0.127211\n",
            "2016-04-30  21.785533  21.954737  21.442491  21.727587    -0.139921\n",
            "2016-05-31  23.226411  23.412969  23.044518  23.287043     0.071773\n",
            "2016-06-30  22.023108  22.333258  21.990461  22.293615    -0.042660\n",
            "2016-07-31  24.296778  24.380729  24.177847  24.301441     0.090063\n",
            "2016-08-31  24.773058  24.986415  24.768367  24.876219     0.023652\n",
            "2016-09-30  26.367380  26.580740  26.212637  26.505713     0.065504\n",
            "2016-10-31  26.646394  26.782382  26.540886  26.620604     0.004335\n",
            "2016-11-30  26.300090  26.441488  25.986656  26.045572    -0.021601\n",
            "2016-12-31  27.490191  27.619805  27.202681  27.294590     0.047955\n"
          ]
        }
      ]
    },
    {
      "cell_type": "code",
      "metadata": {
        "colab": {
          "base_uri": "https://localhost:8080/"
        },
        "id": "aFGCxTs65JWj",
        "outputId": "08431e41-3c39-4db5-ba3b-ecdcb1c1f4dc"
      },
      "source": [
        "#Ejemplo\n",
        "drop_dos = apple_bar_dos.dropna()\n",
        "print(drop_dos)\n",
        "print('\\n--------------------------------------------------\\n')\n",
        "fill_dos = apple_bar_dos.fillna(0)\n",
        "print(fill_dos)"
      ],
      "execution_count": 195,
      "outputs": [
        {
          "output_type": "stream",
          "name": "stdout",
          "text": [
            "             Open   High    Low  Close  rate_return\n",
            "Date                                               \n",
            "2021-02-28  7.180  7.410  6.660   7.09     0.120063\n",
            "2021-03-31  3.890  4.200  3.885   4.00    -0.435825\n",
            "2021-04-30  3.600  3.644  3.540   3.59    -0.102500\n",
            "2021-05-31  2.120  2.250  1.890   1.93    -0.462396\n",
            "2021-06-30  1.850  1.850  1.770   1.79    -0.072539\n",
            "2021-07-31  0.730  0.730  0.664   0.69    -0.614525\n",
            "2021-08-31  0.635  0.685  0.621   0.65    -0.057971\n",
            "2021-09-30  0.540  0.629  0.524   0.58    -0.107692\n",
            "2021-10-31  0.570  0.591  0.533   0.56    -0.034483\n",
            "\n",
            "--------------------------------------------------\n",
            "\n",
            "             Open   High    Low  Close  rate_return\n",
            "Date                                               \n",
            "2021-01-31  6.600  6.740  6.280   6.33     0.000000\n",
            "2021-02-28  7.180  7.410  6.660   7.09     0.120063\n",
            "2021-03-31  3.890  4.200  3.885   4.00    -0.435825\n",
            "2021-04-30  3.600  3.644  3.540   3.59    -0.102500\n",
            "2021-05-31  2.120  2.250  1.890   1.93    -0.462396\n",
            "2021-06-30  1.850  1.850  1.770   1.79    -0.072539\n",
            "2021-07-31  0.730  0.730  0.664   0.69    -0.614525\n",
            "2021-08-31  0.635  0.685  0.621   0.65    -0.057971\n",
            "2021-09-30  0.540  0.629  0.524   0.58    -0.107692\n",
            "2021-10-31  0.570  0.591  0.533   0.56    -0.034483\n"
          ]
        }
      ]
    },
    {
      "cell_type": "markdown",
      "metadata": {
        "id": "JtRUdcfj5ZXd"
      },
      "source": [
        "## DataFrame Concat\n",
        "We have seen how to extract a Series from a dataFrame. Now we need to consider how to merge a Series or a DataFrame into another one.\n",
        "\n",
        "In Pandas, the function **concat()** allows us to merge multiple Series into a DataFrame:"
      ]
    },
    {
      "cell_type": "code",
      "metadata": {
        "colab": {
          "base_uri": "https://localhost:8080/"
        },
        "id": "e19r4QKG5aOq",
        "outputId": "e16ca832-4994-438b-f7cb-32668d35486f"
      },
      "source": [
        "s1 = pd.Series([143.5, 144.09, 142.73, 144.18, 143.77], name = 'AAPL')\n",
        "s2 = pd.Series([898.7, 911.71, 906.69, 918.59, 926.99], name = 'GOOG')\n",
        "data_frame = pd.concat([s1,s2], axis = 1)\n",
        "print(data_frame)"
      ],
      "execution_count": 198,
      "outputs": [
        {
          "output_type": "stream",
          "name": "stdout",
          "text": [
            "     AAPL    GOOG\n",
            "0  143.50  898.70\n",
            "1  144.09  911.71\n",
            "2  142.73  906.69\n",
            "3  144.18  918.59\n",
            "4  143.77  926.99\n"
          ]
        }
      ]
    },
    {
      "cell_type": "code",
      "metadata": {
        "colab": {
          "base_uri": "https://localhost:8080/"
        },
        "id": "aemyABBI5aZR",
        "outputId": "769e62ea-9ab4-4a69-cdfc-2b711689ee1f"
      },
      "source": [
        "#Ejemplo\n",
        "s1_dos = pd.Series([233.5, 444.09, 344.35, 294.80, 333.66], name = 'YAHH')\n",
        "s2_dos = pd.Series([458.55, 877.76, 767.69,431.49, 545.77], name = 'MSF')\n",
        "data_frame_dos = pd.concat([s1_dos,s2_dos], axis = 1)\n",
        "print(data_frame_dos)\n"
      ],
      "execution_count": 199,
      "outputs": [
        {
          "output_type": "stream",
          "name": "stdout",
          "text": [
            "     YAHH     MSF\n",
            "0  233.50  458.55\n",
            "1  444.09  877.76\n",
            "2  344.35  767.69\n",
            "3  294.80  431.49\n",
            "4  333.66  545.77\n"
          ]
        }
      ]
    },
    {
      "cell_type": "markdown",
      "metadata": {
        "id": "vcCyKwqY6Ql8"
      },
      "source": [
        "The \"axis = 1\" parameter will join two DataFrames by columns:"
      ]
    },
    {
      "cell_type": "code",
      "metadata": {
        "colab": {
          "base_uri": "https://localhost:8080/"
        },
        "id": "W3r5bUMf6RL_",
        "outputId": "3cfb8faa-f73b-4cfb-85c9-80bad7239bbf"
      },
      "source": [
        "log_price = np.log(aapl_bar.Close)\n",
        "log_price.name = 'log_price'\n",
        "print(log_price)\n",
        "print('\\n---------------------- separate line--------------------\\n')\n",
        "concat = pd.concat([aapl_bar, log_price], axis = 1)\n",
        "print(concat)"
      ],
      "execution_count": 200,
      "outputs": [
        {
          "output_type": "stream",
          "name": "stdout",
          "text": [
            "Date\n",
            "2016-01-31    3.110856\n",
            "2016-02-29    3.109568\n",
            "2016-03-31    3.229314\n",
            "2016-04-30    3.078583\n",
            "2016-05-31    3.147897\n",
            "2016-06-30    3.104300\n",
            "2016-07-31    3.190536\n",
            "2016-08-31    3.213912\n",
            "2016-09-30    3.277360\n",
            "2016-10-31    3.281685\n",
            "2016-11-30    3.259848\n",
            "2016-12-31    3.306689\n",
            "Freq: M, Name: log_price, dtype: float64\n",
            "\n",
            "---------------------- separate line--------------------\n",
            "\n",
            "                 Open       High        Low      Close  rate_return  log_price\n",
            "Date                                                                          \n",
            "2016-01-31  21.852384  22.440247  21.750948  22.440247          NaN   3.110856\n",
            "2016-02-29  22.450757  22.768304  22.402082  22.411354    -0.001288   3.109568\n",
            "2016-03-31  25.431524  25.473245  25.236823  25.262320     0.127211   3.229314\n",
            "2016-04-30  21.785533  21.954737  21.442491  21.727587    -0.139921   3.078583\n",
            "2016-05-31  23.226411  23.412969  23.044518  23.287043     0.071773   3.147897\n",
            "2016-06-30  22.023108  22.333258  21.990461  22.293615    -0.042660   3.104300\n",
            "2016-07-31  24.296778  24.380729  24.177847  24.301441     0.090063   3.190536\n",
            "2016-08-31  24.773058  24.986415  24.768367  24.876219     0.023652   3.213912\n",
            "2016-09-30  26.367380  26.580740  26.212637  26.505713     0.065504   3.277360\n",
            "2016-10-31  26.646394  26.782382  26.540886  26.620604     0.004335   3.281685\n",
            "2016-11-30  26.300090  26.441488  25.986656  26.045572    -0.021601   3.259848\n",
            "2016-12-31  27.490191  27.619805  27.202681  27.294590     0.047955   3.306689\n"
          ]
        }
      ]
    },
    {
      "cell_type": "code",
      "metadata": {
        "colab": {
          "base_uri": "https://localhost:8080/"
        },
        "id": "zI5b3Ah66RQB",
        "outputId": "57006b98-8a5d-4c32-d6e2-053592d170f3"
      },
      "source": [
        "#Ejemplo\n",
        "log_price_dos = np.log(apple_bar_dos.Close)\n",
        "log_price_dos.name = 'log_price'\n",
        "print(log_price_dos)\n",
        "print('\\n---------------------- separate line--------------------\\n')\n",
        "concat_dos = pd.concat([apple_bar_dos, log_price_dos], axis = 1)\n",
        "print(concat_dos)"
      ],
      "execution_count": 201,
      "outputs": [
        {
          "output_type": "stream",
          "name": "stdout",
          "text": [
            "Date\n",
            "2021-01-31    1.845300\n",
            "2021-02-28    1.958685\n",
            "2021-03-31    1.386294\n",
            "2021-04-30    1.278152\n",
            "2021-05-31    0.657520\n",
            "2021-06-30    0.582216\n",
            "2021-07-31   -0.371064\n",
            "2021-08-31   -0.430783\n",
            "2021-09-30   -0.544727\n",
            "2021-10-31   -0.579818\n",
            "Freq: M, Name: log_price, dtype: float64\n",
            "\n",
            "---------------------- separate line--------------------\n",
            "\n",
            "             Open   High    Low  Close  rate_return  log_price\n",
            "Date                                                          \n",
            "2021-01-31  6.600  6.740  6.280   6.33          NaN   1.845300\n",
            "2021-02-28  7.180  7.410  6.660   7.09     0.120063   1.958685\n",
            "2021-03-31  3.890  4.200  3.885   4.00    -0.435825   1.386294\n",
            "2021-04-30  3.600  3.644  3.540   3.59    -0.102500   1.278152\n",
            "2021-05-31  2.120  2.250  1.890   1.93    -0.462396   0.657520\n",
            "2021-06-30  1.850  1.850  1.770   1.79    -0.072539   0.582216\n",
            "2021-07-31  0.730  0.730  0.664   0.69    -0.614525  -0.371064\n",
            "2021-08-31  0.635  0.685  0.621   0.65    -0.057971  -0.430783\n",
            "2021-09-30  0.540  0.629  0.524   0.58    -0.107692  -0.544727\n",
            "2021-10-31  0.570  0.591  0.533   0.56    -0.034483  -0.579818\n"
          ]
        }
      ]
    },
    {
      "cell_type": "markdown",
      "metadata": {
        "id": "R-HjfWcf63q3"
      },
      "source": [
        "We can also join two DataFrames by rows. Consider these two DataFrames:"
      ]
    },
    {
      "cell_type": "code",
      "metadata": {
        "colab": {
          "base_uri": "https://localhost:8080/"
        },
        "id": "hnh52CWJ64kb",
        "outputId": "bb74f7b6-fdb5-4466-efe1-0784b53a7866"
      },
      "source": [
        "df_volume = aapl_table.loc['2016-10':'2017-04',['Volume', 'Stock Splits']].resample('M').agg(lambda x: x[-1])\n",
        "print(df_volume)\n",
        "print('\\n---------------------- separate line--------------------\\n')\n",
        "df_2017 = aapl_table.loc['2016-10':'2017-04',['Open', 'High', 'Low', 'Close']].resample('M').agg(lambda x: x[-1])\n",
        "print(df_2017)"
      ],
      "execution_count": 202,
      "outputs": [
        {
          "output_type": "stream",
          "name": "stdout",
          "text": [
            "               Volume  Stock Splits\n",
            "Date                               \n",
            "2016-10-31  105677600             0\n",
            "2016-11-30  144649200             0\n",
            "2016-12-31  122345200             0\n",
            "2017-01-31  196804000             0\n",
            "2017-02-28   93931600             0\n",
            "2017-03-31   78646800             0\n",
            "2017-04-30   83441600             0\n",
            "\n",
            "---------------------- separate line--------------------\n",
            "\n",
            "                 Open       High        Low      Close\n",
            "Date                                                  \n",
            "2016-10-31  26.646394  26.782382  26.540886  26.620604\n",
            "2016-11-30  26.300090  26.441488  25.986656  26.045572\n",
            "2016-12-31  27.490191  27.619805  27.202681  27.294590\n",
            "2017-01-31  28.550684  28.607243  28.425783  28.597816\n",
            "2017-02-28  32.444873  32.530080  32.354932  32.423573\n",
            "2017-03-31  34.016451  34.146629  33.848403  34.002251\n",
            "2017-04-30  34.104028  34.153733  33.909947  33.999886\n"
          ]
        }
      ]
    },
    {
      "cell_type": "code",
      "metadata": {
        "colab": {
          "base_uri": "https://localhost:8080/"
        },
        "id": "jB2y13KB641B",
        "outputId": "9278e3cc-2b84-4915-ec1c-8572f6535d63"
      },
      "source": [
        "#Ejemplo\n",
        "df_volume_dos = data.loc['2020-10':'2021-04',['Volume', 'Stock Splits']].resample('M').agg(lambda x: x[-1])\n",
        "print(df_volume_dos)\n",
        "print('\\n---------------------- separate line--------------------\\n')\n",
        "df_2021_dos = data.loc['2020-10':'2021-04',['Open', 'High', 'Low', 'Close']].resample('M').agg(lambda x: x[-1])\n",
        "print(df_2021_dos)"
      ],
      "execution_count": 203,
      "outputs": [
        {
          "output_type": "stream",
          "name": "stdout",
          "text": [
            "             Volume  Stock Splits\n",
            "Date                             \n",
            "2020-12-31   661500             0\n",
            "2021-01-31   337400             0\n",
            "2021-02-28  1088400             0\n",
            "2021-03-31   896800             0\n",
            "2021-04-30   241600             0\n",
            "\n",
            "---------------------- separate line--------------------\n",
            "\n",
            "            Open   High    Low  Close\n",
            "Date                                 \n",
            "2020-12-31  6.80  6.950  5.720   5.82\n",
            "2021-01-31  6.60  6.740  6.280   6.33\n",
            "2021-02-28  7.18  7.410  6.660   7.09\n",
            "2021-03-31  3.89  4.200  3.885   4.00\n",
            "2021-04-30  3.60  3.644  3.540   3.59\n"
          ]
        }
      ]
    },
    {
      "cell_type": "markdown",
      "metadata": {
        "id": "-q1a1ViJ8W0Z"
      },
      "source": [
        "Now we merge the DataFrames with our DataFrame 'aapl_bar'"
      ]
    },
    {
      "cell_type": "code",
      "metadata": {
        "colab": {
          "base_uri": "https://localhost:8080/"
        },
        "id": "eKcpK-YB8adz",
        "outputId": "f263e483-70e9-4bd0-be6a-35eff06ec6b6"
      },
      "source": [
        "concat = pd.concat([aapl_bar, df_volume], axis = 1)\n",
        "print(concat)"
      ],
      "execution_count": 204,
      "outputs": [
        {
          "output_type": "stream",
          "name": "stdout",
          "text": [
            "                 Open       High  ...       Volume  Stock Splits\n",
            "Date                              ...                           \n",
            "2016-01-31  21.852384  22.440247  ...          NaN           NaN\n",
            "2016-02-29  22.450757  22.768304  ...          NaN           NaN\n",
            "2016-03-31  25.431524  25.473245  ...          NaN           NaN\n",
            "2016-04-30  21.785533  21.954737  ...          NaN           NaN\n",
            "2016-05-31  23.226411  23.412969  ...          NaN           NaN\n",
            "2016-06-30  22.023108  22.333258  ...          NaN           NaN\n",
            "2016-07-31  24.296778  24.380729  ...          NaN           NaN\n",
            "2016-08-31  24.773058  24.986415  ...          NaN           NaN\n",
            "2016-09-30  26.367380  26.580740  ...          NaN           NaN\n",
            "2016-10-31  26.646394  26.782382  ...  105677600.0           0.0\n",
            "2016-11-30  26.300090  26.441488  ...  144649200.0           0.0\n",
            "2016-12-31  27.490191  27.619805  ...  122345200.0           0.0\n",
            "2017-01-31        NaN        NaN  ...  196804000.0           0.0\n",
            "2017-02-28        NaN        NaN  ...   93931600.0           0.0\n",
            "2017-03-31        NaN        NaN  ...   78646800.0           0.0\n",
            "2017-04-30        NaN        NaN  ...   83441600.0           0.0\n",
            "\n",
            "[16 rows x 7 columns]\n"
          ]
        }
      ]
    },
    {
      "cell_type": "code",
      "metadata": {
        "colab": {
          "base_uri": "https://localhost:8080/"
        },
        "id": "w9qm7wHc8aoN",
        "outputId": "a71b0fe6-4abc-403f-a2d7-1aa960e6f8e9"
      },
      "source": [
        "#Ejemplo\n",
        "concat_dos = pd.concat([apple_bar_dos, df_volume_dos], axis = 1)\n",
        "print(concat_dos)"
      ],
      "execution_count": 205,
      "outputs": [
        {
          "output_type": "stream",
          "name": "stdout",
          "text": [
            "             Open   High    Low  Close  rate_return     Volume  Stock Splits\n",
            "Date                                                                        \n",
            "2020-12-31    NaN    NaN    NaN    NaN          NaN   661500.0           0.0\n",
            "2021-01-31  6.600  6.740  6.280   6.33          NaN   337400.0           0.0\n",
            "2021-02-28  7.180  7.410  6.660   7.09     0.120063  1088400.0           0.0\n",
            "2021-03-31  3.890  4.200  3.885   4.00    -0.435825   896800.0           0.0\n",
            "2021-04-30  3.600  3.644  3.540   3.59    -0.102500   241600.0           0.0\n",
            "2021-05-31  2.120  2.250  1.890   1.93    -0.462396        NaN           NaN\n",
            "2021-06-30  1.850  1.850  1.770   1.79    -0.072539        NaN           NaN\n",
            "2021-07-31  0.730  0.730  0.664   0.69    -0.614525        NaN           NaN\n",
            "2021-08-31  0.635  0.685  0.621   0.65    -0.057971        NaN           NaN\n",
            "2021-09-30  0.540  0.629  0.524   0.58    -0.107692        NaN           NaN\n",
            "2021-10-31  0.570  0.591  0.533   0.56    -0.034483        NaN           NaN\n"
          ]
        }
      ]
    },
    {
      "cell_type": "markdown",
      "metadata": {
        "id": "sOgJNtm88rj2"
      },
      "source": [
        "By default the DataFrame are joined with all of the data. This default options results in zero information loss. We can also merge them by intersection, this is called 'inner join"
      ]
    },
    {
      "cell_type": "code",
      "metadata": {
        "colab": {
          "base_uri": "https://localhost:8080/"
        },
        "id": "zy0n4Fvg8sIN",
        "outputId": "2f88d1f4-d141-4928-d57d-0749804aec8d"
      },
      "source": [
        "concat = pd.concat([aapl_bar,df_volume],axis = 1, join = 'inner')\n",
        "print(concat)"
      ],
      "execution_count": 206,
      "outputs": [
        {
          "output_type": "stream",
          "name": "stdout",
          "text": [
            "                 Open       High  ...     Volume  Stock Splits\n",
            "Date                              ...                         \n",
            "2016-10-31  26.646394  26.782382  ...  105677600             0\n",
            "2016-11-30  26.300090  26.441488  ...  144649200             0\n",
            "2016-12-31  27.490191  27.619805  ...  122345200             0\n",
            "\n",
            "[3 rows x 7 columns]\n"
          ]
        }
      ]
    },
    {
      "cell_type": "code",
      "metadata": {
        "colab": {
          "base_uri": "https://localhost:8080/"
        },
        "id": "VVcHoAED8sMW",
        "outputId": "403cb159-2d5e-431c-8424-f62f3716794a"
      },
      "source": [
        "#Ejemplo\n",
        "concat_dos = pd.concat([apple_bar_dos,df_volume_dos],axis = 1, join = 'inner')\n",
        "print(concat_dos)"
      ],
      "execution_count": 207,
      "outputs": [
        {
          "output_type": "stream",
          "name": "stdout",
          "text": [
            "            Open   High    Low  Close  rate_return   Volume  Stock Splits\n",
            "Date                                                                     \n",
            "2021-01-31  6.60  6.740  6.280   6.33          NaN   337400             0\n",
            "2021-02-28  7.18  7.410  6.660   7.09     0.120063  1088400             0\n",
            "2021-03-31  3.89  4.200  3.885   4.00    -0.435825   896800             0\n",
            "2021-04-30  3.60  3.644  3.540   3.59    -0.102500   241600             0\n"
          ]
        }
      ]
    },
    {
      "cell_type": "markdown",
      "metadata": {
        "id": "7zv_CnUr87tk"
      },
      "source": [
        "Only the intersection part was left if use 'inner join' method. Now let's try to append a DataFrame to another one:"
      ]
    },
    {
      "cell_type": "code",
      "metadata": {
        "colab": {
          "base_uri": "https://localhost:8080/"
        },
        "id": "XsJmqCdS8_O_",
        "outputId": "cda66961-135a-486e-bfd2-5d2b51ef5ef5"
      },
      "source": [
        "append = aapl_bar.append(df_2017)\n",
        "print(append)"
      ],
      "execution_count": 208,
      "outputs": [
        {
          "output_type": "stream",
          "name": "stdout",
          "text": [
            "                 Open       High        Low      Close  rate_return\n",
            "Date                                                               \n",
            "2016-01-31  21.852384  22.440247  21.750948  22.440247          NaN\n",
            "2016-02-29  22.450757  22.768304  22.402082  22.411354    -0.001288\n",
            "2016-03-31  25.431524  25.473245  25.236823  25.262320     0.127211\n",
            "2016-04-30  21.785533  21.954737  21.442491  21.727587    -0.139921\n",
            "2016-05-31  23.226411  23.412969  23.044518  23.287043     0.071773\n",
            "2016-06-30  22.023108  22.333258  21.990461  22.293615    -0.042660\n",
            "2016-07-31  24.296778  24.380729  24.177847  24.301441     0.090063\n",
            "2016-08-31  24.773058  24.986415  24.768367  24.876219     0.023652\n",
            "2016-09-30  26.367380  26.580740  26.212637  26.505713     0.065504\n",
            "2016-10-31  26.646394  26.782382  26.540886  26.620604     0.004335\n",
            "2016-11-30  26.300090  26.441488  25.986656  26.045572    -0.021601\n",
            "2016-12-31  27.490191  27.619805  27.202681  27.294590     0.047955\n",
            "2016-10-31  26.646394  26.782382  26.540886  26.620604          NaN\n",
            "2016-11-30  26.300090  26.441488  25.986656  26.045572          NaN\n",
            "2016-12-31  27.490191  27.619805  27.202681  27.294590          NaN\n",
            "2017-01-31  28.550684  28.607243  28.425783  28.597816          NaN\n",
            "2017-02-28  32.444873  32.530080  32.354932  32.423573          NaN\n",
            "2017-03-31  34.016451  34.146629  33.848403  34.002251          NaN\n",
            "2017-04-30  34.104028  34.153733  33.909947  33.999886          NaN\n"
          ]
        }
      ]
    },
    {
      "cell_type": "code",
      "metadata": {
        "colab": {
          "base_uri": "https://localhost:8080/"
        },
        "id": "rqFO0VIu8_Tf",
        "outputId": "69db29d2-37e7-4f8b-d15a-533f7c25ead7"
      },
      "source": [
        "#Ejemplo\n",
        "append_dos = apple_bar_dos.append(df_2021_dos)\n",
        "print(append_dos)"
      ],
      "execution_count": 209,
      "outputs": [
        {
          "output_type": "stream",
          "name": "stdout",
          "text": [
            "             Open   High    Low  Close  rate_return\n",
            "Date                                               \n",
            "2021-01-31  6.600  6.740  6.280   6.33          NaN\n",
            "2021-02-28  7.180  7.410  6.660   7.09     0.120063\n",
            "2021-03-31  3.890  4.200  3.885   4.00    -0.435825\n",
            "2021-04-30  3.600  3.644  3.540   3.59    -0.102500\n",
            "2021-05-31  2.120  2.250  1.890   1.93    -0.462396\n",
            "2021-06-30  1.850  1.850  1.770   1.79    -0.072539\n",
            "2021-07-31  0.730  0.730  0.664   0.69    -0.614525\n",
            "2021-08-31  0.635  0.685  0.621   0.65    -0.057971\n",
            "2021-09-30  0.540  0.629  0.524   0.58    -0.107692\n",
            "2021-10-31  0.570  0.591  0.533   0.56    -0.034483\n",
            "2020-12-31  6.800  6.950  5.720   5.82          NaN\n",
            "2021-01-31  6.600  6.740  6.280   6.33          NaN\n",
            "2021-02-28  7.180  7.410  6.660   7.09          NaN\n",
            "2021-03-31  3.890  4.200  3.885   4.00          NaN\n",
            "2021-04-30  3.600  3.644  3.540   3.59          NaN\n"
          ]
        }
      ]
    },
    {
      "cell_type": "markdown",
      "metadata": {
        "id": "2OyYlZf89YFg"
      },
      "source": [
        "'Append' is essentially to concat two DataFrames by axis = 0, thus here is an alternative way to append:"
      ]
    },
    {
      "cell_type": "code",
      "metadata": {
        "colab": {
          "base_uri": "https://localhost:8080/"
        },
        "id": "j2P7Ojqi9Ywt",
        "outputId": "0712703e-045c-477e-a047-fc195a8ae91d"
      },
      "source": [
        "concat = pd.concat([aapl_bar, df_2017], axis = 0)\n",
        "print(concat)"
      ],
      "execution_count": 210,
      "outputs": [
        {
          "output_type": "stream",
          "name": "stdout",
          "text": [
            "                 Open       High        Low      Close  rate_return\n",
            "Date                                                               \n",
            "2016-01-31  21.852384  22.440247  21.750948  22.440247          NaN\n",
            "2016-02-29  22.450757  22.768304  22.402082  22.411354    -0.001288\n",
            "2016-03-31  25.431524  25.473245  25.236823  25.262320     0.127211\n",
            "2016-04-30  21.785533  21.954737  21.442491  21.727587    -0.139921\n",
            "2016-05-31  23.226411  23.412969  23.044518  23.287043     0.071773\n",
            "2016-06-30  22.023108  22.333258  21.990461  22.293615    -0.042660\n",
            "2016-07-31  24.296778  24.380729  24.177847  24.301441     0.090063\n",
            "2016-08-31  24.773058  24.986415  24.768367  24.876219     0.023652\n",
            "2016-09-30  26.367380  26.580740  26.212637  26.505713     0.065504\n",
            "2016-10-31  26.646394  26.782382  26.540886  26.620604     0.004335\n",
            "2016-11-30  26.300090  26.441488  25.986656  26.045572    -0.021601\n",
            "2016-12-31  27.490191  27.619805  27.202681  27.294590     0.047955\n",
            "2016-10-31  26.646394  26.782382  26.540886  26.620604          NaN\n",
            "2016-11-30  26.300090  26.441488  25.986656  26.045572          NaN\n",
            "2016-12-31  27.490191  27.619805  27.202681  27.294590          NaN\n",
            "2017-01-31  28.550684  28.607243  28.425783  28.597816          NaN\n",
            "2017-02-28  32.444873  32.530080  32.354932  32.423573          NaN\n",
            "2017-03-31  34.016451  34.146629  33.848403  34.002251          NaN\n",
            "2017-04-30  34.104028  34.153733  33.909947  33.999886          NaN\n"
          ]
        }
      ]
    },
    {
      "cell_type": "code",
      "metadata": {
        "colab": {
          "base_uri": "https://localhost:8080/"
        },
        "id": "IqPPmvAQ9Y0U",
        "outputId": "83d6063f-f098-474a-e702-d1d477abcbc3"
      },
      "source": [
        "#Ejemplo\n",
        "concat_dos = pd.concat([apple_bar_dos, df_2021_dos], axis = 0)\n",
        "print(concat_dos)"
      ],
      "execution_count": 211,
      "outputs": [
        {
          "output_type": "stream",
          "name": "stdout",
          "text": [
            "             Open   High    Low  Close  rate_return\n",
            "Date                                               \n",
            "2021-01-31  6.600  6.740  6.280   6.33          NaN\n",
            "2021-02-28  7.180  7.410  6.660   7.09     0.120063\n",
            "2021-03-31  3.890  4.200  3.885   4.00    -0.435825\n",
            "2021-04-30  3.600  3.644  3.540   3.59    -0.102500\n",
            "2021-05-31  2.120  2.250  1.890   1.93    -0.462396\n",
            "2021-06-30  1.850  1.850  1.770   1.79    -0.072539\n",
            "2021-07-31  0.730  0.730  0.664   0.69    -0.614525\n",
            "2021-08-31  0.635  0.685  0.621   0.65    -0.057971\n",
            "2021-09-30  0.540  0.629  0.524   0.58    -0.107692\n",
            "2021-10-31  0.570  0.591  0.533   0.56    -0.034483\n",
            "2020-12-31  6.800  6.950  5.720   5.82          NaN\n",
            "2021-01-31  6.600  6.740  6.280   6.33          NaN\n",
            "2021-02-28  7.180  7.410  6.660   7.09          NaN\n",
            "2021-03-31  3.890  4.200  3.885   4.00          NaN\n",
            "2021-04-30  3.600  3.644  3.540   3.59          NaN\n"
          ]
        }
      ]
    },
    {
      "cell_type": "markdown",
      "metadata": {
        "id": "RFiUB1yE9rHl"
      },
      "source": [
        "Please note that if the two DataFrame have some columns with the same column names, these columns are considered to be the same and will be merged. It's very important to have the right column names. If we change a column names here:"
      ]
    },
    {
      "cell_type": "code",
      "metadata": {
        "colab": {
          "base_uri": "https://localhost:8080/"
        },
        "id": "Ca6pcUGi9tBz",
        "outputId": "58331980-f8dd-4af6-899a-2f3b31225a42"
      },
      "source": [
        "df_2017.columns = ['Change', 'High', 'Low', 'Close']\n",
        "concat = pd.concat([aapl_bar, df_2017], axis = 0,sort=True)\n",
        "print(concat)"
      ],
      "execution_count": 212,
      "outputs": [
        {
          "output_type": "stream",
          "name": "stdout",
          "text": [
            "               Change      Close       High        Low       Open  rate_return\n",
            "Date                                                                          \n",
            "2016-01-31        NaN  22.440247  22.440247  21.750948  21.852384          NaN\n",
            "2016-02-29        NaN  22.411354  22.768304  22.402082  22.450757    -0.001288\n",
            "2016-03-31        NaN  25.262320  25.473245  25.236823  25.431524     0.127211\n",
            "2016-04-30        NaN  21.727587  21.954737  21.442491  21.785533    -0.139921\n",
            "2016-05-31        NaN  23.287043  23.412969  23.044518  23.226411     0.071773\n",
            "2016-06-30        NaN  22.293615  22.333258  21.990461  22.023108    -0.042660\n",
            "2016-07-31        NaN  24.301441  24.380729  24.177847  24.296778     0.090063\n",
            "2016-08-31        NaN  24.876219  24.986415  24.768367  24.773058     0.023652\n",
            "2016-09-30        NaN  26.505713  26.580740  26.212637  26.367380     0.065504\n",
            "2016-10-31        NaN  26.620604  26.782382  26.540886  26.646394     0.004335\n",
            "2016-11-30        NaN  26.045572  26.441488  25.986656  26.300090    -0.021601\n",
            "2016-12-31        NaN  27.294590  27.619805  27.202681  27.490191     0.047955\n",
            "2016-10-31  26.646394  26.620604  26.782382  26.540886        NaN          NaN\n",
            "2016-11-30  26.300090  26.045572  26.441488  25.986656        NaN          NaN\n",
            "2016-12-31  27.490191  27.294590  27.619805  27.202681        NaN          NaN\n",
            "2017-01-31  28.550684  28.597816  28.607243  28.425783        NaN          NaN\n",
            "2017-02-28  32.444873  32.423573  32.530080  32.354932        NaN          NaN\n",
            "2017-03-31  34.016451  34.002251  34.146629  33.848403        NaN          NaN\n",
            "2017-04-30  34.104028  33.999886  34.153733  33.909947        NaN          NaN\n"
          ]
        }
      ]
    },
    {
      "cell_type": "code",
      "metadata": {
        "colab": {
          "base_uri": "https://localhost:8080/"
        },
        "id": "HxWfLY_O98z8",
        "outputId": "90b86042-a627-4364-bee2-1d4f058e9781"
      },
      "source": [
        "#Ejemplo\n",
        "df_2021_dos.columns = ['Change', 'High', 'Low', 'Close']\n",
        "concat_dos = pd.concat([apple_bar_dos, df_2021_dos], axis = 0,sort=True)\n",
        "print(concat_dos)"
      ],
      "execution_count": 213,
      "outputs": [
        {
          "output_type": "stream",
          "name": "stdout",
          "text": [
            "            Change  Close   High    Low   Open  rate_return\n",
            "Date                                                       \n",
            "2021-01-31     NaN   6.33  6.740  6.280  6.600          NaN\n",
            "2021-02-28     NaN   7.09  7.410  6.660  7.180     0.120063\n",
            "2021-03-31     NaN   4.00  4.200  3.885  3.890    -0.435825\n",
            "2021-04-30     NaN   3.59  3.644  3.540  3.600    -0.102500\n",
            "2021-05-31     NaN   1.93  2.250  1.890  2.120    -0.462396\n",
            "2021-06-30     NaN   1.79  1.850  1.770  1.850    -0.072539\n",
            "2021-07-31     NaN   0.69  0.730  0.664  0.730    -0.614525\n",
            "2021-08-31     NaN   0.65  0.685  0.621  0.635    -0.057971\n",
            "2021-09-30     NaN   0.58  0.629  0.524  0.540    -0.107692\n",
            "2021-10-31     NaN   0.56  0.591  0.533  0.570    -0.034483\n",
            "2020-12-31    6.80   5.82  6.950  5.720    NaN          NaN\n",
            "2021-01-31    6.60   6.33  6.740  6.280    NaN          NaN\n",
            "2021-02-28    7.18   7.09  7.410  6.660    NaN          NaN\n",
            "2021-03-31    3.89   4.00  4.200  3.885    NaN          NaN\n",
            "2021-04-30    3.60   3.59  3.644  3.540    NaN          NaN\n"
          ]
        }
      ]
    },
    {
      "cell_type": "markdown",
      "metadata": {
        "id": "qvnbcn6t-mx3"
      },
      "source": [
        "Since the column name of 'Open' has been changed, the new DataFrame has an new column named 'Change'.\n",
        "\n",
        "# Summary\n",
        "\n",
        "Hereby we introduced the most import part of python: resampling and DataFrame manipulation. We only introduced the most commonly used method in Financial data analysis. There are also many methods used in data mining, which are also beneficial. You can always check the [Pandas](https://pandas.pydata.org/pandas-docs/stable/index.html) official documentations for help."
      ]
    }
  ]
}