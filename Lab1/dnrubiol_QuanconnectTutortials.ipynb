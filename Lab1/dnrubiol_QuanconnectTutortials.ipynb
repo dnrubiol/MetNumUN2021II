{
  "nbformat": 4,
  "nbformat_minor": 0,
  "metadata": {
    "colab": {
      "name": "dnrubiol_QuanconnectTutortials.ipynb",
      "provenance": [],
      "collapsed_sections": [
        "v_5cocrDW3MN",
        "jJpvq-o4a8P7",
        "pdIEjUv2eJqL"
      ]
    },
    "kernelspec": {
      "display_name": "Python 3",
      "language": "python",
      "name": "python3"
    },
    "language_info": {
      "codemirror_mode": {
        "name": "ipython",
        "version": 3
      },
      "file_extension": ".py",
      "mimetype": "text/x-python",
      "name": "python",
      "nbconvert_exporter": "python",
      "pygments_lexer": "ipython3",
      "version": "3.8.3"
    }
  },
  "cells": [
    {
      "cell_type": "markdown",
      "metadata": {
        "id": "eQzBbvyKQymx"
      },
      "source": [
        "<div align=\"center\">\n",
        "<img style=\"display: block; margin: auto;\" alt=\"photo\" src=\"https://cdn.quantconnect.com/web/i/icon.png\">\n",
        "\n",
        "Quantconnect\n",
        "\n",
        "Introduction to Financial Python\n",
        "\n",
        "</div>\n",
        "\n",
        "\n",
        "# 01 Data Types and Data Structures\n",
        "\n",
        "\n",
        "# Introduction\n",
        "\n",
        "This tutorial provides a basic introduction to the Python programming language. If you are new to Python, you should run the code snippets while reading this tutorial. If you are an advanced Python user, please feel free to skip this chapter.\n",
        "\n",
        "# Basic Variable Types\n",
        "The basic types of variables in Python are: strings, integers, floating point numbers and booleans.\n",
        "\n",
        "Strings in python are identified as a contiguous set of characters represented in either single quotes (' ') or double quotes (\" \").\n"
      ]
    },
    {
      "cell_type": "code",
      "metadata": {
        "colab": {
          "base_uri": "https://localhost:8080/"
        },
        "id": "N5t-UrcfOqid",
        "outputId": "f9dc4d1c-1e6e-4a87-9bed-c8fb71c362bf"
      },
      "source": [
        "my_string1 = 'Welcome to'\n",
        "my_string2 = \"QuantConnect\"\n",
        "print(my_string1 + ' ' + my_string2)"
      ],
      "execution_count": 1,
      "outputs": [
        {
          "output_type": "stream",
          "name": "stdout",
          "text": [
            "Welcome to QuantConnect\n"
          ]
        }
      ]
    },
    {
      "cell_type": "code",
      "metadata": {
        "colab": {
          "base_uri": "https://localhost:8080/"
        },
        "id": "AiRzr5_dqPNj",
        "outputId": "f82cb836-b518-4651-d593-98dfb6b3df65"
      },
      "source": [
        "#Ejemplo\n",
        "string_uno = 'Ejemplo'\n",
        "string_dos = 'uno'\n",
        "print(string_uno+' '+string_dos)"
      ],
      "execution_count": 2,
      "outputs": [
        {
          "output_type": "stream",
          "name": "stdout",
          "text": [
            "Ejemplo uno\n"
          ]
        }
      ]
    },
    {
      "cell_type": "markdown",
      "metadata": {
        "id": "bXHnxZyHSd1M"
      },
      "source": [
        "An integer is a round number with no values after the decimal point."
      ]
    },
    {
      "cell_type": "code",
      "metadata": {
        "colab": {
          "base_uri": "https://localhost:8080/"
        },
        "id": "pNjuz3toOqif",
        "outputId": "4bbcc331-efac-4fe6-c136-498c929670f3"
      },
      "source": [
        "my_int = 10\n",
        "print(my_int)\n",
        "print(type(my_int))"
      ],
      "execution_count": 3,
      "outputs": [
        {
          "output_type": "stream",
          "name": "stdout",
          "text": [
            "10\n",
            "<class 'int'>\n"
          ]
        }
      ]
    },
    {
      "cell_type": "code",
      "metadata": {
        "colab": {
          "base_uri": "https://localhost:8080/"
        },
        "id": "1ZhMyM0oqici",
        "outputId": "7542c808-83a5-4421-e6da-c9b6abe0e7a4"
      },
      "source": [
        "#Ejemplo\n",
        "int_dos = 123456789\n",
        "print(int_dos)\n",
        "print(type(int_dos))"
      ],
      "execution_count": 4,
      "outputs": [
        {
          "output_type": "stream",
          "name": "stdout",
          "text": [
            "123456789\n",
            "<class 'int'>\n"
          ]
        }
      ]
    },
    {
      "cell_type": "markdown",
      "metadata": {
        "id": "_1ZanWrYSnzF"
      },
      "source": [
        "The built-in function int() can convert a string into an integer."
      ]
    },
    {
      "cell_type": "code",
      "metadata": {
        "colab": {
          "base_uri": "https://localhost:8080/"
        },
        "id": "zPwGb20FOqif",
        "outputId": "3313d2e1-e605-4d7d-f563-deec06cd6e72"
      },
      "source": [
        "my_string = \"100\"\n",
        "print(type(my_string))\n",
        "my_int = int(my_string)\n",
        "print(type(my_int))"
      ],
      "execution_count": 5,
      "outputs": [
        {
          "output_type": "stream",
          "name": "stdout",
          "text": [
            "<class 'str'>\n",
            "<class 'int'>\n"
          ]
        }
      ]
    },
    {
      "cell_type": "code",
      "metadata": {
        "colab": {
          "base_uri": "https://localhost:8080/"
        },
        "id": "sS-q_hH7qwPq",
        "outputId": "70372800-db57-4a3b-9e86-924bca96f892"
      },
      "source": [
        "#Ejemplo\n",
        "string_to_int = '123456789'\n",
        "print(string_to_int)\n",
        "print(type(string_to_int))\n",
        "int_from_string = int(string_to_int)\n",
        "print(int_from_string)\n",
        "print(type(int_from_string))"
      ],
      "execution_count": 6,
      "outputs": [
        {
          "output_type": "stream",
          "name": "stdout",
          "text": [
            "123456789\n",
            "<class 'str'>\n",
            "123456789\n",
            "<class 'int'>\n"
          ]
        }
      ]
    },
    {
      "cell_type": "markdown",
      "metadata": {
        "id": "WqMDPDTHSrE9"
      },
      "source": [
        "A floating point number, or a float, is a real number in mathematics. In Python we need to include a value after a decimal point to define it as a float"
      ]
    },
    {
      "cell_type": "code",
      "metadata": {
        "colab": {
          "base_uri": "https://localhost:8080/"
        },
        "id": "otCzKKW9Oqig",
        "outputId": "2665e44a-b157-43ea-ec76-ab8ee349290e"
      },
      "source": [
        "my_string = \"100\"\n",
        "my_float = float(my_string)\n",
        "print(type(my_float))"
      ],
      "execution_count": 7,
      "outputs": [
        {
          "output_type": "stream",
          "name": "stdout",
          "text": [
            "<class 'float'>\n"
          ]
        }
      ]
    },
    {
      "cell_type": "code",
      "metadata": {
        "colab": {
          "base_uri": "https://localhost:8080/"
        },
        "id": "yByML4SxrAnL",
        "outputId": "326dbe77-dc69-4e90-91d1-08a5bc5d5d55"
      },
      "source": [
        "#Ejemplo\n",
        "string_to_float = '2021'\n",
        "float_from_string = float(string_to_float)\n",
        "print(float_from_string)\n",
        "print(type(float_from_string))"
      ],
      "execution_count": 8,
      "outputs": [
        {
          "output_type": "stream",
          "name": "stdout",
          "text": [
            "2021.0\n",
            "<class 'float'>\n"
          ]
        }
      ]
    },
    {
      "cell_type": "markdown",
      "metadata": {
        "id": "2iuyv8Q7StTJ"
      },
      "source": [
        "As you can see above, if we don't include a decimal value, the variable would be defined as an integer. The built-in function float() can convert a string or an integer into a float."
      ]
    },
    {
      "cell_type": "code",
      "metadata": {
        "colab": {
          "base_uri": "https://localhost:8080/"
        },
        "id": "wwLw5VthOqig",
        "outputId": "06eeb09a-e002-4f21-e61b-c2e91440bbed"
      },
      "source": [
        "my_bool = False\n",
        "print(my_bool)\n",
        "print(type(my_bool))"
      ],
      "execution_count": 9,
      "outputs": [
        {
          "output_type": "stream",
          "name": "stdout",
          "text": [
            "False\n",
            "<class 'bool'>\n"
          ]
        }
      ]
    },
    {
      "cell_type": "code",
      "metadata": {
        "colab": {
          "base_uri": "https://localhost:8080/"
        },
        "id": "Ymv-BDd2rNPa",
        "outputId": "be1a6ca7-df68-466f-8941-a639360d172f"
      },
      "source": [
        "#Ejemplo\n",
        "bool_dos = True\n",
        "print(bool_dos)\n",
        "print(type(bool_dos))"
      ],
      "execution_count": 10,
      "outputs": [
        {
          "output_type": "stream",
          "name": "stdout",
          "text": [
            "True\n",
            "<class 'bool'>\n"
          ]
        }
      ]
    },
    {
      "cell_type": "markdown",
      "metadata": {
        "id": "bnGMwH21Szr_"
      },
      "source": [
        "A boolean, or bool, is a binary variable. Its value can only be True or False. It is useful when we do some logic operations, which would be covered in our next chapter."
      ]
    },
    {
      "cell_type": "code",
      "metadata": {
        "colab": {
          "base_uri": "https://localhost:8080/"
        },
        "id": "DMa6pDl5Oqig",
        "outputId": "2756a9d0-0f7b-46e9-c49d-05c400d3c718"
      },
      "source": [
        "print(\"Addition \", 1+1)\n",
        "print(\"Subtraction \", 5-2)\n",
        "print(\"Multiplication \", 2*3)\n",
        "print(\"Division \", 10/2)\n",
        "print('exponent', 2**3)"
      ],
      "execution_count": 11,
      "outputs": [
        {
          "output_type": "stream",
          "name": "stdout",
          "text": [
            "Addition  2\n",
            "Subtraction  3\n",
            "Multiplication  6\n",
            "Division  5.0\n",
            "exponent 8\n"
          ]
        }
      ]
    },
    {
      "cell_type": "code",
      "metadata": {
        "colab": {
          "base_uri": "https://localhost:8080/"
        },
        "id": "s-Hzy6AprUjS",
        "outputId": "871ccd3b-26fb-4f3e-e4b4-d0b9db995785"
      },
      "source": [
        "#Ejemplo\n",
        "print(\"Addition_Example\", 123+456+789)\n",
        "print(\"Subtraction_Example\", 987-654-321)\n",
        "print(\"Multiplication_Example\", 1*2*3*4*5)\n",
        "print(\"Division_Example\", 21/2)\n",
        "print('exponent_Example', 3**3)"
      ],
      "execution_count": 12,
      "outputs": [
        {
          "output_type": "stream",
          "name": "stdout",
          "text": [
            "Addition_Example 1368\n",
            "Subtraction_Example 12\n",
            "Multiplication_Example 120\n",
            "Division_Example 10.5\n",
            "exponent_Example 27\n"
          ]
        }
      ]
    },
    {
      "cell_type": "markdown",
      "metadata": {
        "id": "1Xc9G9_sS2ju"
      },
      "source": [
        "# Basic Math Operations\n",
        "\n",
        "The basic math operators in python are demonstrated below:"
      ]
    },
    {
      "cell_type": "code",
      "metadata": {
        "colab": {
          "base_uri": "https://localhost:8080/"
        },
        "id": "KE9gUryAOqig",
        "outputId": "e2cab4c0-e5f5-4618-c470-1fbdbf3c23a2"
      },
      "source": [
        "print(1/3)\n",
        "print(1.0/3)"
      ],
      "execution_count": 13,
      "outputs": [
        {
          "output_type": "stream",
          "name": "stdout",
          "text": [
            "0.3333333333333333\n",
            "0.3333333333333333\n"
          ]
        }
      ]
    },
    {
      "cell_type": "code",
      "metadata": {
        "colab": {
          "base_uri": "https://localhost:8080/"
        },
        "id": "tktM97_HrmHm",
        "outputId": "eab5dadc-11bc-45ab-c096-3a5ede637a82"
      },
      "source": [
        "#Ejemplo\n",
        "print(3000/34)\n",
        "print(3000.0/34)"
      ],
      "execution_count": 14,
      "outputs": [
        {
          "output_type": "stream",
          "name": "stdout",
          "text": [
            "88.23529411764706\n",
            "88.23529411764706\n"
          ]
        }
      ]
    },
    {
      "cell_type": "markdown",
      "metadata": {
        "id": "AN5Oa3DoS_Nf"
      },
      "source": [
        "# Data Collections\n",
        "\n",
        "## List\n",
        "A list is an ordered collection of values. A list is mutable, which means you can change a list's value without changing the list itself. Creating a list is simply putting different comma-separated values between square brackets."
      ]
    },
    {
      "cell_type": "code",
      "metadata": {
        "colab": {
          "base_uri": "https://localhost:8080/"
        },
        "id": "-tQdNqCvOqig",
        "outputId": "9394d43e-d251-4f01-8412-90c60c613ee7"
      },
      "source": [
        "my_list = ['Quant', 'Connect', 1,2,3]\n",
        "print(my_list)"
      ],
      "execution_count": 15,
      "outputs": [
        {
          "output_type": "stream",
          "name": "stdout",
          "text": [
            "['Quant', 'Connect', 1, 2, 3]\n"
          ]
        }
      ]
    },
    {
      "cell_type": "code",
      "metadata": {
        "colab": {
          "base_uri": "https://localhost:8080/"
        },
        "id": "q4W5HRMPrtwq",
        "outputId": "35d93024-8dec-45d8-eafb-92df21f4b691"
      },
      "source": [
        "#Ejemplo\n",
        "lista_animales = ['leon', 'tigre', 2, 3, 100]\n",
        "print(lista_animales)"
      ],
      "execution_count": 16,
      "outputs": [
        {
          "output_type": "stream",
          "name": "stdout",
          "text": [
            "['leon', 'tigre', 2, 3, 100]\n"
          ]
        }
      ]
    },
    {
      "cell_type": "markdown",
      "metadata": {
        "id": "1O0TsgZCTHrM"
      },
      "source": [
        "The values in a list are called \"elements\". We can access list elements by indexing. Python index starts from 0. So if you have a list of length n, the index of the first element will be 0, and that of the last element will be n − 1. By the way, the length of a list can be obtained by the built-in function len()."
      ]
    },
    {
      "cell_type": "code",
      "metadata": {
        "colab": {
          "base_uri": "https://localhost:8080/"
        },
        "id": "QhuVhRR5Oqih",
        "outputId": "323ff7f8-e2d8-483d-b018-0e5cf724bde6"
      },
      "source": [
        "my_list = ['Quant', 'Connect', 1,2,3]\n",
        "print(len(my_list))\n",
        "print(my_list[0])\n",
        "print(my_list[len(my_list) -1])"
      ],
      "execution_count": 17,
      "outputs": [
        {
          "output_type": "stream",
          "name": "stdout",
          "text": [
            "5\n",
            "Quant\n",
            "3\n"
          ]
        }
      ]
    },
    {
      "cell_type": "code",
      "metadata": {
        "colab": {
          "base_uri": "https://localhost:8080/"
        },
        "id": "Y5uk7UULr-mS",
        "outputId": "a43e9c36-4d4a-4186-e0d2-636e9f7dce0f"
      },
      "source": [
        "#Ejemplo\n",
        "lista_numeros = ['uno', 2, 'tres', 4, 5, 6]\n",
        "print( len(lista_numeros))\n",
        "print( lista_numeros[0])\n",
        "print( lista_numeros[len(lista_numeros)-2])"
      ],
      "execution_count": 18,
      "outputs": [
        {
          "output_type": "stream",
          "name": "stdout",
          "text": [
            "6\n",
            "uno\n",
            "5\n"
          ]
        }
      ]
    },
    {
      "cell_type": "markdown",
      "metadata": {
        "id": "jgSZy1VGTKSc"
      },
      "source": [
        "You can also change the elements in the list by accessing an index and assigning a new value."
      ]
    },
    {
      "cell_type": "code",
      "metadata": {
        "colab": {
          "base_uri": "https://localhost:8080/"
        },
        "id": "NQBNLjAvOqih",
        "outputId": "de3e3004-dd1a-4602-861a-12daea12eb6f"
      },
      "source": [
        "my_list = ['Quant','Connect',1,2,3]\n",
        "my_list[2] = 'go'\n",
        "print(my_list)"
      ],
      "execution_count": 19,
      "outputs": [
        {
          "output_type": "stream",
          "name": "stdout",
          "text": [
            "['Quant', 'Connect', 'go', 2, 3]\n"
          ]
        }
      ]
    },
    {
      "cell_type": "code",
      "metadata": {
        "colab": {
          "base_uri": "https://localhost:8080/"
        },
        "id": "f0OVNgc5sZwz",
        "outputId": "b220dd3c-e683-4795-ba30-e71b3e1ac025"
      },
      "source": [
        "#Ejemplo\n",
        "lista_abecedario =  ['a', 'b', 'c', 'd', 0, 1]\n",
        "lista_abecedario[2] = 'Z'\n",
        "lista_abecedario[5] = 'uno'\n",
        "print(lista_abecedario)"
      ],
      "execution_count": 20,
      "outputs": [
        {
          "output_type": "stream",
          "name": "stdout",
          "text": [
            "['a', 'b', 'Z', 'd', 0, 'uno']\n"
          ]
        }
      ]
    },
    {
      "cell_type": "markdown",
      "metadata": {
        "id": "EQPs5ojoTVrk"
      },
      "source": [
        "A list can also be sliced with a colon:"
      ]
    },
    {
      "cell_type": "code",
      "metadata": {
        "colab": {
          "base_uri": "https://localhost:8080/"
        },
        "id": "keNX2RbtOqii",
        "outputId": "99cb66a4-05e2-4d38-ad59-7c38ea8b19c3"
      },
      "source": [
        "my_list = ['Quant','Connect',1,2,3]\n",
        "print(my_list[1:3])"
      ],
      "execution_count": 21,
      "outputs": [
        {
          "output_type": "stream",
          "name": "stdout",
          "text": [
            "['Connect', 1]\n"
          ]
        }
      ]
    },
    {
      "cell_type": "code",
      "metadata": {
        "colab": {
          "base_uri": "https://localhost:8080/"
        },
        "id": "yXmP4-P2smrr",
        "outputId": "3558462c-61b6-4320-9a1e-f3d0392783dd"
      },
      "source": [
        "#Ejemplo\n",
        "lista_dias = ['lunes', 'martes', 'miercoles', 'jueves', 'viernes']\n",
        "print(lista_dias[0:3])"
      ],
      "execution_count": 22,
      "outputs": [
        {
          "output_type": "stream",
          "name": "stdout",
          "text": [
            "['lunes', 'martes', 'miercoles']\n"
          ]
        }
      ]
    },
    {
      "cell_type": "markdown",
      "metadata": {
        "id": "AZqQd0K8TYul"
      },
      "source": [
        "The slice starts from the first element indicated, but excludes the last element indicated. Here we select all elements starting from index 1, which refers to the second element:"
      ]
    },
    {
      "cell_type": "code",
      "metadata": {
        "colab": {
          "base_uri": "https://localhost:8080/"
        },
        "id": "0-76sLfkOqii",
        "outputId": "b0bf2c33-21ff-46f6-aa6a-79f73d4866d2"
      },
      "source": [
        "print(my_list[1:])"
      ],
      "execution_count": 23,
      "outputs": [
        {
          "output_type": "stream",
          "name": "stdout",
          "text": [
            "['Connect', 1, 2, 3]\n"
          ]
        }
      ]
    },
    {
      "cell_type": "code",
      "metadata": {
        "colab": {
          "base_uri": "https://localhost:8080/"
        },
        "id": "jQID6zyRs2v5",
        "outputId": "3306db30-5bfd-45fe-f57b-72fe104051e2"
      },
      "source": [
        "#Ejemplo\n",
        "print(lista_dias[2:])"
      ],
      "execution_count": 24,
      "outputs": [
        {
          "output_type": "stream",
          "name": "stdout",
          "text": [
            "['miercoles', 'jueves', 'viernes']\n"
          ]
        }
      ]
    },
    {
      "cell_type": "markdown",
      "metadata": {
        "id": "XBqvhUdZVKWs"
      },
      "source": [
        "And all elements up to but excluding index 3:"
      ]
    },
    {
      "cell_type": "code",
      "metadata": {
        "colab": {
          "base_uri": "https://localhost:8080/"
        },
        "id": "5NWr75L9Oqii",
        "outputId": "44e3fa99-9c7c-4503-a2c7-88954b7903b2"
      },
      "source": [
        "print(my_list[:3])"
      ],
      "execution_count": 25,
      "outputs": [
        {
          "output_type": "stream",
          "name": "stdout",
          "text": [
            "['Quant', 'Connect', 1]\n"
          ]
        }
      ]
    },
    {
      "cell_type": "code",
      "metadata": {
        "colab": {
          "base_uri": "https://localhost:8080/"
        },
        "id": "wy5qD4k7s_UT",
        "outputId": "f26fe63e-f93b-4e8f-b144-35f0e2816f1e"
      },
      "source": [
        "#Ejemplo\n",
        "print(lista_dias[:4])"
      ],
      "execution_count": 26,
      "outputs": [
        {
          "output_type": "stream",
          "name": "stdout",
          "text": [
            "['lunes', 'martes', 'miercoles', 'jueves']\n"
          ]
        }
      ]
    },
    {
      "cell_type": "markdown",
      "metadata": {
        "id": "eAFmM6bkTZz9"
      },
      "source": [
        "If you wish to add or remove an element from a list, you can use the append() and remove() methods for lists as follows:"
      ]
    },
    {
      "cell_type": "code",
      "metadata": {
        "colab": {
          "base_uri": "https://localhost:8080/"
        },
        "id": "pHmgTPElTo19",
        "outputId": "0ae85670-7a72-44a6-bdfe-5ea0e14b5318"
      },
      "source": [
        "my_list = ['Hello', 'Quant']\n",
        "my_list.append('Hello')\n",
        "print(my_list)\n",
        "\n"
      ],
      "execution_count": 27,
      "outputs": [
        {
          "output_type": "stream",
          "name": "stdout",
          "text": [
            "['Hello', 'Quant', 'Hello']\n"
          ]
        }
      ]
    },
    {
      "cell_type": "code",
      "metadata": {
        "colab": {
          "base_uri": "https://localhost:8080/"
        },
        "id": "lS9tEQKZtLkC",
        "outputId": "a864af24-e4a8-4cf1-e43a-9ffebee0cded"
      },
      "source": [
        "#Ejemplo\n",
        "lista_dias.append('Sabado')\n",
        "print(lista_dias)"
      ],
      "execution_count": 28,
      "outputs": [
        {
          "output_type": "stream",
          "name": "stdout",
          "text": [
            "['lunes', 'martes', 'miercoles', 'jueves', 'viernes', 'Sabado']\n"
          ]
        }
      ]
    },
    {
      "cell_type": "code",
      "metadata": {
        "colab": {
          "base_uri": "https://localhost:8080/"
        },
        "id": "4C4U1Yf0Tr8l",
        "outputId": "c074a0f8-69f0-4cb9-a0d6-6fc08acc9707"
      },
      "source": [
        "my_list.remove('Hello')\n",
        "print(my_list)"
      ],
      "execution_count": 29,
      "outputs": [
        {
          "output_type": "stream",
          "name": "stdout",
          "text": [
            "['Quant', 'Hello']\n"
          ]
        }
      ]
    },
    {
      "cell_type": "code",
      "metadata": {
        "colab": {
          "base_uri": "https://localhost:8080/"
        },
        "id": "yKpl6WnjtTyk",
        "outputId": "76f7a4d2-63ed-4416-9c39-f11b5f65080d"
      },
      "source": [
        "#Ejemplo\n",
        "lista_dias.remove('lunes')\n",
        "print(lista_dias)"
      ],
      "execution_count": 30,
      "outputs": [
        {
          "output_type": "stream",
          "name": "stdout",
          "text": [
            "['martes', 'miercoles', 'jueves', 'viernes', 'Sabado']\n"
          ]
        }
      ]
    },
    {
      "cell_type": "markdown",
      "metadata": {
        "id": "11W1gG-cVmOU"
      },
      "source": [
        "When there are repeated instances of \"Hello\", the first one is removed.\n",
        "\n",
        "## Tuple\n",
        "A tuple is a data structure type similar to a list. The difference is that a tuple is immutable, which means you can't change the elements in it once it's defined. We create a tuple by putting comma-separated values between parentheses."
      ]
    },
    {
      "cell_type": "code",
      "metadata": {
        "id": "vPmn6BAaOqii"
      },
      "source": [
        "my_tuple = ('Welcome','to','QuantConnect')"
      ],
      "execution_count": 31,
      "outputs": []
    },
    {
      "cell_type": "code",
      "metadata": {
        "colab": {
          "base_uri": "https://localhost:8080/"
        },
        "id": "g40vU7eKtiUB",
        "outputId": "916bee40-1be1-4721-aaed-5d0d8515a7ba"
      },
      "source": [
        "#Ejemplo\n",
        "tuple_dos = ('leon', 'tigre', 'pantera', 'puma', 'lince')\n",
        "print(tuple_dos)"
      ],
      "execution_count": 32,
      "outputs": [
        {
          "output_type": "stream",
          "name": "stdout",
          "text": [
            "('leon', 'tigre', 'pantera', 'puma', 'lince')\n"
          ]
        }
      ]
    },
    {
      "cell_type": "markdown",
      "metadata": {
        "id": "zMIme4dDV0Wz"
      },
      "source": [
        "Just like a list, a tuple can be sliced by using index."
      ]
    },
    {
      "cell_type": "code",
      "metadata": {
        "colab": {
          "base_uri": "https://localhost:8080/"
        },
        "id": "8P-ddO0sOqii",
        "outputId": "3d9c19c5-0ea0-4e90-d96b-9327e21017a1"
      },
      "source": [
        "my_tuple = ('Welcome','to','QuantConnect')\n",
        "print(my_tuple[1:])"
      ],
      "execution_count": 33,
      "outputs": [
        {
          "output_type": "stream",
          "name": "stdout",
          "text": [
            "('to', 'QuantConnect')\n"
          ]
        }
      ]
    },
    {
      "cell_type": "code",
      "metadata": {
        "colab": {
          "base_uri": "https://localhost:8080/"
        },
        "id": "bSkkXyKEtuv1",
        "outputId": "91bd2f56-b67f-4b18-adc0-183e0a6c7ae9"
      },
      "source": [
        "#Ejemplo\n",
        "print( tuple_dos[:3] )"
      ],
      "execution_count": 34,
      "outputs": [
        {
          "output_type": "stream",
          "name": "stdout",
          "text": [
            "('leon', 'tigre', 'pantera')\n"
          ]
        }
      ]
    },
    {
      "cell_type": "markdown",
      "metadata": {
        "id": "l2JqbusAV1Y2"
      },
      "source": [
        "## Set\n",
        "A set is an **unordered**  collection with **no duplicate** elements. The built-in function **set()** can be used to create sets."
      ]
    },
    {
      "cell_type": "code",
      "metadata": {
        "colab": {
          "base_uri": "https://localhost:8080/"
        },
        "id": "Plau8r-UOqij",
        "outputId": "988451ae-1733-4976-c451-449f3e350434"
      },
      "source": [
        "stock_list = ['AAPL','GOOG','IBM','AAPL','IBM','FB','F','GOOG']\n",
        "stock_set = set(stock_list)\n",
        "print(stock_set)"
      ],
      "execution_count": 35,
      "outputs": [
        {
          "output_type": "stream",
          "name": "stdout",
          "text": [
            "{'AAPL', 'GOOG', 'IBM', 'F', 'FB'}\n"
          ]
        }
      ]
    },
    {
      "cell_type": "code",
      "metadata": {
        "colab": {
          "base_uri": "https://localhost:8080/"
        },
        "id": "Zh-EABMJt3FL",
        "outputId": "09776cdb-053c-4dfa-afb6-127ff58fad1e"
      },
      "source": [
        "#Ejemplo\n",
        "lista_nombres = ['Fernando', 'Luis', 'Diego', 'Maria', 'Ana', 'Juan', 'Luis', 'Juan']\n",
        "set_nombres = set(lista_nombres)\n",
        "print(set_nombres)"
      ],
      "execution_count": 36,
      "outputs": [
        {
          "output_type": "stream",
          "name": "stdout",
          "text": [
            "{'Fernando', 'Juan', 'Ana', 'Diego', 'Maria', 'Luis'}\n"
          ]
        }
      ]
    },
    {
      "cell_type": "markdown",
      "metadata": {
        "id": "Jyb4GGIoWIHk"
      },
      "source": [
        "Set is an easy way to remove duplicate elements from a list.\n",
        "\n",
        "##Dictionary\n",
        "A dictionary is one of the most important data structures in Python. Unlike sequences which are indexed by integers, dictionaries are indexed by keys which can be either strings or floats.\n",
        "\n",
        "A dictionary is an **unordered** collection of key : value pairs, with the requirement that the keys are unique. We create a dictionary by placing a comma-separated list of key : value pairs within the braces."
      ]
    },
    {
      "cell_type": "code",
      "metadata": {
        "id": "36mTe5BaOqij"
      },
      "source": [
        "my_dic = {'AAPL':'AAPLE', 'FB':'FaceBook', 'GOOG':'Alphabet'}"
      ],
      "execution_count": 37,
      "outputs": []
    },
    {
      "cell_type": "code",
      "metadata": {
        "colab": {
          "base_uri": "https://localhost:8080/"
        },
        "id": "KUfdVf43Oqij",
        "outputId": "4f7abe63-eb3c-4d22-c53d-31a3d787e191"
      },
      "source": [
        "print(my_dic['GOOG'])"
      ],
      "execution_count": 38,
      "outputs": [
        {
          "output_type": "stream",
          "name": "stdout",
          "text": [
            "Alphabet\n"
          ]
        }
      ]
    },
    {
      "cell_type": "code",
      "metadata": {
        "id": "cLAFJDGvuKfK"
      },
      "source": [
        "#Ejemplo\n",
        "animales_colores = {'Tigre':'Naranja', 'Elefante':'Gris', 'Jirafa':'Amarillo', 'Sapo':'Verde', 'Raton':'Gris'}"
      ],
      "execution_count": 39,
      "outputs": []
    },
    {
      "cell_type": "code",
      "metadata": {
        "colab": {
          "base_uri": "https://localhost:8080/"
        },
        "id": "W8GrRCojuUZ5",
        "outputId": "8c8b29ec-1a0d-4bde-a79b-610075861f6c"
      },
      "source": [
        "print( animales_colores['Jirafa'] )"
      ],
      "execution_count": 40,
      "outputs": [
        {
          "output_type": "stream",
          "name": "stdout",
          "text": [
            "Amarillo\n"
          ]
        }
      ]
    },
    {
      "cell_type": "markdown",
      "metadata": {
        "id": "gSicoNqDWP4c"
      },
      "source": [
        "After defining a dictionary, we can access any value by indicating its key in brackets."
      ]
    },
    {
      "cell_type": "code",
      "metadata": {
        "colab": {
          "base_uri": "https://localhost:8080/"
        },
        "id": "IrTZdq9FOqij",
        "outputId": "061c687a-087b-47e3-f921-5150fce5bf2c"
      },
      "source": [
        "my_dic['GOOG'] = 'Alphabet Company'\n",
        "print(my_dic['GOOG'])"
      ],
      "execution_count": 41,
      "outputs": [
        {
          "output_type": "stream",
          "name": "stdout",
          "text": [
            "Alphabet Company\n"
          ]
        }
      ]
    },
    {
      "cell_type": "code",
      "metadata": {
        "colab": {
          "base_uri": "https://localhost:8080/"
        },
        "id": "0JDIuuw5ua6R",
        "outputId": "a21bd835-6644-4922-c410-febc424d911b"
      },
      "source": [
        "#Ejemplo\n",
        "animales_colores['Raton'] = 'Gris Oscuro'\n",
        "print(animales_colores['Raton'])"
      ],
      "execution_count": 42,
      "outputs": [
        {
          "output_type": "stream",
          "name": "stdout",
          "text": [
            "Gris Oscuro\n"
          ]
        }
      ]
    },
    {
      "cell_type": "markdown",
      "metadata": {
        "id": "M9sDsTEMWQvc"
      },
      "source": [
        "We can also change the value associated with a specified key:"
      ]
    },
    {
      "cell_type": "code",
      "metadata": {
        "colab": {
          "base_uri": "https://localhost:8080/"
        },
        "id": "lupRHf1_Oqij",
        "outputId": "5283c004-3d44-465f-9d95-7e41f469a6a0"
      },
      "source": [
        "print(my_dic.keys())"
      ],
      "execution_count": 43,
      "outputs": [
        {
          "output_type": "stream",
          "name": "stdout",
          "text": [
            "dict_keys(['AAPL', 'FB', 'GOOG'])\n"
          ]
        }
      ]
    },
    {
      "cell_type": "code",
      "metadata": {
        "colab": {
          "base_uri": "https://localhost:8080/"
        },
        "id": "zRaP6nnAujR0",
        "outputId": "b2127440-5859-4cc1-9907-b8ec14720152"
      },
      "source": [
        "#Ejemplo\n",
        "print(animales_colores.keys())"
      ],
      "execution_count": 44,
      "outputs": [
        {
          "output_type": "stream",
          "name": "stdout",
          "text": [
            "dict_keys(['Tigre', 'Elefante', 'Jirafa', 'Sapo', 'Raton'])\n"
          ]
        }
      ]
    },
    {
      "cell_type": "markdown",
      "metadata": {
        "id": "VPuDinlwWS9D"
      },
      "source": [
        "The built-in method of the dictionary object dict.keys() returns a list of all the keys used in the dictionary."
      ]
    },
    {
      "cell_type": "markdown",
      "metadata": {
        "id": "kSGzgNb2Womz"
      },
      "source": [
        "# Common String Operations\n",
        "A string is an immutable sequence of characters. It can be sliced by index just like a tuple:"
      ]
    },
    {
      "cell_type": "code",
      "metadata": {
        "colab": {
          "base_uri": "https://localhost:8080/"
        },
        "id": "xPojDnm9Oqik",
        "outputId": "a0fb47a4-e507-4377-b018-447f746baff5"
      },
      "source": [
        "my_str = 'Welcome to QuantConnect'\n",
        "print(my_str[8:])"
      ],
      "execution_count": 45,
      "outputs": [
        {
          "output_type": "stream",
          "name": "stdout",
          "text": [
            "to QuantConnect\n"
          ]
        }
      ]
    },
    {
      "cell_type": "code",
      "metadata": {
        "colab": {
          "base_uri": "https://localhost:8080/"
        },
        "id": "AnG7OLcouqva",
        "outputId": "b4e9805f-f776-4ec5-a877-32b0a732aaa3"
      },
      "source": [
        "#Ejemplo\n",
        "string_sliced = 'Anita lava la tinA'\n",
        "print(string_sliced[:5])\n",
        "print(string_sliced[14:])"
      ],
      "execution_count": 46,
      "outputs": [
        {
          "output_type": "stream",
          "name": "stdout",
          "text": [
            "Anita\n",
            "tinA\n"
          ]
        }
      ]
    },
    {
      "cell_type": "markdown",
      "metadata": {
        "id": "wuJYy7tvWtM7"
      },
      "source": [
        "There are many methods associated with strings. We can use string.count() to count the occurrences of a character in a string, use string.find() to return the index of a specific character, and use string.replace() to replace characters"
      ]
    },
    {
      "cell_type": "code",
      "metadata": {
        "colab": {
          "base_uri": "https://localhost:8080/"
        },
        "id": "u9deZq1SOqik",
        "outputId": "b454e4ec-ec0b-4b87-ce3f-015946fcb7ec"
      },
      "source": [
        "print('Counting the number of e appears in this sentence'.count('e'))\n",
        "print('The first time e appears in this sentence'.find('e'))\n",
        "print('all the a in this sentence now becomes e'.replace('a','e'))"
      ],
      "execution_count": 47,
      "outputs": [
        {
          "output_type": "stream",
          "name": "stdout",
          "text": [
            "7\n",
            "2\n",
            "ell the e in this sentence now becomes e\n"
          ]
        }
      ]
    },
    {
      "cell_type": "code",
      "metadata": {
        "colab": {
          "base_uri": "https://localhost:8080/"
        },
        "id": "9295mWsHu1qm",
        "outputId": "97ec63a2-cd4a-4271-c293-9340dfdbcaa9"
      },
      "source": [
        "#Ejemplo\n",
        "print('carro'.count('u'))\n",
        "print('murcielago'.find('i'))\n",
        "print('colombia'.replace('o','u'))"
      ],
      "execution_count": 48,
      "outputs": [
        {
          "output_type": "stream",
          "name": "stdout",
          "text": [
            "0\n",
            "4\n",
            "culumbia\n"
          ]
        }
      ]
    },
    {
      "cell_type": "markdown",
      "metadata": {
        "id": "sJPn3rkvWwHN"
      },
      "source": [
        "The most commonly used method for strings is string.split(). This method will split the string by the indicated character and return a list:"
      ]
    },
    {
      "cell_type": "code",
      "metadata": {
        "colab": {
          "base_uri": "https://localhost:8080/"
        },
        "id": "hbIaFLFHOqik",
        "outputId": "3c18e7a5-f695-4be8-cbb1-6b8b96e98aa0"
      },
      "source": [
        "Time = '2016-04-01 09:43:00'\n",
        "splited_list = Time.split(' ')\n",
        "date = splited_list[0]\n",
        "time = splited_list[1]\n",
        "print(date, time)\n",
        "hour = time.split(':')[0]\n",
        "print(hour)"
      ],
      "execution_count": 49,
      "outputs": [
        {
          "output_type": "stream",
          "name": "stdout",
          "text": [
            "2016-04-01 09:43:00\n",
            "09\n"
          ]
        }
      ]
    },
    {
      "cell_type": "code",
      "metadata": {
        "colab": {
          "base_uri": "https://localhost:8080/"
        },
        "id": "HEZjZbMCvKPA",
        "outputId": "048c2da3-4ab5-4afd-b8fe-0eab38f31dc4"
      },
      "source": [
        "#Ejemplo\n",
        "nombre_universidad = 'Universidad Nacional de Colombia'\n",
        "split_nombre = nombre_universidad.split(' ')\n",
        "print(split_nombre[0])\n",
        "print(split_nombre[1])\n"
      ],
      "execution_count": 50,
      "outputs": [
        {
          "output_type": "stream",
          "name": "stdout",
          "text": [
            "Universidad\n",
            "Nacional\n"
          ]
        }
      ]
    },
    {
      "cell_type": "markdown",
      "metadata": {
        "id": "9cJQGk96WyVc"
      },
      "source": [
        "We can replace parts of a string by our variable. This is called string formatting."
      ]
    },
    {
      "cell_type": "code",
      "metadata": {
        "colab": {
          "base_uri": "https://localhost:8080/"
        },
        "id": "-E_rIvv6Oqik",
        "outputId": "9b48cb43-19b4-426e-d3b0-395942227850"
      },
      "source": [
        "my_time = 'Hour: {}, Minute:{}'.format('09','43')\n",
        "print(my_time)"
      ],
      "execution_count": 51,
      "outputs": [
        {
          "output_type": "stream",
          "name": "stdout",
          "text": [
            "Hour: 09, Minute:43\n"
          ]
        }
      ]
    },
    {
      "cell_type": "code",
      "metadata": {
        "colab": {
          "base_uri": "https://localhost:8080/"
        },
        "id": "xLJ4pUY4vg0J",
        "outputId": "fb3aa165-e599-4089-979b-dcf325d2d94d"
      },
      "source": [
        "#Ejemplo\n",
        "pais_capital = 'Pais: {}, Capital: {}, Habitantes: {}'.format('Colombia','Bogota',8000000)\n",
        "print(pais_capital)"
      ],
      "execution_count": 52,
      "outputs": [
        {
          "output_type": "stream",
          "name": "stdout",
          "text": [
            "Pais: Colombia, Capital: Bogota, Habitantes: 8000000\n"
          ]
        }
      ]
    },
    {
      "cell_type": "markdown",
      "metadata": {
        "id": "1_NbVldpWzAs"
      },
      "source": [
        "Another way to format a string is to use the % symbol."
      ]
    },
    {
      "cell_type": "code",
      "metadata": {
        "colab": {
          "base_uri": "https://localhost:8080/"
        },
        "id": "4rZ4rkD2Oqik",
        "outputId": "0725c381-1b26-4c9e-90ed-aff6fade1ba4"
      },
      "source": [
        "print('the pi number is %f'%3.14)\n",
        "print('%s to %s'%('Welcome','Quantconnect'))"
      ],
      "execution_count": 53,
      "outputs": [
        {
          "output_type": "stream",
          "name": "stdout",
          "text": [
            "the pi number is 3.140000\n",
            "Welcome to Quantconnect\n"
          ]
        }
      ]
    },
    {
      "cell_type": "code",
      "metadata": {
        "colab": {
          "base_uri": "https://localhost:8080/"
        },
        "id": "1CKci6WOvtvN",
        "outputId": "dfb2e443-fdbc-4a78-d786-ed58d87ccd64"
      },
      "source": [
        "#Ejemplo\n",
        "print('En el planeta hay %i paises' %197)\n",
        "print('En latinoamerica se encuentran %s ,%s y tambien %s'%('Colombia', 'Argentina', 'Uruguay'))"
      ],
      "execution_count": 54,
      "outputs": [
        {
          "output_type": "stream",
          "name": "stdout",
          "text": [
            "En el planeta hay 197 paises\n",
            "En latinoamerica se encuentran Colombia ,Argentina y tambien Uruguay\n"
          ]
        }
      ]
    },
    {
      "cell_type": "markdown",
      "metadata": {
        "id": "v_5cocrDW3MN"
      },
      "source": [
        "# Summary\n",
        "\n",
        "Weave seen the basic data types and data structures in Python. It's important to keep practicing to become familiar with these data structures. In the next tutorial, we will cover for and while loops and logical operations in Python."
      ]
    },
    {
      "cell_type": "markdown",
      "metadata": {
        "id": "QL6dNxwCXNEt"
      },
      "source": [
        "<div align=\"center\">\n",
        "<img style=\"display: block; margin: auto;\" alt=\"photo\" src=\"https://cdn.quantconnect.com/web/i/icon.png\">\n",
        "\n",
        "Quantconnect\n",
        "\n",
        "Introduction to Financial Python\n",
        "</div>\n",
        "\n",
        "# 02 Logical Operations and Loops\n",
        "\n",
        "# Introduction\n",
        "We discussed the basic data types and data structures in Python in the last tutorial. This chapter covers logical operations and loops in Python, which are very common in programming.\n",
        "\n",
        "# Logical Operations\n",
        "Like most programming languages, Python has comparison operators:"
      ]
    },
    {
      "cell_type": "code",
      "metadata": {
        "colab": {
          "base_uri": "https://localhost:8080/"
        },
        "id": "70Guys_rOv7a",
        "outputId": "28bb210b-fa51-4aa7-84a7-659bdc68fd21"
      },
      "source": [
        "print(1 == 0)\n",
        "print(1 == 1)\n",
        "print(1 != 0)\n",
        "print(5 >= 5)\n",
        "print(5 >= 6)"
      ],
      "execution_count": 55,
      "outputs": [
        {
          "output_type": "stream",
          "name": "stdout",
          "text": [
            "False\n",
            "True\n",
            "True\n",
            "True\n",
            "False\n"
          ]
        }
      ]
    },
    {
      "cell_type": "code",
      "metadata": {
        "colab": {
          "base_uri": "https://localhost:8080/"
        },
        "id": "DEDgAXgfz80q",
        "outputId": "28933fca-feba-4f80-a197-56ee3df86523"
      },
      "source": [
        "#Ejemplo\n",
        "print(1 == 1)\n",
        "print('a' == 'a')\n",
        "print(2 != 4)\n",
        "print(51 >= 52)\n",
        "print(1 >= -1)"
      ],
      "execution_count": 56,
      "outputs": [
        {
          "output_type": "stream",
          "name": "stdout",
          "text": [
            "True\n",
            "True\n",
            "True\n",
            "False\n",
            "True\n"
          ]
        }
      ]
    },
    {
      "cell_type": "markdown",
      "metadata": {
        "id": "8aFHYDj-YTXt"
      },
      "source": [
        "Each statement above has a boolean value, which must be either True or False, but not both.\n",
        "\n",
        "We can combine simple statements P and Q to form complex statements using logical operators:\n",
        "\n",
        "- The statement \"P and Q\" is true if both P and Q are true, otherwise it is false.\n",
        "- The statement \"P or Q\" is false if both P and Q are false, otherwise it is true.\n",
        "- The statement \"not P\" is true if P is false, and vice versa."
      ]
    },
    {
      "cell_type": "code",
      "metadata": {
        "colab": {
          "base_uri": "https://localhost:8080/"
        },
        "id": "O5YEEcUbOv7d",
        "outputId": "087eace2-a88b-46bf-ddef-ad5c9046e401"
      },
      "source": [
        "print(2 > 1 and 3 > 2)\n",
        "print(2 > 1 and 3 < 2 )\n",
        "print(2 > 1 or 3 < 2)\n",
        "print(2 < 1 and 3 < 2)"
      ],
      "execution_count": 57,
      "outputs": [
        {
          "output_type": "stream",
          "name": "stdout",
          "text": [
            "True\n",
            "False\n",
            "True\n",
            "False\n"
          ]
        }
      ]
    },
    {
      "cell_type": "code",
      "metadata": {
        "colab": {
          "base_uri": "https://localhost:8080/"
        },
        "id": "61fnK2EI0JfQ",
        "outputId": "b506e3e1-fcbb-467b-c92a-69ce06472ecc"
      },
      "source": [
        "#Ejemplo\n",
        "print (10 < 20 and 20 > 30)\n",
        "print (31 < 32 and 32 < 33)\n",
        "print (4 > 2 or 1 > 15)\n",
        "print (-2 < -1 and 1 > -1)"
      ],
      "execution_count": 58,
      "outputs": [
        {
          "output_type": "stream",
          "name": "stdout",
          "text": [
            "False\n",
            "True\n",
            "True\n",
            "True\n"
          ]
        }
      ]
    },
    {
      "cell_type": "markdown",
      "metadata": {
        "id": "Dy7yzoSXYXmL"
      },
      "source": [
        "When dealing with a very complex logical statement that involves in several statements, we can use brackets to separate and combine them."
      ]
    },
    {
      "cell_type": "code",
      "metadata": {
        "colab": {
          "base_uri": "https://localhost:8080/"
        },
        "id": "QZ-W2xJZOv7d",
        "outputId": "9a244160-b196-421b-867e-3953455eb6d5"
      },
      "source": [
        "print((3 > 2 or 1 < 3) and (1!=3 and 4>3) and not ( 3 < 2 or 1 < 3 and (1!=3 and 4>3)))\n",
        "print(3 > 2 or 1 < 3 and (1!=3 and 4>3) and not ( 3 < 2 or 1 < 3 and (1!=3 and 4>3)))"
      ],
      "execution_count": 59,
      "outputs": [
        {
          "output_type": "stream",
          "name": "stdout",
          "text": [
            "False\n",
            "True\n"
          ]
        }
      ]
    },
    {
      "cell_type": "code",
      "metadata": {
        "colab": {
          "base_uri": "https://localhost:8080/"
        },
        "id": "H60KrU513wwI",
        "outputId": "2df39aa9-0029-4fad-898b-b5a926ec1ead"
      },
      "source": [
        "#Ejemplo\n",
        "print((11>14 or 2<35) and (1!=0 and 2==43) and not ( 53<=21 or 28<35 and (0==0 and 34>32)))\n",
        "print(56>84 or 45<=63 and (12!=86 and 9>=7) and not ( 4==54 or 97<32 and (66!=78 and 0==9)))\n"
      ],
      "execution_count": 60,
      "outputs": [
        {
          "output_type": "stream",
          "name": "stdout",
          "text": [
            "False\n",
            "True\n"
          ]
        }
      ]
    },
    {
      "cell_type": "markdown",
      "metadata": {
        "id": "s95xoRYMYaPD"
      },
      "source": [
        "Comparing the above two statements, we can see that it's wise to use brackets when we make a complex logical statement.\n",
        "\n",
        "# If Statement\n",
        "An if statement executes a segment of code only if its condition is true. A standard if statement consists of 3 segments: if, elif and else."
      ]
    },
    {
      "cell_type": "markdown",
      "metadata": {
        "id": "aRzMMitAaBOL"
      },
      "source": [
        "```python\n",
        "if statement1:\n",
        "    # if the statement1 is true, execute the code here.\n",
        "    # code.....\n",
        "    # code.....\n",
        "elif statement2:\n",
        "    # if the statement 1 is false, skip the codes above to this part.\n",
        "    # code......\n",
        "    # code......\n",
        "else:\n",
        "    # if none of the above statements is True, skip to this part\n",
        "    # code......\n",
        "```"
      ]
    },
    {
      "cell_type": "markdown",
      "metadata": {
        "id": "l59R2AS8aH2K"
      },
      "source": [
        "An if statement doesn't necessarily has elif and else part. If it's not specified, the indented block of code will be executed when the condition is true, otherwise the whole if statement will be skipped."
      ]
    },
    {
      "cell_type": "code",
      "metadata": {
        "colab": {
          "base_uri": "https://localhost:8080/"
        },
        "id": "FZ5GoTXfOv7e",
        "outputId": "17ad7dd0-537f-40db-f80b-0e287c4d2c9c"
      },
      "source": [
        "i = 0\n",
        "if i == 0:\n",
        "    print('i==0 is True')"
      ],
      "execution_count": 61,
      "outputs": [
        {
          "output_type": "stream",
          "name": "stdout",
          "text": [
            "i==0 is True\n"
          ]
        }
      ]
    },
    {
      "cell_type": "code",
      "metadata": {
        "colab": {
          "base_uri": "https://localhost:8080/"
        },
        "id": "cfVIy39V4G04",
        "outputId": "c0db7488-347e-4d46-e82e-5254791bb6e5"
      },
      "source": [
        "#Ejemplo\n",
        "i_dos = 2021\n",
        "if i_dos == 2021:\n",
        "    print('i_dos == 2021 is True')"
      ],
      "execution_count": 62,
      "outputs": [
        {
          "output_type": "stream",
          "name": "stdout",
          "text": [
            "i_dos == 2021 is True\n"
          ]
        }
      ]
    },
    {
      "cell_type": "markdown",
      "metadata": {
        "id": "nPNW-l5eaJn8"
      },
      "source": [
        "As we mentioned above, we can write some complex statements here:"
      ]
    },
    {
      "cell_type": "code",
      "metadata": {
        "colab": {
          "base_uri": "https://localhost:8080/"
        },
        "id": "gh-U6nMzOv7e",
        "outputId": "724111ed-91fd-43be-b700-04fc6465067d"
      },
      "source": [
        "p = 1 > 0\n",
        "q = 2 > 3\n",
        "if p and q:\n",
        "    print('p and q is true')\n",
        "elif p and not q:\n",
        "    print('q is false')\n",
        "elif q and not p:\n",
        "    print('p is false')\n",
        "else:\n",
        "    print('None of p and q is true')"
      ],
      "execution_count": 63,
      "outputs": [
        {
          "output_type": "stream",
          "name": "stdout",
          "text": [
            "q is false\n"
          ]
        }
      ]
    },
    {
      "cell_type": "code",
      "metadata": {
        "colab": {
          "base_uri": "https://localhost:8080/"
        },
        "id": "g4MDEW2V4T3o",
        "outputId": "c82e8369-33ea-41ea-a757-b66fce4d5e9a"
      },
      "source": [
        "#Ejemplo\n",
        "p = 2020 < 2021\n",
        "q = 2021 > 2022\n",
        "if p and q:\n",
        "    print('p and q is true')\n",
        "elif p and not q:\n",
        "    print('q is false')\n",
        "elif q and not p:\n",
        "    print('p is false')\n",
        "else:\n",
        "    print('None of p and q is true')"
      ],
      "execution_count": 64,
      "outputs": [
        {
          "output_type": "stream",
          "name": "stdout",
          "text": [
            "q is false\n"
          ]
        }
      ]
    },
    {
      "cell_type": "markdown",
      "metadata": {
        "id": "tgRDwiAsaMOL"
      },
      "source": [
        "# Loop Structure\n",
        "Loops are an essential part of programming. The \"for\" and \"while\" loops run a block of code repeatedly.\n",
        "\n",
        "## While Loop\n",
        "A \"while\" loop will run repeatedly until a certain condition has been met."
      ]
    },
    {
      "cell_type": "code",
      "metadata": {
        "colab": {
          "base_uri": "https://localhost:8080/"
        },
        "id": "uQLau8d5Ov7f",
        "outputId": "40642080-25a6-496f-d34c-280dce9ace44"
      },
      "source": [
        "i = 0\n",
        "while i < 5:\n",
        "    print(i)\n",
        "    i += 1 "
      ],
      "execution_count": 65,
      "outputs": [
        {
          "output_type": "stream",
          "name": "stdout",
          "text": [
            "0\n",
            "1\n",
            "2\n",
            "3\n",
            "4\n"
          ]
        }
      ]
    },
    {
      "cell_type": "code",
      "metadata": {
        "colab": {
          "base_uri": "https://localhost:8080/"
        },
        "id": "ekt0wgEx4cCv",
        "outputId": "0e0ede59-9947-4e53-a85c-5d2d28dc2f49"
      },
      "source": [
        "#Ejemplo\n",
        "i_dos = 10\n",
        "while i_dos < 60:\n",
        "    print(i_dos)\n",
        "    i_dos += i_dos"
      ],
      "execution_count": 66,
      "outputs": [
        {
          "output_type": "stream",
          "name": "stdout",
          "text": [
            "10\n",
            "20\n",
            "40\n"
          ]
        }
      ]
    },
    {
      "cell_type": "markdown",
      "metadata": {
        "id": "ydLddFAPaTOE"
      },
      "source": [
        "When making a while loop, we need to ensure that something changes from iteration to iteration so that the while loop will terminate, otherwise, it will run forever. Here we used i += 1 (short for i = i + 1) to make i larger after each iteration. This is the most commonly used method to control a while loop.\n",
        "\n",
        "## For Loop\n",
        "A \"for\" loop will iterate over a sequence of value and terminate when the sequence has ended."
      ]
    },
    {
      "cell_type": "code",
      "metadata": {
        "colab": {
          "base_uri": "https://localhost:8080/"
        },
        "id": "kt8Ie8u1Ov7f",
        "outputId": "2d824071-9f94-457f-be75-51e91334dd87"
      },
      "source": [
        "for i in [1,2,3,4,5]:\n",
        "    print(i)"
      ],
      "execution_count": 67,
      "outputs": [
        {
          "output_type": "stream",
          "name": "stdout",
          "text": [
            "1\n",
            "2\n",
            "3\n",
            "4\n",
            "5\n"
          ]
        }
      ]
    },
    {
      "cell_type": "code",
      "metadata": {
        "colab": {
          "base_uri": "https://localhost:8080/"
        },
        "id": "gkzZ_i4a4p1o",
        "outputId": "e846b0b1-b2c4-44dc-ab81-7b4020272c79"
      },
      "source": [
        "#Ejemplo\n",
        "for i_dos in [10, 20, 30, 40, 50, 60]:\n",
        "    print(i_dos)"
      ],
      "execution_count": 68,
      "outputs": [
        {
          "output_type": "stream",
          "name": "stdout",
          "text": [
            "10\n",
            "20\n",
            "30\n",
            "40\n",
            "50\n",
            "60\n"
          ]
        }
      ]
    },
    {
      "cell_type": "markdown",
      "metadata": {
        "id": "yWStqpreaX-T"
      },
      "source": [
        "We can also add if statements in a for loop. Here is a real example from our pairs trading algorithm:"
      ]
    },
    {
      "cell_type": "code",
      "metadata": {
        "colab": {
          "base_uri": "https://localhost:8080/"
        },
        "id": "kElmffvFOv7f",
        "outputId": "7657b496-4bcb-44a9-db21-5da3105a57cf"
      },
      "source": [
        "stocks = ['AAPL','GOOG','IBM','FB','F','V', 'G', 'GE']\n",
        "selected = ['AAPL','IBM']\n",
        "new_list = []\n",
        "for i in stocks:\n",
        "    if i not in selected:\n",
        "        new_list.append(i)\n",
        "print(stocks)"
      ],
      "execution_count": 69,
      "outputs": [
        {
          "output_type": "stream",
          "name": "stdout",
          "text": [
            "['AAPL', 'GOOG', 'IBM', 'FB', 'F', 'V', 'G', 'GE']\n"
          ]
        }
      ]
    },
    {
      "cell_type": "code",
      "metadata": {
        "colab": {
          "base_uri": "https://localhost:8080/"
        },
        "id": "YKtzfbi740Av",
        "outputId": "49053627-974a-4548-ddd9-03405498dbef"
      },
      "source": [
        "#Ejemplo\n",
        "stocks_dos = ['Rojo', 'Azul', 'Verde', 'Rosado']\n",
        "selected_dos = ['Azul', 'Verde']\n",
        "newList_dos = []\n",
        "for i in stocks_dos:\n",
        "    if i not in selected_dos:\n",
        "        newList_dos.append(i)\n",
        "print(newList_dos)"
      ],
      "execution_count": 70,
      "outputs": [
        {
          "output_type": "stream",
          "name": "stdout",
          "text": [
            "['Rojo', 'Rosado']\n"
          ]
        }
      ]
    },
    {
      "cell_type": "markdown",
      "metadata": {
        "id": "wb2hry9dahE0"
      },
      "source": [
        "Here we iterated all the elements in the list 'stocks'. Later in this chapter, we will introduce a smarter way to do this, which is just a one-line code.\n",
        "\n",
        "## Break and continue\n",
        "These are two commonly used commands in a for loop. If \"break\" is triggered while a loop is executing, the loop will terminate immediately:"
      ]
    },
    {
      "cell_type": "code",
      "metadata": {
        "colab": {
          "base_uri": "https://localhost:8080/"
        },
        "id": "yF5wMVItOv7g",
        "outputId": "d4a16d7f-0253-47b6-832c-7beca1b0eeb6"
      },
      "source": [
        "stocks = ['AAPL','GOOG','IBM','FB','F','V', 'G', 'GE']\n",
        "for i in stocks:\n",
        "    print(i)\n",
        "    if i == 'FB':\n",
        "        break"
      ],
      "execution_count": 71,
      "outputs": [
        {
          "output_type": "stream",
          "name": "stdout",
          "text": [
            "AAPL\n",
            "GOOG\n",
            "IBM\n",
            "FB\n"
          ]
        }
      ]
    },
    {
      "cell_type": "code",
      "metadata": {
        "colab": {
          "base_uri": "https://localhost:8080/"
        },
        "id": "3XF_yTYj5Y8k",
        "outputId": "b6d6038d-27a5-44aa-ba39-632f696299c2"
      },
      "source": [
        "#Ejemplo\n",
        "stocks_dos = ['Rojo', 'Azul', 'Verde', 'Rosado']\n",
        "for i_dos in stocks_dos:\n",
        "    print(i_dos)\n",
        "    if i_dos == 'Verde':\n",
        "        break"
      ],
      "execution_count": 72,
      "outputs": [
        {
          "output_type": "stream",
          "name": "stdout",
          "text": [
            "Rojo\n",
            "Azul\n",
            "Verde\n"
          ]
        }
      ]
    },
    {
      "cell_type": "markdown",
      "metadata": {
        "id": "R0toxyp3ao0T"
      },
      "source": [
        "The \"continue\" command tells the loop to end this iteration and skip to the next iteration:"
      ]
    },
    {
      "cell_type": "code",
      "metadata": {
        "colab": {
          "base_uri": "https://localhost:8080/"
        },
        "id": "Stg-CH6IOv7g",
        "outputId": "2e0cab48-79ad-470c-c822-b757038d576b"
      },
      "source": [
        "stocks = ['AAPL','GOOG','IBM','FB','F','V', 'G', 'GE']\n",
        "for i in stocks:\n",
        "    if i == 'FB':\n",
        "        continue\n",
        "    print(i)"
      ],
      "execution_count": 73,
      "outputs": [
        {
          "output_type": "stream",
          "name": "stdout",
          "text": [
            "AAPL\n",
            "GOOG\n",
            "IBM\n",
            "F\n",
            "V\n",
            "G\n",
            "GE\n"
          ]
        }
      ]
    },
    {
      "cell_type": "code",
      "metadata": {
        "colab": {
          "base_uri": "https://localhost:8080/"
        },
        "id": "cjxZOqsA5jnH",
        "outputId": "07c9e7fc-122b-4d1b-81c7-a7e7682461ac"
      },
      "source": [
        "#Ejemplo\n",
        "stocks_dos = ['Rojo', 'Azul', 'Verde', 'Rosado']\n",
        "for i_dos in stocks_dos:\n",
        "    if i_dos == 'Azul':\n",
        "        continue\n",
        "    print(i_dos)"
      ],
      "execution_count": 74,
      "outputs": [
        {
          "output_type": "stream",
          "name": "stdout",
          "text": [
            "Rojo\n",
            "Verde\n",
            "Rosado\n"
          ]
        }
      ]
    },
    {
      "cell_type": "markdown",
      "metadata": {
        "id": "4NusvdhBaxpZ"
      },
      "source": [
        "# List Comprehension\n",
        "List comprehension is a Pythonic way to create lists. Common applications are to make new lists where each element is the result of some operations applied to each member of another sequence. For example, if we want to create a list of squares using for loop:"
      ]
    },
    {
      "cell_type": "code",
      "metadata": {
        "colab": {
          "base_uri": "https://localhost:8080/"
        },
        "id": "bdxxeOABOv7h",
        "outputId": "554f31a8-72ab-4c45-bea2-8d763f159749"
      },
      "source": [
        "squares = []\n",
        "for i in [1,2,3,4,5]:\n",
        "    squares.append(i**2)\n",
        "print(squares)"
      ],
      "execution_count": 75,
      "outputs": [
        {
          "output_type": "stream",
          "name": "stdout",
          "text": [
            "[1, 4, 9, 16, 25]\n"
          ]
        }
      ]
    },
    {
      "cell_type": "code",
      "metadata": {
        "colab": {
          "base_uri": "https://localhost:8080/"
        },
        "id": "a3QrPnAK51Kv",
        "outputId": "266aecfb-c451-4202-89ee-71f9f804f175"
      },
      "source": [
        "#Ejemplo\n",
        "cubes = []\n",
        "for i_dos in [5,10,15,20]:\n",
        "    cubes.append(i_dos**3)\n",
        "print(cubes)"
      ],
      "execution_count": 76,
      "outputs": [
        {
          "output_type": "stream",
          "name": "stdout",
          "text": [
            "[125, 1000, 3375, 8000]\n"
          ]
        }
      ]
    },
    {
      "cell_type": "markdown",
      "metadata": {
        "id": "--KliJBOa1CC"
      },
      "source": [
        "Using list comprehension:"
      ]
    },
    {
      "cell_type": "code",
      "metadata": {
        "colab": {
          "base_uri": "https://localhost:8080/"
        },
        "id": "440-yjG8Ov7h",
        "outputId": "4312719e-224a-40c2-88e5-e684aebf7fc5"
      },
      "source": [
        "qList = [1,2,3,4,5]\n",
        "squares = [x**2 for x in qList]\n",
        "print(squares)"
      ],
      "execution_count": 77,
      "outputs": [
        {
          "output_type": "stream",
          "name": "stdout",
          "text": [
            "[1, 4, 9, 16, 25]\n"
          ]
        }
      ]
    },
    {
      "cell_type": "code",
      "metadata": {
        "colab": {
          "base_uri": "https://localhost:8080/"
        },
        "id": "AVWxQNUU5_Tf",
        "outputId": "3ec77e03-9c28-477d-f8ef-a3895a2febf6"
      },
      "source": [
        "#Ejemplo\n",
        "qList_dos = [2, 4, 6, 8, 10]\n",
        "cubes_dos = [x**3 for x in qList_dos]\n",
        "print(cubes_dos)"
      ],
      "execution_count": 78,
      "outputs": [
        {
          "output_type": "stream",
          "name": "stdout",
          "text": [
            "[8, 64, 216, 512, 1000]\n"
          ]
        }
      ]
    },
    {
      "cell_type": "markdown",
      "metadata": {
        "id": "uMuCfR3ya3zT"
      },
      "source": [
        "Recall the example above where we used a for loop to select stocks. Here we use list comprehension:"
      ]
    },
    {
      "cell_type": "code",
      "metadata": {
        "colab": {
          "base_uri": "https://localhost:8080/"
        },
        "id": "ZGtCtog2Ov7h",
        "outputId": "71d7a465-e6d4-4bd0-b760-b9f0efd0e312"
      },
      "source": [
        "stocks = ['AAPL','GOOG','IBM','FB','F','V', 'G', 'GE']\n",
        "selected = ['AAPL','IBM']\n",
        "new_list = [x for x in stocks if x in selected]\n",
        "print(new_list)"
      ],
      "execution_count": 79,
      "outputs": [
        {
          "output_type": "stream",
          "name": "stdout",
          "text": [
            "['AAPL', 'IBM']\n"
          ]
        }
      ]
    },
    {
      "cell_type": "code",
      "metadata": {
        "colab": {
          "base_uri": "https://localhost:8080/"
        },
        "id": "2U3azECk6Ky_",
        "outputId": "684d4c96-244b-46e8-b7dd-7d64352fad84"
      },
      "source": [
        "#Ejemplo\n",
        "stocks_dos = ['Lagarto', 'Cocodrilo', 'Nutria', 'Tiburon', 'Ballena', 'Lagarto']\n",
        "selected_dos = ['Lagarto', 'Nutria']\n",
        "new_list_dos = [x for x in stocks_dos if x in selected_dos]\n",
        "print(new_list_dos)"
      ],
      "execution_count": 80,
      "outputs": [
        {
          "output_type": "stream",
          "name": "stdout",
          "text": [
            "['Lagarto', 'Nutria', 'Lagarto']\n"
          ]
        }
      ]
    },
    {
      "cell_type": "markdown",
      "metadata": {
        "id": "EPeUv6Lia5oD"
      },
      "source": [
        "A list comprehension consists of square brackets containing an expression followed by a \"for\" clause, and possibly \"for\" or \"if\" clauses. For example:"
      ]
    },
    {
      "cell_type": "code",
      "metadata": {
        "colab": {
          "base_uri": "https://localhost:8080/"
        },
        "id": "O1AMB5d7Ov7i",
        "outputId": "5b4ad51b-b81b-40d0-d18f-99463ae59d22"
      },
      "source": [
        "print( [(x, y) for x in [1,2,3] for y in [3,1,4] if x != y] )\n",
        "print( [str(x)+' vs '+str(y) for x in ['AAPL','GOOG','IBM','FB'] for y in ['F','V','G','GE'] if x!=y] )"
      ],
      "execution_count": 81,
      "outputs": [
        {
          "output_type": "stream",
          "name": "stdout",
          "text": [
            "[(1, 3), (1, 4), (2, 3), (2, 1), (2, 4), (3, 1), (3, 4)]\n",
            "['AAPL vs F', 'AAPL vs V', 'AAPL vs G', 'AAPL vs GE', 'GOOG vs F', 'GOOG vs V', 'GOOG vs G', 'GOOG vs GE', 'IBM vs F', 'IBM vs V', 'IBM vs G', 'IBM vs GE', 'FB vs F', 'FB vs V', 'FB vs G', 'FB vs GE']\n"
          ]
        }
      ]
    },
    {
      "cell_type": "code",
      "metadata": {
        "colab": {
          "base_uri": "https://localhost:8080/"
        },
        "id": "bDd_oFyV6aTc",
        "outputId": "4aeb2e31-d05b-4364-fe46-4182319dd866"
      },
      "source": [
        "#Ejemplo\n",
        "print( [(x, y) for x in [5, 6, 8, 10] for y in [10,12,16,20] if x != y] )\n",
        "print( [str(x)+' vs '+str(y) for x in ['Thor','Grooth','Loki','Hulk'] for y in ['CaptainA','Marvel'] if x!=y] )"
      ],
      "execution_count": 82,
      "outputs": [
        {
          "output_type": "stream",
          "name": "stdout",
          "text": [
            "[(5, 10), (5, 12), (5, 16), (5, 20), (6, 10), (6, 12), (6, 16), (6, 20), (8, 10), (8, 12), (8, 16), (8, 20), (10, 12), (10, 16), (10, 20)]\n",
            "['Thor vs CaptainA', 'Thor vs Marvel', 'Grooth vs CaptainA', 'Grooth vs Marvel', 'Loki vs CaptainA', 'Loki vs Marvel', 'Hulk vs CaptainA', 'Hulk vs Marvel']\n"
          ]
        }
      ]
    },
    {
      "cell_type": "markdown",
      "metadata": {
        "id": "jJpvq-o4a8P7"
      },
      "source": [
        "List comprehension is an elegant way to organize one or more for loops when creating a list.\n",
        "\n",
        "# Summary\n",
        "This chapter has introduced logical operations, loops, and list comprehension. In the next chapter, we will introduce functions and object-oriented programming, which will enable us to make our codes clean and versatile."
      ]
    },
    {
      "cell_type": "markdown",
      "metadata": {
        "id": "Tef_X2wJbdhn"
      },
      "source": [
        "<div align=\"center\">\n",
        "<img style=\"display: block; margin: auto;\" alt=\"photo\" src=\"https://cdn.quantconnect.com/web/i/icon.png\">\n",
        "\n",
        "Quantconnect\n",
        "\n",
        "Introduction to Financial Python\n",
        "</div>\n",
        "\n",
        "# 03 Functions and Objective-Oriented Programming\n",
        "\n",
        "# Introduction\n",
        "\n",
        "In the last tutorial we introduced logical operations, loops and list comprehension. We will introduce functions and object-oriented programming in this chapter, which will enable us to build complex algorithms in more flexible ways.\n",
        "\n",
        "# Functions\n",
        "A function is a reusable block of code. We can use a function to output a value, or do anything else we want. We can easily define our own function by using the keyword \"def\"."
      ]
    },
    {
      "cell_type": "code",
      "metadata": {
        "colab": {
          "base_uri": "https://localhost:8080/"
        },
        "id": "eE_NkTiSO2PO",
        "outputId": "194eccd3-2de0-4c99-e970-fa894bdc0325"
      },
      "source": [
        "def product(x,y):\n",
        "    return x*y\n",
        "print(product(2,3))\n",
        "print(product(5,10))"
      ],
      "execution_count": 83,
      "outputs": [
        {
          "output_type": "stream",
          "name": "stdout",
          "text": [
            "6\n",
            "50\n"
          ]
        }
      ]
    },
    {
      "cell_type": "code",
      "metadata": {
        "colab": {
          "base_uri": "https://localhost:8080/"
        },
        "id": "JO9WUzt67I7v",
        "outputId": "9469b00e-3194-446b-d7fc-939c9e82f015"
      },
      "source": [
        "#Ejemplo\n",
        "def resta(x, y):\n",
        "    return x-y\n",
        "print(resta (7, 3))\n",
        "print(resta (2,4))"
      ],
      "execution_count": 84,
      "outputs": [
        {
          "output_type": "stream",
          "name": "stdout",
          "text": [
            "4\n",
            "-2\n"
          ]
        }
      ]
    },
    {
      "cell_type": "markdown",
      "metadata": {
        "id": "4oRU_dVJbsdD"
      },
      "source": [
        "The keyword \"def\" is followed by the function name and the parenthesized list of formal parameters. The statements that form the body of the function start at the next line, and must be indented. The product() function above has \"x\" and \"y\" as its parameters. A function doesn't necessarily have parameters:"
      ]
    },
    {
      "cell_type": "code",
      "metadata": {
        "colab": {
          "base_uri": "https://localhost:8080/"
        },
        "id": "JhdWVLbUO2PQ",
        "outputId": "3a31bcb8-1af4-4dcb-bd07-29b21e2cf55e"
      },
      "source": [
        "def say_hi():\n",
        "    print('Welcome to QuantConnect')\n",
        "say_hi()"
      ],
      "execution_count": 85,
      "outputs": [
        {
          "output_type": "stream",
          "name": "stdout",
          "text": [
            "Welcome to QuantConnect\n"
          ]
        }
      ]
    },
    {
      "cell_type": "code",
      "metadata": {
        "colab": {
          "base_uri": "https://localhost:8080/"
        },
        "id": "EHS-2TbG7YH2",
        "outputId": "bf850249-c428-4950-f951-25489b5a9dba"
      },
      "source": [
        "#Ejemplo\n",
        "def nombre(): print('Mi nombre es Siri')\n",
        "nombre()"
      ],
      "execution_count": 86,
      "outputs": [
        {
          "output_type": "stream",
          "name": "stdout",
          "text": [
            "Mi nombre es Siri\n"
          ]
        }
      ]
    },
    {
      "cell_type": "markdown",
      "metadata": {
        "id": "lHwqVpWVb1Jr"
      },
      "source": [
        "# Built-in Function\n",
        "**range()** is a function that creates a list containing an arithmetic sequence. It's often used in for loops. The arguments must be integers. If the \"step\" argument is omitted, it defaults to 1."
      ]
    },
    {
      "cell_type": "code",
      "metadata": {
        "colab": {
          "base_uri": "https://localhost:8080/"
        },
        "id": "VVOTELcIO2PQ",
        "outputId": "772770d5-3d95-4b0d-a501-f97660b46f54"
      },
      "source": [
        "print(range(10))\n",
        "print(range(1,11))\n",
        "print(range(1,11,2))"
      ],
      "execution_count": 87,
      "outputs": [
        {
          "output_type": "stream",
          "name": "stdout",
          "text": [
            "range(0, 10)\n",
            "range(1, 11)\n",
            "range(1, 11, 2)\n"
          ]
        }
      ]
    },
    {
      "cell_type": "code",
      "metadata": {
        "colab": {
          "base_uri": "https://localhost:8080/"
        },
        "id": "za9y09vj7e-O",
        "outputId": "fe872501-3e51-471a-9fa2-834731821c15"
      },
      "source": [
        "#Ejemplo\n",
        "print(range(456))\n",
        "print(range(24,32))\n",
        "print(range(5,50,120))"
      ],
      "execution_count": 88,
      "outputs": [
        {
          "output_type": "stream",
          "name": "stdout",
          "text": [
            "range(0, 456)\n",
            "range(24, 32)\n",
            "range(5, 50, 120)\n"
          ]
        }
      ]
    },
    {
      "cell_type": "markdown",
      "metadata": {
        "id": "PD0cSgiwcQ4L"
      },
      "source": [
        "**len()** is another function used together with range() to create a for loop. This function returns the length of an object. The argument must be a sequence or a collection."
      ]
    },
    {
      "cell_type": "code",
      "metadata": {
        "colab": {
          "base_uri": "https://localhost:8080/"
        },
        "id": "Hg18c7v-O2PR",
        "outputId": "56ed8b56-719a-40d9-907e-e0e69bf95ba9"
      },
      "source": [
        "tickers = ['AAPL','GOOG','IBM','FB','F','V', 'G', 'GE']\n",
        "print('The length of tickers is {}'.format(len(tickers)))\n",
        "for i in range(len(tickers)):\n",
        "    print(tickers[i])"
      ],
      "execution_count": 89,
      "outputs": [
        {
          "output_type": "stream",
          "name": "stdout",
          "text": [
            "The length of tickers is 8\n",
            "AAPL\n",
            "GOOG\n",
            "IBM\n",
            "FB\n",
            "F\n",
            "V\n",
            "G\n",
            "GE\n"
          ]
        }
      ]
    },
    {
      "cell_type": "code",
      "metadata": {
        "colab": {
          "base_uri": "https://localhost:8080/"
        },
        "id": "2eBVYU6U7t1m",
        "outputId": "60688198-ecdb-4398-f58f-ea4e4bb4cf98"
      },
      "source": [
        "#Ejemplo\n",
        "tickers_dos = ['a','b','c','d','e','f','g']\n",
        "print('The length of tickers_dos is {} '.format(len(tickers_dos)))\n",
        "for i_dos in range (len(tickers_dos)):\n",
        "  print(tickers_dos[i_dos])\n",
        "  "
      ],
      "execution_count": 90,
      "outputs": [
        {
          "output_type": "stream",
          "name": "stdout",
          "text": [
            "The length of tickers_dos is 7 \n",
            "a\n",
            "b\n",
            "c\n",
            "d\n",
            "e\n",
            "f\n",
            "g\n"
          ]
        }
      ]
    },
    {
      "cell_type": "markdown",
      "metadata": {
        "id": "OIQSuub1cWgi"
      },
      "source": [
        "Note: If you want to print only the tickers without those numbers, then simply write \"for ticker in tickers: print ticker\"\n",
        "\n",
        "**map(**) is a function that applies a specific function to every item of a sequence or collection, and returns a list of the results."
      ]
    },
    {
      "cell_type": "code",
      "metadata": {
        "colab": {
          "base_uri": "https://localhost:8080/"
        },
        "id": "78DyKVOyO2PR",
        "outputId": "26b09c3b-cf17-4df3-b060-c4497f63b14b"
      },
      "source": [
        "\n",
        "for tickers in map(len,['AAPL','GOOG','IBM','FB','F','V', 'G', 'GE']):\n",
        "    print( tickers )\n"
      ],
      "execution_count": 91,
      "outputs": [
        {
          "output_type": "stream",
          "name": "stdout",
          "text": [
            "4\n",
            "4\n",
            "3\n",
            "2\n",
            "1\n",
            "1\n",
            "1\n",
            "2\n"
          ]
        }
      ]
    },
    {
      "cell_type": "code",
      "metadata": {
        "colab": {
          "base_uri": "https://localhost:8080/"
        },
        "id": "Rd1kiQ0l77i2",
        "outputId": "c87e7852-ab0c-49bd-b860-9a4420698531"
      },
      "source": [
        "#Ejemplo\n",
        "for tickers_dos in map(len,['Uno','Dos','Tres','Cuatro','Cinco','Seis']):\n",
        "    print( tickers_dos )\n"
      ],
      "execution_count": 92,
      "outputs": [
        {
          "output_type": "stream",
          "name": "stdout",
          "text": [
            "3\n",
            "3\n",
            "4\n",
            "6\n",
            "5\n",
            "4\n"
          ]
        }
      ]
    },
    {
      "cell_type": "markdown",
      "metadata": {
        "id": "mvr06UM7ca7b"
      },
      "source": [
        "The **lambda operator** is a way to create small anonymous functions. These functions are just needed where they have been created. For example:"
      ]
    },
    {
      "cell_type": "code",
      "metadata": {
        "colab": {
          "base_uri": "https://localhost:8080/"
        },
        "id": "pAEHADYXO2PR",
        "outputId": "2199a1dc-9d31-41c2-ec0a-f49e020b7f3e"
      },
      "source": [
        "for sqrt  in map(lambda x: x**2,[0,1,2,3,4,5,6,7,8,9]):\n",
        "    print( sqrt )"
      ],
      "execution_count": 93,
      "outputs": [
        {
          "output_type": "stream",
          "name": "stdout",
          "text": [
            "0\n",
            "1\n",
            "4\n",
            "9\n",
            "16\n",
            "25\n",
            "36\n",
            "49\n",
            "64\n",
            "81\n"
          ]
        }
      ]
    },
    {
      "cell_type": "code",
      "metadata": {
        "colab": {
          "base_uri": "https://localhost:8080/"
        },
        "id": "CwYR5s2w8VMm",
        "outputId": "f0f22e8c-f7ff-4b30-d645-770b5911f63c"
      },
      "source": [
        "#Ejemplo\n",
        "for cube  in map(lambda x: x**3,[0,1,2,3,4,5,6,7,8,9]):\n",
        "    print( cube )"
      ],
      "execution_count": 94,
      "outputs": [
        {
          "output_type": "stream",
          "name": "stdout",
          "text": [
            "0\n",
            "1\n",
            "8\n",
            "27\n",
            "64\n",
            "125\n",
            "216\n",
            "343\n",
            "512\n",
            "729\n"
          ]
        }
      ]
    },
    {
      "cell_type": "markdown",
      "metadata": {
        "id": "Mgixpxomcj3T"
      },
      "source": [
        "map() can be applied to more than one list. The lists have to have the same length."
      ]
    },
    {
      "cell_type": "code",
      "metadata": {
        "colab": {
          "base_uri": "https://localhost:8080/"
        },
        "id": "HtckhAaJO2PS",
        "outputId": "5f172423-a73e-492a-f1fe-ef960d144a51"
      },
      "source": [
        "for sum  in map(lambda x, y: x+y,[1,2,3,4,5],[5,4,3,2,1]):\n",
        "    print( sum )\n"
      ],
      "execution_count": 95,
      "outputs": [
        {
          "output_type": "stream",
          "name": "stdout",
          "text": [
            "6\n",
            "6\n",
            "6\n",
            "6\n",
            "6\n"
          ]
        }
      ]
    },
    {
      "cell_type": "code",
      "metadata": {
        "colab": {
          "base_uri": "https://localhost:8080/"
        },
        "id": "vZGjePho8eEX",
        "outputId": "17f2da17-3bfe-4308-f119-0be837659309"
      },
      "source": [
        "#Ejemplo\n",
        "for rest  in map(lambda x, y: x-y,[8, 9],[10,9]):\n",
        "    print( rest )"
      ],
      "execution_count": 96,
      "outputs": [
        {
          "output_type": "stream",
          "name": "stdout",
          "text": [
            "-2\n",
            "0\n"
          ]
        }
      ]
    },
    {
      "cell_type": "markdown",
      "metadata": {
        "id": "ZDnMTH-KcklT"
      },
      "source": [
        "**sorted()** takes a list or set and returns a new sorted list"
      ]
    },
    {
      "cell_type": "code",
      "metadata": {
        "colab": {
          "base_uri": "https://localhost:8080/"
        },
        "id": "P0sHUMFWO2PS",
        "outputId": "bb11c77a-ceaf-4c49-d9b3-eeade9e98639"
      },
      "source": [
        "sorted([5,2,3,4,1])"
      ],
      "execution_count": 97,
      "outputs": [
        {
          "output_type": "execute_result",
          "data": {
            "text/plain": [
              "[1, 2, 3, 4, 5]"
            ]
          },
          "metadata": {},
          "execution_count": 97
        }
      ]
    },
    {
      "cell_type": "code",
      "metadata": {
        "colab": {
          "base_uri": "https://localhost:8080/"
        },
        "id": "jSs3Susr8qYP",
        "outputId": "fe5de14d-c303-45de-cbe0-c8d841808af1"
      },
      "source": [
        "#Ejemplo\n",
        "sorted( [5,7,9,3,5,4,6,9,6,3,2,1,0,5,4] )"
      ],
      "execution_count": 98,
      "outputs": [
        {
          "output_type": "execute_result",
          "data": {
            "text/plain": [
              "[0, 1, 2, 3, 3, 4, 4, 5, 5, 5, 6, 6, 7, 9, 9]"
            ]
          },
          "metadata": {},
          "execution_count": 98
        }
      ]
    },
    {
      "cell_type": "markdown",
      "metadata": {
        "id": "-N5_EDOFcnsc"
      },
      "source": [
        "We can add a \"key\" parameter to specify a function to be called on each list element prior to making comparisons. For example:"
      ]
    },
    {
      "cell_type": "code",
      "metadata": {
        "colab": {
          "base_uri": "https://localhost:8080/"
        },
        "id": "0i3peZ0bO2PS",
        "outputId": "98b87be8-cc7a-4e0e-b272-b719f584edc7"
      },
      "source": [
        "price_list = [('AAPL',144.09),('GOOG',911.71),('MSFT',69),('FB',150),('WMT',75.32)]\n",
        "sorted(price_list, key = lambda x: x[1])"
      ],
      "execution_count": 99,
      "outputs": [
        {
          "output_type": "execute_result",
          "data": {
            "text/plain": [
              "[('MSFT', 69), ('WMT', 75.32), ('AAPL', 144.09), ('FB', 150), ('GOOG', 911.71)]"
            ]
          },
          "metadata": {},
          "execution_count": 99
        }
      ]
    },
    {
      "cell_type": "code",
      "metadata": {
        "colab": {
          "base_uri": "https://localhost:8080/"
        },
        "id": "Fl75ik3N8xT4",
        "outputId": "3bc69b3c-da89-46f3-c883-147538221846"
      },
      "source": [
        "#Ejemplo\n",
        "price_list_dos = [ ('Papas', 1000), ('Cafe', 2000), ('Chocolate', 2600), ('Leche', 4800), ('Huevos', 300) ]\n",
        "sorted( price_list_dos, key=lambda x: x[1] )"
      ],
      "execution_count": 100,
      "outputs": [
        {
          "output_type": "execute_result",
          "data": {
            "text/plain": [
              "[('Huevos', 300),\n",
              " ('Papas', 1000),\n",
              " ('Cafe', 2000),\n",
              " ('Chocolate', 2600),\n",
              " ('Leche', 4800)]"
            ]
          },
          "metadata": {},
          "execution_count": 100
        }
      ]
    },
    {
      "cell_type": "markdown",
      "metadata": {
        "id": "yun2zptKcxe_"
      },
      "source": [
        "By default the values are sorted by ascending order. We can change it to descending by adding an optional parameter \"reverse'."
      ]
    },
    {
      "cell_type": "code",
      "metadata": {
        "colab": {
          "base_uri": "https://localhost:8080/"
        },
        "id": "dEZqdl94O2PT",
        "outputId": "df97be4e-2f69-4932-9372-39ae9ed46dd3"
      },
      "source": [
        "price_list = [('AAPL',144.09),('GOOG',911.71),('MSFT',69),('FB',150),('WMT',75.32)]\n",
        "sorted(price_list, key = lambda x: x[1],reverse = True)"
      ],
      "execution_count": 101,
      "outputs": [
        {
          "output_type": "execute_result",
          "data": {
            "text/plain": [
              "[('GOOG', 911.71), ('FB', 150), ('AAPL', 144.09), ('WMT', 75.32), ('MSFT', 69)]"
            ]
          },
          "metadata": {},
          "execution_count": 101
        }
      ]
    },
    {
      "cell_type": "code",
      "metadata": {
        "colab": {
          "base_uri": "https://localhost:8080/"
        },
        "id": "QPNy_jFZ9IsQ",
        "outputId": "ea573e0d-2616-4a30-f102-b12d483619d2"
      },
      "source": [
        "#Ejemplo\n",
        "price_list_dos = [ ('Papas', 1000), ('Cafe', 2000), ('Chocolate', 2600), ('Leche', 4800), ('Huevos', 300) ]\n",
        "sorted( price_list_dos, key=lambda x: x[1],reverse = True,  )"
      ],
      "execution_count": 102,
      "outputs": [
        {
          "output_type": "execute_result",
          "data": {
            "text/plain": [
              "[('Leche', 4800),\n",
              " ('Chocolate', 2600),\n",
              " ('Cafe', 2000),\n",
              " ('Papas', 1000),\n",
              " ('Huevos', 300)]"
            ]
          },
          "metadata": {},
          "execution_count": 102
        }
      ]
    },
    {
      "cell_type": "markdown",
      "metadata": {
        "id": "OA2wYAa0c6Dn"
      },
      "source": [
        "Lists also have a function list.sort(). This function takes the same \"key\" and \"reverse\" arguments as sorted(), but it doesn't return a new list."
      ]
    },
    {
      "cell_type": "code",
      "metadata": {
        "colab": {
          "base_uri": "https://localhost:8080/"
        },
        "id": "pG9VQCLnO2PT",
        "outputId": "946d6ac9-ea80-4257-f03b-66b313e7833a"
      },
      "source": [
        "price_list = [('AAPL',144.09),('GOOG',911.71),('MSFT',69),('FB',150),('WMT',75.32)]\n",
        "price_list.sort(key = lambda x: x[1])\n",
        "print(price_list)"
      ],
      "execution_count": 103,
      "outputs": [
        {
          "output_type": "stream",
          "name": "stdout",
          "text": [
            "[('MSFT', 69), ('WMT', 75.32), ('AAPL', 144.09), ('FB', 150), ('GOOG', 911.71)]\n"
          ]
        }
      ]
    },
    {
      "cell_type": "code",
      "metadata": {
        "colab": {
          "base_uri": "https://localhost:8080/"
        },
        "id": "-nD7ldbW9OPu",
        "outputId": "f0b2e61a-55f9-4ff3-a28d-bab4f73efa68"
      },
      "source": [
        "#Ejemplo\n",
        "price_list_dos = [ ('Papas', 1000), ('Cafe', 2000), ('Chocolate', 2600), ('Leche', 4800), ('Huevos', 300) ]\n",
        "price_list_dos.sort(key=lambda x: x[1] )\n",
        "print(price_list_dos)"
      ],
      "execution_count": 104,
      "outputs": [
        {
          "output_type": "stream",
          "name": "stdout",
          "text": [
            "[('Huevos', 300), ('Papas', 1000), ('Cafe', 2000), ('Chocolate', 2600), ('Leche', 4800)]\n"
          ]
        }
      ]
    },
    {
      "cell_type": "markdown",
      "metadata": {
        "id": "mxljL1W1c_c5"
      },
      "source": [
        "# Object-Oriented Programming\n",
        "Python is an object-oriented programming language. It's important to understand the concept of \"objects\" because almost every kind of data from QuantConnect API is an object.\n",
        "\n",
        "## Class\n",
        "A class is a type of data, just like a string, float, or list. When we create an object of that data type, we call it an instance of a class.\n",
        "\n",
        "In Python, everything is an object - everything is an instance of some class. The data stored inside an object are called attributes, and the functions which are associated with the object are called methods.\n",
        "\n",
        "For example, as mentioned above, a list is an object of the \"list\" class, and it has a method list.sort().\n",
        "\n",
        "We can create our own objects by defining a class. We would do this when it's helpful to group certain functions together. For example, we define a class named \"Stock\" here:"
      ]
    },
    {
      "cell_type": "code",
      "metadata": {
        "id": "zC4Y4PgDO2PT"
      },
      "source": [
        "class stock:\n",
        "    def __init__(self, ticker, open, close, volume):\n",
        "        self.ticker = ticker\n",
        "        self.open = open\n",
        "        self.close = close\n",
        "        self.volume = volume\n",
        "        self.rate_return = float(close)/open - 1\n",
        " \n",
        "    def update(self, open, close):\n",
        "        self.open = open\n",
        "        self.close = close\n",
        "        self.rate_return = float(self.close)/self.open - 1\n",
        " \n",
        "    def print_return(self):\n",
        "        print(self.rate_return)"
      ],
      "execution_count": 105,
      "outputs": []
    },
    {
      "cell_type": "code",
      "metadata": {
        "id": "8dtNg_R39YKO"
      },
      "source": [
        "#Ejemplo\n",
        "class Carro:\n",
        "    def __init__(self, color, modelo, puestos, marca, motor):\n",
        "        self.color = color\n",
        "        self.modelo = modelo\n",
        "        self.puestos = puestos\n",
        "        self.marca = marca\n",
        "        self.motor = motor\n",
        "    def getColor(self):\n",
        "        return self.color\n",
        "    def getModelo(self):\n",
        "        return self.modelo\n",
        "    def getPuestos(self):\n",
        "        return self.puestos\n",
        "    def getMarca(self):\n",
        "        return self.marca\n",
        "    def getMotor(self):\n",
        "        return self.motor"
      ],
      "execution_count": 106,
      "outputs": []
    },
    {
      "cell_type": "markdown",
      "metadata": {
        "id": "rV06INT5dETi"
      },
      "source": [
        "The \"Stock\" class has attributes \"ticker\", \"open\", \"close\", \"volume\" and \"rate_return\". Inside the class body, the first method is called __init__, which is a special method. When we create a new instance of the class, the __init__ method is immediately executed with all the parameters that we pass to the \"Stock\" object. The purpose of this method is to set up a new \"Stock\" object using data we have provided.\n",
        "\n",
        "Here we create two Stock objects named \"apple\" and \"google\"."
      ]
    },
    {
      "cell_type": "code",
      "metadata": {
        "id": "8tIpNk93O2PU"
      },
      "source": [
        "apple = stock('AAPL', 143.69, 144.09, 20109375)\n",
        "google = stock('GOOG', 898.7, 911.7, 1561616)"
      ],
      "execution_count": 107,
      "outputs": []
    },
    {
      "cell_type": "code",
      "metadata": {
        "id": "r2SeiKCs93Eg"
      },
      "source": [
        "#Ejemplo\n",
        "carro_uno = Carro('rojo', 2020, 4, 'renault', 1600)\n",
        "carro_dos = Carro('azul', 2022, 2, 'kawazaki', 1000)"
      ],
      "execution_count": 108,
      "outputs": []
    },
    {
      "cell_type": "markdown",
      "metadata": {
        "id": "VxmELNiHdPKS"
      },
      "source": [
        "Stock objects also have two other methods: update() and print_return(). We can access the attribues of a Stock object and call its methods:"
      ]
    },
    {
      "cell_type": "code",
      "metadata": {
        "colab": {
          "base_uri": "https://localhost:8080/"
        },
        "id": "SsiIkmekO2PU",
        "outputId": "e3a8f2c9-9a85-4ffd-b09b-fa8b1454bee7"
      },
      "source": [
        "apple.ticker\n",
        "google.print_return()\n",
        "google.update(912.8,913.4)\n",
        "google.print_return()"
      ],
      "execution_count": 109,
      "outputs": [
        {
          "output_type": "stream",
          "name": "stdout",
          "text": [
            "0.014465338822744034\n",
            "0.0006573181419806673\n"
          ]
        }
      ]
    },
    {
      "cell_type": "code",
      "metadata": {
        "colab": {
          "base_uri": "https://localhost:8080/"
        },
        "id": "7nmB6zia-Brw",
        "outputId": "94afef3c-3f73-42f5-da33-88fa251e2860"
      },
      "source": [
        "#Ejemplo\n",
        "print( carro_uno.getMarca(), carro_uno.getColor(), carro_uno.getModelo())\n",
        "print( carro_dos.getColor(), carro_dos.getMarca(), carro_dos.getMotor() )"
      ],
      "execution_count": 110,
      "outputs": [
        {
          "output_type": "stream",
          "name": "stdout",
          "text": [
            "renault rojo 2020\n",
            "azul kawazaki 1000\n"
          ]
        }
      ]
    },
    {
      "cell_type": "markdown",
      "metadata": {
        "id": "Q8fl7keNdVKF"
      },
      "source": [
        "By calling the update() function, we updated the open and close prices of a stock. Please note that when we use the attributes or call the methods **inside a class**, we need to specify them as self.attribute or self.method(), otherwise Python will deem them as global variables and thus raise an error.\n",
        "\n",
        "We can add an attribute to an object anywhere:"
      ]
    },
    {
      "cell_type": "code",
      "metadata": {
        "colab": {
          "base_uri": "https://localhost:8080/",
          "height": 36
        },
        "id": "rO4OLnqOO2PU",
        "outputId": "e75355ab-a410-4c60-9ccf-5fad4350baa7"
      },
      "source": [
        "apple.ceo = 'Tim Cook'\n",
        "apple.ceo"
      ],
      "execution_count": 111,
      "outputs": [
        {
          "output_type": "execute_result",
          "data": {
            "application/vnd.google.colaboratory.intrinsic+json": {
              "type": "string"
            },
            "text/plain": [
              "'Tim Cook'"
            ]
          },
          "metadata": {},
          "execution_count": 111
        }
      ]
    },
    {
      "cell_type": "code",
      "metadata": {
        "id": "-l0ljo0y-Pgu",
        "colab": {
          "base_uri": "https://localhost:8080/"
        },
        "outputId": "c20429fa-4d35-4df5-b981-59e5317cf292"
      },
      "source": [
        "#Ejemplo\n",
        "carro_uno.puertas = 4\n",
        "print (carro_uno.puertas)\n",
        "carro_dos.puertas = 2\n",
        "print (carro_dos.puertas)"
      ],
      "execution_count": 112,
      "outputs": [
        {
          "output_type": "stream",
          "name": "stdout",
          "text": [
            "4\n",
            "2\n"
          ]
        }
      ]
    },
    {
      "cell_type": "markdown",
      "metadata": {
        "id": "WyfnFgVidh4J"
      },
      "source": [
        "We can check what names (i.e. attributes and methods) are defined on an object using the dir() function:"
      ]
    },
    {
      "cell_type": "code",
      "metadata": {
        "colab": {
          "base_uri": "https://localhost:8080/"
        },
        "id": "pPoz0LA8O2PU",
        "outputId": "57b3d1db-45a3-479e-ff10-0652b0f167ce"
      },
      "source": [
        "dir(apple)"
      ],
      "execution_count": 113,
      "outputs": [
        {
          "output_type": "execute_result",
          "data": {
            "text/plain": [
              "['__class__',\n",
              " '__delattr__',\n",
              " '__dict__',\n",
              " '__dir__',\n",
              " '__doc__',\n",
              " '__eq__',\n",
              " '__format__',\n",
              " '__ge__',\n",
              " '__getattribute__',\n",
              " '__gt__',\n",
              " '__hash__',\n",
              " '__init__',\n",
              " '__init_subclass__',\n",
              " '__le__',\n",
              " '__lt__',\n",
              " '__module__',\n",
              " '__ne__',\n",
              " '__new__',\n",
              " '__reduce__',\n",
              " '__reduce_ex__',\n",
              " '__repr__',\n",
              " '__setattr__',\n",
              " '__sizeof__',\n",
              " '__str__',\n",
              " '__subclasshook__',\n",
              " '__weakref__',\n",
              " 'ceo',\n",
              " 'close',\n",
              " 'open',\n",
              " 'print_return',\n",
              " 'rate_return',\n",
              " 'ticker',\n",
              " 'update',\n",
              " 'volume']"
            ]
          },
          "metadata": {},
          "execution_count": 113
        }
      ]
    },
    {
      "cell_type": "code",
      "metadata": {
        "colab": {
          "base_uri": "https://localhost:8080/"
        },
        "id": "Z_h7ZwAm-W7N",
        "outputId": "4df89bfc-216f-4345-d9b9-1d776dde1bdb"
      },
      "source": [
        "#Ejemplo\n",
        "dir(carro_uno)"
      ],
      "execution_count": 114,
      "outputs": [
        {
          "output_type": "execute_result",
          "data": {
            "text/plain": [
              "['__class__',\n",
              " '__delattr__',\n",
              " '__dict__',\n",
              " '__dir__',\n",
              " '__doc__',\n",
              " '__eq__',\n",
              " '__format__',\n",
              " '__ge__',\n",
              " '__getattribute__',\n",
              " '__gt__',\n",
              " '__hash__',\n",
              " '__init__',\n",
              " '__init_subclass__',\n",
              " '__le__',\n",
              " '__lt__',\n",
              " '__module__',\n",
              " '__ne__',\n",
              " '__new__',\n",
              " '__reduce__',\n",
              " '__reduce_ex__',\n",
              " '__repr__',\n",
              " '__setattr__',\n",
              " '__sizeof__',\n",
              " '__str__',\n",
              " '__subclasshook__',\n",
              " '__weakref__',\n",
              " 'color',\n",
              " 'getColor',\n",
              " 'getMarca',\n",
              " 'getModelo',\n",
              " 'getMotor',\n",
              " 'getPuestos',\n",
              " 'marca',\n",
              " 'modelo',\n",
              " 'motor',\n",
              " 'puertas',\n",
              " 'puestos']"
            ]
          },
          "metadata": {},
          "execution_count": 114
        }
      ]
    },
    {
      "cell_type": "markdown",
      "metadata": {
        "id": "Qpemj1UZd2aa"
      },
      "source": [
        "## Inheritance\n",
        "Inheritance is a way of arranging classes in a hierarchy from the most general to the most specific. A \"child\" class is a more specific type of a \"parent\" class because a child class will inherit all the attribues and methods of its parent. For example, we define a class named \"Child\" which inherits \"Stock\":"
      ]
    },
    {
      "cell_type": "code",
      "metadata": {
        "id": "UELXnxomO2PV"
      },
      "source": [
        "class child(stock):\n",
        "    def __init__(self,name):\n",
        "        self.name = name"
      ],
      "execution_count": 115,
      "outputs": []
    },
    {
      "cell_type": "code",
      "metadata": {
        "colab": {
          "base_uri": "https://localhost:8080/"
        },
        "id": "ffS2THZyO2PV",
        "outputId": "d78babd4-7cd5-4511-e52c-b4daf6fb6094"
      },
      "source": [
        "aa = child('aa')\n",
        "print(aa.name)\n",
        "aa.update(100,102)\n",
        "print(aa.open)\n",
        "print(aa.close)\n",
        "print(aa.print_return())"
      ],
      "execution_count": 116,
      "outputs": [
        {
          "output_type": "stream",
          "name": "stdout",
          "text": [
            "aa\n",
            "100\n",
            "102\n",
            "0.020000000000000018\n",
            "None\n"
          ]
        }
      ]
    },
    {
      "cell_type": "code",
      "metadata": {
        "id": "ZasD92N4-gwW"
      },
      "source": [
        "#Ejemplo\n",
        "class CarroModificado(Carro):\n",
        "    def __init__(self):\n",
        "        self.marca = 'Chevrolet'\n",
        "        self.color = 'Morado'\n",
        "        self.modelo = '2025'"
      ],
      "execution_count": 117,
      "outputs": []
    },
    {
      "cell_type": "code",
      "metadata": {
        "colab": {
          "base_uri": "https://localhost:8080/"
        },
        "id": "HdCrdgmkLmCW",
        "outputId": "2771523b-714c-4044-a535-2ebd4ce0a15c"
      },
      "source": [
        "#Ejemplo\n",
        "carro_tres = CarroModificado()\n",
        "print(carro_tres.getMarca())\n",
        "print(carro_tres.getColor())\n",
        "print(carro_tres.getModelo())"
      ],
      "execution_count": 118,
      "outputs": [
        {
          "output_type": "stream",
          "name": "stdout",
          "text": [
            "Chevrolet\n",
            "Morado\n",
            "2025\n"
          ]
        }
      ]
    },
    {
      "cell_type": "markdown",
      "metadata": {
        "id": "pdIEjUv2eJqL"
      },
      "source": [
        "As seen above, the new class Child has inherited the methods from Stock.\n",
        "\n",
        "#Summary\n",
        "\n",
        "In this chapter we have introduced functions and classes. When we write a QuantConnect algorithm, we would define our algorithm as a class (QCAlgorithm). This means our algorithm inherited the QC API methods from QCAlgorithm class.\n",
        "\n",
        "In the next chapter, we will introduce NumPy and Pandas, which enable us to conduct scientific calculations in Python."
      ]
    },
    {
      "cell_type": "markdown",
      "metadata": {
        "id": "dQbENH6mexTd"
      },
      "source": [
        "<div align=\"center\">\n",
        "<img style=\"display: block; margin: auto;\" alt=\"photo\" src=\"https://cdn.quantconnect.com/web/i/icon.png\">\n",
        "\n",
        "Quantconnect\n",
        "\n",
        "Introduction to Financial Python\n",
        "</div>\n",
        "\n",
        "# 04 NumPy and Basic Pandas\n",
        "\n",
        "# Introduction\n",
        "\n",
        "Now that we have introduced the fundamentals of Python, it's time to learn about NumPy and Pandas.\n",
        "\n",
        "# NumPy\n",
        "NumPy is the core library for scientific computing in Python. It provides a high-performance multidimensional array object, and tools for working with these arrays. It also has strong integration with Pandas, which is another powerful tool for manipulating financial data.\n",
        "\n",
        "Python packages like NumPy and Pandas contain classes and methods which we can use by importing the package:"
      ]
    },
    {
      "cell_type": "code",
      "metadata": {
        "id": "aIESp-rdO58h"
      },
      "source": [
        "import numpy as np"
      ],
      "execution_count": 119,
      "outputs": []
    },
    {
      "cell_type": "markdown",
      "metadata": {
        "id": "GScHHJ5ke7ea"
      },
      "source": [
        "## Basic NumPy Arrays\n",
        "A NumPy array is a grid of values, all of the same type, and is indexed by a tuple of nonnegative integers. Here we make an array by passing a list of Apple stock prices:"
      ]
    },
    {
      "cell_type": "code",
      "metadata": {
        "colab": {
          "base_uri": "https://localhost:8080/"
        },
        "id": "lZI1wkwDO58i",
        "outputId": "e0135944-169d-4959-9f98-aacde9bcafaa"
      },
      "source": [
        "price_list = [143.73, 145.83, 143.68, 144.02, 143.5, 142.62]\n",
        "price_array = np.array(price_list)\n",
        "print(price_array, type(price_array))"
      ],
      "execution_count": 120,
      "outputs": [
        {
          "output_type": "stream",
          "name": "stdout",
          "text": [
            "[143.73 145.83 143.68 144.02 143.5  142.62] <class 'numpy.ndarray'>\n"
          ]
        }
      ]
    },
    {
      "cell_type": "code",
      "metadata": {
        "colab": {
          "base_uri": "https://localhost:8080/"
        },
        "id": "AjURkBQzAXnW",
        "outputId": "dd986791-5758-45ce-b5ac-5d5a78fd6d61"
      },
      "source": [
        "#Ejemplo\n",
        "price_list_dos = [145, 562.1, 210.5, 12.9, 156.2, 999.9]\n",
        "price_array_dos = np.array(price_list_dos)\n",
        "print(price_array_dos, type(price_array_dos))"
      ],
      "execution_count": 121,
      "outputs": [
        {
          "output_type": "stream",
          "name": "stdout",
          "text": [
            "[145.  562.1 210.5  12.9 156.2 999.9] <class 'numpy.ndarray'>\n"
          ]
        }
      ]
    },
    {
      "cell_type": "markdown",
      "metadata": {
        "id": "-5Yj6u9ifB-t"
      },
      "source": [
        "Notice that the type of array is \"ndarray\" which is a multi-dimensional array. If we pass np.array() a list of lists, it will create a 2-dimensional array."
      ]
    },
    {
      "cell_type": "code",
      "metadata": {
        "colab": {
          "base_uri": "https://localhost:8080/"
        },
        "id": "obvIZrK-O58j",
        "outputId": "d7c04eb8-37bf-423f-b5d5-c1362daf9074"
      },
      "source": [
        "Ar = np.array([[1,3],[2,4]])\n",
        "print(Ar, type(Ar))"
      ],
      "execution_count": 122,
      "outputs": [
        {
          "output_type": "stream",
          "name": "stdout",
          "text": [
            "[[1 3]\n",
            " [2 4]] <class 'numpy.ndarray'>\n"
          ]
        }
      ]
    },
    {
      "cell_type": "code",
      "metadata": {
        "colab": {
          "base_uri": "https://localhost:8080/"
        },
        "id": "XoP7YxpGApiN",
        "outputId": "1b8eeb5c-be9c-4c18-b892-61f50f9246ad"
      },
      "source": [
        "#Ejemplo\n",
        "Ar_dos = np.array([ [1, 2, 3], [4, 5, 6], [7, 8, 9] ])\n",
        "print(Ar_dos, type(Ar_dos))"
      ],
      "execution_count": 123,
      "outputs": [
        {
          "output_type": "stream",
          "name": "stdout",
          "text": [
            "[[1 2 3]\n",
            " [4 5 6]\n",
            " [7 8 9]] <class 'numpy.ndarray'>\n"
          ]
        }
      ]
    },
    {
      "cell_type": "markdown",
      "metadata": {
        "id": "uDdfLD9HfHkl"
      },
      "source": [
        "We get the dimensions of an ndarray using the .shape attribute:"
      ]
    },
    {
      "cell_type": "code",
      "metadata": {
        "colab": {
          "base_uri": "https://localhost:8080/"
        },
        "id": "G2txdn73O58j",
        "outputId": "112ef7d6-2568-4215-a26f-bdd8cdf917e9"
      },
      "source": [
        "print(Ar.shape)"
      ],
      "execution_count": 124,
      "outputs": [
        {
          "output_type": "stream",
          "name": "stdout",
          "text": [
            "(2, 2)\n"
          ]
        }
      ]
    },
    {
      "cell_type": "code",
      "metadata": {
        "colab": {
          "base_uri": "https://localhost:8080/"
        },
        "id": "u1luNAdQA98s",
        "outputId": "1e1a0f1c-0d63-403d-ba9b-69f1741f0d9f"
      },
      "source": [
        "#Ejemplo\n",
        "print(Ar_dos.shape)  "
      ],
      "execution_count": 125,
      "outputs": [
        {
          "output_type": "stream",
          "name": "stdout",
          "text": [
            "(3, 3)\n"
          ]
        }
      ]
    },
    {
      "cell_type": "markdown",
      "metadata": {
        "id": "87W5ueORfPEy"
      },
      "source": [
        "If we create an 2-dimensional array (i.e. matrix), each row can be accessed by index:"
      ]
    },
    {
      "cell_type": "code",
      "metadata": {
        "colab": {
          "base_uri": "https://localhost:8080/"
        },
        "id": "x_QV9aPbO58j",
        "outputId": "fd85e5eb-04c3-4046-da57-68dc4cf1e765"
      },
      "source": [
        "print(Ar[0])\n",
        "print(Ar[1])"
      ],
      "execution_count": 126,
      "outputs": [
        {
          "output_type": "stream",
          "name": "stdout",
          "text": [
            "[1 3]\n",
            "[2 4]\n"
          ]
        }
      ]
    },
    {
      "cell_type": "code",
      "metadata": {
        "colab": {
          "base_uri": "https://localhost:8080/"
        },
        "id": "1gyy8w8bBHKl",
        "outputId": "8f8d70c7-e402-4ffd-b91b-55f2752ed840"
      },
      "source": [
        "#Ejemplo\n",
        "print(Ar_dos[0])\n",
        "print(Ar_dos[1])\n",
        "print(Ar_dos[2])"
      ],
      "execution_count": 127,
      "outputs": [
        {
          "output_type": "stream",
          "name": "stdout",
          "text": [
            "[1 2 3]\n",
            "[4 5 6]\n",
            "[7 8 9]\n"
          ]
        }
      ]
    },
    {
      "cell_type": "markdown",
      "metadata": {
        "id": "5Hke7Vt-fSGB"
      },
      "source": [
        "If we want to access the matrix by column instead:"
      ]
    },
    {
      "cell_type": "code",
      "metadata": {
        "colab": {
          "base_uri": "https://localhost:8080/"
        },
        "id": "gHVwbPfOO58j",
        "outputId": "9560ebae-14bb-4c17-b469-21898467fed4"
      },
      "source": [
        "print('the first column: ', Ar[:,0])\n",
        "print('the second column: ', Ar[:,1])"
      ],
      "execution_count": 128,
      "outputs": [
        {
          "output_type": "stream",
          "name": "stdout",
          "text": [
            "the first column:  [1 2]\n",
            "the second column:  [3 4]\n"
          ]
        }
      ]
    },
    {
      "cell_type": "code",
      "metadata": {
        "colab": {
          "base_uri": "https://localhost:8080/"
        },
        "id": "ApReOyRgBQuu",
        "outputId": "82fd84f9-739c-4ede-db43-33a3f2fe6a31"
      },
      "source": [
        "#Ejemplo\n",
        "print('Primera Columna: ', Ar_dos[:,0])\n",
        "print('Segunda Columna: ', Ar_dos[:,1])\n",
        "print('Tercera Columna: ', Ar_dos[:,2])"
      ],
      "execution_count": 129,
      "outputs": [
        {
          "output_type": "stream",
          "name": "stdout",
          "text": [
            "Primera Columna:  [1 4 7]\n",
            "Segunda Columna:  [2 5 8]\n",
            "Tercera Columna:  [3 6 9]\n"
          ]
        }
      ]
    },
    {
      "cell_type": "markdown",
      "metadata": {
        "id": "T61cD0HMfStB"
      },
      "source": [
        "## Array Functions\n",
        "Some functions built in NumPy that allow us to perform calculations on arrays. For example, we can apply the natural logarithm to each element of an array:"
      ]
    },
    {
      "cell_type": "code",
      "metadata": {
        "colab": {
          "base_uri": "https://localhost:8080/"
        },
        "id": "PKhwtJ7XO58k",
        "outputId": "649a7ec9-507e-4a48-d777-47260ec39064"
      },
      "source": [
        "print(np.log(price_array))"
      ],
      "execution_count": 130,
      "outputs": [
        {
          "output_type": "stream",
          "name": "stdout",
          "text": [
            "[4.96793654 4.98244156 4.9675886  4.96995218 4.96633504 4.96018375]\n"
          ]
        }
      ]
    },
    {
      "cell_type": "code",
      "metadata": {
        "colab": {
          "base_uri": "https://localhost:8080/"
        },
        "id": "5tKoeKIoBfv9",
        "outputId": "99134fe4-786f-4321-d91d-d491d70e928c"
      },
      "source": [
        "#Ejemplo\n",
        "print(np.log(price_array_dos))"
      ],
      "execution_count": 131,
      "outputs": [
        {
          "output_type": "stream",
          "name": "stdout",
          "text": [
            "[4.97673374 6.33167977 5.34948565 2.55722731 5.05113724 6.90765527]\n"
          ]
        }
      ]
    },
    {
      "cell_type": "markdown",
      "metadata": {
        "id": "uzjBRFBLfZ-D"
      },
      "source": [
        "Other functions return a single value:"
      ]
    },
    {
      "cell_type": "code",
      "metadata": {
        "colab": {
          "base_uri": "https://localhost:8080/"
        },
        "id": "nQuABZqUO58k",
        "outputId": "2a62becf-ba91-4625-f7ae-5c07bed08b46"
      },
      "source": [
        "print(np.mean(price_array))\n",
        "print(np.std(price_array))\n",
        "print(np.sum(price_array))\n",
        "print(np.max(price_array))"
      ],
      "execution_count": 132,
      "outputs": [
        {
          "output_type": "stream",
          "name": "stdout",
          "text": [
            "143.89666666666668\n",
            "0.9673790478515796\n",
            "863.38\n",
            "145.83\n"
          ]
        }
      ]
    },
    {
      "cell_type": "code",
      "metadata": {
        "colab": {
          "base_uri": "https://localhost:8080/"
        },
        "id": "DKbgvQURBwNn",
        "outputId": "8e69533f-e35b-4ddc-aa44-1f86a859c850"
      },
      "source": [
        "#Ejemplo\n",
        "print(np.mean(price_array_dos))\n",
        "print(np.std(price_array_dos))\n",
        "print(np.sum(price_array_dos))\n",
        "print(np.max(price_array_dos))"
      ],
      "execution_count": 133,
      "outputs": [
        {
          "output_type": "stream",
          "name": "stdout",
          "text": [
            "347.76666666666665\n",
            "336.65179670131306\n",
            "2086.6\n",
            "999.9\n"
          ]
        }
      ]
    },
    {
      "cell_type": "markdown",
      "metadata": {
        "id": "IRW95BsifgDB"
      },
      "source": [
        "The functions above return the mean, standard deviation, total and maximum value of an array.\n",
        "\n",
        "# Pandas\n",
        "Pandas is one of the most powerful tools for dealing with financial data. \n",
        "\n",
        "First we need to import Pandas:"
      ]
    },
    {
      "cell_type": "code",
      "metadata": {
        "id": "xIYH4oUfO58k"
      },
      "source": [
        "import pandas as pd"
      ],
      "execution_count": 134,
      "outputs": []
    },
    {
      "cell_type": "markdown",
      "metadata": {
        "id": "zOig5gORfnJU"
      },
      "source": [
        "## Series\n",
        "Series is a one-dimensional labeled array capable of holding any data type (integers, strings, float, Python object, etc.)\n",
        "\n",
        "We create a Series by calling pd.Series(data), where data can be a dictionary, an array or just a scalar value."
      ]
    },
    {
      "cell_type": "code",
      "metadata": {
        "colab": {
          "base_uri": "https://localhost:8080/"
        },
        "id": "JmzoNzrPO58k",
        "outputId": "6d18b93b-b3bc-4eaa-e253-ac4ab1bd62f4"
      },
      "source": [
        "price = [143.73, 145.83, 143.68, 144.02, 143.5, 142.62]\n",
        "s = pd.Series(price)\n",
        "s"
      ],
      "execution_count": 135,
      "outputs": [
        {
          "output_type": "execute_result",
          "data": {
            "text/plain": [
              "0    143.73\n",
              "1    145.83\n",
              "2    143.68\n",
              "3    144.02\n",
              "4    143.50\n",
              "5    142.62\n",
              "dtype: float64"
            ]
          },
          "metadata": {},
          "execution_count": 135
        }
      ]
    },
    {
      "cell_type": "code",
      "metadata": {
        "colab": {
          "base_uri": "https://localhost:8080/"
        },
        "id": "tRTdUfsNCCxl",
        "outputId": "c7fb064d-d093-4d81-994c-33fddd37fdf3"
      },
      "source": [
        "#Ejemplo\n",
        "s_dos = pd.Series(price_array_dos)\n",
        "print(s_dos)"
      ],
      "execution_count": 136,
      "outputs": [
        {
          "output_type": "stream",
          "name": "stdout",
          "text": [
            "0    145.0\n",
            "1    562.1\n",
            "2    210.5\n",
            "3     12.9\n",
            "4    156.2\n",
            "5    999.9\n",
            "dtype: float64\n"
          ]
        }
      ]
    },
    {
      "cell_type": "markdown",
      "metadata": {
        "id": "tP5iDnunfq46"
      },
      "source": [
        "We can customize the indices of a new Series:"
      ]
    },
    {
      "cell_type": "code",
      "metadata": {
        "colab": {
          "base_uri": "https://localhost:8080/"
        },
        "id": "eswQC3ZPO58l",
        "outputId": "76cce2b4-cce6-46d2-9efa-48a6842bc706"
      },
      "source": [
        "s = pd.Series(price,index = ['a','b','c','d','e','f'])\n",
        "s"
      ],
      "execution_count": 137,
      "outputs": [
        {
          "output_type": "execute_result",
          "data": {
            "text/plain": [
              "a    143.73\n",
              "b    145.83\n",
              "c    143.68\n",
              "d    144.02\n",
              "e    143.50\n",
              "f    142.62\n",
              "dtype: float64"
            ]
          },
          "metadata": {},
          "execution_count": 137
        }
      ]
    },
    {
      "cell_type": "code",
      "metadata": {
        "colab": {
          "base_uri": "https://localhost:8080/"
        },
        "id": "QWWf6P-SCQi5",
        "outputId": "f1a3eeea-85ee-4c4a-95da-5cb00fae3488"
      },
      "source": [
        "#Ejemplo\n",
        "s_dos = pd.Series(price_array_dos, index=['00','01','02','03','04','05'])\n",
        "print(s_dos)"
      ],
      "execution_count": 138,
      "outputs": [
        {
          "output_type": "stream",
          "name": "stdout",
          "text": [
            "00    145.0\n",
            "01    562.1\n",
            "02    210.5\n",
            "03     12.9\n",
            "04    156.2\n",
            "05    999.9\n",
            "dtype: float64\n"
          ]
        }
      ]
    },
    {
      "cell_type": "markdown",
      "metadata": {
        "id": "wdZrb8pEfuua"
      },
      "source": [
        "Or we can change the indices of an existing Series:"
      ]
    },
    {
      "cell_type": "code",
      "metadata": {
        "colab": {
          "base_uri": "https://localhost:8080/"
        },
        "id": "MwlRnPF6O58l",
        "outputId": "cc76d6e0-040a-4b7e-a711-c0d37fdfed6f"
      },
      "source": [
        "s.index = [6,5,4,3,2,1]\n",
        "s"
      ],
      "execution_count": 139,
      "outputs": [
        {
          "output_type": "execute_result",
          "data": {
            "text/plain": [
              "6    143.73\n",
              "5    145.83\n",
              "4    143.68\n",
              "3    144.02\n",
              "2    143.50\n",
              "1    142.62\n",
              "dtype: float64"
            ]
          },
          "metadata": {},
          "execution_count": 139
        }
      ]
    },
    {
      "cell_type": "code",
      "metadata": {
        "colab": {
          "base_uri": "https://localhost:8080/"
        },
        "id": "mx9OgtQDCmq9",
        "outputId": "4f3ecf97-d89a-48d3-9f56-8edbcfa2dd41"
      },
      "source": [
        "#Ejemplo\n",
        "s_dos.index = ['a',2,'c',4,'e',6]\n",
        "s_dos"
      ],
      "execution_count": 140,
      "outputs": [
        {
          "output_type": "execute_result",
          "data": {
            "text/plain": [
              "a    145.0\n",
              "2    562.1\n",
              "c    210.5\n",
              "4     12.9\n",
              "e    156.2\n",
              "6    999.9\n",
              "dtype: float64"
            ]
          },
          "metadata": {},
          "execution_count": 140
        }
      ]
    },
    {
      "cell_type": "markdown",
      "metadata": {
        "id": "6cGNQZwLfxIz"
      },
      "source": [
        "Series is like a list since it can be sliced by index:"
      ]
    },
    {
      "cell_type": "code",
      "metadata": {
        "colab": {
          "base_uri": "https://localhost:8080/"
        },
        "id": "N9bBSg6cO58l",
        "outputId": "002703fd-6da5-468d-8eef-f249e4f48fe2"
      },
      "source": [
        "print(s[1:])\n",
        "print(s[:-2])"
      ],
      "execution_count": 141,
      "outputs": [
        {
          "output_type": "stream",
          "name": "stdout",
          "text": [
            "5    145.83\n",
            "4    143.68\n",
            "3    144.02\n",
            "2    143.50\n",
            "1    142.62\n",
            "dtype: float64\n",
            "6    143.73\n",
            "5    145.83\n",
            "4    143.68\n",
            "3    144.02\n",
            "dtype: float64\n"
          ]
        }
      ]
    },
    {
      "cell_type": "code",
      "metadata": {
        "colab": {
          "base_uri": "https://localhost:8080/"
        },
        "id": "HSTHWwv5C67E",
        "outputId": "a1af4a17-260d-4fe0-a7d7-e3aa0da5e727"
      },
      "source": [
        "#Ejemplo\n",
        "print(s_dos[2:])\n",
        "print(s_dos[:-1])"
      ],
      "execution_count": 142,
      "outputs": [
        {
          "output_type": "stream",
          "name": "stdout",
          "text": [
            "c    210.5\n",
            "4     12.9\n",
            "e    156.2\n",
            "6    999.9\n",
            "dtype: float64\n",
            "a    145.0\n",
            "2    562.1\n",
            "c    210.5\n",
            "4     12.9\n",
            "e    156.2\n",
            "dtype: float64\n"
          ]
        }
      ]
    },
    {
      "cell_type": "markdown",
      "metadata": {
        "id": "5V25nViZfz3Z"
      },
      "source": [
        "Series is also like a dictionary whose values can be set or fetched by index label:"
      ]
    },
    {
      "cell_type": "code",
      "metadata": {
        "colab": {
          "base_uri": "https://localhost:8080/"
        },
        "id": "b3Y0kKGYO58l",
        "outputId": "38282248-a0d0-4687-9e76-0f09b9578075"
      },
      "source": [
        "print(s[4])\n",
        "s[4] = 0\n",
        "print(s)"
      ],
      "execution_count": 143,
      "outputs": [
        {
          "output_type": "stream",
          "name": "stdout",
          "text": [
            "143.68\n",
            "6    143.73\n",
            "5    145.83\n",
            "4      0.00\n",
            "3    144.02\n",
            "2    143.50\n",
            "1    142.62\n",
            "dtype: float64\n"
          ]
        }
      ]
    },
    {
      "cell_type": "code",
      "metadata": {
        "colab": {
          "base_uri": "https://localhost:8080/"
        },
        "id": "1SCIMBf_DJgV",
        "outputId": "055deec3-70b0-4c82-e874-357dd4c8c1a7"
      },
      "source": [
        "#Ejemplo\n",
        "print(s_dos['c'])\n",
        "s_dos[4] = 123.123\n",
        "print(s_dos)"
      ],
      "execution_count": 144,
      "outputs": [
        {
          "output_type": "stream",
          "name": "stdout",
          "text": [
            "210.5\n",
            "a    145.000\n",
            "2    562.100\n",
            "c    210.500\n",
            "4    123.123\n",
            "e    156.200\n",
            "6    999.900\n",
            "dtype: float64\n"
          ]
        }
      ]
    },
    {
      "cell_type": "markdown",
      "metadata": {
        "id": "RQ1P7Gkyf060"
      },
      "source": [
        "Series can also have a name attribute, which will be used when we make up a Pandas DataFrame using several series."
      ]
    },
    {
      "cell_type": "code",
      "metadata": {
        "colab": {
          "base_uri": "https://localhost:8080/"
        },
        "id": "ZeD4-p7KO58m",
        "outputId": "c346ed54-63e0-45b1-915c-fde9d04f06b1"
      },
      "source": [
        "s = pd.Series(price, name = 'Apple Price List')\n",
        "print(s)\n",
        "print(s.name)"
      ],
      "execution_count": 145,
      "outputs": [
        {
          "output_type": "stream",
          "name": "stdout",
          "text": [
            "0    143.73\n",
            "1    145.83\n",
            "2    143.68\n",
            "3    144.02\n",
            "4    143.50\n",
            "5    142.62\n",
            "Name: Apple Price List, dtype: float64\n",
            "Apple Price List\n"
          ]
        }
      ]
    },
    {
      "cell_type": "code",
      "metadata": {
        "colab": {
          "base_uri": "https://localhost:8080/"
        },
        "id": "xZWmiyOoGeaD",
        "outputId": "5c73bf8a-d9c5-4c73-fd7b-7b9d00311708"
      },
      "source": [
        "#Ejemplo\n",
        "s_dos = pd.Series( price_array_dos, name='Precios productos' )\n",
        "print(s_dos)\n",
        "print(s_dos.name)"
      ],
      "execution_count": 146,
      "outputs": [
        {
          "output_type": "stream",
          "name": "stdout",
          "text": [
            "0    145.000\n",
            "1    562.100\n",
            "2    210.500\n",
            "3    123.123\n",
            "4    156.200\n",
            "5    999.900\n",
            "Name: Precios productos, dtype: float64\n",
            "Precios productos\n"
          ]
        }
      ]
    },
    {
      "cell_type": "markdown",
      "metadata": {
        "id": "geJb1pGHf5Et"
      },
      "source": [
        "We can get the statistical summaries of a Series:"
      ]
    },
    {
      "cell_type": "code",
      "metadata": {
        "colab": {
          "base_uri": "https://localhost:8080/"
        },
        "id": "mGPtFcjegm4i",
        "outputId": "c43e1b2b-1edf-4702-f26b-6c19ec7c6f24"
      },
      "source": [
        "print(s.describe())"
      ],
      "execution_count": 147,
      "outputs": [
        {
          "output_type": "stream",
          "name": "stdout",
          "text": [
            "count      6.000000\n",
            "mean     143.896667\n",
            "std        1.059711\n",
            "min      142.620000\n",
            "25%      143.545000\n",
            "50%      143.705000\n",
            "75%      143.947500\n",
            "max      145.830000\n",
            "Name: Apple Price List, dtype: float64\n"
          ]
        }
      ]
    },
    {
      "cell_type": "code",
      "metadata": {
        "colab": {
          "base_uri": "https://localhost:8080/"
        },
        "id": "nRZQ9eHUGrju",
        "outputId": "4ef25378-a42e-46a7-e7e5-f89883506a9d"
      },
      "source": [
        "#Ejemplo\n",
        "print(s_dos.describe())"
      ],
      "execution_count": 148,
      "outputs": [
        {
          "output_type": "stream",
          "name": "stdout",
          "text": [
            "count      6.000000\n",
            "mean     366.137167\n",
            "std      351.087121\n",
            "min      123.123000\n",
            "25%      147.800000\n",
            "50%      183.350000\n",
            "75%      474.200000\n",
            "max      999.900000\n",
            "Name: Precios productos, dtype: float64\n"
          ]
        }
      ]
    },
    {
      "cell_type": "markdown",
      "metadata": {
        "id": "LkdZu-CDgvlR"
      },
      "source": [
        "## Time Index\n",
        "Pandas has a built-in function specifically for creating date indices: pd.date_range(). We use it to create a new index for our Series:"
      ]
    },
    {
      "cell_type": "code",
      "metadata": {
        "colab": {
          "base_uri": "https://localhost:8080/"
        },
        "id": "HJe5hU4zO58m",
        "outputId": "617b07fc-f570-4176-a40f-c24d4e7ddf5e"
      },
      "source": [
        "time_index = pd.date_range('2017-01-01',periods = len(s),freq = 'D')\n",
        "print(time_index)\n",
        "s.index = time_index\n",
        "print(s)"
      ],
      "execution_count": 149,
      "outputs": [
        {
          "output_type": "stream",
          "name": "stdout",
          "text": [
            "DatetimeIndex(['2017-01-01', '2017-01-02', '2017-01-03', '2017-01-04',\n",
            "               '2017-01-05', '2017-01-06'],\n",
            "              dtype='datetime64[ns]', freq='D')\n",
            "2017-01-01    143.73\n",
            "2017-01-02    145.83\n",
            "2017-01-03    143.68\n",
            "2017-01-04    144.02\n",
            "2017-01-05    143.50\n",
            "2017-01-06    142.62\n",
            "Freq: D, Name: Apple Price List, dtype: float64\n"
          ]
        }
      ]
    },
    {
      "cell_type": "code",
      "metadata": {
        "colab": {
          "base_uri": "https://localhost:8080/"
        },
        "id": "jrkMG3ywGzTE",
        "outputId": "460c40f4-4c35-4c3c-ec0e-2e8fe27895d4"
      },
      "source": [
        "#Ejemplo\n",
        "timeIndex = pd.date_range( '2020-03-21', periods = len(s_dos), freq = 'D' )\n",
        "print(timeIndex)\n",
        "s_dos.index = timeIndex\n",
        "print(s_dos)"
      ],
      "execution_count": 150,
      "outputs": [
        {
          "output_type": "stream",
          "name": "stdout",
          "text": [
            "DatetimeIndex(['2020-03-21', '2020-03-22', '2020-03-23', '2020-03-24',\n",
            "               '2020-03-25', '2020-03-26'],\n",
            "              dtype='datetime64[ns]', freq='D')\n",
            "2020-03-21    145.000\n",
            "2020-03-22    562.100\n",
            "2020-03-23    210.500\n",
            "2020-03-24    123.123\n",
            "2020-03-25    156.200\n",
            "2020-03-26    999.900\n",
            "Freq: D, Name: Precios productos, dtype: float64\n"
          ]
        }
      ]
    },
    {
      "cell_type": "markdown",
      "metadata": {
        "id": "7WedejFZg19J"
      },
      "source": [
        "Series are usually accessed using the iloc[] and loc[] methods. iloc[] is used to access elements by integer index, and loc[] is used to access the index of the series.\n",
        "\n",
        "iloc[] is necessary when the index of a series are integers, take our previous defined series as example:"
      ]
    },
    {
      "cell_type": "code",
      "metadata": {
        "colab": {
          "base_uri": "https://localhost:8080/"
        },
        "id": "KrVSOyMvO58m",
        "outputId": "182b4d3f-5db7-4b2a-c31e-343fa97440e1"
      },
      "source": [
        "s.index = [6,5,4,3,2,1]\n",
        "print(s)\n",
        "print(s[1])"
      ],
      "execution_count": 151,
      "outputs": [
        {
          "output_type": "stream",
          "name": "stdout",
          "text": [
            "6    143.73\n",
            "5    145.83\n",
            "4    143.68\n",
            "3    144.02\n",
            "2    143.50\n",
            "1    142.62\n",
            "Name: Apple Price List, dtype: float64\n",
            "142.62\n"
          ]
        }
      ]
    },
    {
      "cell_type": "code",
      "metadata": {
        "colab": {
          "base_uri": "https://localhost:8080/"
        },
        "id": "z0hogvceHXYk",
        "outputId": "95b7d168-8e8d-4c09-e5c7-1f71dc8dd35a"
      },
      "source": [
        "#Ejemplo\n",
        "s_dos.index = ['I','II','III','IV','V','VI']\n",
        "print(s_dos)\n",
        "print(s_dos['V'])"
      ],
      "execution_count": 152,
      "outputs": [
        {
          "output_type": "stream",
          "name": "stdout",
          "text": [
            "I      145.000\n",
            "II     562.100\n",
            "III    210.500\n",
            "IV     123.123\n",
            "V      156.200\n",
            "VI     999.900\n",
            "Name: Precios productos, dtype: float64\n",
            "156.2\n"
          ]
        }
      ]
    },
    {
      "cell_type": "markdown",
      "metadata": {
        "id": "r30VKPtpg61p"
      },
      "source": [
        "If we intended to take the second element of the series, we would make a mistake here, because the index are integers. In order to access to the element we want, we use iloc[] here:"
      ]
    },
    {
      "cell_type": "code",
      "metadata": {
        "colab": {
          "base_uri": "https://localhost:8080/"
        },
        "id": "bHukfaAmO58m",
        "outputId": "cc3384b6-a42f-4e35-d8f4-92141b5e2081"
      },
      "source": [
        "print(s.iloc[1])"
      ],
      "execution_count": 153,
      "outputs": [
        {
          "output_type": "stream",
          "name": "stdout",
          "text": [
            "145.83\n"
          ]
        }
      ]
    },
    {
      "cell_type": "code",
      "metadata": {
        "colab": {
          "base_uri": "https://localhost:8080/"
        },
        "id": "74XD0JtZHpHw",
        "outputId": "dea446ec-eb33-42aa-85be-5749e59bc299"
      },
      "source": [
        "#Ejemplo\n",
        "print(s_dos.iloc[2]) "
      ],
      "execution_count": 154,
      "outputs": [
        {
          "output_type": "stream",
          "name": "stdout",
          "text": [
            "210.5\n"
          ]
        }
      ]
    },
    {
      "cell_type": "markdown",
      "metadata": {
        "id": "kHVBRL_Rg84j"
      },
      "source": [
        "While working with time series data, we often use time as the index. Pandas provides us with various methods to access the data by time index"
      ]
    },
    {
      "cell_type": "code",
      "metadata": {
        "colab": {
          "base_uri": "https://localhost:8080/"
        },
        "id": "FCf8Hg7jO58n",
        "outputId": "be050f07-569c-42d5-f3a3-be094f74b50d"
      },
      "source": [
        "s.index = time_index\n",
        "print(s['2017-01-03'])"
      ],
      "execution_count": 155,
      "outputs": [
        {
          "output_type": "stream",
          "name": "stdout",
          "text": [
            "143.68\n"
          ]
        }
      ]
    },
    {
      "cell_type": "code",
      "metadata": {
        "colab": {
          "base_uri": "https://localhost:8080/"
        },
        "id": "9BAV4BPEHwtN",
        "outputId": "d441f44a-771e-413b-e85d-435c6e9e0cf4"
      },
      "source": [
        "#Ejemplo\n",
        "s_dos.index = timeIndex\n",
        "print(s_dos['2020-03-23'])"
      ],
      "execution_count": 156,
      "outputs": [
        {
          "output_type": "stream",
          "name": "stdout",
          "text": [
            "210.5\n"
          ]
        }
      ]
    },
    {
      "cell_type": "markdown",
      "metadata": {
        "id": "XJXcrSFpg-To"
      },
      "source": [
        "We can even access to a range of dates:"
      ]
    },
    {
      "cell_type": "code",
      "metadata": {
        "colab": {
          "base_uri": "https://localhost:8080/"
        },
        "id": "NsE-Lr_9O58n",
        "outputId": "639625fc-6806-4d8b-912e-82d9bd493411"
      },
      "source": [
        "print(s['2017-01-02':'2017-01-05'])"
      ],
      "execution_count": 157,
      "outputs": [
        {
          "output_type": "stream",
          "name": "stdout",
          "text": [
            "2017-01-02    145.83\n",
            "2017-01-03    143.68\n",
            "2017-01-04    144.02\n",
            "2017-01-05    143.50\n",
            "Freq: D, Name: Apple Price List, dtype: float64\n"
          ]
        }
      ]
    },
    {
      "cell_type": "code",
      "metadata": {
        "colab": {
          "base_uri": "https://localhost:8080/"
        },
        "id": "YII5Bb9iH4Nk",
        "outputId": "44132c1b-9c50-4eb3-f5ef-b890051f4421"
      },
      "source": [
        "#Ejemplo\n",
        "print(s_dos['2020-03-22': '2020-03-25'])"
      ],
      "execution_count": 158,
      "outputs": [
        {
          "output_type": "stream",
          "name": "stdout",
          "text": [
            "2020-03-22    562.100\n",
            "2020-03-23    210.500\n",
            "2020-03-24    123.123\n",
            "2020-03-25    156.200\n",
            "Freq: D, Name: Precios productos, dtype: float64\n"
          ]
        }
      ]
    },
    {
      "cell_type": "markdown",
      "metadata": {
        "id": "cWA3NCXEhCLB"
      },
      "source": [
        "Series[] provides us a very flexible way to index data. We can add any condition in the square brackets:"
      ]
    },
    {
      "cell_type": "code",
      "metadata": {
        "colab": {
          "base_uri": "https://localhost:8080/"
        },
        "id": "aawbrg2EO58n",
        "outputId": "30766196-80b2-473e-8b5e-d95268830453"
      },
      "source": [
        "print(s[s < np.mean(s)] )\n",
        "print([(s > np.mean(s)) & (s < np.mean(s) + 1.64*np.std(s))])"
      ],
      "execution_count": 159,
      "outputs": [
        {
          "output_type": "stream",
          "name": "stdout",
          "text": [
            "2017-01-01    143.73\n",
            "2017-01-03    143.68\n",
            "2017-01-05    143.50\n",
            "2017-01-06    142.62\n",
            "Name: Apple Price List, dtype: float64\n",
            "[2017-01-01    False\n",
            "2017-01-02    False\n",
            "2017-01-03    False\n",
            "2017-01-04     True\n",
            "2017-01-05    False\n",
            "2017-01-06    False\n",
            "Freq: D, Name: Apple Price List, dtype: bool]\n"
          ]
        }
      ]
    },
    {
      "cell_type": "code",
      "metadata": {
        "colab": {
          "base_uri": "https://localhost:8080/"
        },
        "id": "WH7BuNTVIAs4",
        "outputId": "6c79a25f-0abf-496e-b042-95bbe7c21ae7"
      },
      "source": [
        "#Ejemplo\n",
        "print( s_dos[s_dos < np.mean(s_dos)] )\n",
        "print([(s_dos > np.mean(s_dos)) & (s_dos < np.mean(s_dos) + 2.5*np.std(s_dos))])"
      ],
      "execution_count": 160,
      "outputs": [
        {
          "output_type": "stream",
          "name": "stdout",
          "text": [
            "2020-03-21    145.000\n",
            "2020-03-23    210.500\n",
            "2020-03-24    123.123\n",
            "2020-03-25    156.200\n",
            "Name: Precios productos, dtype: float64\n",
            "[2020-03-21    False\n",
            "2020-03-22     True\n",
            "2020-03-23    False\n",
            "2020-03-24    False\n",
            "2020-03-25    False\n",
            "2020-03-26     True\n",
            "Freq: D, Name: Precios productos, dtype: bool]\n"
          ]
        }
      ]
    },
    {
      "cell_type": "markdown",
      "metadata": {
        "id": "jAByChIwhEuI"
      },
      "source": [
        "As demonstrated, we can use logical operators like & (and), | (or) and ~ (not) to group multiple conditions.\n",
        "\n",
        "# Summary\n",
        "Here we have introduced NumPy and Pandas for scientific computing in Python. In the next chapter, we will dive into Pandas to learn resampling and manipulating Pandas DataFrame, which are commonly used in financial data analysis."
      ]
    },
    {
      "cell_type": "markdown",
      "metadata": {
        "id": "m10fp8cnKCnv"
      },
      "source": [
        "<div align=\"center\">\n",
        "<img style=\"display: block; margin: auto;\" alt=\"photo\" src=\"https://cdn.quantconnect.com/web/i/icon.png\">\n",
        "\n",
        "Quantconnect\n",
        "\n",
        "Introduction to Financial Python\n",
        "</div>\n",
        "\n",
        "# 05 Pandas-Resampling and DataFrame\n",
        "\n",
        "# Introduction\n",
        "In the last chapter we had a glimpse of Pandas. In this chapter we will learn about resampling methods and the DataFrame object, which is a powerful tool for financial data analysis.\n",
        "\n",
        "# Fetching Data\n",
        "\n",
        "Get the data online (scraping) from Yahoo Finance with yfinance"
      ]
    },
    {
      "cell_type": "code",
      "metadata": {
        "colab": {
          "base_uri": "https://localhost:8080/"
        },
        "id": "2g0lxAV70Pi1",
        "outputId": "489f533e-c692-4fb7-ee95-c273e56bb768"
      },
      "source": [
        "!pip install yfinance"
      ],
      "execution_count": 161,
      "outputs": [
        {
          "output_type": "stream",
          "name": "stdout",
          "text": [
            "Collecting yfinance\n",
            "  Downloading yfinance-0.1.64.tar.gz (26 kB)\n",
            "Requirement already satisfied: pandas>=0.24 in /usr/local/lib/python3.7/dist-packages (from yfinance) (1.1.5)\n",
            "Requirement already satisfied: numpy>=1.15 in /usr/local/lib/python3.7/dist-packages (from yfinance) (1.19.5)\n",
            "Requirement already satisfied: requests>=2.20 in /usr/local/lib/python3.7/dist-packages (from yfinance) (2.23.0)\n",
            "Requirement already satisfied: multitasking>=0.0.7 in /usr/local/lib/python3.7/dist-packages (from yfinance) (0.0.9)\n",
            "Collecting lxml>=4.5.1\n",
            "  Downloading lxml-4.6.3-cp37-cp37m-manylinux2014_x86_64.whl (6.3 MB)\n",
            "\u001b[K     |████████████████████████████████| 6.3 MB 3.4 MB/s \n",
            "\u001b[?25hRequirement already satisfied: pytz>=2017.2 in /usr/local/lib/python3.7/dist-packages (from pandas>=0.24->yfinance) (2018.9)\n",
            "Requirement already satisfied: python-dateutil>=2.7.3 in /usr/local/lib/python3.7/dist-packages (from pandas>=0.24->yfinance) (2.8.2)\n",
            "Requirement already satisfied: six>=1.5 in /usr/local/lib/python3.7/dist-packages (from python-dateutil>=2.7.3->pandas>=0.24->yfinance) (1.15.0)\n",
            "Requirement already satisfied: idna<3,>=2.5 in /usr/local/lib/python3.7/dist-packages (from requests>=2.20->yfinance) (2.10)\n",
            "Requirement already satisfied: urllib3!=1.25.0,!=1.25.1,<1.26,>=1.21.1 in /usr/local/lib/python3.7/dist-packages (from requests>=2.20->yfinance) (1.24.3)\n",
            "Requirement already satisfied: certifi>=2017.4.17 in /usr/local/lib/python3.7/dist-packages (from requests>=2.20->yfinance) (2021.5.30)\n",
            "Requirement already satisfied: chardet<4,>=3.0.2 in /usr/local/lib/python3.7/dist-packages (from requests>=2.20->yfinance) (3.0.4)\n",
            "Building wheels for collected packages: yfinance\n",
            "  Building wheel for yfinance (setup.py) ... \u001b[?25l\u001b[?25hdone\n",
            "  Created wheel for yfinance: filename=yfinance-0.1.64-py2.py3-none-any.whl size=24109 sha256=fd0739f98f21ac00802512a106ff5921baff11d46786dd9485b552d123ae6da8\n",
            "  Stored in directory: /root/.cache/pip/wheels/86/fe/9b/a4d3d78796b699e37065e5b6c27b75cff448ddb8b24943c288\n",
            "Successfully built yfinance\n",
            "Installing collected packages: lxml, yfinance\n",
            "  Attempting uninstall: lxml\n",
            "    Found existing installation: lxml 4.2.6\n",
            "    Uninstalling lxml-4.2.6:\n",
            "      Successfully uninstalled lxml-4.2.6\n",
            "Successfully installed lxml-4.6.3 yfinance-0.1.64\n"
          ]
        }
      ]
    },
    {
      "cell_type": "code",
      "metadata": {
        "colab": {
          "base_uri": "https://localhost:8080/",
          "height": 493
        },
        "id": "TOrAfDCZL2Xu",
        "outputId": "a13f255e-fb1a-4b29-cf1d-88b35adcc7b3"
      },
      "source": [
        "\n",
        "\n",
        "import yfinance as yf\n",
        "\n",
        "aapl = yf.Ticker(\"AAPL\")\n",
        "\n",
        "# get stock info\n",
        "print(aapl.info)\n",
        "\n",
        "# get historical market data\n",
        "aapl_table = aapl.history(start=\"2016-01-01\",  end=\"2017-12-31\")\n",
        "aapl_table"
      ],
      "execution_count": 162,
      "outputs": [
        {
          "output_type": "stream",
          "name": "stdout",
          "text": [
            "{'zip': '95014', 'sector': 'Technology', 'fullTimeEmployees': 147000, 'longBusinessSummary': 'Apple Inc. designs, manufactures, and markets smartphones, personal computers, tablets, wearables, and accessories worldwide. It also sells various related services. The company offers iPhone, a line of smartphones; Mac, a line of personal computers; iPad, a line of multi-purpose tablets; and wearables, home, and accessories comprising AirPods, Apple TV, Apple Watch, Beats products, HomePod, iPod touch, and other Apple-branded and third-party accessories. It also provides AppleCare support services; cloud services store services; and operates various platforms, including the App Store, that allow customers to discover and download applications and digital content, such as books, music, video, games, and podcasts. In addition, the company offers various services, such as Apple Arcade, a game subscription service; Apple Music, which offers users a curated listening experience with on-demand radio stations; Apple News+, a subscription news and magazine service; Apple TV+, which offers exclusive original content; Apple Card, a co-branded credit card; and Apple Pay, a cashless payment service, as well as licenses its intellectual property. The company serves consumers, and small and mid-sized businesses; and the education, enterprise, and government markets. It sells and delivers third-party applications for its products through the App Store. The company also sells its products through its retail and online stores, and direct sales force; and third-party cellular network carriers, wholesalers, retailers, and resellers. Apple Inc. was founded in 1977 and is headquartered in Cupertino, California.', 'city': 'Cupertino', 'phone': '408-996-1010', 'state': 'CA', 'country': 'United States', 'companyOfficers': [], 'website': 'http://www.apple.com', 'maxAge': 1, 'address1': 'One Apple Park Way', 'industry': 'Consumer Electronics', 'ebitdaMargins': 0.31955, 'profitMargins': 0.25004, 'grossMargins': 0.41005, 'operatingCashflow': 104414003200, 'revenueGrowth': 0.364, 'operatingMargins': 0.28788, 'ebitda': 110934999040, 'targetLowPrice': 132, 'recommendationKey': 'buy', 'grossProfits': 104956000000, 'freeCashflow': 80625876992, 'targetMedianPrice': 170, 'currentPrice': 149.215, 'earningsGrowth': 1, 'currentRatio': 1.062, 'returnOnAssets': 0.19302, 'numberOfAnalystOpinions': 41, 'targetMeanPrice': 168.35, 'debtToEquity': 210.782, 'returnOnEquity': 1.27125, 'targetHighPrice': 190, 'totalCash': 61696000000, 'totalDebt': 135491002368, 'totalRevenue': 347155005440, 'totalCashPerShare': 3.732, 'financialCurrency': 'USD', 'revenuePerShare': 20.61, 'quickRatio': 0.887, 'recommendationMean': 1.9, 'exchange': 'NMS', 'shortName': 'Apple Inc.', 'longName': 'Apple Inc.', 'exchangeTimezoneName': 'America/New_York', 'exchangeTimezoneShortName': 'EDT', 'isEsgPopulated': False, 'gmtOffSetMilliseconds': '-14400000', 'quoteType': 'EQUITY', 'symbol': 'AAPL', 'messageBoardId': 'finmb_24937', 'market': 'us_market', 'annualHoldingsTurnover': None, 'enterpriseToRevenue': 7.32, 'beta3Year': None, 'enterpriseToEbitda': 22.906, '52WeekChange': 0.28950322, 'morningStarRiskRating': None, 'forwardEps': 5.67, 'revenueQuarterlyGrowth': None, 'sharesOutstanding': 16530199552, 'fundInceptionDate': None, 'annualReportExpenseRatio': None, 'totalAssets': None, 'bookValue': 3.882, 'sharesShort': 101107412, 'sharesPercentSharesOut': 0.0061000003, 'fundFamily': None, 'lastFiscalYearEnd': 1601078400, 'heldPercentInstitutions': 0.58674, 'netIncomeToCommon': 86801997824, 'trailingEps': 5.108, 'lastDividendValue': 0.22, 'SandP52WeekChange': 0.313509, 'priceToBook': 38.43766, 'heldPercentInsiders': 0.00072999997, 'nextFiscalYearEnd': 1664150400, 'yield': None, 'mostRecentQuarter': 1624665600, 'shortRatio': 1.18, 'sharesShortPreviousMonthDate': 1630368000, 'floatShares': 16512974627, 'beta': 1.222222, 'enterpriseValue': 2541087621120, 'priceHint': 2, 'threeYearAverageReturn': None, 'lastSplitDate': 1598832000, 'lastSplitFactor': '4:1', 'legalType': None, 'lastDividendDate': 1628208000, 'morningStarOverallRating': None, 'earningsQuarterlyGrowth': 0.932, 'priceToSalesTrailing12Months': 7.1050506, 'dateShortInterest': 1632960000, 'pegRatio': 1.38, 'ytdReturn': None, 'forwardPE': 26.316578, 'lastCapGain': None, 'shortPercentOfFloat': 0.0061000003, 'sharesShortPriorMonth': 96838699, 'impliedSharesOutstanding': None, 'category': None, 'fiveYearAverageReturn': None, 'previousClose': 149.26, 'regularMarketOpen': 148.81, 'twoHundredDayAverage': 139.08286, 'trailingAnnualDividendYield': 0.005594265, 'payoutRatio': 0.16309999, 'volume24Hr': None, 'regularMarketDayHigh': 149.6, 'navPrice': None, 'averageDailyVolume10Day': 71794737, 'regularMarketPreviousClose': 149.26, 'fiftyDayAverage': 146.39772, 'trailingAnnualDividendRate': 0.835, 'open': 148.81, 'toCurrency': None, 'averageVolume10days': 71794737, 'expireDate': None, 'algorithm': None, 'dividendRate': 0.88, 'exDividendDate': 1628208000, 'circulatingSupply': None, 'startDate': None, 'regularMarketDayLow': 148.78, 'currency': 'USD', 'trailingPE': 29.21202, 'regularMarketVolume': 15126590, 'lastMarket': None, 'maxSupply': None, 'openInterest': None, 'marketCap': 2466553790464, 'volumeAllCurrencies': None, 'strikePrice': None, 'averageVolume': 76263192, 'dayLow': 148.78, 'ask': 149.49, 'askSize': 2200, 'volume': 15126590, 'fiftyTwoWeekHigh': 157.26, 'fromCurrency': None, 'fiveYearAvgDividendYield': 1.24, 'fiftyTwoWeekLow': 107.32, 'bid': 149.48, 'tradeable': False, 'dividendYield': 0.0058999998, 'bidSize': 1000, 'dayHigh': 149.6, 'regularMarketPrice': 149.215, 'preMarketPrice': 148.83, 'logo_url': 'https://logo.clearbit.com/apple.com'}\n"
          ]
        },
        {
          "output_type": "execute_result",
          "data": {
            "text/html": [
              "<div>\n",
              "<style scoped>\n",
              "    .dataframe tbody tr th:only-of-type {\n",
              "        vertical-align: middle;\n",
              "    }\n",
              "\n",
              "    .dataframe tbody tr th {\n",
              "        vertical-align: top;\n",
              "    }\n",
              "\n",
              "    .dataframe thead th {\n",
              "        text-align: right;\n",
              "    }\n",
              "</style>\n",
              "<table border=\"1\" class=\"dataframe\">\n",
              "  <thead>\n",
              "    <tr style=\"text-align: right;\">\n",
              "      <th></th>\n",
              "      <th>Open</th>\n",
              "      <th>High</th>\n",
              "      <th>Low</th>\n",
              "      <th>Close</th>\n",
              "      <th>Volume</th>\n",
              "      <th>Dividends</th>\n",
              "      <th>Stock Splits</th>\n",
              "    </tr>\n",
              "    <tr>\n",
              "      <th>Date</th>\n",
              "      <th></th>\n",
              "      <th></th>\n",
              "      <th></th>\n",
              "      <th></th>\n",
              "      <th></th>\n",
              "      <th></th>\n",
              "      <th></th>\n",
              "    </tr>\n",
              "  </thead>\n",
              "  <tbody>\n",
              "    <tr>\n",
              "      <th>2016-01-04</th>\n",
              "      <td>23.655164</td>\n",
              "      <td>24.291441</td>\n",
              "      <td>23.514538</td>\n",
              "      <td>24.286829</td>\n",
              "      <td>270597600</td>\n",
              "      <td>0.0</td>\n",
              "      <td>0</td>\n",
              "    </tr>\n",
              "    <tr>\n",
              "      <th>2016-01-05</th>\n",
              "      <td>24.379043</td>\n",
              "      <td>24.402096</td>\n",
              "      <td>23.609058</td>\n",
              "      <td>23.678217</td>\n",
              "      <td>223164000</td>\n",
              "      <td>0.0</td>\n",
              "      <td>0</td>\n",
              "    </tr>\n",
              "    <tr>\n",
              "      <th>2016-01-06</th>\n",
              "      <td>23.182569</td>\n",
              "      <td>23.599838</td>\n",
              "      <td>23.023501</td>\n",
              "      <td>23.214844</td>\n",
              "      <td>273829600</td>\n",
              "      <td>0.0</td>\n",
              "      <td>0</td>\n",
              "    </tr>\n",
              "    <tr>\n",
              "      <th>2016-01-07</th>\n",
              "      <td>22.749164</td>\n",
              "      <td>23.083439</td>\n",
              "      <td>22.230461</td>\n",
              "      <td>22.235071</td>\n",
              "      <td>324377600</td>\n",
              "      <td>0.0</td>\n",
              "      <td>0</td>\n",
              "    </tr>\n",
              "    <tr>\n",
              "      <th>2016-01-08</th>\n",
              "      <td>22.719197</td>\n",
              "      <td>22.848296</td>\n",
              "      <td>22.306540</td>\n",
              "      <td>22.352646</td>\n",
              "      <td>283192000</td>\n",
              "      <td>0.0</td>\n",
              "      <td>0</td>\n",
              "    </tr>\n",
              "    <tr>\n",
              "      <th>...</th>\n",
              "      <td>...</td>\n",
              "      <td>...</td>\n",
              "      <td>...</td>\n",
              "      <td>...</td>\n",
              "      <td>...</td>\n",
              "      <td>...</td>\n",
              "      <td>...</td>\n",
              "    </tr>\n",
              "    <tr>\n",
              "      <th>2017-12-22</th>\n",
              "      <td>41.827752</td>\n",
              "      <td>42.004949</td>\n",
              "      <td>41.784653</td>\n",
              "      <td>41.906773</td>\n",
              "      <td>65397600</td>\n",
              "      <td>0.0</td>\n",
              "      <td>0</td>\n",
              "    </tr>\n",
              "    <tr>\n",
              "      <th>2017-12-26</th>\n",
              "      <td>40.898671</td>\n",
              "      <td>41.059104</td>\n",
              "      <td>40.630480</td>\n",
              "      <td>40.843597</td>\n",
              "      <td>132742000</td>\n",
              "      <td>0.0</td>\n",
              "      <td>0</td>\n",
              "    </tr>\n",
              "    <tr>\n",
              "      <th>2017-12-27</th>\n",
              "      <td>40.731061</td>\n",
              "      <td>40.893888</td>\n",
              "      <td>40.637675</td>\n",
              "      <td>40.850788</td>\n",
              "      <td>85992800</td>\n",
              "      <td>0.0</td>\n",
              "      <td>0</td>\n",
              "    </tr>\n",
              "    <tr>\n",
              "      <th>2017-12-28</th>\n",
              "      <td>40.946561</td>\n",
              "      <td>41.150098</td>\n",
              "      <td>40.822044</td>\n",
              "      <td>40.965717</td>\n",
              "      <td>65920800</td>\n",
              "      <td>0.0</td>\n",
              "      <td>0</td>\n",
              "    </tr>\n",
              "    <tr>\n",
              "      <th>2017-12-29</th>\n",
              "      <td>40.831641</td>\n",
              "      <td>40.848400</td>\n",
              "      <td>40.520350</td>\n",
              "      <td>40.522743</td>\n",
              "      <td>103999600</td>\n",
              "      <td>0.0</td>\n",
              "      <td>0</td>\n",
              "    </tr>\n",
              "  </tbody>\n",
              "</table>\n",
              "<p>503 rows × 7 columns</p>\n",
              "</div>"
            ],
            "text/plain": [
              "                 Open       High        Low  ...     Volume  Dividends  Stock Splits\n",
              "Date                                         ...                                    \n",
              "2016-01-04  23.655164  24.291441  23.514538  ...  270597600        0.0             0\n",
              "2016-01-05  24.379043  24.402096  23.609058  ...  223164000        0.0             0\n",
              "2016-01-06  23.182569  23.599838  23.023501  ...  273829600        0.0             0\n",
              "2016-01-07  22.749164  23.083439  22.230461  ...  324377600        0.0             0\n",
              "2016-01-08  22.719197  22.848296  22.306540  ...  283192000        0.0             0\n",
              "...               ...        ...        ...  ...        ...        ...           ...\n",
              "2017-12-22  41.827752  42.004949  41.784653  ...   65397600        0.0             0\n",
              "2017-12-26  40.898671  41.059104  40.630480  ...  132742000        0.0             0\n",
              "2017-12-27  40.731061  40.893888  40.637675  ...   85992800        0.0             0\n",
              "2017-12-28  40.946561  41.150098  40.822044  ...   65920800        0.0             0\n",
              "2017-12-29  40.831641  40.848400  40.520350  ...  103999600        0.0             0\n",
              "\n",
              "[503 rows x 7 columns]"
            ]
          },
          "metadata": {},
          "execution_count": 162
        }
      ]
    },
    {
      "cell_type": "code",
      "metadata": {
        "colab": {
          "base_uri": "https://localhost:8080/"
        },
        "id": "na5NMmOBLp_J",
        "outputId": "b1d19150-1e9a-41c1-82e3-0c2f714cf047"
      },
      "source": [
        "!pip install yfinance"
      ],
      "execution_count": 163,
      "outputs": [
        {
          "output_type": "stream",
          "name": "stdout",
          "text": [
            "Requirement already satisfied: yfinance in /usr/local/lib/python3.7/dist-packages (0.1.64)\n",
            "Requirement already satisfied: pandas>=0.24 in /usr/local/lib/python3.7/dist-packages (from yfinance) (1.1.5)\n",
            "Requirement already satisfied: requests>=2.20 in /usr/local/lib/python3.7/dist-packages (from yfinance) (2.23.0)\n",
            "Requirement already satisfied: numpy>=1.15 in /usr/local/lib/python3.7/dist-packages (from yfinance) (1.19.5)\n",
            "Requirement already satisfied: lxml>=4.5.1 in /usr/local/lib/python3.7/dist-packages (from yfinance) (4.6.3)\n",
            "Requirement already satisfied: multitasking>=0.0.7 in /usr/local/lib/python3.7/dist-packages (from yfinance) (0.0.9)\n",
            "Requirement already satisfied: pytz>=2017.2 in /usr/local/lib/python3.7/dist-packages (from pandas>=0.24->yfinance) (2018.9)\n",
            "Requirement already satisfied: python-dateutil>=2.7.3 in /usr/local/lib/python3.7/dist-packages (from pandas>=0.24->yfinance) (2.8.2)\n",
            "Requirement already satisfied: six>=1.5 in /usr/local/lib/python3.7/dist-packages (from python-dateutil>=2.7.3->pandas>=0.24->yfinance) (1.15.0)\n",
            "Requirement already satisfied: idna<3,>=2.5 in /usr/local/lib/python3.7/dist-packages (from requests>=2.20->yfinance) (2.10)\n",
            "Requirement already satisfied: chardet<4,>=3.0.2 in /usr/local/lib/python3.7/dist-packages (from requests>=2.20->yfinance) (3.0.4)\n",
            "Requirement already satisfied: urllib3!=1.25.0,!=1.25.1,<1.26,>=1.21.1 in /usr/local/lib/python3.7/dist-packages (from requests>=2.20->yfinance) (1.24.3)\n",
            "Requirement already satisfied: certifi>=2017.4.17 in /usr/local/lib/python3.7/dist-packages (from requests>=2.20->yfinance) (2021.5.30)\n"
          ]
        }
      ]
    },
    {
      "cell_type": "code",
      "metadata": {
        "colab": {
          "base_uri": "https://localhost:8080/",
          "height": 424
        },
        "id": "2_S3TesRWmYh",
        "outputId": "9ce6a52c-c9d5-424c-8d8a-04ebb9d9135b"
      },
      "source": [
        "import pandas as pd\n",
        "data = pd.read_csv('https://raw.githubusercontent.com/dnrubiol/MetNumUN2021II/main/Lab1/yahoo_apple.csv')\n",
        "data"
      ],
      "execution_count": 164,
      "outputs": [
        {
          "output_type": "execute_result",
          "data": {
            "text/html": [
              "<div>\n",
              "<style scoped>\n",
              "    .dataframe tbody tr th:only-of-type {\n",
              "        vertical-align: middle;\n",
              "    }\n",
              "\n",
              "    .dataframe tbody tr th {\n",
              "        vertical-align: top;\n",
              "    }\n",
              "\n",
              "    .dataframe thead th {\n",
              "        text-align: right;\n",
              "    }\n",
              "</style>\n",
              "<table border=\"1\" class=\"dataframe\">\n",
              "  <thead>\n",
              "    <tr style=\"text-align: right;\">\n",
              "      <th></th>\n",
              "      <th>Date</th>\n",
              "      <th>Open</th>\n",
              "      <th>High</th>\n",
              "      <th>Low</th>\n",
              "      <th>Close</th>\n",
              "      <th>Adj Close</th>\n",
              "      <th>Volume</th>\n",
              "    </tr>\n",
              "  </thead>\n",
              "  <tbody>\n",
              "    <tr>\n",
              "      <th>0</th>\n",
              "      <td>2020-10-19</td>\n",
              "      <td>10.140000</td>\n",
              "      <td>10.205000</td>\n",
              "      <td>9.920000</td>\n",
              "      <td>9.930000</td>\n",
              "      <td>9.910515</td>\n",
              "      <td>972500</td>\n",
              "    </tr>\n",
              "    <tr>\n",
              "      <th>1</th>\n",
              "      <td>2020-10-20</td>\n",
              "      <td>10.070000</td>\n",
              "      <td>10.395000</td>\n",
              "      <td>10.005000</td>\n",
              "      <td>10.230000</td>\n",
              "      <td>10.209925</td>\n",
              "      <td>1479400</td>\n",
              "    </tr>\n",
              "    <tr>\n",
              "      <th>2</th>\n",
              "      <td>2020-10-21</td>\n",
              "      <td>10.230000</td>\n",
              "      <td>10.420000</td>\n",
              "      <td>10.090000</td>\n",
              "      <td>10.400000</td>\n",
              "      <td>10.379592</td>\n",
              "      <td>1663900</td>\n",
              "    </tr>\n",
              "    <tr>\n",
              "      <th>3</th>\n",
              "      <td>2020-10-22</td>\n",
              "      <td>10.430000</td>\n",
              "      <td>10.810000</td>\n",
              "      <td>10.400000</td>\n",
              "      <td>10.800000</td>\n",
              "      <td>10.778808</td>\n",
              "      <td>1191100</td>\n",
              "    </tr>\n",
              "    <tr>\n",
              "      <th>4</th>\n",
              "      <td>2020-10-23</td>\n",
              "      <td>10.850000</td>\n",
              "      <td>10.995000</td>\n",
              "      <td>10.815000</td>\n",
              "      <td>10.880000</td>\n",
              "      <td>10.858650</td>\n",
              "      <td>1522800</td>\n",
              "    </tr>\n",
              "    <tr>\n",
              "      <th>...</th>\n",
              "      <td>...</td>\n",
              "      <td>...</td>\n",
              "      <td>...</td>\n",
              "      <td>...</td>\n",
              "      <td>...</td>\n",
              "      <td>...</td>\n",
              "      <td>...</td>\n",
              "    </tr>\n",
              "    <tr>\n",
              "      <th>246</th>\n",
              "      <td>2021-10-11</td>\n",
              "      <td>16.209999</td>\n",
              "      <td>16.455000</td>\n",
              "      <td>16.150000</td>\n",
              "      <td>16.320000</td>\n",
              "      <td>16.320000</td>\n",
              "      <td>1736100</td>\n",
              "    </tr>\n",
              "    <tr>\n",
              "      <th>247</th>\n",
              "      <td>2021-10-12</td>\n",
              "      <td>16.240000</td>\n",
              "      <td>16.315001</td>\n",
              "      <td>16.030001</td>\n",
              "      <td>16.059999</td>\n",
              "      <td>16.059999</td>\n",
              "      <td>1107800</td>\n",
              "    </tr>\n",
              "    <tr>\n",
              "      <th>248</th>\n",
              "      <td>2021-10-13</td>\n",
              "      <td>16.030001</td>\n",
              "      <td>16.090000</td>\n",
              "      <td>15.620000</td>\n",
              "      <td>15.790000</td>\n",
              "      <td>15.790000</td>\n",
              "      <td>1602400</td>\n",
              "    </tr>\n",
              "    <tr>\n",
              "      <th>249</th>\n",
              "      <td>2021-10-14</td>\n",
              "      <td>16.010000</td>\n",
              "      <td>16.084999</td>\n",
              "      <td>15.820000</td>\n",
              "      <td>15.870000</td>\n",
              "      <td>15.870000</td>\n",
              "      <td>1765100</td>\n",
              "    </tr>\n",
              "    <tr>\n",
              "      <th>250</th>\n",
              "      <td>2021-10-15</td>\n",
              "      <td>16.170000</td>\n",
              "      <td>16.350000</td>\n",
              "      <td>15.945000</td>\n",
              "      <td>16.090000</td>\n",
              "      <td>16.090000</td>\n",
              "      <td>1768200</td>\n",
              "    </tr>\n",
              "  </tbody>\n",
              "</table>\n",
              "<p>251 rows × 7 columns</p>\n",
              "</div>"
            ],
            "text/plain": [
              "           Date       Open       High        Low      Close  Adj Close   Volume\n",
              "0    2020-10-19  10.140000  10.205000   9.920000   9.930000   9.910515   972500\n",
              "1    2020-10-20  10.070000  10.395000  10.005000  10.230000  10.209925  1479400\n",
              "2    2020-10-21  10.230000  10.420000  10.090000  10.400000  10.379592  1663900\n",
              "3    2020-10-22  10.430000  10.810000  10.400000  10.800000  10.778808  1191100\n",
              "4    2020-10-23  10.850000  10.995000  10.815000  10.880000  10.858650  1522800\n",
              "..          ...        ...        ...        ...        ...        ...      ...\n",
              "246  2021-10-11  16.209999  16.455000  16.150000  16.320000  16.320000  1736100\n",
              "247  2021-10-12  16.240000  16.315001  16.030001  16.059999  16.059999  1107800\n",
              "248  2021-10-13  16.030001  16.090000  15.620000  15.790000  15.790000  1602400\n",
              "249  2021-10-14  16.010000  16.084999  15.820000  15.870000  15.870000  1765100\n",
              "250  2021-10-15  16.170000  16.350000  15.945000  16.090000  16.090000  1768200\n",
              "\n",
              "[251 rows x 7 columns]"
            ]
          },
          "metadata": {},
          "execution_count": 164
        }
      ]
    },
    {
      "cell_type": "code",
      "metadata": {
        "colab": {
          "base_uri": "https://localhost:8080/",
          "height": 493
        },
        "id": "5PkfI7WBMA_J",
        "outputId": "765aea55-e0b7-45f6-aae5-d594ec54535d"
      },
      "source": [
        "\n",
        "#Ejemplo\n",
        "new_msft = yf.Ticker('NEW')\n",
        "print(new_msft.info)\n",
        "\n",
        "data = new_msft.history(start=\"2020-12-12\",  end=\"2021-10-10\")\n",
        "data"
      ],
      "execution_count": 165,
      "outputs": [
        {
          "output_type": "stream",
          "name": "stdout",
          "text": [
            "{'zip': '100080', 'sector': 'Consumer Defensive', 'fullTimeEmployees': 9650, 'longBusinessSummary': \"Puxin Limited, together with its subsidiaries, provides K-12 and study-abroad tutoring services in the People's Republic of China. Its K-12 tutoring services offer result-oriented educational services in various forms, such as classroom-based after-school tutoring, full-time tutoring for preparation of university entrance exams, and art college admission exams, as well as online courses in a large-class setting to help students enhance their academic results through group class and personalized tutoring courses; full-time tutoring services to high school students preparing for university entrance exams and art college admission exams; after-school tutoring services in group class settings and through personalized sessions; personalized K-12 tutoring courses to adapt to each student's learning pace, pattern, and approach; and extracurricular courses, such as painting, calligraphy, and science. The company's study-abroad tutoring services helps students to prepare for admission tests and applications for high schools, universities, and graduate programs primarily in English-speaking countries through study-abroad test preparation courses and study-abroad consulting services. It also provides web-based platforms and mobile apps for K-12 tutoring services; and cloud-based products and services for K-12 tutoring and study-abroad tutoring services. As of December 31, 2020, it operated 407 learning centers, which include 328 K-12 and 79 study-abroad learning centers. The company offers its products under the Puxin, Puxin-Lingxian, Puxin-YESSAT, Puxin-Fubusi, and ZMN Education brands, as well as operates franchised schools under the Global Education brand. Puxin Limited was founded in 2014 and is headquartered in Beijing, the People's Republic of China.\", 'city': 'Beijing', 'phone': '86 10 8260 5578', 'country': 'China', 'companyOfficers': [], 'website': 'http://www.pxjy.com', 'maxAge': 1, 'address1': 'Dingjun Building', 'industry': 'Education & Training Services', 'address2': 'Building 4, 5th Floor 75 Suzhou Street Haidian District', 'ebitdaMargins': -0.01919, 'profitMargins': 0.017280001, 'grossMargins': 0.45645002, 'operatingCashflow': None, 'revenueGrowth': -0.086, 'operatingMargins': -0.05969, 'ebitda': -54489248, 'targetLowPrice': 10.21, 'recommendationKey': 'strong_buy', 'grossProfits': 1345319000, 'freeCashflow': None, 'targetMedianPrice': 10.21, 'currentPrice': 0.481, 'earningsGrowth': None, 'currentRatio': 0.387, 'returnOnAssets': -0.02238, 'numberOfAnalystOpinions': 1, 'targetMeanPrice': 10.21, 'debtToEquity': 559.826, 'returnOnEquity': 0.13101, 'targetHighPrice': 10.21, 'totalCash': 279088000, 'totalDebt': 2593294080, 'totalRevenue': 2839326976, 'totalCashPerShare': 3.191, 'financialCurrency': 'CNY', 'revenuePerShare': 32.587, 'quickRatio': 0.099, 'recommendationMean': 1, 'exchange': 'NYQ', 'shortName': 'Puxin Limited', 'longName': 'Puxin Limited', 'exchangeTimezoneName': 'America/New_York', 'exchangeTimezoneShortName': 'EDT', 'isEsgPopulated': False, 'gmtOffSetMilliseconds': '-14400000', 'quoteType': 'EQUITY', 'symbol': 'NEW', 'messageBoardId': 'finmb_560290242', 'market': 'us_market', 'annualHoldingsTurnover': None, 'enterpriseToRevenue': 0.828, 'beta3Year': None, 'enterpriseToEbitda': -43.145, '52WeekChange': -0.93743587, 'morningStarRiskRating': None, 'forwardEps': 0.95, 'revenueQuarterlyGrowth': None, 'sharesOutstanding': 87463400, 'fundInceptionDate': None, 'annualReportExpenseRatio': None, 'totalAssets': None, 'bookValue': 5.364, 'sharesShort': 1743105, 'sharesPercentSharesOut': 0.0199, 'fundFamily': None, 'lastFiscalYearEnd': 1609372800, 'heldPercentInstitutions': 0.100710005, 'netIncomeToCommon': 49056000, 'trailingEps': 0.03, 'lastDividendValue': None, 'SandP52WeekChange': 0.313509, 'priceToBook': 0.08967189, 'heldPercentInsiders': 0.0029300002, 'nextFiscalYearEnd': 1672444800, 'yield': None, 'mostRecentQuarter': 1617148800, 'shortRatio': 1.18, 'sharesShortPreviousMonthDate': 1630368000, 'floatShares': 42154731, 'beta': 1.583583, 'enterpriseValue': 2350960896, 'priceHint': 4, 'threeYearAverageReturn': None, 'lastSplitDate': None, 'lastSplitFactor': None, 'legalType': None, 'lastDividendDate': None, 'morningStarOverallRating': None, 'earningsQuarterlyGrowth': None, 'priceToSalesTrailing12Months': 0.014816855, 'dateShortInterest': 1632960000, 'pegRatio': None, 'ytdReturn': None, 'forwardPE': 0.5063158, 'lastCapGain': None, 'shortPercentOfFloat': None, 'sharesShortPriorMonth': 1466750, 'impliedSharesOutstanding': None, 'category': None, 'fiveYearAverageReturn': None, 'previousClose': 0.4881, 'regularMarketOpen': 0.4919, 'twoHundredDayAverage': 1.6241, 'trailingAnnualDividendYield': None, 'payoutRatio': 0, 'volume24Hr': None, 'regularMarketDayHigh': 0.4944, 'navPrice': None, 'averageDailyVolume10Day': 6044437, 'regularMarketPreviousClose': 0.4881, 'fiftyDayAverage': 0.5521143, 'trailingAnnualDividendRate': None, 'open': 0.4919, 'toCurrency': None, 'averageVolume10days': 6044437, 'expireDate': None, 'algorithm': None, 'dividendRate': None, 'exDividendDate': None, 'circulatingSupply': None, 'startDate': None, 'regularMarketDayLow': 0.48, 'currency': 'USD', 'trailingPE': 16.033335, 'regularMarketVolume': 262753, 'lastMarket': None, 'maxSupply': None, 'openInterest': None, 'marketCap': 42069896, 'volumeAllCurrencies': None, 'strikePrice': None, 'averageVolume': 2848135, 'dayLow': 0.48, 'ask': 0.4842, 'askSize': 1100, 'volume': 262753, 'fiftyTwoWeekHigh': 9.17, 'fromCurrency': None, 'fiveYearAvgDividendYield': None, 'fiftyTwoWeekLow': 0.44, 'bid': 0.482, 'tradeable': False, 'dividendYield': None, 'bidSize': 1000, 'dayHigh': 0.4944, 'regularMarketPrice': 0.481, 'preMarketPrice': 0.4944, 'logo_url': 'https://logo.clearbit.com/pxjy.com'}\n"
          ]
        },
        {
          "output_type": "execute_result",
          "data": {
            "text/html": [
              "<div>\n",
              "<style scoped>\n",
              "    .dataframe tbody tr th:only-of-type {\n",
              "        vertical-align: middle;\n",
              "    }\n",
              "\n",
              "    .dataframe tbody tr th {\n",
              "        vertical-align: top;\n",
              "    }\n",
              "\n",
              "    .dataframe thead th {\n",
              "        text-align: right;\n",
              "    }\n",
              "</style>\n",
              "<table border=\"1\" class=\"dataframe\">\n",
              "  <thead>\n",
              "    <tr style=\"text-align: right;\">\n",
              "      <th></th>\n",
              "      <th>Open</th>\n",
              "      <th>High</th>\n",
              "      <th>Low</th>\n",
              "      <th>Close</th>\n",
              "      <th>Volume</th>\n",
              "      <th>Dividends</th>\n",
              "      <th>Stock Splits</th>\n",
              "    </tr>\n",
              "    <tr>\n",
              "      <th>Date</th>\n",
              "      <th></th>\n",
              "      <th></th>\n",
              "      <th></th>\n",
              "      <th></th>\n",
              "      <th></th>\n",
              "      <th></th>\n",
              "      <th></th>\n",
              "    </tr>\n",
              "  </thead>\n",
              "  <tbody>\n",
              "    <tr>\n",
              "      <th>2020-12-14</th>\n",
              "      <td>6.570</td>\n",
              "      <td>6.670</td>\n",
              "      <td>5.900</td>\n",
              "      <td>6.090</td>\n",
              "      <td>579200</td>\n",
              "      <td>0</td>\n",
              "      <td>0</td>\n",
              "    </tr>\n",
              "    <tr>\n",
              "      <th>2020-12-15</th>\n",
              "      <td>6.300</td>\n",
              "      <td>6.800</td>\n",
              "      <td>6.200</td>\n",
              "      <td>6.760</td>\n",
              "      <td>326300</td>\n",
              "      <td>0</td>\n",
              "      <td>0</td>\n",
              "    </tr>\n",
              "    <tr>\n",
              "      <th>2020-12-16</th>\n",
              "      <td>6.850</td>\n",
              "      <td>6.880</td>\n",
              "      <td>6.500</td>\n",
              "      <td>6.780</td>\n",
              "      <td>313200</td>\n",
              "      <td>0</td>\n",
              "      <td>0</td>\n",
              "    </tr>\n",
              "    <tr>\n",
              "      <th>2020-12-17</th>\n",
              "      <td>6.800</td>\n",
              "      <td>6.800</td>\n",
              "      <td>6.500</td>\n",
              "      <td>6.790</td>\n",
              "      <td>265600</td>\n",
              "      <td>0</td>\n",
              "      <td>0</td>\n",
              "    </tr>\n",
              "    <tr>\n",
              "      <th>2020-12-18</th>\n",
              "      <td>6.780</td>\n",
              "      <td>6.860</td>\n",
              "      <td>6.620</td>\n",
              "      <td>6.730</td>\n",
              "      <td>96300</td>\n",
              "      <td>0</td>\n",
              "      <td>0</td>\n",
              "    </tr>\n",
              "    <tr>\n",
              "      <th>...</th>\n",
              "      <td>...</td>\n",
              "      <td>...</td>\n",
              "      <td>...</td>\n",
              "      <td>...</td>\n",
              "      <td>...</td>\n",
              "      <td>...</td>\n",
              "      <td>...</td>\n",
              "    </tr>\n",
              "    <tr>\n",
              "      <th>2021-10-04</th>\n",
              "      <td>0.565</td>\n",
              "      <td>0.565</td>\n",
              "      <td>0.503</td>\n",
              "      <td>0.520</td>\n",
              "      <td>976700</td>\n",
              "      <td>0</td>\n",
              "      <td>0</td>\n",
              "    </tr>\n",
              "    <tr>\n",
              "      <th>2021-10-05</th>\n",
              "      <td>0.517</td>\n",
              "      <td>0.540</td>\n",
              "      <td>0.502</td>\n",
              "      <td>0.510</td>\n",
              "      <td>734400</td>\n",
              "      <td>0</td>\n",
              "      <td>0</td>\n",
              "    </tr>\n",
              "    <tr>\n",
              "      <th>2021-10-06</th>\n",
              "      <td>0.500</td>\n",
              "      <td>0.555</td>\n",
              "      <td>0.500</td>\n",
              "      <td>0.551</td>\n",
              "      <td>781000</td>\n",
              "      <td>0</td>\n",
              "      <td>0</td>\n",
              "    </tr>\n",
              "    <tr>\n",
              "      <th>2021-10-07</th>\n",
              "      <td>0.550</td>\n",
              "      <td>0.568</td>\n",
              "      <td>0.535</td>\n",
              "      <td>0.563</td>\n",
              "      <td>665100</td>\n",
              "      <td>0</td>\n",
              "      <td>0</td>\n",
              "    </tr>\n",
              "    <tr>\n",
              "      <th>2021-10-08</th>\n",
              "      <td>0.570</td>\n",
              "      <td>0.591</td>\n",
              "      <td>0.533</td>\n",
              "      <td>0.560</td>\n",
              "      <td>680000</td>\n",
              "      <td>0</td>\n",
              "      <td>0</td>\n",
              "    </tr>\n",
              "  </tbody>\n",
              "</table>\n",
              "<p>207 rows × 7 columns</p>\n",
              "</div>"
            ],
            "text/plain": [
              "             Open   High    Low  Close  Volume  Dividends  Stock Splits\n",
              "Date                                                                   \n",
              "2020-12-14  6.570  6.670  5.900  6.090  579200          0             0\n",
              "2020-12-15  6.300  6.800  6.200  6.760  326300          0             0\n",
              "2020-12-16  6.850  6.880  6.500  6.780  313200          0             0\n",
              "2020-12-17  6.800  6.800  6.500  6.790  265600          0             0\n",
              "2020-12-18  6.780  6.860  6.620  6.730   96300          0             0\n",
              "...           ...    ...    ...    ...     ...        ...           ...\n",
              "2021-10-04  0.565  0.565  0.503  0.520  976700          0             0\n",
              "2021-10-05  0.517  0.540  0.502  0.510  734400          0             0\n",
              "2021-10-06  0.500  0.555  0.500  0.551  781000          0             0\n",
              "2021-10-07  0.550  0.568  0.535  0.563  665100          0             0\n",
              "2021-10-08  0.570  0.591  0.533  0.560  680000          0             0\n",
              "\n",
              "[207 rows x 7 columns]"
            ]
          },
          "metadata": {},
          "execution_count": 165
        }
      ]
    },
    {
      "cell_type": "markdown",
      "metadata": {
        "id": "YPbHPLTkXn_q"
      },
      "source": [
        "We will create a Series named \"aapl\" whose values are Apple's daily closing prices, which are of course indexed by dates:"
      ]
    },
    {
      "cell_type": "code",
      "metadata": {
        "id": "gGjLHUOaXpHn"
      },
      "source": [
        "aapl = aapl_table['Close']['2017']"
      ],
      "execution_count": 166,
      "outputs": []
    },
    {
      "cell_type": "code",
      "metadata": {
        "id": "uRzeDMLdbK2b"
      },
      "source": [
        "#Ejemplo\n",
        "appl_dos = data['Close']['2021']"
      ],
      "execution_count": 167,
      "outputs": []
    },
    {
      "cell_type": "code",
      "metadata": {
        "colab": {
          "base_uri": "https://localhost:8080/"
        },
        "id": "XLbqYavObfT-",
        "outputId": "97063077-1f90-4dd1-9d9c-37da05dfe470"
      },
      "source": [
        "print(aapl)"
      ],
      "execution_count": 168,
      "outputs": [
        {
          "output_type": "stream",
          "name": "stdout",
          "text": [
            "Date\n",
            "2017-01-03    27.372360\n",
            "2017-01-04    27.341726\n",
            "2017-01-05    27.480768\n",
            "2017-01-06    27.787127\n",
            "2017-01-09    28.041645\n",
            "                ...    \n",
            "2017-12-22    41.906773\n",
            "2017-12-26    40.843597\n",
            "2017-12-27    40.850788\n",
            "2017-12-28    40.965717\n",
            "2017-12-29    40.522743\n",
            "Name: Close, Length: 251, dtype: float64\n"
          ]
        }
      ]
    },
    {
      "cell_type": "code",
      "metadata": {
        "colab": {
          "base_uri": "https://localhost:8080/"
        },
        "id": "Xm-t3G4ebj12",
        "outputId": "c9c833ca-e5ff-4b43-fb3c-905c27a13157"
      },
      "source": [
        "#Ejemplo\n",
        "print(appl_dos)\n"
      ],
      "execution_count": 169,
      "outputs": [
        {
          "output_type": "stream",
          "name": "stdout",
          "text": [
            "Date\n",
            "2021-01-04    6.120\n",
            "2021-01-05    6.160\n",
            "2021-01-06    6.100\n",
            "2021-01-07    6.110\n",
            "2021-01-08    6.360\n",
            "              ...  \n",
            "2021-10-04    0.520\n",
            "2021-10-05    0.510\n",
            "2021-10-06    0.551\n",
            "2021-10-07    0.563\n",
            "2021-10-08    0.560\n",
            "Name: Close, Length: 194, dtype: float64\n"
          ]
        }
      ]
    },
    {
      "cell_type": "markdown",
      "metadata": {
        "id": "qXL0DqEOcA50"
      },
      "source": [
        "Recall that we can fetch a specific data point using series['yyyy-mm-dd']. We can also fetch the data in a specific month using series['yyyy-mm']."
      ]
    },
    {
      "cell_type": "code",
      "metadata": {
        "colab": {
          "base_uri": "https://localhost:8080/"
        },
        "id": "6BxS8MMUcPc1",
        "outputId": "0c5c2aee-4f34-4a2b-884b-328b56953a40"
      },
      "source": [
        "print(aapl['2017-3'])"
      ],
      "execution_count": 170,
      "outputs": [
        {
          "output_type": "stream",
          "name": "stdout",
          "text": [
            "Date\n",
            "2017-03-01    33.086288\n",
            "2017-03-02    32.889835\n",
            "2017-03-03    33.083916\n",
            "2017-03-06    32.979778\n",
            "2017-03-07    33.022377\n",
            "2017-03-08    32.899300\n",
            "2017-03-09    32.823559\n",
            "2017-03-10    32.932449\n",
            "2017-03-13    32.946640\n",
            "2017-03-14    32.896935\n",
            "2017-03-15    33.244854\n",
            "2017-03-16    33.299305\n",
            "2017-03-17    33.133625\n",
            "2017-03-20    33.481552\n",
            "2017-03-21    33.098118\n",
            "2017-03-22    33.472084\n",
            "2017-03-23    33.353737\n",
            "2017-03-24    33.287472\n",
            "2017-03-27    33.344273\n",
            "2017-03-28    34.035397\n",
            "2017-03-29    34.111134\n",
            "2017-03-30    34.066162\n",
            "2017-03-31    34.002251\n",
            "Name: Close, dtype: float64\n"
          ]
        }
      ]
    },
    {
      "cell_type": "code",
      "metadata": {
        "colab": {
          "base_uri": "https://localhost:8080/"
        },
        "id": "KZEsJimCcPni",
        "outputId": "b35bfc98-f02a-448e-f70f-675f4b39893b"
      },
      "source": [
        "#Ejemplo\n",
        "print(appl_dos['2021-03'])"
      ],
      "execution_count": 171,
      "outputs": [
        {
          "output_type": "stream",
          "name": "stdout",
          "text": [
            "Date\n",
            "2021-03-01    7.42\n",
            "2021-03-02    7.13\n",
            "2021-03-03    6.47\n",
            "2021-03-04    6.26\n",
            "2021-03-05    6.54\n",
            "2021-03-08    6.21\n",
            "2021-03-09    6.12\n",
            "2021-03-10    5.67\n",
            "2021-03-11    5.82\n",
            "2021-03-12    5.95\n",
            "2021-03-15    6.21\n",
            "2021-03-16    5.90\n",
            "2021-03-17    5.77\n",
            "2021-03-18    5.52\n",
            "2021-03-19    5.63\n",
            "2021-03-22    5.57\n",
            "2021-03-23    5.16\n",
            "2021-03-24    4.71\n",
            "2021-03-25    4.58\n",
            "2021-03-26    4.20\n",
            "2021-03-29    3.69\n",
            "2021-03-30    3.76\n",
            "2021-03-31    4.00\n",
            "Name: Close, dtype: float64\n"
          ]
        }
      ]
    },
    {
      "cell_type": "code",
      "metadata": {
        "colab": {
          "base_uri": "https://localhost:8080/"
        },
        "id": "u3aQXRLJdJDi",
        "outputId": "fb4c76ae-991c-4c7c-beba-f4af055a66a2"
      },
      "source": [
        "aapl['2017-2':'2017-4']"
      ],
      "execution_count": 172,
      "outputs": [
        {
          "output_type": "execute_result",
          "data": {
            "text/plain": [
              "Date\n",
              "2017-02-01    30.341728\n",
              "2017-02-02    30.289881\n",
              "2017-02-03    30.419497\n",
              "2017-02-06    30.704645\n",
              "2017-02-07    30.996868\n",
              "                ...    \n",
              "2017-04-24    33.997524\n",
              "2017-04-25    34.208179\n",
              "2017-04-26    34.006992\n",
              "2017-04-27    34.033020\n",
              "2017-04-28    33.999893\n",
              "Name: Close, Length: 61, dtype: float64"
            ]
          },
          "metadata": {},
          "execution_count": 172
        }
      ]
    },
    {
      "cell_type": "code",
      "metadata": {
        "colab": {
          "base_uri": "https://localhost:8080/"
        },
        "id": "ZhzcOCtadM8E",
        "outputId": "eb0fe1c4-0b33-4a1f-f418-433eeca33270"
      },
      "source": [
        "#Ejemplo\n",
        "appl_dos['2020-12':'2021-02']"
      ],
      "execution_count": 173,
      "outputs": [
        {
          "output_type": "execute_result",
          "data": {
            "text/plain": [
              "Date\n",
              "2021-01-04    6.12\n",
              "2021-01-05    6.16\n",
              "2021-01-06    6.10\n",
              "2021-01-07    6.11\n",
              "2021-01-08    6.36\n",
              "2021-01-11    6.39\n",
              "2021-01-12    6.07\n",
              "2021-01-13    6.02\n",
              "2021-01-14    6.00\n",
              "2021-01-15    5.74\n",
              "2021-01-19    5.97\n",
              "2021-01-20    6.36\n",
              "2021-01-21    6.54\n",
              "2021-01-22    6.94\n",
              "2021-01-25    6.69\n",
              "2021-01-26    6.50\n",
              "2021-01-27    6.65\n",
              "2021-01-28    6.18\n",
              "2021-01-29    6.33\n",
              "2021-02-01    6.60\n",
              "2021-02-02    6.85\n",
              "2021-02-03    6.56\n",
              "2021-02-04    6.85\n",
              "2021-02-05    7.04\n",
              "2021-02-08    6.92\n",
              "2021-02-09    7.76\n",
              "2021-02-10    7.51\n",
              "2021-02-11    7.68\n",
              "2021-02-12    8.03\n",
              "2021-02-16    8.49\n",
              "2021-02-17    8.81\n",
              "2021-02-18    8.40\n",
              "2021-02-19    8.50\n",
              "2021-02-22    8.02\n",
              "2021-02-23    7.43\n",
              "2021-02-24    7.71\n",
              "2021-02-25    7.13\n",
              "2021-02-26    7.09\n",
              "Name: Close, dtype: float64"
            ]
          },
          "metadata": {},
          "execution_count": 173
        }
      ]
    },
    {
      "cell_type": "markdown",
      "metadata": {
        "id": "wncJG81HeRlU"
      },
      "source": [
        ".head(N) and .tail(N) are methods for quickly accessing the first or last N elements."
      ]
    },
    {
      "cell_type": "code",
      "metadata": {
        "colab": {
          "base_uri": "https://localhost:8080/"
        },
        "id": "4CNSc9YceS6X",
        "outputId": "b13379a0-3e41-41aa-a657-2838795687d6"
      },
      "source": [
        "print(aapl.head(5))\n",
        "print(aapl.tail(10))"
      ],
      "execution_count": 174,
      "outputs": [
        {
          "output_type": "stream",
          "name": "stdout",
          "text": [
            "Date\n",
            "2017-01-03    27.372360\n",
            "2017-01-04    27.341726\n",
            "2017-01-05    27.480768\n",
            "2017-01-06    27.787127\n",
            "2017-01-09    28.041645\n",
            "Name: Close, dtype: float64\n",
            "Date\n",
            "2017-12-15    41.657738\n",
            "2017-12-18    42.244392\n",
            "2017-12-19    41.794228\n",
            "2017-12-20    41.748737\n",
            "2017-12-21    41.906773\n",
            "2017-12-22    41.906773\n",
            "2017-12-26    40.843597\n",
            "2017-12-27    40.850788\n",
            "2017-12-28    40.965717\n",
            "2017-12-29    40.522743\n",
            "Name: Close, dtype: float64\n"
          ]
        }
      ]
    },
    {
      "cell_type": "code",
      "metadata": {
        "colab": {
          "base_uri": "https://localhost:8080/"
        },
        "id": "FNuyuivAeZHz",
        "outputId": "9f59fc73-b02d-4ca0-a977-5f0762c5c87e"
      },
      "source": [
        "#Ejemplo\n",
        "print(appl_dos.head(6))\n",
        "print(appl_dos.tail(11))"
      ],
      "execution_count": 175,
      "outputs": [
        {
          "output_type": "stream",
          "name": "stdout",
          "text": [
            "Date\n",
            "2021-01-04    6.12\n",
            "2021-01-05    6.16\n",
            "2021-01-06    6.10\n",
            "2021-01-07    6.11\n",
            "2021-01-08    6.36\n",
            "2021-01-11    6.39\n",
            "Name: Close, dtype: float64\n",
            "Date\n",
            "2021-09-24    0.480\n",
            "2021-09-27    0.530\n",
            "2021-09-28    0.554\n",
            "2021-09-29    0.532\n",
            "2021-09-30    0.580\n",
            "2021-10-01    0.540\n",
            "2021-10-04    0.520\n",
            "2021-10-05    0.510\n",
            "2021-10-06    0.551\n",
            "2021-10-07    0.563\n",
            "2021-10-08    0.560\n",
            "Name: Close, dtype: float64\n"
          ]
        }
      ]
    },
    {
      "cell_type": "markdown",
      "metadata": {
        "id": "7iw-l646e10w"
      },
      "source": [
        "# Resampling\n",
        "**_series.resample(freq)_** is a class called \"DatetimeIndexResampler\" which groups data in a Series object into regular time intervals. The argument \"freq\" determines the length of each interval.\n",
        "\n",
        "**_series.resample.mean()_** is a complete statement that groups data into intervals, and then compute the mean of each interval. For example, if we want to aggregate the daily data into monthly data by mean:"
      ]
    },
    {
      "cell_type": "code",
      "metadata": {
        "colab": {
          "base_uri": "https://localhost:8080/"
        },
        "id": "V_DqmvtyfAWs",
        "outputId": "8a1a016e-cf77-46ba-b9e9-1e8e107e13d1"
      },
      "source": [
        "\n",
        "by_month = aapl.resample('M').mean()\n",
        "print(by_month)"
      ],
      "execution_count": 176,
      "outputs": [
        {
          "output_type": "stream",
          "name": "stdout",
          "text": [
            "Date\n",
            "2017-01-31    28.178333\n",
            "2017-02-28    31.606277\n",
            "2017-03-31    33.282219\n",
            "2017-04-30    33.819262\n",
            "2017-05-31    36.125685\n",
            "2017-06-30    35.133983\n",
            "2017-07-31    35.245241\n",
            "2017-08-31    37.897228\n",
            "2017-09-30    37.604738\n",
            "2017-10-31    37.654551\n",
            "2017-11-30    41.233916\n",
            "2017-12-31    41.160038\n",
            "Freq: M, Name: Close, dtype: float64\n"
          ]
        }
      ]
    },
    {
      "cell_type": "code",
      "metadata": {
        "colab": {
          "base_uri": "https://localhost:8080/"
        },
        "id": "3boh0QRBfHJ3",
        "outputId": "ed7f2bb5-16b8-4944-b31f-da81bd31d594"
      },
      "source": [
        "#Ejemplo\n",
        "by_month_dos = appl_dos.resample('M').mean()\n",
        "print(by_month_dos)"
      ],
      "execution_count": 177,
      "outputs": [
        {
          "output_type": "stream",
          "name": "stdout",
          "text": [
            "Date\n",
            "2021-01-31    6.275263\n",
            "2021-02-28    7.546316\n",
            "2021-03-31    5.577826\n",
            "2021-04-30    3.806190\n",
            "2021-05-31    2.609500\n",
            "2021-06-30    1.883182\n",
            "2021-07-31    1.194762\n",
            "2021-08-31    0.625455\n",
            "2021-09-30    0.569714\n",
            "2021-10-31    0.540667\n",
            "Freq: M, Name: Close, dtype: float64\n"
          ]
        }
      ]
    },
    {
      "cell_type": "markdown",
      "metadata": {
        "id": "bFJ6BELBgCJK"
      },
      "source": [
        "We can also aggregate the data by month with max:"
      ]
    },
    {
      "cell_type": "code",
      "metadata": {
        "colab": {
          "base_uri": "https://localhost:8080/"
        },
        "id": "lYoVemkugFPT",
        "outputId": "1afea724-e76e-4fb4-9758-df139fb43dfb"
      },
      "source": [
        "aapl.resample('M').max()"
      ],
      "execution_count": 178,
      "outputs": [
        {
          "output_type": "execute_result",
          "data": {
            "text/plain": [
              "Date\n",
              "2017-01-31    28.739212\n",
              "2017-02-28    32.451969\n",
              "2017-03-31    34.111134\n",
              "2017-04-30    34.264992\n",
              "2017-05-31    37.099133\n",
              "2017-06-30    36.944637\n",
              "2017-07-31    36.471703\n",
              "2017-08-31    39.129726\n",
              "2017-09-30    39.141655\n",
              "2017-10-31    40.332245\n",
              "2017-11-30    42.050140\n",
              "2017-12-31    42.244392\n",
              "Freq: M, Name: Close, dtype: float64"
            ]
          },
          "metadata": {},
          "execution_count": 178
        }
      ]
    },
    {
      "cell_type": "code",
      "metadata": {
        "colab": {
          "base_uri": "https://localhost:8080/"
        },
        "id": "Vr_sNpH8gRQ7",
        "outputId": "f4e26f61-977c-4efc-b087-e614aa0699ee"
      },
      "source": [
        "#Ejemplo\n",
        "appl_dos.resample('M').max()"
      ],
      "execution_count": 179,
      "outputs": [
        {
          "output_type": "execute_result",
          "data": {
            "text/plain": [
              "Date\n",
              "2021-01-31    6.940\n",
              "2021-02-28    8.810\n",
              "2021-03-31    7.420\n",
              "2021-04-30    4.350\n",
              "2021-05-31    3.400\n",
              "2021-06-30    2.200\n",
              "2021-07-31    1.780\n",
              "2021-08-31    0.716\n",
              "2021-09-30    0.707\n",
              "2021-10-31    0.563\n",
              "Freq: M, Name: Close, dtype: float64"
            ]
          },
          "metadata": {},
          "execution_count": 179
        }
      ]
    },
    {
      "cell_type": "markdown",
      "metadata": {
        "id": "SfsQjVeJggIy"
      },
      "source": [
        "We can choose almost any frequency by using the format 'nf', where 'n' is an integer and 'f' is M for month, W for week and D for day."
      ]
    },
    {
      "cell_type": "code",
      "metadata": {
        "colab": {
          "base_uri": "https://localhost:8080/"
        },
        "id": "5GVdKZEggj8r",
        "outputId": "970beed1-176d-4bb5-c672-e2f7f4b7c967"
      },
      "source": [
        "three_day = aapl.resample('3D').mean()\n",
        "two_week = aapl.resample('2W').mean()\n",
        "two_month = aapl.resample('2M').mean()\n",
        "\n",
        "\n",
        "print(three_day)\n",
        "print(two_week)\n",
        "print(two_month )"
      ],
      "execution_count": 180,
      "outputs": [
        {
          "output_type": "stream",
          "name": "stdout",
          "text": [
            "Date\n",
            "2017-01-03    27.398285\n",
            "2017-01-06    27.787127\n",
            "2017-01-09    28.110776\n",
            "2017-01-12    28.078176\n",
            "2017-01-15    28.279667\n",
            "                ...    \n",
            "2017-12-17    42.019310\n",
            "2017-12-20    41.854094\n",
            "2017-12-23          NaN\n",
            "2017-12-26    40.886701\n",
            "2017-12-29    40.522743\n",
            "Freq: 3D, Name: Close, Length: 121, dtype: float64\n",
            "Date\n",
            "2017-01-08    27.495495\n",
            "2017-01-22    28.172572\n",
            "2017-02-05    29.108263\n",
            "2017-02-19    31.516818\n",
            "2017-03-05    32.595558\n",
            "2017-03-19    33.017882\n",
            "2017-04-02    33.625218\n",
            "2017-04-16    33.849727\n",
            "2017-04-30    33.791845\n",
            "2017-05-14    35.697632\n",
            "2017-05-28    36.496181\n",
            "2017-06-11    36.515008\n",
            "2017-06-25    34.529045\n",
            "2017-07-09    34.265135\n",
            "2017-07-23    35.278868\n",
            "2017-08-06    36.272776\n",
            "2017-08-20    37.904118\n",
            "2017-09-03    38.458792\n",
            "2017-09-17    38.282706\n",
            "2017-10-01    36.840875\n",
            "2017-10-15    37.071596\n",
            "2017-10-29    37.757321\n",
            "2017-11-12    41.032239\n",
            "2017-11-26    41.204376\n",
            "2017-12-10    40.867068\n",
            "2017-12-24    41.620865\n",
            "2018-01-07    40.795712\n",
            "Freq: 2W-SUN, Name: Close, dtype: float64\n",
            "Date\n",
            "2017-01-31    28.178333\n",
            "2017-03-31    32.524055\n",
            "2017-05-31    35.056855\n",
            "2017-07-31    35.186963\n",
            "2017-09-30    37.761186\n",
            "2017-11-30    39.402613\n",
            "2018-01-31    41.160038\n",
            "Freq: 2M, Name: Close, dtype: float64\n"
          ]
        }
      ]
    },
    {
      "cell_type": "code",
      "metadata": {
        "colab": {
          "base_uri": "https://localhost:8080/"
        },
        "id": "OSW_Ttxmgoxz",
        "outputId": "68f35415-c86c-45e4-b2b2-04006e187b80"
      },
      "source": [
        "#Ejemplo\n",
        "three_day_dos = appl_dos.resample('3D').mean()\n",
        "two_week_dos = appl_dos.resample('2W').mean()\n",
        "two_month_dos = appl_dos.resample('2M').mean()\n",
        "\n",
        "\n",
        "print(three_day_dos)\n",
        "print(two_week_dos)\n",
        "print(two_month_dos)"
      ],
      "execution_count": 181,
      "outputs": [
        {
          "output_type": "stream",
          "name": "stdout",
          "text": [
            "Date\n",
            "2021-01-04    6.126667\n",
            "2021-01-07    6.235000\n",
            "2021-01-10    6.230000\n",
            "2021-01-13    5.920000\n",
            "2021-01-16         NaN\n",
            "                ...   \n",
            "2021-09-25    0.530000\n",
            "2021-09-28    0.555333\n",
            "2021-10-01    0.540000\n",
            "2021-10-04    0.527000\n",
            "2021-10-07    0.561500\n",
            "Freq: 3D, Name: Close, Length: 93, dtype: float64\n",
            "Date\n",
            "2021-01-10    6.170000\n",
            "2021-01-24    6.225556\n",
            "2021-02-07    6.625000\n",
            "2021-02-21    8.011111\n",
            "2021-03-07    7.120000\n",
            "2021-03-21    5.880000\n",
            "2021-04-04    4.446667\n",
            "2021-04-18    3.728000\n",
            "2021-05-02    3.830000\n",
            "2021-05-16    3.027000\n",
            "2021-05-30    2.192000\n",
            "2021-06-13    1.963333\n",
            "2021-06-27    1.829000\n",
            "2021-07-11    1.641111\n",
            "2021-07-25    1.233000\n",
            "2021-08-08    0.683200\n",
            "2021-08-22    0.615800\n",
            "2021-09-05    0.628800\n",
            "2021-09-19    0.594556\n",
            "2021-10-03    0.509500\n",
            "2021-10-17    0.540800\n",
            "Freq: 2W-SUN, Name: Close, dtype: float64\n",
            "Date\n",
            "2021-01-31    6.275263\n",
            "2021-03-31    6.468333\n",
            "2021-05-31    3.222439\n",
            "2021-07-31    1.546977\n",
            "2021-09-30    0.598233\n",
            "2021-11-30    0.540667\n",
            "Freq: 2M, Name: Close, dtype: float64\n"
          ]
        }
      ]
    },
    {
      "cell_type": "markdown",
      "metadata": {
        "id": "x4lt8egpg7dI"
      },
      "source": [
        "Besides the mean() method, other methods can also be used with the resampler:\n"
      ]
    },
    {
      "cell_type": "code",
      "metadata": {
        "colab": {
          "base_uri": "https://localhost:8080/"
        },
        "id": "y8s62mIOhCVo",
        "outputId": "193dcfe7-8d3a-4d92-a63e-68d0ac1547cc"
      },
      "source": [
        "std = aapl.resample('W').std()\n",
        "max = aapl.resample('W').max()\n",
        "min = aapl.resample('W').min()\n",
        "\n",
        "\n",
        "print(std)\n",
        "print(max)\n",
        "print(min)"
      ],
      "execution_count": 182,
      "outputs": [
        {
          "output_type": "stream",
          "name": "stdout",
          "text": [
            "Date\n",
            "2017-01-08    0.203366\n",
            "2017-01-15    0.072531\n",
            "2017-01-22    0.025555\n",
            "2017-01-29    0.245286\n",
            "2017-02-05    0.943259\n",
            "2017-02-12    0.252006\n",
            "2017-02-19    0.231391\n",
            "2017-02-26    0.059344\n",
            "2017-03-05    0.340091\n",
            "2017-03-12    0.076286\n",
            "2017-03-19    0.177834\n",
            "2017-03-26    0.157264\n",
            "2017-04-02    0.319807\n",
            "2017-04-09    0.128695\n",
            "2017-04-16    0.212474\n",
            "2017-04-23    0.174671\n",
            "2017-04-30    0.090027\n",
            "2017-05-07    0.235638\n",
            "2017-05-14    0.352980\n",
            "2017-05-21    0.536093\n",
            "2017-05-28    0.060390\n",
            "2017-06-04    0.281216\n",
            "2017-06-11    0.620036\n",
            "2017-06-18    0.382563\n",
            "2017-06-25    0.128893\n",
            "2017-07-02    0.264111\n",
            "2017-07-09    0.158890\n",
            "2017-07-16    0.404287\n",
            "2017-07-23    0.124989\n",
            "2017-07-30    0.384442\n",
            "2017-08-06    0.924390\n",
            "2017-08-13    0.467473\n",
            "2017-08-20    0.435254\n",
            "2017-08-27    0.275769\n",
            "2017-09-03    0.251725\n",
            "2017-09-10    0.381640\n",
            "2017-09-17    0.294140\n",
            "2017-09-24    0.735189\n",
            "2017-10-01    0.354842\n",
            "2017-10-08    0.204856\n",
            "2017-10-15    0.118729\n",
            "2017-10-22    0.517002\n",
            "2017-10-29    0.680456\n",
            "2017-11-05    0.560686\n",
            "2017-11-12    0.190970\n",
            "2017-11-19    0.436197\n",
            "2017-11-26    0.563043\n",
            "2017-12-03    0.427444\n",
            "2017-12-10    0.073127\n",
            "2017-12-17    0.205263\n",
            "2017-12-24    0.194120\n",
            "2017-12-31    0.190386\n",
            "Freq: W-SUN, Name: Close, dtype: float64\n",
            "Date\n",
            "2017-01-08    27.787127\n",
            "2017-01-15    28.220755\n",
            "2017-01-22    28.279667\n",
            "2017-01-29    28.739212\n",
            "2017-02-05    30.419497\n",
            "2017-02-12    31.341919\n",
            "2017-02-19    32.122971\n",
            "2017-02-26    32.451969\n",
            "2017-03-05    33.086288\n",
            "2017-03-12    33.022377\n",
            "2017-03-19    33.299305\n",
            "2017-03-26    33.481552\n",
            "2017-04-02    34.111134\n",
            "2017-04-09    34.264992\n",
            "2017-04-16    33.886280\n",
            "2017-04-23    33.713501\n",
            "2017-04-30    34.208179\n",
            "2017-05-07    35.256695\n",
            "2017-05-14    37.099133\n",
            "2017-05-21    37.004063\n",
            "2017-05-28    36.597656\n",
            "2017-06-04    36.944637\n",
            "2017-06-11    36.925640\n",
            "2017-06-18    34.838955\n",
            "2017-06-25    34.779537\n",
            "2017-07-02    34.658340\n",
            "2017-07-09    34.266190\n",
            "2017-07-16    35.421230\n",
            "2017-07-23    35.891804\n",
            "2017-07-30    36.471703\n",
            "2017-08-06    37.346291\n",
            "2017-08-13    38.277943\n",
            "2017-08-20    38.557095\n",
            "2017-08-27    38.170574\n",
            "2017-09-03    39.141655\n",
            "2017-09-10    38.671619\n",
            "2017-09-17    38.533230\n",
            "2017-09-24    37.872326\n",
            "2017-10-01    36.798637\n",
            "2017-10-08    37.075413\n",
            "2017-10-15    37.457161\n",
            "2017-10-22    38.287487\n",
            "2017-10-29    38.903061\n",
            "2017-11-05    41.157795\n",
            "2017-11-12    42.050140\n",
            "2017-11-19    41.657738\n",
            "2017-11-26    41.897190\n",
            "2017-12-03    41.686481\n",
            "2017-12-10    40.659218\n",
            "2017-12-17    41.657738\n",
            "2017-12-24    42.244392\n",
            "2017-12-31    40.965717\n",
            "Freq: W-SUN, Name: Close, dtype: float64\n",
            "Date\n",
            "2017-01-08    27.341726\n",
            "2017-01-15    28.041645\n",
            "2017-01-22    28.227821\n",
            "2017-01-29    28.272598\n",
            "2017-02-05    28.597820\n",
            "2017-02-12    30.704645\n",
            "2017-02-19    31.547831\n",
            "2017-02-26    32.314693\n",
            "2017-03-05    32.409367\n",
            "2017-03-12    32.823559\n",
            "2017-03-19    32.896935\n",
            "2017-03-26    33.098118\n",
            "2017-04-02    33.344273\n",
            "2017-04-09    33.926521\n",
            "2017-04-16    33.384514\n",
            "2017-04-23    33.296936\n",
            "2017-04-30    33.997524\n",
            "2017-05-07    34.681549\n",
            "2017-05-14    36.215267\n",
            "2017-05-21    35.708801\n",
            "2017-05-28    36.443180\n",
            "2017-06-04    36.305344\n",
            "2017-06-11    35.406971\n",
            "2017-06-18    33.812260\n",
            "2017-06-25    34.463448\n",
            "2017-07-02    34.147358\n",
            "2017-07-09    33.921581\n",
            "2017-07-16    34.475327\n",
            "2017-07-23    35.544815\n",
            "2017-07-30    35.530556\n",
            "2017-08-06    35.347549\n",
            "2017-08-13    37.058708\n",
            "2017-08-20    37.578838\n",
            "2017-08-27    37.509651\n",
            "2017-09-03    38.526077\n",
            "2017-09-10    37.848461\n",
            "2017-09-17    37.764954\n",
            "2017-09-24    36.240337\n",
            "2017-10-01    35.920612\n",
            "2017-10-08    36.619694\n",
            "2017-10-15    37.182781\n",
            "2017-10-22    37.216183\n",
            "2017-10-29    37.261517\n",
            "2017-11-05    39.778706\n",
            "2017-11-12    41.575336\n",
            "2017-11-19    40.486813\n",
            "2017-11-26    40.702324\n",
            "2017-12-03    40.582600\n",
            "2017-12-10    40.470055\n",
            "2017-12-17    41.114182\n",
            "2017-12-24    41.748737\n",
            "2017-12-31    40.522743\n",
            "Freq: W-SUN, Name: Close, dtype: float64\n"
          ]
        }
      ]
    },
    {
      "cell_type": "code",
      "metadata": {
        "colab": {
          "base_uri": "https://localhost:8080/"
        },
        "id": "Zr-kKHEjhERe",
        "outputId": "2204c6a7-8edd-4b8c-b57a-f9ba3733c2fa"
      },
      "source": [
        "#Ejemplo\n",
        "std_dos = appl_dos.resample('W').std()\n",
        "max_dos = appl_dos.resample('W').max()\n",
        "min_dos = appl_dos.resample('W').min()\n",
        "\n",
        "\n",
        "print(std_dos)\n",
        "print(max_dos)\n",
        "print(min_dos)"
      ],
      "execution_count": 183,
      "outputs": [
        {
          "output_type": "stream",
          "name": "stdout",
          "text": [
            "Date\n",
            "2021-01-10    0.108628\n",
            "2021-01-17    0.232013\n",
            "2021-01-24    0.402772\n",
            "2021-01-31    0.215291\n",
            "2021-02-07    0.198872\n",
            "2021-02-14    0.413944\n",
            "2021-02-21    0.179072\n",
            "2021-02-28    0.394183\n",
            "2021-03-07    0.488600\n",
            "2021-03-14    0.218929\n",
            "2021-03-21    0.267451\n",
            "2021-03-28    0.531347\n",
            "2021-04-04    0.297881\n",
            "2021-04-11    0.118448\n",
            "2021-04-18    0.048166\n",
            "2021-04-25    0.093167\n",
            "2021-05-02    0.239541\n",
            "2021-05-09    0.146799\n",
            "2021-05-16    0.200075\n",
            "2021-05-23    0.107378\n",
            "2021-05-30    0.140428\n",
            "2021-06-06    0.100457\n",
            "2021-06-13    0.189921\n",
            "2021-06-20    0.132966\n",
            "2021-06-27    0.074632\n",
            "2021-07-04    0.065422\n",
            "2021-07-11    0.106771\n",
            "2021-07-18    0.076289\n",
            "2021-07-25    0.174442\n",
            "2021-08-01    0.032280\n",
            "2021-08-08    0.003912\n",
            "2021-08-15    0.044289\n",
            "2021-08-22    0.017869\n",
            "2021-08-29    0.026725\n",
            "2021-09-05    0.037925\n",
            "2021-09-12    0.027622\n",
            "2021-09-19    0.047431\n",
            "2021-09-26    0.016498\n",
            "2021-10-03    0.020620\n",
            "2021-10-10    0.024222\n",
            "Freq: W-SUN, Name: Close, dtype: float64\n",
            "Date\n",
            "2021-01-10    6.360\n",
            "2021-01-17    6.390\n",
            "2021-01-24    6.940\n",
            "2021-01-31    6.690\n",
            "2021-02-07    7.040\n",
            "2021-02-14    8.030\n",
            "2021-02-21    8.810\n",
            "2021-02-28    8.020\n",
            "2021-03-07    7.420\n",
            "2021-03-14    6.210\n",
            "2021-03-21    6.210\n",
            "2021-03-28    5.570\n",
            "2021-04-04    4.350\n",
            "2021-04-11    4.090\n",
            "2021-04-18    3.620\n",
            "2021-04-25    3.830\n",
            "2021-05-02    4.130\n",
            "2021-05-09    3.400\n",
            "2021-05-16    3.100\n",
            "2021-05-23    2.540\n",
            "2021-05-30    2.160\n",
            "2021-06-06    2.020\n",
            "2021-06-13    2.200\n",
            "2021-06-20    2.030\n",
            "2021-06-27    1.870\n",
            "2021-07-04    1.840\n",
            "2021-07-11    1.610\n",
            "2021-07-18    1.420\n",
            "2021-07-25    1.260\n",
            "2021-08-01    0.728\n",
            "2021-08-08    0.679\n",
            "2021-08-15    0.716\n",
            "2021-08-22    0.583\n",
            "2021-08-29    0.634\n",
            "2021-09-05    0.707\n",
            "2021-09-12    0.680\n",
            "2021-09-19    0.630\n",
            "2021-09-26    0.490\n",
            "2021-10-03    0.580\n",
            "2021-10-10    0.563\n",
            "Freq: W-SUN, Name: Close, dtype: float64\n",
            "Date\n",
            "2021-01-10    6.100\n",
            "2021-01-17    5.740\n",
            "2021-01-24    5.970\n",
            "2021-01-31    6.180\n",
            "2021-02-07    6.560\n",
            "2021-02-14    6.920\n",
            "2021-02-21    8.400\n",
            "2021-02-28    7.090\n",
            "2021-03-07    6.260\n",
            "2021-03-14    5.670\n",
            "2021-03-21    5.520\n",
            "2021-03-28    4.200\n",
            "2021-04-04    3.690\n",
            "2021-04-11    3.760\n",
            "2021-04-18    3.490\n",
            "2021-04-25    3.610\n",
            "2021-05-02    3.590\n",
            "2021-05-09    2.990\n",
            "2021-05-16    2.590\n",
            "2021-05-23    2.300\n",
            "2021-05-30    1.770\n",
            "2021-06-06    1.800\n",
            "2021-06-13    1.760\n",
            "2021-06-20    1.710\n",
            "2021-06-27    1.690\n",
            "2021-07-04    1.680\n",
            "2021-07-11    1.360\n",
            "2021-07-18    1.240\n",
            "2021-07-25    0.840\n",
            "2021-08-01    0.652\n",
            "2021-08-08    0.670\n",
            "2021-08-15    0.604\n",
            "2021-08-22    0.536\n",
            "2021-08-29    0.562\n",
            "2021-09-05    0.609\n",
            "2021-09-12    0.620\n",
            "2021-09-19    0.507\n",
            "2021-09-26    0.451\n",
            "2021-10-03    0.530\n",
            "2021-10-10    0.510\n",
            "Freq: W-SUN, Name: Close, dtype: float64\n"
          ]
        }
      ]
    },
    {
      "cell_type": "markdown",
      "metadata": {
        "id": "0USa5ZCmhWDV"
      },
      "source": [
        "Often we want to calculate monthly returns of a stock, based on prices on the last day of each month. To fetch those prices, we use the series.resample.agg() method:"
      ]
    },
    {
      "cell_type": "code",
      "metadata": {
        "colab": {
          "base_uri": "https://localhost:8080/"
        },
        "id": "q9g7J4QzhXly",
        "outputId": "b9cbbf2c-1794-4dc2-fa00-50df84963851"
      },
      "source": [
        "last_day = aapl.resample('M').agg(lambda x: x[-1])\n",
        "print(last_day)"
      ],
      "execution_count": 184,
      "outputs": [
        {
          "output_type": "stream",
          "name": "stdout",
          "text": [
            "Date\n",
            "2017-01-31    28.597820\n",
            "2017-02-28    32.423565\n",
            "2017-03-31    34.002251\n",
            "2017-04-30    33.999893\n",
            "2017-05-31    36.305344\n",
            "2017-06-30    34.228165\n",
            "2017-07-31    35.347549\n",
            "2017-08-31    39.129726\n",
            "2017-09-30    36.772392\n",
            "2017-10-31    40.332245\n",
            "2017-11-30    41.150105\n",
            "2017-12-31    40.522743\n",
            "Freq: M, Name: Close, dtype: float64\n"
          ]
        }
      ]
    },
    {
      "cell_type": "code",
      "metadata": {
        "colab": {
          "base_uri": "https://localhost:8080/"
        },
        "id": "5EBPfPw_hayq",
        "outputId": "fac79faf-ad6e-465b-cd51-cb4fad61c312"
      },
      "source": [
        "#Ejemplo\n",
        "last_day_dos = appl_dos.resample('M').agg(lambda x: x[-3])\n",
        "print(last_day_dos)"
      ],
      "execution_count": 185,
      "outputs": [
        {
          "output_type": "stream",
          "name": "stdout",
          "text": [
            "Date\n",
            "2021-01-31    6.650\n",
            "2021-02-28    7.710\n",
            "2021-03-31    3.690\n",
            "2021-04-30    4.050\n",
            "2021-05-31    1.770\n",
            "2021-06-30    1.840\n",
            "2021-07-31    0.728\n",
            "2021-08-31    0.595\n",
            "2021-09-30    0.554\n",
            "2021-10-31    0.551\n",
            "Freq: M, Name: Close, dtype: float64\n"
          ]
        }
      ]
    },
    {
      "cell_type": "markdown",
      "metadata": {
        "id": "XJiVDm-shuxV"
      },
      "source": [
        "Or directly calculate the monthly rates of return using the data for the first day and the last day:"
      ]
    },
    {
      "cell_type": "code",
      "metadata": {
        "colab": {
          "base_uri": "https://localhost:8080/"
        },
        "id": "oLsffaLih5vq",
        "outputId": "8c924ebe-483c-41d2-f71e-812d3a6fa310"
      },
      "source": [
        "monthly_return = aapl.resample('M').agg(lambda x: x[-1]/x[0] - 1)\n",
        "print(monthly_return)"
      ],
      "execution_count": 186,
      "outputs": [
        {
          "output_type": "stream",
          "name": "stdout",
          "text": [
            "Date\n",
            "2017-01-31    0.044770\n",
            "2017-02-28    0.068613\n",
            "2017-03-31    0.027684\n",
            "2017-04-30   -0.000347\n",
            "2017-05-31    0.046463\n",
            "2017-06-30   -0.059799\n",
            "2017-07-31    0.036446\n",
            "2017-08-31    0.097261\n",
            "2017-09-30   -0.060530\n",
            "2017-10-31    0.099018\n",
            "2017-11-30    0.033422\n",
            "2017-12-31   -0.010640\n",
            "Freq: M, Name: Close, dtype: float64\n"
          ]
        }
      ]
    },
    {
      "cell_type": "code",
      "metadata": {
        "colab": {
          "base_uri": "https://localhost:8080/"
        },
        "id": "9CK1VD2HiCda",
        "outputId": "bf239a78-f2b7-4d25-a0ca-0d36148202ee"
      },
      "source": [
        "#Ejemplo\n",
        "monthly_return_dos = appl_dos.resample('M').agg(lambda x: x[-1]/x[0] - 1)\n",
        "print(monthly_return_dos)"
      ],
      "execution_count": 187,
      "outputs": [
        {
          "output_type": "stream",
          "name": "stdout",
          "text": [
            "Date\n",
            "2021-01-31    0.034314\n",
            "2021-02-28    0.074242\n",
            "2021-03-31   -0.460916\n",
            "2021-04-30   -0.174713\n",
            "2021-05-31   -0.432353\n",
            "2021-06-30   -0.113861\n",
            "2021-07-31   -0.612360\n",
            "2021-08-31   -0.029851\n",
            "2021-09-30   -0.179632\n",
            "2021-10-31    0.037037\n",
            "Freq: M, Name: Close, dtype: float64\n"
          ]
        }
      ]
    },
    {
      "cell_type": "markdown",
      "metadata": {
        "id": "-y8gwkMmifa0"
      },
      "source": [
        "Series object also provides us some convenient methods to do some quick calculation."
      ]
    },
    {
      "cell_type": "code",
      "metadata": {
        "colab": {
          "base_uri": "https://localhost:8080/"
        },
        "id": "PsUM7F4Vihr3",
        "outputId": "67295719-e40e-4452-8ea3-1b51248bc64c"
      },
      "source": [
        "print(monthly_return.mean())\n",
        "print(monthly_return.std())\n",
        "print(monthly_return.max())"
      ],
      "execution_count": 188,
      "outputs": [
        {
          "output_type": "stream",
          "name": "stdout",
          "text": [
            "0.026863351452657485\n",
            "0.052258457150511445\n",
            "0.09901806341294828\n"
          ]
        }
      ]
    },
    {
      "cell_type": "code",
      "metadata": {
        "colab": {
          "base_uri": "https://localhost:8080/"
        },
        "id": "0Lx3uicCiqv7",
        "outputId": "5da8bbcc-1030-4b52-a0b1-32cab9f52e95"
      },
      "source": [
        "#Ejemplo\n",
        "print(monthly_return_dos.mean())\n",
        "print(monthly_return_dos.std())\n",
        "print(monthly_return_dos.max())"
      ],
      "execution_count": 189,
      "outputs": [
        {
          "output_type": "stream",
          "name": "stdout",
          "text": [
            "-0.18580929107497307\n",
            "0.23893635212397032\n",
            "0.07424246288418712\n"
          ]
        }
      ]
    },
    {
      "cell_type": "markdown",
      "metadata": {
        "id": "dmzCCKenjFfT"
      },
      "source": [
        "Another two methods frequently used on Series are .diff() and .pct_change(). The former calculates the difference between consecutive elements, and the latter calculates the percentage change."
      ]
    },
    {
      "cell_type": "code",
      "metadata": {
        "colab": {
          "base_uri": "https://localhost:8080/"
        },
        "id": "BEhr7RSajG35",
        "outputId": "cd9476f3-ac14-4946-de90-9373038e7225"
      },
      "source": [
        "print(last_day.diff())\n",
        "print(last_day.pct_change())"
      ],
      "execution_count": 190,
      "outputs": [
        {
          "output_type": "stream",
          "name": "stdout",
          "text": [
            "Date\n",
            "2017-01-31         NaN\n",
            "2017-02-28    3.825745\n",
            "2017-03-31    1.578686\n",
            "2017-04-30   -0.002357\n",
            "2017-05-31    2.305450\n",
            "2017-06-30   -2.077179\n",
            "2017-07-31    1.119385\n",
            "2017-08-31    3.782177\n",
            "2017-09-30   -2.357334\n",
            "2017-10-31    3.559853\n",
            "2017-11-30    0.817860\n",
            "2017-12-31   -0.627361\n",
            "Freq: M, Name: Close, dtype: float64\n",
            "Date\n",
            "2017-01-31         NaN\n",
            "2017-02-28    0.133777\n",
            "2017-03-31    0.048689\n",
            "2017-04-30   -0.000069\n",
            "2017-05-31    0.067808\n",
            "2017-06-30   -0.057214\n",
            "2017-07-31    0.032704\n",
            "2017-08-31    0.107000\n",
            "2017-09-30   -0.060244\n",
            "2017-10-31    0.096808\n",
            "2017-11-30    0.020278\n",
            "2017-12-31   -0.015246\n",
            "Freq: M, Name: Close, dtype: float64\n"
          ]
        }
      ]
    },
    {
      "cell_type": "code",
      "metadata": {
        "colab": {
          "base_uri": "https://localhost:8080/"
        },
        "id": "cxktzolynVJG",
        "outputId": "816e9bd4-4a8c-46fc-8f47-0ceabb4d55f9"
      },
      "source": [
        "#Ejemplo\n",
        "print(last_day_dos.diff())\n",
        "print(last_day_dos.pct_change())"
      ],
      "execution_count": 191,
      "outputs": [
        {
          "output_type": "stream",
          "name": "stdout",
          "text": [
            "Date\n",
            "2021-01-31      NaN\n",
            "2021-02-28    1.060\n",
            "2021-03-31   -4.020\n",
            "2021-04-30    0.360\n",
            "2021-05-31   -2.280\n",
            "2021-06-30    0.070\n",
            "2021-07-31   -1.112\n",
            "2021-08-31   -0.133\n",
            "2021-09-30   -0.041\n",
            "2021-10-31   -0.003\n",
            "Freq: M, Name: Close, dtype: float64\n",
            "Date\n",
            "2021-01-31         NaN\n",
            "2021-02-28    0.159398\n",
            "2021-03-31   -0.521401\n",
            "2021-04-30    0.097561\n",
            "2021-05-31   -0.562963\n",
            "2021-06-30    0.039548\n",
            "2021-07-31   -0.604348\n",
            "2021-08-31   -0.182692\n",
            "2021-09-30   -0.068908\n",
            "2021-10-31   -0.005415\n",
            "Freq: M, Name: Close, dtype: float64\n"
          ]
        }
      ]
    },
    {
      "cell_type": "markdown",
      "metadata": {
        "id": "j_WMNysXngQI"
      },
      "source": [
        "Notice that we induced a NaN value while calculating percentage changes i.e. returns.\n",
        "\n",
        "When dealing with NaN values, we usually either removing the data point or fill it with a specific value. Here we fill it with 0:\n",
        "\n"
      ]
    },
    {
      "cell_type": "code",
      "metadata": {
        "colab": {
          "base_uri": "https://localhost:8080/"
        },
        "id": "UGT1Xygkng9P",
        "outputId": "4a03eca6-6cb3-4346-bb43-5ea09cdb2cc4"
      },
      "source": [
        "daily_return = last_day.pct_change()\n",
        "print(daily_return.fillna(0))"
      ],
      "execution_count": 192,
      "outputs": [
        {
          "output_type": "stream",
          "name": "stdout",
          "text": [
            "Date\n",
            "2017-01-31    0.000000\n",
            "2017-02-28    0.133777\n",
            "2017-03-31    0.048689\n",
            "2017-04-30   -0.000069\n",
            "2017-05-31    0.067808\n",
            "2017-06-30   -0.057214\n",
            "2017-07-31    0.032704\n",
            "2017-08-31    0.107000\n",
            "2017-09-30   -0.060244\n",
            "2017-10-31    0.096808\n",
            "2017-11-30    0.020278\n",
            "2017-12-31   -0.015246\n",
            "Freq: M, Name: Close, dtype: float64\n"
          ]
        }
      ]
    },
    {
      "cell_type": "code",
      "metadata": {
        "colab": {
          "base_uri": "https://localhost:8080/"
        },
        "id": "O4mtIlFYnkRD",
        "outputId": "3358512b-5e57-4b85-da25-319ed5e1c70e"
      },
      "source": [
        "#Ejemplo\n",
        "daily_return_dos = last_day_dos.pct_change()\n",
        "print(daily_return_dos.fillna(0))"
      ],
      "execution_count": 193,
      "outputs": [
        {
          "output_type": "stream",
          "name": "stdout",
          "text": [
            "Date\n",
            "2021-01-31    0.000000\n",
            "2021-02-28    0.159398\n",
            "2021-03-31   -0.521401\n",
            "2021-04-30    0.097561\n",
            "2021-05-31   -0.562963\n",
            "2021-06-30    0.039548\n",
            "2021-07-31   -0.604348\n",
            "2021-08-31   -0.182692\n",
            "2021-09-30   -0.068908\n",
            "2021-10-31   -0.005415\n",
            "Freq: M, Name: Close, dtype: float64\n"
          ]
        }
      ]
    },
    {
      "cell_type": "markdown",
      "metadata": {
        "id": "9KLUwNQznuee"
      },
      "source": [
        "Alternatively, we can fill a NaN with the next fitted value. This is called 'backward fill', or 'bfill' in short:"
      ]
    },
    {
      "cell_type": "code",
      "metadata": {
        "colab": {
          "base_uri": "https://localhost:8080/"
        },
        "id": "XaPuJh8xnwGf",
        "outputId": "ea2a3d1d-ee73-46f9-ba6a-9194de87cfb7"
      },
      "source": [
        "daily_return = last_day.pct_change()\n",
        "print(daily_return.fillna(method = 'bfill'))"
      ],
      "execution_count": 194,
      "outputs": [
        {
          "output_type": "stream",
          "name": "stdout",
          "text": [
            "Date\n",
            "2017-01-31    0.133777\n",
            "2017-02-28    0.133777\n",
            "2017-03-31    0.048689\n",
            "2017-04-30   -0.000069\n",
            "2017-05-31    0.067808\n",
            "2017-06-30   -0.057214\n",
            "2017-07-31    0.032704\n",
            "2017-08-31    0.107000\n",
            "2017-09-30   -0.060244\n",
            "2017-10-31    0.096808\n",
            "2017-11-30    0.020278\n",
            "2017-12-31   -0.015246\n",
            "Freq: M, Name: Close, dtype: float64\n"
          ]
        }
      ]
    },
    {
      "cell_type": "code",
      "metadata": {
        "colab": {
          "base_uri": "https://localhost:8080/"
        },
        "id": "7kDMKe5VnyM6",
        "outputId": "cbd3fdd2-68ab-49c2-c7f9-b76bda8e2c70"
      },
      "source": [
        "#Ejemplo\n",
        "daily_return_dos = last_day_dos.pct_change()\n",
        "print(daily_return_dos.fillna(method = 'bfill'))"
      ],
      "execution_count": 195,
      "outputs": [
        {
          "output_type": "stream",
          "name": "stdout",
          "text": [
            "Date\n",
            "2021-01-31    0.159398\n",
            "2021-02-28    0.159398\n",
            "2021-03-31   -0.521401\n",
            "2021-04-30    0.097561\n",
            "2021-05-31   -0.562963\n",
            "2021-06-30    0.039548\n",
            "2021-07-31   -0.604348\n",
            "2021-08-31   -0.182692\n",
            "2021-09-30   -0.068908\n",
            "2021-10-31   -0.005415\n",
            "Freq: M, Name: Close, dtype: float64\n"
          ]
        }
      ]
    },
    {
      "cell_type": "markdown",
      "metadata": {
        "id": "QIMvBYzxn8qF"
      },
      "source": [
        "As expected, since there is a 'backward fill' method, there must be a 'forward fill' method, or 'ffill' in short. However we can't use it here because the NaN is the first value.\n",
        "\n",
        "We can also simply remove NaN values by .dropna()"
      ]
    },
    {
      "cell_type": "code",
      "metadata": {
        "colab": {
          "base_uri": "https://localhost:8080/"
        },
        "id": "kkOwfGWgn-kD",
        "outputId": "7394bd95-6923-4aa8-d97d-efd4766126bf"
      },
      "source": [
        "daily_return = last_day.pct_change()\n",
        "daily_return.dropna()"
      ],
      "execution_count": 196,
      "outputs": [
        {
          "output_type": "execute_result",
          "data": {
            "text/plain": [
              "Date\n",
              "2017-02-28    0.133777\n",
              "2017-03-31    0.048689\n",
              "2017-04-30   -0.000069\n",
              "2017-05-31    0.067808\n",
              "2017-06-30   -0.057214\n",
              "2017-07-31    0.032704\n",
              "2017-08-31    0.107000\n",
              "2017-09-30   -0.060244\n",
              "2017-10-31    0.096808\n",
              "2017-11-30    0.020278\n",
              "2017-12-31   -0.015246\n",
              "Freq: M, Name: Close, dtype: float64"
            ]
          },
          "metadata": {},
          "execution_count": 196
        }
      ]
    },
    {
      "cell_type": "code",
      "metadata": {
        "colab": {
          "base_uri": "https://localhost:8080/"
        },
        "id": "F3fc-Eh1oB4H",
        "outputId": "b095821f-57c6-4cc1-cdd8-c2f3470dc1f4"
      },
      "source": [
        "#Ejemplo\n",
        "daily_return_dos = last_day_dos.pct_change()\n",
        "daily_return_dos.dropna()"
      ],
      "execution_count": 197,
      "outputs": [
        {
          "output_type": "execute_result",
          "data": {
            "text/plain": [
              "Date\n",
              "2021-02-28    0.159398\n",
              "2021-03-31   -0.521401\n",
              "2021-04-30    0.097561\n",
              "2021-05-31   -0.562963\n",
              "2021-06-30    0.039548\n",
              "2021-07-31   -0.604348\n",
              "2021-08-31   -0.182692\n",
              "2021-09-30   -0.068908\n",
              "2021-10-31   -0.005415\n",
              "Freq: M, Name: Close, dtype: float64"
            ]
          },
          "metadata": {},
          "execution_count": 197
        }
      ]
    },
    {
      "cell_type": "markdown",
      "metadata": {
        "id": "hzOVy0luoSu4"
      },
      "source": [
        "# DataFrame\n",
        "The **DataFrame** is the most commonly used data structure in Pandas. It is essentially a table, just like an Excel spreadsheet.\n",
        "\n",
        "More precisely, a DataFrame is a collection of Series objects, each of which may contain different data types. A DataFrame can be created from various data types: dictionary, 2-D numpy.ndarray, a Series or another DataFrame.\n",
        "\n",
        "## Create DataFrames\n",
        "The most common method of creating a DataFrame is passing a dictionary:"
      ]
    },
    {
      "cell_type": "code",
      "metadata": {
        "colab": {
          "base_uri": "https://localhost:8080/"
        },
        "id": "okRnPdL3oVdc",
        "outputId": "f17d8a0c-8a1f-4b88-b20a-5f450eab2b94"
      },
      "source": [
        "dict = {'AAPL': [143.5, 144.09, 142.73, 144.18, 143.77],'GOOG':[898.7, 911.71, 906.69, 918.59, 926.99],\n",
        "        'IBM':[155.58, 153.67, 152.36, 152.94, 153.49]}\n",
        "data_index = pd.date_range('2017-07-03',periods = 5, freq = 'D')\n",
        "df = pd.DataFrame(dict, index = data_index)\n",
        "print(df)"
      ],
      "execution_count": 198,
      "outputs": [
        {
          "output_type": "stream",
          "name": "stdout",
          "text": [
            "              AAPL    GOOG     IBM\n",
            "2017-07-03  143.50  898.70  155.58\n",
            "2017-07-04  144.09  911.71  153.67\n",
            "2017-07-05  142.73  906.69  152.36\n",
            "2017-07-06  144.18  918.59  152.94\n",
            "2017-07-07  143.77  926.99  153.49\n"
          ]
        }
      ]
    },
    {
      "cell_type": "code",
      "metadata": {
        "colab": {
          "base_uri": "https://localhost:8080/"
        },
        "id": "fuNYp6pbodLi",
        "outputId": "393607ea-bf97-4f33-b363-d8b3fee5ef52"
      },
      "source": [
        "#Ejemplo\n",
        "dict_dos = {'YAHH': [354.21, 658.09, 122.35, 294.80, 333.66],'OUTL':[579.55, 877.76, 767.69,431.49, 545.77],\n",
        "        'MSF':[643.88, 251.44, 333.33, 287.88, 598.54]}\n",
        "data_index_dos = pd.date_range('2020-03-21',periods = 5, freq = 'D')\n",
        "df_dos = pd.DataFrame(dict_dos, index = data_index_dos)\n",
        "print(df_dos)"
      ],
      "execution_count": 199,
      "outputs": [
        {
          "output_type": "stream",
          "name": "stdout",
          "text": [
            "              YAHH    OUTL     MSF\n",
            "2020-03-21  354.21  579.55  643.88\n",
            "2020-03-22  658.09  877.76  251.44\n",
            "2020-03-23  122.35  767.69  333.33\n",
            "2020-03-24  294.80  431.49  287.88\n",
            "2020-03-25  333.66  545.77  598.54\n"
          ]
        }
      ]
    },
    {
      "cell_type": "markdown",
      "metadata": {
        "id": "Iy1N10Czvjeq"
      },
      "source": [
        "## Manipulating DataFrames\n",
        "We can fetch values in a DataFrame by columns and index. Each column in a DataFrame is essentially a Pandas Series. We can fetch a column by square brackets: **df['column_name']**\n",
        "\n",
        "If a column name contains no spaces, then we can also use df.column_name to fetch a column:"
      ]
    },
    {
      "cell_type": "code",
      "metadata": {
        "colab": {
          "base_uri": "https://localhost:8080/"
        },
        "id": "u06nVGHJvp0q",
        "outputId": "8a8c9623-764f-44f1-db95-89da92dca424"
      },
      "source": [
        "df = aapl_table\n",
        "print(df.Close.tail(5))\n",
        "print(df['Volume'].tail(5))"
      ],
      "execution_count": 200,
      "outputs": [
        {
          "output_type": "stream",
          "name": "stdout",
          "text": [
            "Date\n",
            "2017-12-22    41.906773\n",
            "2017-12-26    40.843597\n",
            "2017-12-27    40.850788\n",
            "2017-12-28    40.965717\n",
            "2017-12-29    40.522743\n",
            "Name: Close, dtype: float64\n",
            "Date\n",
            "2017-12-22     65397600\n",
            "2017-12-26    132742000\n",
            "2017-12-27     85992800\n",
            "2017-12-28     65920800\n",
            "2017-12-29    103999600\n",
            "Name: Volume, dtype: int64\n"
          ]
        }
      ]
    },
    {
      "cell_type": "code",
      "metadata": {
        "colab": {
          "base_uri": "https://localhost:8080/"
        },
        "id": "iyJAFXD9zpA7",
        "outputId": "a2096b7d-b9b5-4958-f23a-618bab640447"
      },
      "source": [
        "#Ejemplo\n",
        "df_tres = data\n",
        "print(df_tres.Close.tail(3))\n",
        "print(df_tres['Volume'].tail(5))"
      ],
      "execution_count": 201,
      "outputs": [
        {
          "output_type": "stream",
          "name": "stdout",
          "text": [
            "Date\n",
            "2021-10-06    0.551\n",
            "2021-10-07    0.563\n",
            "2021-10-08    0.560\n",
            "Name: Close, dtype: float64\n",
            "Date\n",
            "2021-10-04    976700\n",
            "2021-10-05    734400\n",
            "2021-10-06    781000\n",
            "2021-10-07    665100\n",
            "2021-10-08    680000\n",
            "Name: Volume, dtype: int64\n"
          ]
        }
      ]
    },
    {
      "cell_type": "markdown",
      "metadata": {
        "id": "IO9Kc3Ej0KOt"
      },
      "source": [
        "All the methods we applied to a Series index such as iloc[], loc[] and resampling methods, can also be applied to a DataFrame:"
      ]
    },
    {
      "cell_type": "code",
      "metadata": {
        "colab": {
          "base_uri": "https://localhost:8080/"
        },
        "id": "uq-4G8m7zpEO",
        "outputId": "29499803-1f7f-4282-c524-727b9c5a0af0"
      },
      "source": [
        "aapl_2016 = df['2016']\n",
        "aapl_month = aapl_2016.resample('M').agg(lambda x: x[-1])\n",
        "print(aapl_month)"
      ],
      "execution_count": 202,
      "outputs": [
        {
          "output_type": "stream",
          "name": "stdout",
          "text": [
            "                 Open       High        Low  ...     Volume  Dividends  Stock Splits\n",
            "Date                                         ...                                    \n",
            "2016-01-31  21.852382  22.440245  21.750946  ...  257666000        0.0             0\n",
            "2016-02-29  22.450757  22.768304  22.402082  ...  140865200        0.0             0\n",
            "2016-03-31  25.431522  25.473243  25.236821  ...  103553600        0.0             0\n",
            "2016-04-30  21.785531  21.954736  21.442489  ...  274126000        0.0             0\n",
            "2016-05-31  23.226405  23.412963  23.044512  ...  169228800        0.0             0\n",
            "2016-06-30  22.023114  22.333264  21.990466  ...  143345600        0.0             0\n",
            "2016-07-31  24.296776  24.380727  24.177845  ...  110934800        0.0             0\n",
            "2016-08-31  24.773059  24.986417  24.768369  ...  118649600        0.0             0\n",
            "2016-09-30  26.367386  26.580745  26.212643  ...  145516400        0.0             0\n",
            "2016-10-31  26.646387  26.782374  26.540879  ...  105677600        0.0             0\n",
            "2016-11-30  26.300095  26.441493  25.986662  ...  144649200        0.0             0\n",
            "2016-12-31  27.490201  27.619815  27.202691  ...  122345200        0.0             0\n",
            "\n",
            "[12 rows x 7 columns]\n"
          ]
        }
      ]
    },
    {
      "cell_type": "code",
      "metadata": {
        "colab": {
          "base_uri": "https://localhost:8080/"
        },
        "id": "8CT1ZB7NzpN1",
        "outputId": "3d3831b6-bc4b-43ab-b153-56f6d55e096e"
      },
      "source": [
        "#Ejemplo\n",
        "apple_2021 = df_tres['2021']\n",
        "apple_month_tres = apple_2021.resample('M').agg(lambda x: x[-1])\n",
        "print(apple_month_tres)"
      ],
      "execution_count": 203,
      "outputs": [
        {
          "output_type": "stream",
          "name": "stdout",
          "text": [
            "             Open   High    Low  Close   Volume  Dividends  Stock Splits\n",
            "Date                                                                    \n",
            "2021-01-31  6.600  6.740  6.280   6.33   337400          0             0\n",
            "2021-02-28  7.180  7.410  6.660   7.09  1088400          0             0\n",
            "2021-03-31  3.890  4.200  3.885   4.00   896800          0             0\n",
            "2021-04-30  3.600  3.644  3.540   3.59   241600          0             0\n",
            "2021-05-31  2.120  2.250  1.890   1.93  1627100          0             0\n",
            "2021-06-30  1.850  1.850  1.770   1.79   369400          0             0\n",
            "2021-07-31  0.730  0.730  0.664   0.69  1249400          0             0\n",
            "2021-08-31  0.635  0.685  0.621   0.65  1541200          0             0\n",
            "2021-09-30  0.540  0.629  0.524   0.58  3107500          0             0\n",
            "2021-10-31  0.570  0.591  0.533   0.56   680000          0             0\n"
          ]
        }
      ]
    },
    {
      "cell_type": "markdown",
      "metadata": {
        "id": "Llhz9pt22tRs"
      },
      "source": [
        "We may select certain columns of a DataFrame using their names:"
      ]
    },
    {
      "cell_type": "code",
      "metadata": {
        "colab": {
          "base_uri": "https://localhost:8080/"
        },
        "id": "lbpVPkc22uJm",
        "outputId": "82b41997-3c9c-464d-94d3-0e3250bb1a1d"
      },
      "source": [
        "aapl_bar = aapl_month[['Open', 'High', 'Low', 'Close']]\n",
        "print(aapl_bar)"
      ],
      "execution_count": 204,
      "outputs": [
        {
          "output_type": "stream",
          "name": "stdout",
          "text": [
            "                 Open       High        Low      Close\n",
            "Date                                                  \n",
            "2016-01-31  21.852382  22.440245  21.750946  22.440245\n",
            "2016-02-29  22.450757  22.768304  22.402082  22.411354\n",
            "2016-03-31  25.431522  25.473243  25.236821  25.262318\n",
            "2016-04-30  21.785531  21.954736  21.442489  21.727585\n",
            "2016-05-31  23.226405  23.412963  23.044512  23.287037\n",
            "2016-06-30  22.023114  22.333264  21.990466  22.293621\n",
            "2016-07-31  24.296776  24.380727  24.177845  24.301439\n",
            "2016-08-31  24.773059  24.986417  24.768369  24.876221\n",
            "2016-09-30  26.367386  26.580745  26.212643  26.505718\n",
            "2016-10-31  26.646387  26.782374  26.540879  26.620596\n",
            "2016-11-30  26.300095  26.441493  25.986662  26.045578\n",
            "2016-12-31  27.490201  27.619815  27.202691  27.294600\n"
          ]
        }
      ]
    },
    {
      "cell_type": "code",
      "metadata": {
        "colab": {
          "base_uri": "https://localhost:8080/"
        },
        "id": "BR7wSkcw2-U7",
        "outputId": "d27e55fa-cdf1-488f-84d7-532f3a1b10d9"
      },
      "source": [
        "#Ejemplo\n",
        "apple_bar_dos = apple_month_tres[['Open', 'High', 'Low', 'Close']]\n",
        "print(apple_bar_dos)"
      ],
      "execution_count": 205,
      "outputs": [
        {
          "output_type": "stream",
          "name": "stdout",
          "text": [
            "             Open   High    Low  Close\n",
            "Date                                  \n",
            "2021-01-31  6.600  6.740  6.280   6.33\n",
            "2021-02-28  7.180  7.410  6.660   7.09\n",
            "2021-03-31  3.890  4.200  3.885   4.00\n",
            "2021-04-30  3.600  3.644  3.540   3.59\n",
            "2021-05-31  2.120  2.250  1.890   1.93\n",
            "2021-06-30  1.850  1.850  1.770   1.79\n",
            "2021-07-31  0.730  0.730  0.664   0.69\n",
            "2021-08-31  0.635  0.685  0.621   0.65\n",
            "2021-09-30  0.540  0.629  0.524   0.58\n",
            "2021-10-31  0.570  0.591  0.533   0.56\n"
          ]
        }
      ]
    },
    {
      "cell_type": "markdown",
      "metadata": {
        "id": "oxr7fvcD3Kz3"
      },
      "source": [
        "We can even specify both rows and columns using loc[]. The row indices and column names are separated by a comma:"
      ]
    },
    {
      "cell_type": "code",
      "metadata": {
        "colab": {
          "base_uri": "https://localhost:8080/"
        },
        "id": "61ruyf9r3KF4",
        "outputId": "6f1aad11-c632-45c6-f7eb-de01703a367b"
      },
      "source": [
        "print(aapl_month.loc['2016-03':'2016-06', ['Open', 'High', 'Low', 'Close']])"
      ],
      "execution_count": 206,
      "outputs": [
        {
          "output_type": "stream",
          "name": "stdout",
          "text": [
            "                 Open       High        Low      Close\n",
            "Date                                                  \n",
            "2016-03-31  25.431522  25.473243  25.236821  25.262318\n",
            "2016-04-30  21.785531  21.954736  21.442489  21.727585\n",
            "2016-05-31  23.226405  23.412963  23.044512  23.287037\n",
            "2016-06-30  22.023114  22.333264  21.990466  22.293621\n"
          ]
        }
      ]
    },
    {
      "cell_type": "code",
      "metadata": {
        "colab": {
          "base_uri": "https://localhost:8080/"
        },
        "id": "RMaTUlqw3XV6",
        "outputId": "b3ee348f-dab5-46a5-d85e-c8cf5e79a200"
      },
      "source": [
        "#Ejemplo\n",
        "print(apple_month_tres.loc['2021-02':'2021-05', ['Open', 'High', 'Low', 'Close']])"
      ],
      "execution_count": 207,
      "outputs": [
        {
          "output_type": "stream",
          "name": "stdout",
          "text": [
            "            Open   High    Low  Close\n",
            "Date                                 \n",
            "2021-02-28  7.18  7.410  6.660   7.09\n",
            "2021-03-31  3.89  4.200  3.885   4.00\n",
            "2021-04-30  3.60  3.644  3.540   3.59\n",
            "2021-05-31  2.12  2.250  1.890   1.93\n"
          ]
        }
      ]
    },
    {
      "cell_type": "markdown",
      "metadata": {
        "id": "vfopdV9T3xqC"
      },
      "source": [
        "The subset methods in DataFrame is quite useful. By writing logical statements in square brackets, we can make customized subsets:"
      ]
    },
    {
      "cell_type": "code",
      "metadata": {
        "colab": {
          "base_uri": "https://localhost:8080/"
        },
        "id": "4pyiU_k_3v86",
        "outputId": "f364463e-9983-4aa2-9f46-61cac18305cb"
      },
      "source": [
        "\n",
        "import numpy as np\n",
        "\n",
        "above = aapl_bar[aapl_bar.Close > np.mean(aapl_bar.Close)]\n",
        "print(above)"
      ],
      "execution_count": 208,
      "outputs": [
        {
          "output_type": "stream",
          "name": "stdout",
          "text": [
            "                 Open       High        Low      Close\n",
            "Date                                                  \n",
            "2016-03-31  25.431522  25.473243  25.236821  25.262318\n",
            "2016-08-31  24.773059  24.986417  24.768369  24.876221\n",
            "2016-09-30  26.367386  26.580745  26.212643  26.505718\n",
            "2016-10-31  26.646387  26.782374  26.540879  26.620596\n",
            "2016-11-30  26.300095  26.441493  25.986662  26.045578\n",
            "2016-12-31  27.490201  27.619815  27.202691  27.294600\n"
          ]
        }
      ]
    },
    {
      "cell_type": "code",
      "metadata": {
        "colab": {
          "base_uri": "https://localhost:8080/"
        },
        "id": "PPkIihx136vw",
        "outputId": "fb36299e-4653-4286-e8fe-347548ff1682"
      },
      "source": [
        "#Ejemplo\n",
        "import numpy as np\n",
        "\n",
        "above_dos = apple_bar_dos[apple_bar_dos.Close > np.mean(apple_bar_dos.Close)]\n",
        "print(above_dos)\n"
      ],
      "execution_count": 209,
      "outputs": [
        {
          "output_type": "stream",
          "name": "stdout",
          "text": [
            "            Open   High    Low  Close\n",
            "Date                                 \n",
            "2021-01-31  6.60  6.740  6.280   6.33\n",
            "2021-02-28  7.18  7.410  6.660   7.09\n",
            "2021-03-31  3.89  4.200  3.885   4.00\n",
            "2021-04-30  3.60  3.644  3.540   3.59\n"
          ]
        }
      ]
    },
    {
      "cell_type": "markdown",
      "metadata": {
        "id": "aXYHdVV64MaY"
      },
      "source": [
        "## Data Validation\n",
        "As mentioned, all methods that apply to a Series can also be applied to a DataFrame. Here we add a new column to an existing DataFrame:"
      ]
    },
    {
      "cell_type": "code",
      "metadata": {
        "colab": {
          "base_uri": "https://localhost:8080/"
        },
        "id": "Lkg2oT4w4NOQ",
        "outputId": "1da6f437-792d-490a-8fc2-adf4aecbc2b5"
      },
      "source": [
        "aapl_bar['rate_return'] = aapl_bar.Close.pct_change()\n",
        "print(aapl_bar)"
      ],
      "execution_count": 210,
      "outputs": [
        {
          "output_type": "stream",
          "name": "stdout",
          "text": [
            "                 Open       High        Low      Close  rate_return\n",
            "Date                                                               \n",
            "2016-01-31  21.852382  22.440245  21.750946  22.440245          NaN\n",
            "2016-02-29  22.450757  22.768304  22.402082  22.411354    -0.001287\n",
            "2016-03-31  25.431522  25.473243  25.236821  25.262318     0.127211\n",
            "2016-04-30  21.785531  21.954736  21.442489  21.727585    -0.139921\n",
            "2016-05-31  23.226405  23.412963  23.044512  23.287037     0.071773\n",
            "2016-06-30  22.023114  22.333264  21.990466  22.293621    -0.042660\n",
            "2016-07-31  24.296776  24.380727  24.177845  24.301439     0.090062\n",
            "2016-08-31  24.773059  24.986417  24.768369  24.876221     0.023652\n",
            "2016-09-30  26.367386  26.580745  26.212643  26.505718     0.065504\n",
            "2016-10-31  26.646387  26.782374  26.540879  26.620596     0.004334\n",
            "2016-11-30  26.300095  26.441493  25.986662  26.045578    -0.021600\n",
            "2016-12-31  27.490201  27.619815  27.202691  27.294600     0.047955\n"
          ]
        },
        {
          "output_type": "stream",
          "name": "stderr",
          "text": [
            "/usr/local/lib/python3.7/dist-packages/ipykernel_launcher.py:1: SettingWithCopyWarning: \n",
            "A value is trying to be set on a copy of a slice from a DataFrame.\n",
            "Try using .loc[row_indexer,col_indexer] = value instead\n",
            "\n",
            "See the caveats in the documentation: https://pandas.pydata.org/pandas-docs/stable/user_guide/indexing.html#returning-a-view-versus-a-copy\n",
            "  \"\"\"Entry point for launching an IPython kernel.\n"
          ]
        }
      ]
    },
    {
      "cell_type": "code",
      "metadata": {
        "colab": {
          "base_uri": "https://localhost:8080/"
        },
        "id": "o-qdQTjG4NR5",
        "outputId": "c13969f4-2864-4ba7-9fc6-20a39719a1c5"
      },
      "source": [
        "#Ejemplo\n",
        "apple_bar_dos['rate_return'] = apple_bar_dos.Close.pct_change()\n",
        "print(apple_bar_dos)"
      ],
      "execution_count": 211,
      "outputs": [
        {
          "output_type": "stream",
          "name": "stdout",
          "text": [
            "             Open   High    Low  Close  rate_return\n",
            "Date                                               \n",
            "2021-01-31  6.600  6.740  6.280   6.33          NaN\n",
            "2021-02-28  7.180  7.410  6.660   7.09     0.120063\n",
            "2021-03-31  3.890  4.200  3.885   4.00    -0.435825\n",
            "2021-04-30  3.600  3.644  3.540   3.59    -0.102500\n",
            "2021-05-31  2.120  2.250  1.890   1.93    -0.462396\n",
            "2021-06-30  1.850  1.850  1.770   1.79    -0.072539\n",
            "2021-07-31  0.730  0.730  0.664   0.69    -0.614525\n",
            "2021-08-31  0.635  0.685  0.621   0.65    -0.057971\n",
            "2021-09-30  0.540  0.629  0.524   0.58    -0.107692\n",
            "2021-10-31  0.570  0.591  0.533   0.56    -0.034483\n"
          ]
        },
        {
          "output_type": "stream",
          "name": "stderr",
          "text": [
            "/usr/local/lib/python3.7/dist-packages/ipykernel_launcher.py:2: SettingWithCopyWarning: \n",
            "A value is trying to be set on a copy of a slice from a DataFrame.\n",
            "Try using .loc[row_indexer,col_indexer] = value instead\n",
            "\n",
            "See the caveats in the documentation: https://pandas.pydata.org/pandas-docs/stable/user_guide/indexing.html#returning-a-view-versus-a-copy\n",
            "  \n"
          ]
        }
      ]
    },
    {
      "cell_type": "markdown",
      "metadata": {
        "id": "U0zAwN344foZ"
      },
      "source": [
        "Here the calculation introduced a NaN value. If the DataFrame is large, we would not be able to observe it. isnull() provides a convenient way to check abnormal values."
      ]
    },
    {
      "cell_type": "code",
      "metadata": {
        "colab": {
          "base_uri": "https://localhost:8080/"
        },
        "id": "QdkA5BLy4g3p",
        "outputId": "edff957a-4d2c-4823-de7f-8c6e3a8df4a1"
      },
      "source": [
        "missing = aapl_bar.isnull()\n",
        "print(missing)\n",
        "print('---------------------------------------------')\n",
        "print(missing.describe())"
      ],
      "execution_count": 212,
      "outputs": [
        {
          "output_type": "stream",
          "name": "stdout",
          "text": [
            "             Open   High    Low  Close  rate_return\n",
            "Date                                               \n",
            "2016-01-31  False  False  False  False         True\n",
            "2016-02-29  False  False  False  False        False\n",
            "2016-03-31  False  False  False  False        False\n",
            "2016-04-30  False  False  False  False        False\n",
            "2016-05-31  False  False  False  False        False\n",
            "2016-06-30  False  False  False  False        False\n",
            "2016-07-31  False  False  False  False        False\n",
            "2016-08-31  False  False  False  False        False\n",
            "2016-09-30  False  False  False  False        False\n",
            "2016-10-31  False  False  False  False        False\n",
            "2016-11-30  False  False  False  False        False\n",
            "2016-12-31  False  False  False  False        False\n",
            "---------------------------------------------\n",
            "         Open   High    Low  Close rate_return\n",
            "count      12     12     12     12          12\n",
            "unique      1      1      1      1           2\n",
            "top     False  False  False  False       False\n",
            "freq       12     12     12     12          11\n"
          ]
        }
      ]
    },
    {
      "cell_type": "code",
      "metadata": {
        "colab": {
          "base_uri": "https://localhost:8080/"
        },
        "id": "tBI03NQI4oo9",
        "outputId": "8880a1bf-2fbf-47df-e983-bf98c2b1f222"
      },
      "source": [
        "#Ejemplo\n",
        "missing_dos = apple_bar_dos.isnull()\n",
        "print(missing_dos)\n",
        "print('---------------------------------------------')\n",
        "print(missing_dos.describe())"
      ],
      "execution_count": 213,
      "outputs": [
        {
          "output_type": "stream",
          "name": "stdout",
          "text": [
            "             Open   High    Low  Close  rate_return\n",
            "Date                                               \n",
            "2021-01-31  False  False  False  False         True\n",
            "2021-02-28  False  False  False  False        False\n",
            "2021-03-31  False  False  False  False        False\n",
            "2021-04-30  False  False  False  False        False\n",
            "2021-05-31  False  False  False  False        False\n",
            "2021-06-30  False  False  False  False        False\n",
            "2021-07-31  False  False  False  False        False\n",
            "2021-08-31  False  False  False  False        False\n",
            "2021-09-30  False  False  False  False        False\n",
            "2021-10-31  False  False  False  False        False\n",
            "---------------------------------------------\n",
            "         Open   High    Low  Close rate_return\n",
            "count      10     10     10     10          10\n",
            "unique      1      1      1      1           2\n",
            "top     False  False  False  False       False\n",
            "freq       10     10     10     10           9\n"
          ]
        }
      ]
    },
    {
      "cell_type": "markdown",
      "metadata": {
        "id": "mstcA0Uw44hX"
      },
      "source": [
        "The row labelled \"unique\" indicates the number of unique values in each column. Since the \"rate_return\" column has 2 unique values, it has at least one missing value.\n",
        "\n",
        "We can deduce the number of missing values by comparing \"count\" with \"freq\". There are 12 counts and 11 False values, so there is one True value which corresponds to the missing value.\n",
        "\n",
        "We can also find the rows with missing values easily:"
      ]
    },
    {
      "cell_type": "code",
      "metadata": {
        "colab": {
          "base_uri": "https://localhost:8080/"
        },
        "id": "DOXVLmOS45Mb",
        "outputId": "8dd213c4-4606-4091-d9aa-dbabaff6ebeb"
      },
      "source": [
        "print(missing[missing.rate_return == True])"
      ],
      "execution_count": 214,
      "outputs": [
        {
          "output_type": "stream",
          "name": "stdout",
          "text": [
            "             Open   High    Low  Close  rate_return\n",
            "Date                                               \n",
            "2016-01-31  False  False  False  False         True\n"
          ]
        }
      ]
    },
    {
      "cell_type": "code",
      "metadata": {
        "colab": {
          "base_uri": "https://localhost:8080/"
        },
        "id": "TWWbrp-745Y9",
        "outputId": "cdda0f63-04b6-4a3c-a7bf-2c8659d9493c"
      },
      "source": [
        "#Ejemplo\n",
        "print(missing_dos[missing_dos.rate_return == True])"
      ],
      "execution_count": 215,
      "outputs": [
        {
          "output_type": "stream",
          "name": "stdout",
          "text": [
            "             Open   High    Low  Close  rate_return\n",
            "Date                                               \n",
            "2021-01-31  False  False  False  False         True\n"
          ]
        }
      ]
    },
    {
      "cell_type": "markdown",
      "metadata": {
        "id": "KeC0OMNo5IT1"
      },
      "source": [
        "Usually when dealing with missing data, we either delete the whole row or fill it with some value. As we introduced in the Series chapter, the same method dropna() and fillna() can be applied to a DataFrame."
      ]
    },
    {
      "cell_type": "code",
      "metadata": {
        "colab": {
          "base_uri": "https://localhost:8080/"
        },
        "id": "0kcwxzH_5JMX",
        "outputId": "327834ae-0d0f-4e41-f151-dac6077ca446"
      },
      "source": [
        "drop = aapl_bar.dropna()\n",
        "print(drop)\n",
        "print('\\n--------------------------------------------------\\n')\n",
        "fill = aapl_bar.fillna(0)\n",
        "print(fill)"
      ],
      "execution_count": 216,
      "outputs": [
        {
          "output_type": "stream",
          "name": "stdout",
          "text": [
            "                 Open       High        Low      Close  rate_return\n",
            "Date                                                               \n",
            "2016-02-29  22.450757  22.768304  22.402082  22.411354    -0.001287\n",
            "2016-03-31  25.431522  25.473243  25.236821  25.262318     0.127211\n",
            "2016-04-30  21.785531  21.954736  21.442489  21.727585    -0.139921\n",
            "2016-05-31  23.226405  23.412963  23.044512  23.287037     0.071773\n",
            "2016-06-30  22.023114  22.333264  21.990466  22.293621    -0.042660\n",
            "2016-07-31  24.296776  24.380727  24.177845  24.301439     0.090062\n",
            "2016-08-31  24.773059  24.986417  24.768369  24.876221     0.023652\n",
            "2016-09-30  26.367386  26.580745  26.212643  26.505718     0.065504\n",
            "2016-10-31  26.646387  26.782374  26.540879  26.620596     0.004334\n",
            "2016-11-30  26.300095  26.441493  25.986662  26.045578    -0.021600\n",
            "2016-12-31  27.490201  27.619815  27.202691  27.294600     0.047955\n",
            "\n",
            "--------------------------------------------------\n",
            "\n",
            "                 Open       High        Low      Close  rate_return\n",
            "Date                                                               \n",
            "2016-01-31  21.852382  22.440245  21.750946  22.440245     0.000000\n",
            "2016-02-29  22.450757  22.768304  22.402082  22.411354    -0.001287\n",
            "2016-03-31  25.431522  25.473243  25.236821  25.262318     0.127211\n",
            "2016-04-30  21.785531  21.954736  21.442489  21.727585    -0.139921\n",
            "2016-05-31  23.226405  23.412963  23.044512  23.287037     0.071773\n",
            "2016-06-30  22.023114  22.333264  21.990466  22.293621    -0.042660\n",
            "2016-07-31  24.296776  24.380727  24.177845  24.301439     0.090062\n",
            "2016-08-31  24.773059  24.986417  24.768369  24.876221     0.023652\n",
            "2016-09-30  26.367386  26.580745  26.212643  26.505718     0.065504\n",
            "2016-10-31  26.646387  26.782374  26.540879  26.620596     0.004334\n",
            "2016-11-30  26.300095  26.441493  25.986662  26.045578    -0.021600\n",
            "2016-12-31  27.490201  27.619815  27.202691  27.294600     0.047955\n"
          ]
        }
      ]
    },
    {
      "cell_type": "code",
      "metadata": {
        "colab": {
          "base_uri": "https://localhost:8080/"
        },
        "id": "aFGCxTs65JWj",
        "outputId": "8734f18a-b5b7-40a5-ec54-d65416d1cce8"
      },
      "source": [
        "#Ejemplo\n",
        "drop_dos = apple_bar_dos.dropna()\n",
        "print(drop_dos)\n",
        "print('\\n--------------------------------------------------\\n')\n",
        "fill_dos = apple_bar_dos.fillna(0)\n",
        "print(fill_dos)"
      ],
      "execution_count": 217,
      "outputs": [
        {
          "output_type": "stream",
          "name": "stdout",
          "text": [
            "             Open   High    Low  Close  rate_return\n",
            "Date                                               \n",
            "2021-02-28  7.180  7.410  6.660   7.09     0.120063\n",
            "2021-03-31  3.890  4.200  3.885   4.00    -0.435825\n",
            "2021-04-30  3.600  3.644  3.540   3.59    -0.102500\n",
            "2021-05-31  2.120  2.250  1.890   1.93    -0.462396\n",
            "2021-06-30  1.850  1.850  1.770   1.79    -0.072539\n",
            "2021-07-31  0.730  0.730  0.664   0.69    -0.614525\n",
            "2021-08-31  0.635  0.685  0.621   0.65    -0.057971\n",
            "2021-09-30  0.540  0.629  0.524   0.58    -0.107692\n",
            "2021-10-31  0.570  0.591  0.533   0.56    -0.034483\n",
            "\n",
            "--------------------------------------------------\n",
            "\n",
            "             Open   High    Low  Close  rate_return\n",
            "Date                                               \n",
            "2021-01-31  6.600  6.740  6.280   6.33     0.000000\n",
            "2021-02-28  7.180  7.410  6.660   7.09     0.120063\n",
            "2021-03-31  3.890  4.200  3.885   4.00    -0.435825\n",
            "2021-04-30  3.600  3.644  3.540   3.59    -0.102500\n",
            "2021-05-31  2.120  2.250  1.890   1.93    -0.462396\n",
            "2021-06-30  1.850  1.850  1.770   1.79    -0.072539\n",
            "2021-07-31  0.730  0.730  0.664   0.69    -0.614525\n",
            "2021-08-31  0.635  0.685  0.621   0.65    -0.057971\n",
            "2021-09-30  0.540  0.629  0.524   0.58    -0.107692\n",
            "2021-10-31  0.570  0.591  0.533   0.56    -0.034483\n"
          ]
        }
      ]
    },
    {
      "cell_type": "markdown",
      "metadata": {
        "id": "JtRUdcfj5ZXd"
      },
      "source": [
        "## DataFrame Concat\n",
        "We have seen how to extract a Series from a dataFrame. Now we need to consider how to merge a Series or a DataFrame into another one.\n",
        "\n",
        "In Pandas, the function **concat()** allows us to merge multiple Series into a DataFrame:"
      ]
    },
    {
      "cell_type": "code",
      "metadata": {
        "colab": {
          "base_uri": "https://localhost:8080/"
        },
        "id": "e19r4QKG5aOq",
        "outputId": "d602e7bd-92b6-4b1b-ee4f-e87cb1b7b3cc"
      },
      "source": [
        "s1 = pd.Series([143.5, 144.09, 142.73, 144.18, 143.77], name = 'AAPL')\n",
        "s2 = pd.Series([898.7, 911.71, 906.69, 918.59, 926.99], name = 'GOOG')\n",
        "data_frame = pd.concat([s1,s2], axis = 1)\n",
        "print(data_frame)"
      ],
      "execution_count": 218,
      "outputs": [
        {
          "output_type": "stream",
          "name": "stdout",
          "text": [
            "     AAPL    GOOG\n",
            "0  143.50  898.70\n",
            "1  144.09  911.71\n",
            "2  142.73  906.69\n",
            "3  144.18  918.59\n",
            "4  143.77  926.99\n"
          ]
        }
      ]
    },
    {
      "cell_type": "code",
      "metadata": {
        "colab": {
          "base_uri": "https://localhost:8080/"
        },
        "id": "aemyABBI5aZR",
        "outputId": "97931794-7f72-4fc7-86ab-2ca70f623b18"
      },
      "source": [
        "#Ejemplo\n",
        "s1_dos = pd.Series([233.5, 444.09, 344.35, 294.80, 333.66], name = 'YAHH')\n",
        "s2_dos = pd.Series([458.55, 877.76, 767.69,431.49, 545.77], name = 'MSF')\n",
        "data_frame_dos = pd.concat([s1_dos,s2_dos], axis = 1)\n",
        "print(data_frame_dos)\n"
      ],
      "execution_count": 219,
      "outputs": [
        {
          "output_type": "stream",
          "name": "stdout",
          "text": [
            "     YAHH     MSF\n",
            "0  233.50  458.55\n",
            "1  444.09  877.76\n",
            "2  344.35  767.69\n",
            "3  294.80  431.49\n",
            "4  333.66  545.77\n"
          ]
        }
      ]
    },
    {
      "cell_type": "markdown",
      "metadata": {
        "id": "vcCyKwqY6Ql8"
      },
      "source": [
        "The \"axis = 1\" parameter will join two DataFrames by columns:"
      ]
    },
    {
      "cell_type": "code",
      "metadata": {
        "colab": {
          "base_uri": "https://localhost:8080/"
        },
        "id": "W3r5bUMf6RL_",
        "outputId": "c16acbc3-0006-4774-95ce-d7629d483de0"
      },
      "source": [
        "log_price = np.log(aapl_bar.Close)\n",
        "log_price.name = 'log_price'\n",
        "print(log_price)\n",
        "print('\\n---------------------- separate line--------------------\\n')\n",
        "concat = pd.concat([aapl_bar, log_price], axis = 1)\n",
        "print(concat)"
      ],
      "execution_count": 220,
      "outputs": [
        {
          "output_type": "stream",
          "name": "stdout",
          "text": [
            "Date\n",
            "2016-01-31    3.110856\n",
            "2016-02-29    3.109568\n",
            "2016-03-31    3.229314\n",
            "2016-04-30    3.078583\n",
            "2016-05-31    3.147897\n",
            "2016-06-30    3.104301\n",
            "2016-07-31    3.190536\n",
            "2016-08-31    3.213912\n",
            "2016-09-30    3.277360\n",
            "2016-10-31    3.281685\n",
            "2016-11-30    3.259848\n",
            "2016-12-31    3.306689\n",
            "Freq: M, Name: log_price, dtype: float64\n",
            "\n",
            "---------------------- separate line--------------------\n",
            "\n",
            "                 Open       High        Low      Close  rate_return  log_price\n",
            "Date                                                                          \n",
            "2016-01-31  21.852382  22.440245  21.750946  22.440245          NaN   3.110856\n",
            "2016-02-29  22.450757  22.768304  22.402082  22.411354    -0.001287   3.109568\n",
            "2016-03-31  25.431522  25.473243  25.236821  25.262318     0.127211   3.229314\n",
            "2016-04-30  21.785531  21.954736  21.442489  21.727585    -0.139921   3.078583\n",
            "2016-05-31  23.226405  23.412963  23.044512  23.287037     0.071773   3.147897\n",
            "2016-06-30  22.023114  22.333264  21.990466  22.293621    -0.042660   3.104301\n",
            "2016-07-31  24.296776  24.380727  24.177845  24.301439     0.090062   3.190536\n",
            "2016-08-31  24.773059  24.986417  24.768369  24.876221     0.023652   3.213912\n",
            "2016-09-30  26.367386  26.580745  26.212643  26.505718     0.065504   3.277360\n",
            "2016-10-31  26.646387  26.782374  26.540879  26.620596     0.004334   3.281685\n",
            "2016-11-30  26.300095  26.441493  25.986662  26.045578    -0.021600   3.259848\n",
            "2016-12-31  27.490201  27.619815  27.202691  27.294600     0.047955   3.306689\n"
          ]
        }
      ]
    },
    {
      "cell_type": "code",
      "metadata": {
        "colab": {
          "base_uri": "https://localhost:8080/"
        },
        "id": "zI5b3Ah66RQB",
        "outputId": "1ab9d5d1-099c-4665-ede6-29380a9810ee"
      },
      "source": [
        "#Ejemplo\n",
        "log_price_dos = np.log(apple_bar_dos.Close)\n",
        "log_price_dos.name = 'log_price'\n",
        "print(log_price_dos)\n",
        "print('\\n---------------------- separate line--------------------\\n')\n",
        "concat_dos = pd.concat([apple_bar_dos, log_price_dos], axis = 1)\n",
        "print(concat_dos)"
      ],
      "execution_count": 221,
      "outputs": [
        {
          "output_type": "stream",
          "name": "stdout",
          "text": [
            "Date\n",
            "2021-01-31    1.845300\n",
            "2021-02-28    1.958685\n",
            "2021-03-31    1.386294\n",
            "2021-04-30    1.278152\n",
            "2021-05-31    0.657520\n",
            "2021-06-30    0.582216\n",
            "2021-07-31   -0.371064\n",
            "2021-08-31   -0.430783\n",
            "2021-09-30   -0.544727\n",
            "2021-10-31   -0.579818\n",
            "Freq: M, Name: log_price, dtype: float64\n",
            "\n",
            "---------------------- separate line--------------------\n",
            "\n",
            "             Open   High    Low  Close  rate_return  log_price\n",
            "Date                                                          \n",
            "2021-01-31  6.600  6.740  6.280   6.33          NaN   1.845300\n",
            "2021-02-28  7.180  7.410  6.660   7.09     0.120063   1.958685\n",
            "2021-03-31  3.890  4.200  3.885   4.00    -0.435825   1.386294\n",
            "2021-04-30  3.600  3.644  3.540   3.59    -0.102500   1.278152\n",
            "2021-05-31  2.120  2.250  1.890   1.93    -0.462396   0.657520\n",
            "2021-06-30  1.850  1.850  1.770   1.79    -0.072539   0.582216\n",
            "2021-07-31  0.730  0.730  0.664   0.69    -0.614525  -0.371064\n",
            "2021-08-31  0.635  0.685  0.621   0.65    -0.057971  -0.430783\n",
            "2021-09-30  0.540  0.629  0.524   0.58    -0.107692  -0.544727\n",
            "2021-10-31  0.570  0.591  0.533   0.56    -0.034483  -0.579818\n"
          ]
        }
      ]
    },
    {
      "cell_type": "markdown",
      "metadata": {
        "id": "R-HjfWcf63q3"
      },
      "source": [
        "We can also join two DataFrames by rows. Consider these two DataFrames:"
      ]
    },
    {
      "cell_type": "code",
      "metadata": {
        "colab": {
          "base_uri": "https://localhost:8080/"
        },
        "id": "hnh52CWJ64kb",
        "outputId": "587dff3f-8279-47e0-a6e7-016c1dc52371"
      },
      "source": [
        "df_volume = aapl_table.loc['2016-10':'2017-04',['Volume', 'Stock Splits']].resample('M').agg(lambda x: x[-1])\n",
        "print(df_volume)\n",
        "print('\\n---------------------- separate line--------------------\\n')\n",
        "df_2017 = aapl_table.loc['2016-10':'2017-04',['Open', 'High', 'Low', 'Close']].resample('M').agg(lambda x: x[-1])\n",
        "print(df_2017)"
      ],
      "execution_count": 222,
      "outputs": [
        {
          "output_type": "stream",
          "name": "stdout",
          "text": [
            "               Volume  Stock Splits\n",
            "Date                               \n",
            "2016-10-31  105677600             0\n",
            "2016-11-30  144649200             0\n",
            "2016-12-31  122345200             0\n",
            "2017-01-31  196804000             0\n",
            "2017-02-28   93931600             0\n",
            "2017-03-31   78646800             0\n",
            "2017-04-30   83441600             0\n",
            "\n",
            "---------------------- separate line--------------------\n",
            "\n",
            "                 Open       High        Low      Close\n",
            "Date                                                  \n",
            "2016-10-31  26.646387  26.782374  26.540879  26.620596\n",
            "2016-11-30  26.300095  26.441493  25.986662  26.045578\n",
            "2016-12-31  27.490201  27.619815  27.202691  27.294600\n",
            "2017-01-31  28.550688  28.607247  28.425787  28.597820\n",
            "2017-02-28  32.444866  32.530073  32.354924  32.423565\n",
            "2017-03-31  34.016451  34.146629  33.848403  34.002251\n",
            "2017-04-30  34.104035  34.153741  33.909955  33.999893\n"
          ]
        }
      ]
    },
    {
      "cell_type": "code",
      "metadata": {
        "colab": {
          "base_uri": "https://localhost:8080/"
        },
        "id": "jB2y13KB641B",
        "outputId": "69448513-ec23-4c1e-de69-56b73010673b"
      },
      "source": [
        "#Ejemplo\n",
        "df_volume_dos = data.loc['2020-10':'2021-04',['Volume', 'Stock Splits']].resample('M').agg(lambda x: x[-1])\n",
        "print(df_volume_dos)\n",
        "print('\\n---------------------- separate line--------------------\\n')\n",
        "df_2021_dos = data.loc['2020-10':'2021-04',['Open', 'High', 'Low', 'Close']].resample('M').agg(lambda x: x[-1])\n",
        "print(df_2021_dos)"
      ],
      "execution_count": 223,
      "outputs": [
        {
          "output_type": "stream",
          "name": "stdout",
          "text": [
            "             Volume  Stock Splits\n",
            "Date                             \n",
            "2020-12-31   661500             0\n",
            "2021-01-31   337400             0\n",
            "2021-02-28  1088400             0\n",
            "2021-03-31   896800             0\n",
            "2021-04-30   241600             0\n",
            "\n",
            "---------------------- separate line--------------------\n",
            "\n",
            "            Open   High    Low  Close\n",
            "Date                                 \n",
            "2020-12-31  6.80  6.950  5.720   5.82\n",
            "2021-01-31  6.60  6.740  6.280   6.33\n",
            "2021-02-28  7.18  7.410  6.660   7.09\n",
            "2021-03-31  3.89  4.200  3.885   4.00\n",
            "2021-04-30  3.60  3.644  3.540   3.59\n"
          ]
        }
      ]
    },
    {
      "cell_type": "markdown",
      "metadata": {
        "id": "-q1a1ViJ8W0Z"
      },
      "source": [
        "Now we merge the DataFrames with our DataFrame 'aapl_bar'"
      ]
    },
    {
      "cell_type": "code",
      "metadata": {
        "colab": {
          "base_uri": "https://localhost:8080/"
        },
        "id": "eKcpK-YB8adz",
        "outputId": "248f65ee-d30e-4aa8-8eeb-9ff5beb7e34c"
      },
      "source": [
        "concat = pd.concat([aapl_bar, df_volume], axis = 1)\n",
        "print(concat)"
      ],
      "execution_count": 224,
      "outputs": [
        {
          "output_type": "stream",
          "name": "stdout",
          "text": [
            "                 Open       High  ...       Volume  Stock Splits\n",
            "Date                              ...                           \n",
            "2016-01-31  21.852382  22.440245  ...          NaN           NaN\n",
            "2016-02-29  22.450757  22.768304  ...          NaN           NaN\n",
            "2016-03-31  25.431522  25.473243  ...          NaN           NaN\n",
            "2016-04-30  21.785531  21.954736  ...          NaN           NaN\n",
            "2016-05-31  23.226405  23.412963  ...          NaN           NaN\n",
            "2016-06-30  22.023114  22.333264  ...          NaN           NaN\n",
            "2016-07-31  24.296776  24.380727  ...          NaN           NaN\n",
            "2016-08-31  24.773059  24.986417  ...          NaN           NaN\n",
            "2016-09-30  26.367386  26.580745  ...          NaN           NaN\n",
            "2016-10-31  26.646387  26.782374  ...  105677600.0           0.0\n",
            "2016-11-30  26.300095  26.441493  ...  144649200.0           0.0\n",
            "2016-12-31  27.490201  27.619815  ...  122345200.0           0.0\n",
            "2017-01-31        NaN        NaN  ...  196804000.0           0.0\n",
            "2017-02-28        NaN        NaN  ...   93931600.0           0.0\n",
            "2017-03-31        NaN        NaN  ...   78646800.0           0.0\n",
            "2017-04-30        NaN        NaN  ...   83441600.0           0.0\n",
            "\n",
            "[16 rows x 7 columns]\n"
          ]
        }
      ]
    },
    {
      "cell_type": "code",
      "metadata": {
        "colab": {
          "base_uri": "https://localhost:8080/"
        },
        "id": "w9qm7wHc8aoN",
        "outputId": "be4ae7aa-38f7-405a-b711-cc6ce810e90d"
      },
      "source": [
        "#Ejemplo\n",
        "concat_dos = pd.concat([apple_bar_dos, df_volume_dos], axis = 1)\n",
        "print(concat_dos)"
      ],
      "execution_count": 225,
      "outputs": [
        {
          "output_type": "stream",
          "name": "stdout",
          "text": [
            "             Open   High    Low  Close  rate_return     Volume  Stock Splits\n",
            "Date                                                                        \n",
            "2020-12-31    NaN    NaN    NaN    NaN          NaN   661500.0           0.0\n",
            "2021-01-31  6.600  6.740  6.280   6.33          NaN   337400.0           0.0\n",
            "2021-02-28  7.180  7.410  6.660   7.09     0.120063  1088400.0           0.0\n",
            "2021-03-31  3.890  4.200  3.885   4.00    -0.435825   896800.0           0.0\n",
            "2021-04-30  3.600  3.644  3.540   3.59    -0.102500   241600.0           0.0\n",
            "2021-05-31  2.120  2.250  1.890   1.93    -0.462396        NaN           NaN\n",
            "2021-06-30  1.850  1.850  1.770   1.79    -0.072539        NaN           NaN\n",
            "2021-07-31  0.730  0.730  0.664   0.69    -0.614525        NaN           NaN\n",
            "2021-08-31  0.635  0.685  0.621   0.65    -0.057971        NaN           NaN\n",
            "2021-09-30  0.540  0.629  0.524   0.58    -0.107692        NaN           NaN\n",
            "2021-10-31  0.570  0.591  0.533   0.56    -0.034483        NaN           NaN\n"
          ]
        }
      ]
    },
    {
      "cell_type": "markdown",
      "metadata": {
        "id": "sOgJNtm88rj2"
      },
      "source": [
        "By default the DataFrame are joined with all of the data. This default options results in zero information loss. We can also merge them by intersection, this is called 'inner join"
      ]
    },
    {
      "cell_type": "code",
      "metadata": {
        "colab": {
          "base_uri": "https://localhost:8080/"
        },
        "id": "zy0n4Fvg8sIN",
        "outputId": "a03f8c0c-729b-4503-a00f-529aed485137"
      },
      "source": [
        "concat = pd.concat([aapl_bar,df_volume],axis = 1, join = 'inner')\n",
        "print(concat)"
      ],
      "execution_count": 226,
      "outputs": [
        {
          "output_type": "stream",
          "name": "stdout",
          "text": [
            "                 Open       High  ...     Volume  Stock Splits\n",
            "Date                              ...                         \n",
            "2016-10-31  26.646387  26.782374  ...  105677600             0\n",
            "2016-11-30  26.300095  26.441493  ...  144649200             0\n",
            "2016-12-31  27.490201  27.619815  ...  122345200             0\n",
            "\n",
            "[3 rows x 7 columns]\n"
          ]
        }
      ]
    },
    {
      "cell_type": "code",
      "metadata": {
        "colab": {
          "base_uri": "https://localhost:8080/"
        },
        "id": "VVcHoAED8sMW",
        "outputId": "9ad9e073-9bd9-411c-c4ed-d2890ae0f003"
      },
      "source": [
        "#Ejemplo\n",
        "concat_dos = pd.concat([apple_bar_dos,df_volume_dos],axis = 1, join = 'inner')\n",
        "print(concat_dos)"
      ],
      "execution_count": 227,
      "outputs": [
        {
          "output_type": "stream",
          "name": "stdout",
          "text": [
            "            Open   High    Low  Close  rate_return   Volume  Stock Splits\n",
            "Date                                                                     \n",
            "2021-01-31  6.60  6.740  6.280   6.33          NaN   337400             0\n",
            "2021-02-28  7.18  7.410  6.660   7.09     0.120063  1088400             0\n",
            "2021-03-31  3.89  4.200  3.885   4.00    -0.435825   896800             0\n",
            "2021-04-30  3.60  3.644  3.540   3.59    -0.102500   241600             0\n"
          ]
        }
      ]
    },
    {
      "cell_type": "markdown",
      "metadata": {
        "id": "7zv_CnUr87tk"
      },
      "source": [
        "Only the intersection part was left if use 'inner join' method. Now let's try to append a DataFrame to another one:"
      ]
    },
    {
      "cell_type": "code",
      "metadata": {
        "colab": {
          "base_uri": "https://localhost:8080/"
        },
        "id": "XsJmqCdS8_O_",
        "outputId": "c571d0ee-13ef-499d-fb88-1abbb809ea10"
      },
      "source": [
        "append = aapl_bar.append(df_2017)\n",
        "print(append)"
      ],
      "execution_count": 228,
      "outputs": [
        {
          "output_type": "stream",
          "name": "stdout",
          "text": [
            "                 Open       High        Low      Close  rate_return\n",
            "Date                                                               \n",
            "2016-01-31  21.852382  22.440245  21.750946  22.440245          NaN\n",
            "2016-02-29  22.450757  22.768304  22.402082  22.411354    -0.001287\n",
            "2016-03-31  25.431522  25.473243  25.236821  25.262318     0.127211\n",
            "2016-04-30  21.785531  21.954736  21.442489  21.727585    -0.139921\n",
            "2016-05-31  23.226405  23.412963  23.044512  23.287037     0.071773\n",
            "2016-06-30  22.023114  22.333264  21.990466  22.293621    -0.042660\n",
            "2016-07-31  24.296776  24.380727  24.177845  24.301439     0.090062\n",
            "2016-08-31  24.773059  24.986417  24.768369  24.876221     0.023652\n",
            "2016-09-30  26.367386  26.580745  26.212643  26.505718     0.065504\n",
            "2016-10-31  26.646387  26.782374  26.540879  26.620596     0.004334\n",
            "2016-11-30  26.300095  26.441493  25.986662  26.045578    -0.021600\n",
            "2016-12-31  27.490201  27.619815  27.202691  27.294600     0.047955\n",
            "2016-10-31  26.646387  26.782374  26.540879  26.620596          NaN\n",
            "2016-11-30  26.300095  26.441493  25.986662  26.045578          NaN\n",
            "2016-12-31  27.490201  27.619815  27.202691  27.294600          NaN\n",
            "2017-01-31  28.550688  28.607247  28.425787  28.597820          NaN\n",
            "2017-02-28  32.444866  32.530073  32.354924  32.423565          NaN\n",
            "2017-03-31  34.016451  34.146629  33.848403  34.002251          NaN\n",
            "2017-04-30  34.104035  34.153741  33.909955  33.999893          NaN\n"
          ]
        }
      ]
    },
    {
      "cell_type": "code",
      "metadata": {
        "colab": {
          "base_uri": "https://localhost:8080/"
        },
        "id": "rqFO0VIu8_Tf",
        "outputId": "20211212-3ec3-4f2b-a2b4-c47f07237a93"
      },
      "source": [
        "#Ejemplo\n",
        "append_dos = apple_bar_dos.append(df_2021_dos)\n",
        "print(append_dos)"
      ],
      "execution_count": 229,
      "outputs": [
        {
          "output_type": "stream",
          "name": "stdout",
          "text": [
            "             Open   High    Low  Close  rate_return\n",
            "Date                                               \n",
            "2021-01-31  6.600  6.740  6.280   6.33          NaN\n",
            "2021-02-28  7.180  7.410  6.660   7.09     0.120063\n",
            "2021-03-31  3.890  4.200  3.885   4.00    -0.435825\n",
            "2021-04-30  3.600  3.644  3.540   3.59    -0.102500\n",
            "2021-05-31  2.120  2.250  1.890   1.93    -0.462396\n",
            "2021-06-30  1.850  1.850  1.770   1.79    -0.072539\n",
            "2021-07-31  0.730  0.730  0.664   0.69    -0.614525\n",
            "2021-08-31  0.635  0.685  0.621   0.65    -0.057971\n",
            "2021-09-30  0.540  0.629  0.524   0.58    -0.107692\n",
            "2021-10-31  0.570  0.591  0.533   0.56    -0.034483\n",
            "2020-12-31  6.800  6.950  5.720   5.82          NaN\n",
            "2021-01-31  6.600  6.740  6.280   6.33          NaN\n",
            "2021-02-28  7.180  7.410  6.660   7.09          NaN\n",
            "2021-03-31  3.890  4.200  3.885   4.00          NaN\n",
            "2021-04-30  3.600  3.644  3.540   3.59          NaN\n"
          ]
        }
      ]
    },
    {
      "cell_type": "markdown",
      "metadata": {
        "id": "2OyYlZf89YFg"
      },
      "source": [
        "'Append' is essentially to concat two DataFrames by axis = 0, thus here is an alternative way to append:"
      ]
    },
    {
      "cell_type": "code",
      "metadata": {
        "colab": {
          "base_uri": "https://localhost:8080/"
        },
        "id": "j2P7Ojqi9Ywt",
        "outputId": "64d1d8a6-00cf-4ad3-f6b7-8b6bba9123d4"
      },
      "source": [
        "concat = pd.concat([aapl_bar, df_2017], axis = 0)\n",
        "print(concat)"
      ],
      "execution_count": 230,
      "outputs": [
        {
          "output_type": "stream",
          "name": "stdout",
          "text": [
            "                 Open       High        Low      Close  rate_return\n",
            "Date                                                               \n",
            "2016-01-31  21.852382  22.440245  21.750946  22.440245          NaN\n",
            "2016-02-29  22.450757  22.768304  22.402082  22.411354    -0.001287\n",
            "2016-03-31  25.431522  25.473243  25.236821  25.262318     0.127211\n",
            "2016-04-30  21.785531  21.954736  21.442489  21.727585    -0.139921\n",
            "2016-05-31  23.226405  23.412963  23.044512  23.287037     0.071773\n",
            "2016-06-30  22.023114  22.333264  21.990466  22.293621    -0.042660\n",
            "2016-07-31  24.296776  24.380727  24.177845  24.301439     0.090062\n",
            "2016-08-31  24.773059  24.986417  24.768369  24.876221     0.023652\n",
            "2016-09-30  26.367386  26.580745  26.212643  26.505718     0.065504\n",
            "2016-10-31  26.646387  26.782374  26.540879  26.620596     0.004334\n",
            "2016-11-30  26.300095  26.441493  25.986662  26.045578    -0.021600\n",
            "2016-12-31  27.490201  27.619815  27.202691  27.294600     0.047955\n",
            "2016-10-31  26.646387  26.782374  26.540879  26.620596          NaN\n",
            "2016-11-30  26.300095  26.441493  25.986662  26.045578          NaN\n",
            "2016-12-31  27.490201  27.619815  27.202691  27.294600          NaN\n",
            "2017-01-31  28.550688  28.607247  28.425787  28.597820          NaN\n",
            "2017-02-28  32.444866  32.530073  32.354924  32.423565          NaN\n",
            "2017-03-31  34.016451  34.146629  33.848403  34.002251          NaN\n",
            "2017-04-30  34.104035  34.153741  33.909955  33.999893          NaN\n"
          ]
        }
      ]
    },
    {
      "cell_type": "code",
      "metadata": {
        "colab": {
          "base_uri": "https://localhost:8080/"
        },
        "id": "IqPPmvAQ9Y0U",
        "outputId": "e4bcbefa-7b70-4ab1-a842-71acce257d6d"
      },
      "source": [
        "#Ejemplo\n",
        "concat_dos = pd.concat([apple_bar_dos, df_2021_dos], axis = 0)\n",
        "print(concat_dos)"
      ],
      "execution_count": 231,
      "outputs": [
        {
          "output_type": "stream",
          "name": "stdout",
          "text": [
            "             Open   High    Low  Close  rate_return\n",
            "Date                                               \n",
            "2021-01-31  6.600  6.740  6.280   6.33          NaN\n",
            "2021-02-28  7.180  7.410  6.660   7.09     0.120063\n",
            "2021-03-31  3.890  4.200  3.885   4.00    -0.435825\n",
            "2021-04-30  3.600  3.644  3.540   3.59    -0.102500\n",
            "2021-05-31  2.120  2.250  1.890   1.93    -0.462396\n",
            "2021-06-30  1.850  1.850  1.770   1.79    -0.072539\n",
            "2021-07-31  0.730  0.730  0.664   0.69    -0.614525\n",
            "2021-08-31  0.635  0.685  0.621   0.65    -0.057971\n",
            "2021-09-30  0.540  0.629  0.524   0.58    -0.107692\n",
            "2021-10-31  0.570  0.591  0.533   0.56    -0.034483\n",
            "2020-12-31  6.800  6.950  5.720   5.82          NaN\n",
            "2021-01-31  6.600  6.740  6.280   6.33          NaN\n",
            "2021-02-28  7.180  7.410  6.660   7.09          NaN\n",
            "2021-03-31  3.890  4.200  3.885   4.00          NaN\n",
            "2021-04-30  3.600  3.644  3.540   3.59          NaN\n"
          ]
        }
      ]
    },
    {
      "cell_type": "markdown",
      "metadata": {
        "id": "RFiUB1yE9rHl"
      },
      "source": [
        "Please note that if the two DataFrame have some columns with the same column names, these columns are considered to be the same and will be merged. It's very important to have the right column names. If we change a column names here:"
      ]
    },
    {
      "cell_type": "code",
      "metadata": {
        "colab": {
          "base_uri": "https://localhost:8080/"
        },
        "id": "Ca6pcUGi9tBz",
        "outputId": "c760b9f8-1630-4b82-8354-a41a5ea3c877"
      },
      "source": [
        "df_2017.columns = ['Change', 'High', 'Low', 'Close']\n",
        "concat = pd.concat([aapl_bar, df_2017], axis = 0,sort=True)\n",
        "print(concat)"
      ],
      "execution_count": 232,
      "outputs": [
        {
          "output_type": "stream",
          "name": "stdout",
          "text": [
            "               Change      Close       High        Low       Open  rate_return\n",
            "Date                                                                          \n",
            "2016-01-31        NaN  22.440245  22.440245  21.750946  21.852382          NaN\n",
            "2016-02-29        NaN  22.411354  22.768304  22.402082  22.450757    -0.001287\n",
            "2016-03-31        NaN  25.262318  25.473243  25.236821  25.431522     0.127211\n",
            "2016-04-30        NaN  21.727585  21.954736  21.442489  21.785531    -0.139921\n",
            "2016-05-31        NaN  23.287037  23.412963  23.044512  23.226405     0.071773\n",
            "2016-06-30        NaN  22.293621  22.333264  21.990466  22.023114    -0.042660\n",
            "2016-07-31        NaN  24.301439  24.380727  24.177845  24.296776     0.090062\n",
            "2016-08-31        NaN  24.876221  24.986417  24.768369  24.773059     0.023652\n",
            "2016-09-30        NaN  26.505718  26.580745  26.212643  26.367386     0.065504\n",
            "2016-10-31        NaN  26.620596  26.782374  26.540879  26.646387     0.004334\n",
            "2016-11-30        NaN  26.045578  26.441493  25.986662  26.300095    -0.021600\n",
            "2016-12-31        NaN  27.294600  27.619815  27.202691  27.490201     0.047955\n",
            "2016-10-31  26.646387  26.620596  26.782374  26.540879        NaN          NaN\n",
            "2016-11-30  26.300095  26.045578  26.441493  25.986662        NaN          NaN\n",
            "2016-12-31  27.490201  27.294600  27.619815  27.202691        NaN          NaN\n",
            "2017-01-31  28.550688  28.597820  28.607247  28.425787        NaN          NaN\n",
            "2017-02-28  32.444866  32.423565  32.530073  32.354924        NaN          NaN\n",
            "2017-03-31  34.016451  34.002251  34.146629  33.848403        NaN          NaN\n",
            "2017-04-30  34.104035  33.999893  34.153741  33.909955        NaN          NaN\n"
          ]
        }
      ]
    },
    {
      "cell_type": "code",
      "metadata": {
        "colab": {
          "base_uri": "https://localhost:8080/"
        },
        "id": "HxWfLY_O98z8",
        "outputId": "345edf93-a598-4db9-b44e-c7a1531dfeaf"
      },
      "source": [
        "#Ejemplo\n",
        "df_2021_dos.columns = ['Change', 'High', 'Low', 'Close']\n",
        "concat_dos = pd.concat([apple_bar_dos, df_2021_dos], axis = 0,sort=True)\n",
        "print(concat_dos)"
      ],
      "execution_count": 233,
      "outputs": [
        {
          "output_type": "stream",
          "name": "stdout",
          "text": [
            "            Change  Close   High    Low   Open  rate_return\n",
            "Date                                                       \n",
            "2021-01-31     NaN   6.33  6.740  6.280  6.600          NaN\n",
            "2021-02-28     NaN   7.09  7.410  6.660  7.180     0.120063\n",
            "2021-03-31     NaN   4.00  4.200  3.885  3.890    -0.435825\n",
            "2021-04-30     NaN   3.59  3.644  3.540  3.600    -0.102500\n",
            "2021-05-31     NaN   1.93  2.250  1.890  2.120    -0.462396\n",
            "2021-06-30     NaN   1.79  1.850  1.770  1.850    -0.072539\n",
            "2021-07-31     NaN   0.69  0.730  0.664  0.730    -0.614525\n",
            "2021-08-31     NaN   0.65  0.685  0.621  0.635    -0.057971\n",
            "2021-09-30     NaN   0.58  0.629  0.524  0.540    -0.107692\n",
            "2021-10-31     NaN   0.56  0.591  0.533  0.570    -0.034483\n",
            "2020-12-31    6.80   5.82  6.950  5.720    NaN          NaN\n",
            "2021-01-31    6.60   6.33  6.740  6.280    NaN          NaN\n",
            "2021-02-28    7.18   7.09  7.410  6.660    NaN          NaN\n",
            "2021-03-31    3.89   4.00  4.200  3.885    NaN          NaN\n",
            "2021-04-30    3.60   3.59  3.644  3.540    NaN          NaN\n"
          ]
        }
      ]
    },
    {
      "cell_type": "markdown",
      "metadata": {
        "id": "qvnbcn6t-mx3"
      },
      "source": [
        "Since the column name of 'Open' has been changed, the new DataFrame has an new column named 'Change'.\n",
        "\n",
        "# Summary\n",
        "\n",
        "Hereby we introduced the most import part of python: resampling and DataFrame manipulation. We only introduced the most commonly used method in Financial data analysis. There are also many methods used in data mining, which are also beneficial. You can always check the [Pandas](https://pandas.pydata.org/pandas-docs/stable/index.html) official documentations for help."
      ]
    }
  ]
}